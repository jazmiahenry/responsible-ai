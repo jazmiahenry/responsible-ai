{
  "cells": [
    {
      "cell_type": "markdown",
      "id": "78c24f1d-a8d9-4e8a-a2ae-3aba5edbdf89",
      "metadata": {
        "nteract": {
          "transient": {
            "deleting": false
          }
        }
      },
      "source": [
        "# Tokenizing Word Embeddings Using Transformers\n",
        "\n",
        "Transformers are a type of deep learning architecture in Natural Language Processing that processes the representations of words using a mechanism called self-attention. Self-attention layers give us the ability to mathematically represent the relationship between words in a sequence based on their probability of co-occurrence. Pre-trained transformers are deep learning models using self-attention that have been previously trained on large datasets and had its output saved for further researchers to use to train new tasks. \n",
        "\n",
        "Due to their scalability, pre-trained transformers have been the engines behind many of the most popular LLMs in the industry. In this notebook, we will explore creating word embeddings using a pre-trained Transformer called \"sentence-transformers\" found on the website, Huggingface. This model is open-sourced and can be used to create word embeddings based on each sentence's input within your dataset. \n",
        "\n",
        "Learn more about the **sentence-transformers** here: https://huggingface.co/sentence-transformers."
      ]
    },
    {
      "cell_type": "code",
      "execution_count": null,
      "id": "6bb3b7d3-23af-454b-8553-305b8b34f628",
      "metadata": {
        "gather": {
          "logged": 1690509810981
        },
        "jupyter": {
          "outputs_hidden": false,
          "source_hidden": false
        },
        "nteract": {
          "transient": {
            "deleting": false
          }
        }
      },
      "outputs": [],
      "source": [
        "import pandas as pd\n",
        "tweet_df = pd.read_csv(\"Tweets.csv\") # import tweets data saved in tweets.csv file"
      ]
    },
    {
      "cell_type": "code",
      "execution_count": null,
      "id": "fec86ad5-ac22-459c-b9ea-dde7a0032fd1",
      "metadata": {
        "gather": {
          "logged": 1690509813120
        },
        "jupyter": {
          "outputs_hidden": false,
          "source_hidden": false
        },
        "nteract": {
          "transient": {
            "deleting": false
          }
        }
      },
      "outputs": [],
      "source": [
        "tweet_df"
      ]
    },
    {
      "cell_type": "code",
      "execution_count": null,
      "id": "3039bd0c-b7e7-4c1b-b116-12dad8c624e2",
      "metadata": {
        "jupyter": {
          "outputs_hidden": false,
          "source_hidden": false
        },
        "nteract": {
          "transient": {
            "deleting": false
          }
        }
      },
      "outputs": [],
      "source": [
        "!pip install sentence-transformers"
      ]
    },
    {
      "cell_type": "markdown",
      "id": "a7cb0833-7795-4b64-b89e-b703ecd6125a",
      "metadata": {
        "nteract": {
          "transient": {
            "deleting": false
          }
        }
      },
      "source": [
        "## Using Sentence Transformers\n",
        "\n",
        "Once you have installed the sentence-transformers package, you can select which flavor of the transformer you would like to use to create your word embeddings. \n",
        "\n",
        "The Sentence Transformers package contains 124 pre-trained models that you can choose from ranging from small to very large. You can use BERT, DistilBERT (a smaller version of BERT), Facebook Question and Answering model and many other types of transformers by calling on them in the SentenceTransformers() line below. In this notebook, we use a miniLM model to create our word embeddings. "
      ]
    },
    {
      "cell_type": "markdown",
      "id": "aad1d91b-a34a-49b3-af91-b617a6dd1cf3",
      "metadata": {
        "nteract": {
          "transient": {
            "deleting": false
          }
        }
      },
      "source": [
        "### Creating Embeddings\n",
        "The Sentence Transformers package makes it easy for us to create word embeddings using our tweets. We will encode our tweets and save the embeddings to columns in our dataset that make it easy for us to visualize the text alongside the tweet sentiment and the selected text. \n",
        "\n",
        "We will create embeddings for both the selected text and the full text of our tweets. "
      ]
    },
    {
      "cell_type": "code",
      "execution_count": null,
      "id": "b53d0095-d7e3-488a-9210-f5c85104c89a",
      "metadata": {
        "collapsed": false,
        "gather": {
          "logged": 1690509974422
        },
        "jupyter": {
          "outputs_hidden": false,
          "source_hidden": false
        },
        "nteract": {
          "transient": {
            "deleting": false
          }
        }
      },
      "outputs": [],
      "source": [
        "from sentence_transformers import SentenceTransformer, util\n",
        "sentxformer = SentenceTransformer('sentence-transformers/paraphrase-MiniLM-L6-v2') # 'sentence-transformers/all-mpnet-base-v2'\n",
        "\n",
        "tweet_df['text_vec'] = sentxformer.encode(tweet_df['text'].values).tolist()\n",
        "tweet_df['select_vec'] = sentxformer.encode(tweet_df['selected_text'].values).tolist()"
      ]
    },
    {
      "cell_type": "code",
      "execution_count": null,
      "id": "7c55511a-2dec-4df9-8ebd-2830a9101ada",
      "metadata": {
        "gather": {
          "logged": 1690510040184
        },
        "jupyter": {
          "outputs_hidden": false,
          "source_hidden": false
        },
        "nteract": {
          "transient": {
            "deleting": false
          }
        }
      },
      "outputs": [],
      "source": [
        "tweet_df"
      ]
    },
    {
      "cell_type": "markdown",
      "id": "297758c4-cf8c-4162-9bb7-2821ca90590d",
      "metadata": {
        "nteract": {
          "transient": {
            "deleting": false
          }
        }
      },
      "source": [
        "# Examine Missing Data and Imputation\n",
        "\n",
        "One ting we can notice from our dataset is that we have some missing data. We can use the **missingno** package to see if the data we are missing will make a material difference if we exclude or impute the data with something else.\n",
        "\n",
        "To impute data is to replace the missing data with something else. This can be the most frequently used observation in the dataset; the mean, median or mode if you are working with numerical data; or some other observation that you decide for yourself. "
      ]
    },
    {
      "cell_type": "code",
      "execution_count": null,
      "id": "72eabeab-46c4-45b5-8cc2-ad3ecd2bfbe3",
      "metadata": {
        "jupyter": {
          "outputs_hidden": false,
          "source_hidden": false
        },
        "nteract": {
          "transient": {
            "deleting": false
          }
        }
      },
      "outputs": [],
      "source": [
        "!pip install missingno"
      ]
    },
    {
      "cell_type": "code",
      "execution_count": null,
      "id": "3f6584db-2722-40d3-a256-4f0558c14239",
      "metadata": {
        "jupyter": {
          "outputs_hidden": false,
          "source_hidden": false
        },
        "nteract": {
          "transient": {
            "deleting": false
          }
        }
      },
      "outputs": [],
      "source": [
        "import pandas as pd\n",
        "import missingno as msno\n",
        "\n",
        "tweet_df.isna().sum() # show how many missing observations are in each column"
      ]
    },
    {
      "cell_type": "markdown",
      "id": "0a8b1b43-90a2-438e-b92a-721f82db7e59",
      "metadata": {
        "nteract": {
          "transient": {
            "deleting": false
          }
        }
      },
      "source": [
        "We see here that there are not that many missing observations in this data. Let's see if there is a relationship between an observation being missing in one column and another or if missingness is random. "
      ]
    },
    {
      "cell_type": "markdown",
      "id": "02ea4cc8-e20d-457c-a0e0-c357b1fd76a1",
      "metadata": {
        "nteract": {
          "transient": {
            "deleting": false
          }
        }
      },
      "source": [
        "### Histograms\n",
        "\n",
        "Histograms are a way to visualize the correlation between features in a dataset. In this case, we can use a historgram to visualize the correlation between two features with missing observations. Is there a relationship between a missing observation in the different columns of our dataset?\n",
        "\n",
        "Let's see."
      ]
    },
    {
      "cell_type": "code",
      "execution_count": null,
      "id": "6510d7b4-9392-450c-a9de-5e24ab52ee7f",
      "metadata": {
        "jupyter": {
          "outputs_hidden": false,
          "source_hidden": false
        },
        "nteract": {
          "transient": {
            "deleting": false
          }
        }
      },
      "outputs": [],
      "source": [
        "#visualize correlations of nullity between features using heatmap\n",
        "msno.heatmap(tweet_df)"
      ]
    },
    {
      "cell_type": "markdown",
      "id": "fd13b5e9-27fe-42ba-a52a-a822d8da1c8a",
      "metadata": {
        "nteract": {
          "transient": {
            "deleting": false
          }
        }
      },
      "source": [
        "This shows that there is a relationship between selected text missing an observation and sentiment not being defined in the dataset. It also appears that if text is missing, then selected text will be missing as well. This makes sense. \n",
        "\n",
        "1. Should you: move on with your data as is, drop the missing data or impute the data with the most frequent observation?\n",
        "\n",
        "2. What are some considerations that you may make when deciding if you should move on with your data as is, drop the missing data or impute the data with the most frequent observation?\n",
        "\n",
        "3. If the number of missing observations were much greater (over 20% of the data) and missingness was random (less than 10% correlation across columns) would you make the same choice as you did in question 1? Why or why not?"
      ]
    },
    {
      "cell_type": "markdown",
      "id": "f635bf18-1579-4e15-b854-e58d1c923481",
      "metadata": {
        "nteract": {
          "transient": {
            "deleting": false
          }
        }
      },
      "source": [
        "For Instructors: \n",
        "\n",
        "Consider that students may have different answers and that is okay. Make sure that they walk through their reasoning. Depending on the dataset, it may be appropriate to take different approaches. Get them to think about what changes in the dataset may make them make a different choice. "
      ]
    },
    {
      "cell_type": "markdown",
      "id": "5a6a31db-27f3-4db7-a833-7bbaa8ec476e",
      "metadata": {
        "nteract": {
          "transient": {
            "deleting": false
          }
        }
      },
      "source": [
        "### Dendrograms \n",
        "Another way to see if there is a relationship between missing data in a dataset is with a dendrogram. Dendrograms are tree graphs that show the correlation between different features. Both histograms and dendrograms can be used to correlate the relationship of null values in our dataset using the **missingno** package. "
      ]
    },
    {
      "cell_type": "code",
      "execution_count": null,
      "id": "ad103993-9605-4d21-8cb7-879bc97e0f63",
      "metadata": {
        "jupyter": {
          "outputs_hidden": false,
          "source_hidden": false
        },
        "nteract": {
          "transient": {
            "deleting": false
          }
        }
      },
      "outputs": [],
      "source": [
        "#visualize nullity of features using tree graph\n",
        "msno.dendrogram(tweet_df)"
      ]
    },
    {
      "cell_type": "markdown",
      "id": "b936769f-4168-45cf-b8aa-dce957fa4984",
      "metadata": {
        "nteract": {
          "transient": {
            "deleting": false
          }
        }
      },
      "source": [
        "### Minor Imputation\n",
        "\n",
        "Because the number of missing values in this dataset is small, we can impute the missing observation with the string \"None\".\n",
        "\n",
        "This can be a good way for us to fill those missing values while still reflecting that these values were once empty. "
      ]
    },
    {
      "cell_type": "code",
      "execution_count": null,
      "id": "0b023d95-ac5d-452f-85dd-6137274245f1",
      "metadata": {
        "gather": {
          "logged": 1690510050252
        },
        "jupyter": {
          "outputs_hidden": false,
          "source_hidden": false
        },
        "nteract": {
          "transient": {
            "deleting": false
          }
        }
      },
      "outputs": [],
      "source": [
        "#so few null, no need to fix, really\n",
        "tweet_df.fillna(\"None\", inplace = True)"
      ]
    },
    {
      "cell_type": "code",
      "execution_count": null,
      "id": "4041941c-3e7a-4635-9c70-dcbd577760a0",
      "metadata": {
        "gather": {
          "logged": 1690510052189
        },
        "jupyter": {
          "outputs_hidden": false,
          "source_hidden": false
        },
        "nteract": {
          "transient": {
            "deleting": false
          }
        }
      },
      "outputs": [],
      "source": [
        "tweet_df"
      ]
    },
    {
      "cell_type": "markdown",
      "id": "2ffd9acb-e765-48f8-adf3-31857c5d6585",
      "metadata": {
        "nteract": {
          "transient": {
            "deleting": false
          }
        }
      },
      "source": [
        "### Comparing Similarity \n",
        "\n",
        "In the dataset, you can notice that selected text is a selection of texts from the full text Tweets. The sentiment of each Tweet is gathered from the selected text. \n",
        "\n",
        "Considering that the selected text should merely be an extraction of key values from the full text, we would expect for the embeddings of both features to overlap. We can examine if this is the case by getting cosine similarity scores of both features and visualizing the output using a dimensionality technique called **t-SNE**. \n",
        "\n"
      ]
    },
    {
      "cell_type": "code",
      "execution_count": null,
      "id": "56958736-f1a5-4d0a-934b-14aa05833ec4",
      "metadata": {
        "gather": {
          "logged": 1690510057049
        },
        "jupyter": {
          "outputs_hidden": false,
          "source_hidden": false
        },
        "nteract": {
          "transient": {
            "deleting": false
          }
        }
      },
      "outputs": [],
      "source": [
        "text = tweet_df['text_vec']\n",
        "sel = tweet_df['select_vec']"
      ]
    },
    {
      "cell_type": "code",
      "execution_count": null,
      "id": "f89f250f-89ea-4b30-82d0-1b0557fdea0d",
      "metadata": {
        "gather": {
          "logged": 1690510062986
        },
        "jupyter": {
          "outputs_hidden": false,
          "source_hidden": false
        },
        "nteract": {
          "transient": {
            "deleting": false
          }
        }
      },
      "outputs": [],
      "source": [
        "scores = util.cos_sim(text, sel)\n",
        "scores.numpy()"
      ]
    },
    {
      "cell_type": "code",
      "execution_count": null,
      "id": "5f5df9f6-262b-4f86-b228-3f4171ff8961",
      "metadata": {
        "gather": {
          "logged": 1690513677854
        },
        "jupyter": {
          "outputs_hidden": false,
          "source_hidden": false
        },
        "nteract": {
          "transient": {
            "deleting": false
          }
        }
      },
      "outputs": [],
      "source": [
        "from sklearn.decomposition import PCA\n",
        "from sklearn.manifold import TSNE\n",
        "\n",
        "tsne = TSNE(perplexity = 40, num_components = 2, verbose=1)\n",
        "scores_tsne = tsne.fit_transform(scores)\n",
        "scores_tsne"
      ]
    },
    {
      "cell_type": "code",
      "execution_count": null,
      "id": "d0628b47-b8fd-46db-b5b0-59fc953c3e1c",
      "metadata": {
        "jupyter": {
          "outputs_hidden": false,
          "source_hidden": false
        },
        "nteract": {
          "transient": {
            "deleting": false
          }
        }
      },
      "outputs": [],
      "source": [
        "import matplotlib.pyplot as plt\n",
        "\n",
        "mid = int(len(scores)/2)\n",
        "\n",
        "fig, ax = plt.subplots(figsize=(15,8))\n",
        "ax.scatter(scores_tsne[:,0][0:mid], scores_tsne[:,1][0:mid], scores_tsne[:,2][0:mid], c= 'r')\n",
        "ax.scatter(scores_tsne[:,0][mid:], scores_tsne[:,1][mid:], scores_tsne[:,2][mid:], c= 'g')"
      ]
    },
    {
      "cell_type": "markdown",
      "id": "de86d1c1-78a8-4e9e-8e57-6d40c405a20d",
      "metadata": {
        "nteract": {
          "transient": {
            "deleting": false
          }
        }
      },
      "source": [
        "## Let's Think\n",
        "\n",
        "What does this output show us about the two features, *selected text* and *text*? \n",
        "\n",
        "Are they similar to each other according to this plot?\n",
        "\n",
        "What are some ways that having a feature like *select text* could be beneficial to building models in the future? \n",
        "\n",
        "What are some ways that bias can creep in to these types of truncated features?"
      ]
    },
    {
      "cell_type": "markdown",
      "id": "b2f60716-454b-4e8c-ba29-ccaf9b7746fb",
      "metadata": {
        "nteract": {
          "transient": {
            "deleting": false
          }
        }
      },
      "source": [
        "For Instructor:\n",
        "\n",
        "This is a significant outcome because it shows that select text is a good proxy. In the case of very large datasets, extacting selected text that is heavily similar to the full text is a great way to reduce training time and overcome size restrictions in Transformer pipelines.\n",
        "\n",
        "Make sure students explore the ways that extracting text can lead to bias, even if the embeddings appear to overlap enough to be similar. "
      ]
    }
  ],
  "metadata": {
    "kernel_info": {
      "name": "synapse_pyspark"
    },
    "kernelspec": {
      "display_name": "Synapse PySpark",
      "name": "synapse_pyspark"
    },
    "language_info": {
      "codemirror_mode": {
        "name": "ipython",
        "version": 3
      },
      "file_extension": ".py",
      "mimetype": "text/x-python",
      "name": "python",
      "nbconvert_exporter": "python",
      "pygments_lexer": "ipython3",
      "version": "3.8.5"
    },
    "microsoft": {
      "language": "python",
      "ms_spell_check": {
        "ms_spell_check_language": "en"
      }
    },
    "notebook_environment": {},
    "nteract": {
      "version": "nteract-front-end@1.0.0"
    },
    "save_output": true,
    "spark_compute": {
      "compute_id": "/trident/default",
      "session_options": {
        "conf": {},
        "enableDebugMode": false
      }
    },
    "synapse_widget": {
      "state": {
        "2740766a-72ce-422a-a12d-206c9e65aba7": {
          "persist_state": {
            "view": {
              "chartOptions": {
                "aggregationType": "count",
                "binsNumber": 10,
                "categoryFieldKeys": [
                  "3"
                ],
                "chartType": "bar",
                "isStacked": false,
                "seriesFieldKeys": [
                  "1"
                ],
                "wordFrequency": "-1"
              },
              "tableOptions": {},
              "type": "details"
            }
          },
          "sync_state": {
            "isSummary": false,
            "language": "scala",
            "table": {
              "rows": [
                {
                  "0": "cb774db0d1",
                  "1": " I`d have responded, if I were going",
                  "2": "I`d have responded, if I were going",
                  "3": "neutral",
                  "index": 1
                },
                {
                  "0": "549e992a42",
                  "1": " Sooo SAD I will miss you here in San Diego!!!",
                  "2": "Sooo SAD",
                  "3": "negative",
                  "index": 2
                },
                {
                  "0": "088c60f138",
                  "1": "my boss is bullying me...",
                  "2": "bullying me",
                  "3": "negative",
                  "index": 3
                },
                {
                  "0": "9642c003ef",
                  "1": " what interview! leave me alone",
                  "2": "leave me alone",
                  "3": "negative",
                  "index": 4
                },
                {
                  "0": "358bd9e861",
                  "1": " Sons of ****, why couldn`t they put them on the releases we already bought",
                  "2": "Sons of ****,",
                  "3": "negative",
                  "index": 5
                },
                {
                  "0": "28b57f3990",
                  "1": "http://www.dothebouncy.com/smf - some shameless plugging for the best Rangers forum on earth",
                  "2": "http://www.dothebouncy.com/smf - some shameless plugging for the best Rangers forum on earth",
                  "3": "neutral",
                  "index": 6
                },
                {
                  "0": "6e0c6d75b1",
                  "1": "2am feedings for the baby are fun when he is all smiles and coos",
                  "2": "fun",
                  "3": "positive",
                  "index": 7
                },
                {
                  "0": "50e14c0bb8",
                  "1": "Soooo high",
                  "2": "Soooo high",
                  "3": "neutral",
                  "index": 8
                },
                {
                  "0": "e050245fbd",
                  "1": " Both of you",
                  "2": "Both of you",
                  "3": "neutral",
                  "index": 9
                },
                {
                  "0": "fc2cbefa9d",
                  "1": " Journey!? Wow... u just became cooler.  hehe... (is that possible!?)",
                  "2": "Wow... u just became cooler.",
                  "3": "positive",
                  "index": 10
                },
                {
                  "0": "2339a9b08b",
                  "1": " as much as i love to be hopeful, i reckon the chances are minimal =P i`m never gonna get my cake and stuff",
                  "2": "as much as i love to be hopeful, i reckon the chances are minimal =P i`m never gonna get my cake and stuff",
                  "3": "neutral",
                  "index": 11
                },
                {
                  "0": "16fab9f95b",
                  "1": "I really really like the song Love Story by Taylor Swift",
                  "2": "like",
                  "3": "positive",
                  "index": 12
                },
                {
                  "0": "74a76f6e0a",
                  "1": "My Sharpie is running DANGERously low on ink",
                  "2": "DANGERously",
                  "3": "negative",
                  "index": 13
                },
                {
                  "0": "04dd1d2e34",
                  "1": "i want to go to music tonight but i lost my voice.",
                  "2": "lost",
                  "3": "negative",
                  "index": 14
                },
                {
                  "0": "bbe3cbf620",
                  "1": "test test from the LG enV2",
                  "2": "test test from the LG enV2",
                  "3": "neutral",
                  "index": 15
                },
                {
                  "0": "8a939bfb59",
                  "1": "Uh oh, I am sunburned",
                  "2": "Uh oh, I am sunburned",
                  "3": "negative",
                  "index": 16
                },
                {
                  "0": "3440297f8b",
                  "1": " S`ok, trying to plot alternatives as we speak *sigh*",
                  "2": "*sigh*",
                  "3": "negative",
                  "index": 17
                },
                {
                  "0": "919fa93391",
                  "1": "i`ve been sick for the past few days  and thus, my hair looks wierd.  if i didnt have a hat on it would look... http://tinyurl.com/mnf4kw",
                  "2": "sick",
                  "3": "negative",
                  "index": 18
                },
                {
                  "0": "af3fed7fc3",
                  "1": "is back home now      gonna miss every one",
                  "2": "onna",
                  "3": "negative",
                  "index": 19
                },
                {
                  "0": "40e7becabf",
                  "1": "Hes just not that into you",
                  "2": "Hes just not that into you",
                  "3": "neutral",
                  "index": 20
                },
                {
                  "0": "04d17ef61e",
                  "1": " oh Marly, I`m so sorry!!  I hope you find her soon!! <3 <3",
                  "2": "oh Marly, I`m so sorry!!  I hope you find her soon!! <3 <3",
                  "3": "neutral",
                  "index": 21
                },
                {
                  "0": "e48b0b8a23",
                  "1": "Playing Ghost Online is really interesting. The new updates are Kirin pet and Metamorph for third job.  Can`t wait to have a dragon pet",
                  "2": "interesting.",
                  "3": "positive",
                  "index": 22
                },
                {
                  "0": "7de057cf40",
                  "1": "is cleaning the house for her family who is comming later today..",
                  "2": "is cleaning the house for her family who is comming later today..",
                  "3": "neutral",
                  "index": 23
                },
                {
                  "0": "9ce5570064",
                  "1": "gotta restart my computer .. I thought Win7 was supposed to put an end to the constant rebootiness",
                  "2": "gotta restart my computer .. I thought Win7 was supposed to put an end to the constant rebootiness",
                  "3": "neutral",
                  "index": 24
                },
                {
                  "0": "0c8cc71c46",
                  "1": "SEe waT I Mean bOuT FoLL0w fRiiDaYs... It`S cALLed LoSe f0LloWeRs FridAy... smH",
                  "2": "SEe waT I Mean bOuT FoLL0w fRiiDaYs... It`S cALLed LoSe f0LloWeRs FridAy... smH",
                  "3": "neutral",
                  "index": 25
                },
                {
                  "0": "e00c6ef376",
                  "1": "the free fillin` app on my ipod is fun, im addicted",
                  "2": "the free fillin` app on my ipod is fun, im addicted",
                  "3": "positive",
                  "index": 26
                },
                {
                  "0": "852edc3769",
                  "1": "  I`m sorry.",
                  "2": "I`m sorry.",
                  "3": "negative",
                  "index": 27
                },
                {
                  "0": "bdc32ea43c",
                  "1": "On the way to Malaysia...no internet access to Twit",
                  "2": ".no internet",
                  "3": "negative",
                  "index": 28
                },
                {
                  "0": "6ce4a4954b",
                  "1": "juss came backk from Berkeleyy ; omg its madd fun out there  havent been out there in a minute . whassqoodd ?",
                  "2": "fun",
                  "3": "positive",
                  "index": 29
                },
                {
                  "0": "d22e6d40a7",
                  "1": "Went to sleep and there is a power cut in Noida  Power back up not working too",
                  "2": "Power back up not working too",
                  "3": "negative",
                  "index": 30
                },
                {
                  "0": "d33f811375",
                  "1": "I`m going home now. Have you seen my new twitter design? Quite....heavenly isn`****?",
                  "2": "Quite....heavenly",
                  "3": "positive",
                  "index": 31
                },
                {
                  "0": "7d8c4c11e4",
                  "1": "i hope unni will make the audition . fighting dahye unni !",
                  "2": "hope",
                  "3": "positive",
                  "index": 32
                },
                {
                  "0": "1c31703aef",
                  "1": " If it is any consolation I got my BMI tested hahaha it says I am obesed  well so much for being unhappy for about 10 minutes.",
                  "2": "well so much for being unhappy for about 10 minute",
                  "3": "negative",
                  "index": 33
                },
                {
                  "0": "2dc51711bc",
                  "1": " That`s very funny.  Cute kids.",
                  "2": "funny.",
                  "3": "positive",
                  "index": 34
                },
                {
                  "0": "d21ab5855b",
                  "1": " Ahhh, I slept through the game.  I`m gonna try my best to watch tomorrow though. I hope we play Army.",
                  "2": "Ahhh, I slept through the game.  I`m gonna try my best to watch tomorrow though. I hope we play Army.",
                  "3": "neutral",
                  "index": 35
                },
                {
                  "0": "4f5267ad70",
                  "1": "Thats it, its the end. Tears for Fears vs Eric Prydz, DJ Hero   http://bit.ly/2Hpbg4",
                  "2": "Thats it, its the end. Tears for Fears",
                  "3": "neutral",
                  "index": 36
                },
                {
                  "0": "2724775d6b",
                  "1": "Born and raised in NYC and living in Texas for the past 10 years!  I still miss NY",
                  "2": "miss",
                  "3": "negative",
                  "index": 37
                },
                {
                  "0": "1cbc812ece",
                  "1": "just in case you wonder, we are really busy today and this coming with with adding tons of new blogs and updates stay tuned",
                  "2": "just in case you wonder, we are really busy today and this coming with with adding tons of new blogs and updates stay tuned",
                  "3": "neutral",
                  "index": 38
                },
                {
                  "0": "4b61dffbeb",
                  "1": "i`m soooooo sleeeeepy!!! the last day o` school was today....sniffle....",
                  "2": "soooooo sleeeeepy!!!",
                  "3": "negative",
                  "index": 39
                },
                {
                  "0": "2863f435bd",
                  "1": "A little happy for the wine jeje ok it`sm my free time so who cares, jaja i love this day",
                  "2": "A little happy fo",
                  "3": "positive",
                  "index": 40
                },
                {
                  "0": "d93afa85cf",
                  "1": " Car not happy, big big dent in boot! Hoping theyre not going to write it off, crossing fingers and waiting",
                  "2": "Car not happy, big big dent in boot! Hoping theyre not going to write it off, crossing fingers and waiting",
                  "3": "neutral",
                  "index": 41
                },
                {
                  "0": "fab6b7d16c",
                  "1": "im an avid fan of **** magazine and i love your magazines",
                  "2": "avid fan of",
                  "3": "positive",
                  "index": 42
                },
                {
                  "0": "2e7082d1c8",
                  "1": "MAYDAY?!",
                  "2": "MAYDAY?!",
                  "3": "neutral",
                  "index": 43
                },
                {
                  "0": "684081e4e7",
                  "1": "RATT ROCKED NASHVILLE TONITE..ONE THING SUCKED, NO ENCORE!  LIKE IN THE 80`S THEY STILL HAVE A FUN SHOW. PEARCY HAS THAT HOTT BAD BOY LOOK",
                  "2": "RATT ROCKED NASHVILLE TONITE..ONE THING SUCKED, NO ENCORE!  LIKE IN THE 80`S THEY STILL HAVE A FUN SHOW. PEARCY HAS THAT HOTT BAD BOY LOOK",
                  "3": "neutral",
                  "index": 44
                },
                {
                  "0": "c77717b103",
                  "1": " I love to! But I`m only available from 5pm.  and where dear? Would love to help  convert her vids.ï¿½",
                  "2": "I love to!",
                  "3": "positive",
                  "index": 45
                },
                {
                  "0": "a9d499e123",
                  "1": "The girl in the hair salon asked me 'Shall I trim your eyebrows!' How old do I feel?",
                  "2": "The girl in the hair salon asked me 'Shall I trim your eyebrows!' How old do I feel?",
                  "3": "neutral",
                  "index": 46
                },
                {
                  "0": "ddf296dffa",
                  "1": "egh blah and boooooooooooo i dunno wanna go to work  HANGOVERS SUCKKKKKK Im a drunk mess!",
                  "2": "SUCKKKKKK",
                  "3": "negative",
                  "index": 47
                },
                {
                  "0": "c3924dc9e4",
                  "1": ":visiting my friendster and facebook",
                  "2": ":visiting my friendster and facebook",
                  "3": "neutral",
                  "index": 48
                },
                {
                  "0": "3d9d4b0b55",
                  "1": "i donbt like to peel prawns, i also dont like going shopping, running out of money and crawling round the car looking for more",
                  "2": "dont like go",
                  "3": "negative",
                  "index": 49
                },
                {
                  "0": "3fcea4debc",
                  "1": " which case? I got a new one last week and I`m not thrilled at all with mine.",
                  "2": "d I`m not thrilled at all with mine.",
                  "3": "negative",
                  "index": 50
                },
                {
                  "0": "a3ae670885",
                  "1": " Then you should check out http://twittersucks.com and connect with other tweeple who hate twitter",
                  "2": "Then you should check out http://twittersucks.com and connect with other tweeple who hate twitter",
                  "3": "neutral",
                  "index": 51
                },
                {
                  "0": "15d5f3a41b",
                  "1": " also bored at school, its my third freelesson( freistunde )",
                  "2": "also bored at school, its my third freelesson( freistunde )",
                  "3": "neutral",
                  "index": 52
                },
                {
                  "0": "3c4a21b2cb",
                  "1": " hm... Both of us I guess...",
                  "2": "hm... Both of us I guess...",
                  "3": "neutral",
                  "index": 53
                },
                {
                  "0": "11084dac09",
                  "1": " it is ****...u have dissappointed me that past few days",
                  "2": "it is ****...u have dissappointed me that past few days",
                  "3": "negative",
                  "index": 54
                },
                {
                  "0": "d8ba2a99a9",
                  "1": " romance zero is funny",
                  "2": "romance zero is funny",
                  "3": "positive",
                  "index": 55
                },
                {
                  "0": "e77fd45003",
                  "1": " I`d rather do the early run..but I am a morning runner",
                  "2": "I`d rather do the early run..but I am a morning runner",
                  "3": "neutral",
                  "index": 56
                },
                {
                  "0": "b159318d76",
                  "1": "Bah a coworker ran into work late and her bag smacked into my knee  it really hurts now",
                  "2": "hurts",
                  "3": "negative",
                  "index": 57
                },
                {
                  "0": "6086b1f016",
                  "1": "will be back later.  http://plurk.com/p/rp3k7",
                  "2": "will be back later.",
                  "3": "neutral",
                  "index": 58
                },
                {
                  "0": "703afdc44b",
                  "1": "Aw. Torn ace of hearts  #Hunchback",
                  "2": "Torn ace of hearts",
                  "3": "negative",
                  "index": 59
                },
                {
                  "0": "90f3d2b572",
                  "1": " what fun are you speaking of?",
                  "2": "what fun are you speaking of?",
                  "3": "neutral",
                  "index": 60
                },
                {
                  "0": "52483f7da8",
                  "1": "i lost all my friends, i`m alone and sleepy..i wanna go home",
                  "2": "i lost all my friends, i`m alone and sleepy..",
                  "3": "negative",
                  "index": 61
                },
                {
                  "0": "a4b0888da6",
                  "1": " haha yes",
                  "2": "haha yes",
                  "3": "neutral",
                  "index": 62
                },
                {
                  "0": "2a9765b7f9",
                  "1": "I give in to easily",
                  "2": "I give in to easily",
                  "3": "negative",
                  "index": 63
                },
                {
                  "0": "90a2cdb657",
                  "1": "What better way to spoil mum than to let her kick back and relax over a nice meal and a bottle of her favorite wine? Our wine was a red",
                  "2": "favorite",
                  "3": "positive",
                  "index": 64
                },
                {
                  "0": "98f25bc596",
                  "1": "mannnn..... _ got an iphone!!! im jealous....  http://bit.ly/NgnaR",
                  "2": "jealous..",
                  "3": "negative",
                  "index": 65
                },
                {
                  "0": "23e1f7dca4",
                  "1": "Is at a photoshoot.",
                  "2": "Is at a photoshoot.",
                  "3": "neutral",
                  "index": 66
                },
                {
                  "0": "95e12b1cb1",
                  "1": "  He`s awesome... Have you worked with him before? He`s a good friend.",
                  "2": "s awesome",
                  "3": "positive",
                  "index": 67
                },
                {
                  "0": "c34feef039",
                  "1": "Yay playing a show tonight! Boo it`s gonna soggy and I`m at work right before playing",
                  "2": "Yay playing a show tonight! Boo it`s gonna soggy and I`m at work right before playing",
                  "3": "neutral",
                  "index": 68
                },
                {
                  "0": "fa2654e730",
                  "1": "Chilliin",
                  "2": "Chilliin",
                  "3": "positive",
                  "index": 69
                },
                {
                  "0": "187494c25b",
                  "1": " If you know such agent, do let me know",
                  "2": "If you know such agent, do let me know",
                  "3": "neutral",
                  "index": 70
                },
                {
                  "0": "4213627c3c",
                  "1": "I still smell of smoke  #kitchenfire",
                  "2": "I still smell of smoke  #kitchenfire",
                  "3": "neutral",
                  "index": 71
                },
                {
                  "0": "a4e00d4d26",
                  "1": " a celtics-lakers rematch sounds better don`t you think? lol",
                  "2": "better",
                  "3": "positive",
                  "index": 72
                },
                {
                  "0": "04e2e334de",
                  "1": "Anyone have an extra Keane ticket? I promise to buy you a drink and take rad pics for your FB / Blog / Flickr., etc",
                  "2": "Anyone have an extra Keane ticket? I promise to buy you a drink and take rad pics for your FB / Blog / Flickr., etc",
                  "3": "neutral",
                  "index": 73
                },
                {
                  "0": "0c4aa867d0",
                  "1": "'you can ride one, you can catch one, but its not summer til you pop open one'  ?",
                  "2": "'you can ride one, you can catch one, but its not summer til you pop open one'  ?",
                  "3": "neutral",
                  "index": 74
                },
                {
                  "0": "a6c61eac26",
                  "1": " she is good! so gor-juz yea i kno i asked her yesterday when we were at tha hospital if she talked to u and she said no",
                  "2": "she is good! so gor-juz yea i kno i asked her yesterday when we were at tha hospital if she talked to u and she said no",
                  "3": "neutral",
                  "index": 75
                },
                {
                  "0": "94bd67443c",
                  "1": "OK - I`m out of here for now. Just popped in to say Hi and check on things. I`ll probably head to the guttah later on tonight",
                  "2": "OK - I`m out of here for now. Just popped in to say Hi and check on things. I`ll probably head to the guttah later on tonight",
                  "3": "neutral",
                  "index": 76
                },
                {
                  "0": "35f393a245",
                  "1": "WOW, i AM REALLY MiSSiN THE FAM(iLY) TODAY. BADDD.",
                  "2": "BADDD.",
                  "3": "negative",
                  "index": 77
                },
                {
                  "0": "b2c9f115b1",
                  "1": " My sources say no",
                  "2": "My sources say no",
                  "3": "neutral",
                  "index": 78
                },
                {
                  "0": "0a61cbf4b5",
                  "1": "I am sooo tired",
                  "2": "I am sooo tired",
                  "3": "negative",
                  "index": 79
                },
                {
                  "0": "ee9ec7a5a4",
                  "1": " Hey, you change your twitter account, and you didn`t even tell me...",
                  "2": "Hey, you change your twitter account, and you didn`t even tell me...",
                  "3": "neutral",
                  "index": 80
                },
                {
                  "0": "bbbc46889b",
                  "1": " THANK YYYYYYYYYOOOOOOOOOOUUUUU!",
                  "2": "THANK YYYYYYYYYOOOOOOOOOOUUUUU!",
                  "3": "positive",
                  "index": 81
                },
                {
                  "0": "58d382e07a",
                  "1": " lucky kid...i so wanna see loserville  pity im in oz....",
                  "2": "lucky",
                  "3": "positive",
                  "index": 82
                },
                {
                  "0": "cb4d439ebc",
                  "1": "fell asleep waiting for my ride!",
                  "2": "fell asleep waiting for my ride!",
                  "3": "neutral",
                  "index": 83
                },
                {
                  "0": "64ed512788",
                  "1": "Sick. With a flu like thing.",
                  "2": "Sick.",
                  "3": "negative",
                  "index": 84
                },
                {
                  "0": "4cd390c007",
                  "1": "Still no reply from  about my SimFinger problem  So no iRape parody video until I get a response, sorry guys",
                  "2": ", sorry guys",
                  "3": "negative",
                  "index": 85
                },
                {
                  "0": "3d2fcd78c8",
                  "1": "Happy Star Wars day everyone! and Enjoy the holiday (UK)",
                  "2": "Happy Star Wars day everyone! and Enjoy the holiday (UK)",
                  "3": "positive",
                  "index": 86
                },
                {
                  "0": "0c0563423e",
                  "1": " Miles from you   I`m in Essex so give me plenty of warning so I can arrive in time to get at least one of those free beers.",
                  "2": "Miles from you   I`m in Essex so give me plenty of warning so I can arrive in time to get at least one of those free beers",
                  "3": "neutral",
                  "index": 87
                },
                {
                  "0": "cd0d522bb1",
                  "1": "His snoring is so annoying n it keeps me from sleeping (like right now, lol) but I honestly wud miss it if it eva left  I love him.",
                  "2": "His snoring is so annoying n it keeps me from sleeping (like right now, lol) but I honestly wud miss it if it eva left  I love him.",
                  "3": "neutral",
                  "index": 88
                },
                {
                  "0": "bffa3ddd61",
                  "1": "i miss you bby      wish you were going tomorrow to make me do good.",
                  "2": "i miss you bby",
                  "3": "negative",
                  "index": 89
                },
                {
                  "0": "9339ee8e0b",
                  "1": " Well what im working on isn`t QUITE ready to post about publicly (still beta testing) but its a cool new script I coded",
                  "2": "cool",
                  "3": "positive",
                  "index": 90
                },
                {
                  "0": "a76f9cf8ce",
                  "1": " SWEEEEET - San Fran is awesome!!!!  Love it there",
                  "2": "Love it there",
                  "3": "positive",
                  "index": 91
                },
                {
                  "0": "4ce121e2ad",
                  "1": "_Mounce yes and it lasts way past my bedtime!",
                  "2": "_Mounce yes and it lasts way past my bedtime!",
                  "3": "neutral",
                  "index": 92
                },
                {
                  "0": "a3de81e1ba",
                  "1": " Hi  how are you doing ???  *just joined twitter...*",
                  "2": "Hi  how are you doing ???  *just joined twitter...",
                  "3": "neutral",
                  "index": 93
                },
                {
                  "0": "55bacda5eb",
                  "1": "waiting for sleeping pills to kick in... gonna be so tired at work tomorrow",
                  "2": "tired",
                  "3": "negative",
                  "index": 94
                },
                {
                  "0": "b63ed6da62",
                  "1": "eating ice cream and then getting ready for graduation.",
                  "2": "eating ice cream and then getting ready for graduation.",
                  "3": "neutral",
                  "index": 95
                },
                {
                  "0": "4c41a35a2a",
                  "1": "Happy Mothers day to all you Mums out there",
                  "2": "Happy Mothers day to all you Mums out there",
                  "3": "positive",
                  "index": 96
                },
                {
                  "0": "61a8e11e8a",
                  "1": " CASEY`S GONE?!?! BUT WHY?! So, she piddled a little on the carpet. She`s prolly freaked cause it`s new. Can we get her back?",
                  "2": "freaked",
                  "3": "negative",
                  "index": 97
                },
                {
                  "0": "447dc22c81",
                  "1": " hemp cloth is marvelous but unfortunately no",
                  "2": "unfortunately",
                  "3": "negative",
                  "index": 98
                },
                {
                  "0": "3408db03a3",
                  "1": "Gonna read a story bout adam lambert online then bed. Nighty night",
                  "2": "Gonna read a story bout adam lambert online then bed. Nighty night",
                  "3": "neutral",
                  "index": 99
                },
                {
                  "0": "92e1b6846e",
                  "1": " We saw that in none 3D - the baddie`s the best",
                  "2": "best",
                  "3": "positive",
                  "index": 100
                },
                {
                  "0": "2207d982bc",
                  "1": "4am. And Im on the beach. Pretty",
                  "2": "Pretty",
                  "3": "positive",
                  "index": 101
                },
                {
                  "0": "15e01e1749",
                  "1": " Certainly not Cheers than, huh?",
                  "2": "Certainly not Cheers than, huh?",
                  "3": "neutral",
                  "index": 102
                },
                {
                  "0": "ebcdf07ac5",
                  "1": "1 week post my'horrible, traumatic jumping cholla accident.'-cholla`s next dirty trick:pieces are starting to emerge from my hand! Ouch!",
                  "2": "horrible,",
                  "3": "negative",
                  "index": 103
                },
                {
                  "0": "fd9fb4f1ad",
                  "1": "i realy wanted to go out cause its so nice but everybodys busy",
                  "2": "busy",
                  "3": "negative",
                  "index": 104
                },
                {
                  "0": "6b018d3d2d",
                  "1": " Awesome.  I`m down in Ocean Beach (if you know where that is.) By the way. 'YourBiggestFan' I`m a re-al big fan of you-rs.",
                  "2": "Awesome.",
                  "3": "positive",
                  "index": 105
                },
                {
                  "0": "327a009a7d",
                  "1": "at least I get to watch over time  Let`s go Pens!!",
                  "2": "at least I get to watch over time  Let`s go Pens!!",
                  "3": "neutral",
                  "index": 106
                },
                {
                  "0": "d0d3c6f298",
                  "1": " cool i wear black most of the time when i go out",
                  "2": "cool i wear black most of the time when i go out",
                  "3": "neutral",
                  "index": 107
                },
                {
                  "0": "40649553ef",
                  "1": " haha I do not know how to work blip apart from the obvious! thanks for reblipping my song  have a nice day ****",
                  "2": "thanks",
                  "3": "positive",
                  "index": 108
                },
                {
                  "0": "561b44a42f",
                  "1": " have a safe trip joshy poo.......you`ll knock them dead at your speech",
                  "2": "safe",
                  "3": "positive",
                  "index": 109
                },
                {
                  "0": "a05aea73d7",
                  "1": " woof, I wish I was allowed to go",
                  "2": "I wish I was allowed to go",
                  "3": "positive",
                  "index": 110
                },
                {
                  "0": "9c4817f73b",
                  "1": "if u have a friendster add me!!!!!!!!!        my email adress      add me  loco_crime_1st.com        add me leave some comment",
                  "2": "if u have a friendster add me!!!!!!!!!        my email adress      add me  loco_crime_1st.com        add me",
                  "3": "neutral",
                  "index": 111
                },
                {
                  "0": "f0c1601d8b",
                  "1": "  has tickets.......?",
                  "2": "has tickets.......?",
                  "3": "neutral",
                  "index": 112
                },
                {
                  "0": "d421fbd332",
                  "1": "Thank you, Afrin Nasal Spray! Also, I got a giant teacup tonight!",
                  "2": "Thank you,",
                  "3": "positive",
                  "index": 113
                },
                {
                  "0": "99b7ec4b0b",
                  "1": " ACSM. it`s unfathomable.  i think the other one .. and the .. is one that should be kept to the comfort of our bedrooms. yes?",
                  "2": "ACSM. it`s unfathomable.  i think the other one .. and the .. is one that should be kept to the comfort of our bedrooms. yes?",
                  "3": "neutral",
                  "index": 114
                },
                {
                  "0": "a655fbb5eb",
                  "1": "Aww, I love my daddy! He works 7 days a week almost all day and still tries to go to SF with all of us",
                  "2": "I love my",
                  "3": "positive",
                  "index": 115
                },
                {
                  "0": "43e9a93104",
                  "1": "So many tests todayyy  I don`t feel confident about anyy.",
                  "2": "I don`t feel confident",
                  "3": "negative",
                  "index": 116
                },
                {
                  "0": "401869d615",
                  "1": "graduation is done  im a little sad.. anyone want to hang out???",
                  "2": "sad.",
                  "3": "negative",
                  "index": 117
                },
                {
                  "0": "9843c4688e",
                  "1": " hahaa your awesomee !",
                  "2": "hahaa your awesomee !",
                  "3": "positive",
                  "index": 118
                },
                {
                  "0": "87fbf14655",
                  "1": "holy smokes! star trek was freaking awesomeeeee",
                  "2": "awesomeeeee",
                  "3": "positive",
                  "index": 119
                },
                {
                  "0": "22d1806fa0",
                  "1": "I hate Fallout 3 it keeps making me jump, I`m also low on health, money, ammo and food  don`t worry I`ll get through it.",
                  "2": "I hate Fallout 3 it keeps making me jump, I`m also low on health, money, ammo and food  don`t worry I`ll get through it.",
                  "3": "neutral",
                  "index": 120
                },
                {
                  "0": "9d2cffd953",
                  "1": " I had it! On my itunes, but then I lost all my songs.",
                  "2": "I had it! On my itunes, but then I lost all my songs.",
                  "3": "neutral",
                  "index": 121
                },
                {
                  "0": "f78761f7ec",
                  "1": "What`s with the gloomy weather? The sun must be too tired to come out and play  heading to victoria gardens for some impulse buys haha",
                  "2": "What`s with the gloomy weather? The sun must be too tired to come out and play  heading to victoria gardens for some impulse buys haha",
                  "3": "neutral",
                  "index": 122
                },
                {
                  "0": "66057d58c2",
                  "1": "Not looking forward to next week: Maths, Geography, English and French exams, totalling 7 hours",
                  "2": "Not looking forward",
                  "3": "negative",
                  "index": 123
                },
                {
                  "0": "af90ad5989",
                  "1": " Poor you  Get outside and sleep in the garden, the sun will do you good. But don`t forget suncream!!!",
                  "2": "Poor you",
                  "3": "negative",
                  "index": 124
                },
                {
                  "0": "f0460d611d",
                  "1": "not well",
                  "2": "not well",
                  "3": "negative",
                  "index": 125
                },
                {
                  "0": "6649f3558c",
                  "1": " Not a prob hun",
                  "2": "Not a prob",
                  "3": "positive",
                  "index": 126
                },
                {
                  "0": "24532ab83c",
                  "1": "at dads, watching some mtv and am going on sims2 in a minutee",
                  "2": "at dads, watching some mtv and am going on sims2 in a minutee",
                  "3": "neutral",
                  "index": 127
                },
                {
                  "0": "8e1583cb08",
                  "1": " Absolutely",
                  "2": "Absolutely",
                  "3": "neutral",
                  "index": 128
                },
                {
                  "0": "4ea61dbc7a",
                  "1": " what`s the matter chickadee?",
                  "2": "what`s the matter chickadee?",
                  "3": "neutral",
                  "index": 129
                },
                {
                  "0": "94f67cfa6d",
                  "1": " hey mia!  totally adore your music.  when will your cd be out?",
                  "2": "y adore",
                  "3": "positive",
                  "index": 130
                },
                {
                  "0": "29dfaf5e3b",
                  "1": "Shopping. Cleaning. BMFing. Webcam chatting with nephews. Nothing spesh, but a good bank holiday Monday nonetheless",
                  "2": "good",
                  "3": "positive",
                  "index": 131
                },
                {
                  "0": "974b35f889",
                  "1": " =O you need to ask him something? Lmao I love him too",
                  "2": "I love him too",
                  "3": "positive",
                  "index": 132
                },
                {
                  "0": "b495300bbf",
                  "1": " those splinters look very painful...but you were being very heroic saving mr. Pickle",
                  "2": "painful.",
                  "3": "negative",
                  "index": 133
                },
                {
                  "0": "504539e6ec",
                  "1": " why are you sad?",
                  "2": "sad?",
                  "3": "negative",
                  "index": 134
                },
                {
                  "0": "6903cb08f2",
                  "1": " Nice to see you tweeting!  It`s Sunday 10th May and we`re celebrating Mother`s Day here today. So be nice to yer Mom",
                  "2": "e nice",
                  "3": "positive",
                  "index": 135
                },
                {
                  "0": "1996048e7a",
                  "1": "decided 2 trans frm relaxed 2 natural hair but i wish my whole head looked like my roots.  Age of the instant gratification....",
                  "2": "i wish",
                  "3": "positive",
                  "index": 136
                },
                {
                  "0": "c6d0c7676c",
                  "1": " Namaskar & Namaste r both the same. Marathi people say Namaskar! its a marathi word.... should i ? ...naaaah !",
                  "2": "Namaskar & Namaste r both the same. Marathi people say Namaskar! its a marathi word.... should i ? ...naaaah !",
                  "3": "neutral",
                  "index": 137
                },
                {
                  "0": "ef74bab7f3",
                  "1": " Congrats!  I cuss like that in a matter of minutes, But didn`t know until now there is a reward for it.",
                  "2": "Congrats!  I cuss like that in a matter of minutes, But didn`t know until now there is a reward for it.",
                  "3": "neutral",
                  "index": 138
                },
                {
                  "0": "f3cf8ec01b",
                  "1": "Humous and Dorito`s.... Oh yes",
                  "2": "Humous and Dorito`s.... Oh yes",
                  "3": "neutral",
                  "index": 139
                },
                {
                  "0": "cb1b0d191d",
                  "1": "missed all the awesome weather, because she was in a movie!",
                  "2": "missed all the awesome weather,",
                  "3": "negative",
                  "index": 140
                },
                {
                  "0": "3e67a75303",
                  "1": "Today is going to be a normal day for I hope. We had a group of pilots from a large airline come in last night so it was too much drink",
                  "2": "Today is going to be a normal day for I hope. We had a group of pilots from a large airline come in last night so it was too much drink",
                  "3": "neutral",
                  "index": 141
                },
                {
                  "0": "997a62f83f",
                  "1": "These kids are terrible! If I was in Good Evans, I`d call Childline",
                  "2": "terrible!",
                  "3": "negative",
                  "index": 142
                },
                {
                  "0": "7e1757d4f0",
                  "1": "Unfortunatley, AerLingus no longer fly to Copenhagen so we`re have to fly Ryanair to Billund and drive up to Copenhagen one of the days!",
                  "2": "Unfortunatley,",
                  "3": "negative",
                  "index": 143
                },
                {
                  "0": "254546cd2c",
                  "1": " What`s sad is that I actually had to google that term. That sucks, tho.",
                  "2": "That sucks, tho.",
                  "3": "negative",
                  "index": 144
                },
                {
                  "0": "7e4ed52c4a",
                  "1": "Hate fighting",
                  "2": "Hate fighting",
                  "3": "negative",
                  "index": 145
                },
                {
                  "0": "5069ae7a15",
                  "1": " I watched that too!!! I didnt want her to win, but she put up a good fight..lol",
                  "2": "I watched that too!!! I didnt want her to win, but she put up a good fight..lol",
                  "3": "neutral",
                  "index": 146
                },
                {
                  "0": "48cdcd5f28",
                  "1": "Car-warmed Sprite tastes like sore throat",
                  "2": "Car-warmed Sprite tastes like sore throat",
                  "3": "negative",
                  "index": 147
                },
                {
                  "0": "1b1b02af59",
                  "1": "Just came 11th in cross country and beat dumbo",
                  "2": "Just came 11th in cross country and beat dumbo",
                  "3": "neutral",
                  "index": 148
                },
                {
                  "0": "ae71041e21",
                  "1": "Candle wax is very enjoyable.",
                  "2": "enjoyable.",
                  "3": "positive",
                  "index": 149
                },
                {
                  "0": "11c10e3fc5",
                  "1": " She`s unassuming and unpretentious. She`s just, as. I suppose that`s why she`s so endearing--because we can relate to her",
                  "2": "endearing-",
                  "3": "positive",
                  "index": 150
                },
                {
                  "0": "19526ac03e",
                  "1": "tomorrow valeria`s lunch!!! going to get my hair done but im arraving late   got my cousins babtizm or whatever you spell it",
                  "2": "tomorrow valeria`s lunch!!! going to get my hair done but im arraving late   got my cousins babtizm or whatever you spell it",
                  "3": "neutral",
                  "index": 151
                },
                {
                  "0": "960bbdc0c3",
                  "1": "goooooddd morning tweets!!  week three OF my workout. did i mention i got my new glasses yesterday?!?",
                  "2": "goooooddd morning tweets!!",
                  "3": "positive",
                  "index": 152
                },
                {
                  "0": "fd285fe74a",
                  "1": " me too. I hate my computer so much..",
                  "2": "hate",
                  "3": "negative",
                  "index": 153
                },
                {
                  "0": "a5a1c996c0",
                  "1": " fine! Going to do my big walk today 20 or so miles",
                  "2": "fine!",
                  "3": "positive",
                  "index": 154
                },
                {
                  "0": "20ec7c7c32",
                  "1": "I WANT RED CRUISERS!!  i don`t like the other ones. LMFAO!",
                  "2": "i don`t like the other ones.",
                  "3": "negative",
                  "index": 155
                },
                {
                  "0": "b948984e8d",
                  "1": "Mmmmmmmm... ? it in the morning",
                  "2": "Mmmmmmmm... ? it in the morning",
                  "3": "neutral",
                  "index": 156
                },
                {
                  "0": "6824c44c21",
                  "1": " me neither",
                  "2": "me neither",
                  "3": "neutral",
                  "index": 157
                },
                {
                  "0": "02d140362f",
                  "1": "Has about 10 hours work to do, on a Sunday. Boo. I will find time for a two hour lunchbreak though. Yeah",
                  "2": "Has about 10 hours work to do, on a Sunday. Boo. I will find time for a two hour lunchbreak though. Yeah",
                  "3": "neutral",
                  "index": 158
                },
                {
                  "0": "5f93cc70ff",
                  "1": "Bugger. forgot I still have washing in my machine",
                  "2": "Bugger. forgot I still have washing in my machine",
                  "3": "negative",
                  "index": 159
                },
                {
                  "0": "4e6a5c0034",
                  "1": "_Laurie sending love, blessings & healing thoughts to you & family  peace",
                  "2": "sending love, blessings & healing thoughts to you & family  peace",
                  "3": "positive",
                  "index": 160
                },
                {
                  "0": "e4e9b8713a",
                  "1": "My back hurts...really bad",
                  "2": ".really bad",
                  "3": "negative",
                  "index": 161
                },
                {
                  "0": "08975f62a8",
                  "1": " ah yes, I know that feeling",
                  "2": "ah yes, I know that feeling",
                  "3": "neutral",
                  "index": 162
                },
                {
                  "0": "4a1ce7dc3b",
                  "1": "Night of the cookers with my dad",
                  "2": "Night of the cookers with my dad",
                  "3": "neutral",
                  "index": 163
                },
                {
                  "0": "328a0e76bd",
                  "1": "My modem has been offline for a week now... God bless the 3g network. Tim just left... Again!! May schedule has been brutal",
                  "2": "brutal",
                  "3": "negative",
                  "index": 164
                },
                {
                  "0": "abbd0db2a5",
                  "1": " Nope I am in Coquitlam",
                  "2": "Nope I am in Coquitlam",
                  "3": "neutral",
                  "index": 165
                },
                {
                  "0": "940eb93dd5",
                  "1": " Had parent teacher thing yesterday!! So boring going to skl on saturday!!  lol",
                  "2": "boring",
                  "3": "negative",
                  "index": 166
                },
                {
                  "0": "c78bf59e67",
                  "1": "  #lichfield #tweetup sounds like fun  Hope to see you and everyone else there!",
                  "2": "p sounds like fun",
                  "3": "positive",
                  "index": 167
                },
                {
                  "0": "e73425ffdc",
                  "1": "Big booming thunder storm almost here.  Maybe we can all go home early???  Ah... probably not.",
                  "2": "Big booming thunder storm almost here.  Maybe we can all go home early???  Ah... probably not.",
                  "3": "neutral",
                  "index": 168
                },
                {
                  "0": "e56eeb4968",
                  "1": "Few Bevvies 2day in twn..great on a day off!!",
                  "2": "great",
                  "3": "positive",
                  "index": 169
                },
                {
                  "0": "7162d447ab",
                  "1": "first night in myers. just not the same w/out lydia!  but i`m actually excited about this summer!",
                  "2": "excited",
                  "3": "positive",
                  "index": 170
                },
                {
                  "0": "f3d95b57b1",
                  "1": " good morning",
                  "2": "good morning",
                  "3": "positive",
                  "index": 171
                },
                {
                  "0": "5e4eac2b2e",
                  "1": " its the best show EVER!",
                  "2": "its the best show EVER!",
                  "3": "positive",
                  "index": 172
                },
                {
                  "0": "bc02870b7d",
                  "1": "URL in previous post (to timer job) should be http://bit.ly/a4Fdb. I`d removed space which messed up URL.  ^ES",
                  "2": "messed",
                  "3": "negative",
                  "index": 173
                },
                {
                  "0": "80e45e833f",
                  "1": "i think iv hurt my tooth  and eilish and cassie are having a drawing competiton to draw cookies and pineapples haha :L .",
                  "2": "i think iv hurt my tooth  and eilish and cassie are having a drawing competiton to draw cookies and pineapples haha :L .",
                  "3": "neutral",
                  "index": 174
                },
                {
                  "0": "f29df52d91",
                  "1": " I want to know when the auditions are Mander! Text or...reply please!",
                  "2": "I want to know when the auditions are Mander! Text or...reply please!",
                  "3": "neutral",
                  "index": 175
                },
                {
                  "0": "079e4e3472",
                  "1": "or even NOOOOO NOT THE SECRET NAMEREBECCA PLEASE",
                  "2": "NOT THE SECRET NAMEREBECCA PLEASE",
                  "3": "negative",
                  "index": 176
                },
                {
                  "0": "557e676fe4",
                  "1": " I miss my neice  can`t wait to see her bad n grown ****! Lol",
                  "2": "miss",
                  "3": "negative",
                  "index": 177
                },
                {
                  "0": "8d09044937",
                  "1": "i need to get my computer fixed",
                  "2": "i need to get my computer fixed",
                  "3": "neutral",
                  "index": 178
                },
                {
                  "0": "9d3a1e0269",
                  "1": "really hopes her car`s illness is not terminal...",
                  "2": "illness",
                  "3": "negative",
                  "index": 179
                },
                {
                  "0": "7ff2dbbe25",
                  "1": "All the cool people I want to find for following today are #English, and I guess the English don`t tweet.",
                  "2": "All the cool people I want to find for following today are #English, and I guess the English don`t tweet.",
                  "3": "neutral",
                  "index": 180
                },
                {
                  "0": "5a254fbb98",
                  "1": " no sir...i woulda put honey...but i don`t have any",
                  "2": "no sir...i woulda put honey...but i don`t have any",
                  "3": "neutral",
                  "index": 181
                },
                {
                  "0": "417176c08e",
                  "1": "who watched X-men origins: wolverine? i totally loved it! haha",
                  "2": "i totally loved it!",
                  "3": "positive",
                  "index": 182
                },
                {
                  "0": "2bf5c7dba7",
                  "1": " I VOTED!!! do u have a personal myspace? i keep talking to fakes   i <3 you. u helped me thru the hrdest time of my life! (: x",
                  "2": "i <3 you. u helped me thru the hrdest time of my life!",
                  "3": "positive",
                  "index": 183
                },
                {
                  "0": "8407ac30b0",
                  "1": " I`m sad that I missed you guys last night!",
                  "2": "sad",
                  "3": "negative",
                  "index": 184
                },
                {
                  "0": "6ed347b1a5",
                  "1": "Finally got a call for marriage counseling 3 days late....",
                  "2": "Finally got a call for marriage counseling 3 days late....",
                  "3": "neutral",
                  "index": 185
                },
                {
                  "0": "97625460cf",
                  "1": " ok then",
                  "2": "ok then",
                  "3": "neutral",
                  "index": 186
                },
                {
                  "0": "32e4ffe225",
                  "1": "_420 why baby?",
                  "2": "why baby?",
                  "3": "neutral",
                  "index": 187
                },
                {
                  "0": "24ee55f264",
                  "1": "today was the last day of high school for me and i ended up going home sick! ... stupid dead rats",
                  "2": "sick!",
                  "3": "negative",
                  "index": 188
                },
                {
                  "0": "82b75647fd",
                  "1": "We`re having an impromptu pool party... Except I don`t know how to swim so I can`t get in",
                  "2": "We`re having an impromptu pool party... Except I don`t know how to swim so I can`t get in",
                  "3": "neutral",
                  "index": 189
                },
                {
                  "0": "a0a306868a",
                  "1": "lost my tooth 2day whilst i was eating gum...oww",
                  "2": "oww",
                  "3": "negative",
                  "index": 190
                },
                {
                  "0": "9b11b686ec",
                  "1": "happy 1 year! <3",
                  "2": "happy 1 year! <3",
                  "3": "positive",
                  "index": 191
                },
                {
                  "0": "7e7bc11e45",
                  "1": "Oh, I HELLA forgot to say my official good morning  Like to hear it? Here it go! Goooooooooooood Morrrrrrrrning Twitterville! Lol",
                  "2": "Goooooooooooood Morrrrrrrrning",
                  "3": "positive",
                  "index": 192
                },
                {
                  "0": "28dbada620",
                  "1": " *phew*  Will make a note in case anyone else runs into the same issueï¿½",
                  "2": "*phew*  Will make a note in case anyone else runs into the same issueï¿½",
                  "3": "neutral",
                  "index": 193
                },
                {
                  "0": "3e880ec28d",
                  "1": "  WHAT ABOUT ME ??  I VOTE EVERY DAY FOR YOU !!!!!",
                  "2": "WHAT ABOUT ME ??  I VOTE EVERY DAY FOR YOU !!!!!",
                  "3": "negative",
                  "index": 194
                },
                {
                  "0": "38271074d1",
                  "1": "I`m starving!! This diet is killing me but I can`t eat after 8pm",
                  "2": "This diet is killing me",
                  "3": "negative",
                  "index": 195
                },
                {
                  "0": "ef12a3d183",
                  "1": " i talk to you",
                  "2": "i talk to you",
                  "3": "neutral",
                  "index": 196
                },
                {
                  "0": "f0db54f5bf",
                  "1": "im soo bored...im deffo missing my music channels",
                  "2": "bored..",
                  "3": "negative",
                  "index": 197
                },
                {
                  "0": "e651d415c6",
                  "1": " nite nite bday girl  have fun at concert",
                  "2": "e fun",
                  "3": "positive",
                  "index": 198
                },
                {
                  "0": "931a866d3f",
                  "1": "Had nicotine replacement patch on for 4 hours. So far, so good, but I did sleep for most of those 4 hours. Getting a bit twitchy now",
                  "2": "So far, so good, but I did sleep for most of those 4 hours. Getting a bit twitchy now",
                  "3": "neutral",
                  "index": 199
                },
                {
                  "0": "7a718b23ef",
                  "1": "_Sanderson What`s with Twatter lately?  Either I can`t get on or the replies don`t turn up!",
                  "2": "What`s with Twatter lately?  Either I can`t get on or the replies don`t turn up!",
                  "3": "neutral",
                  "index": 200
                },
                {
                  "0": "a6fccce9db",
                  "1": "should be sleeping.  lost my voice a couple day ago.",
                  "2": "lost my voice",
                  "3": "negative",
                  "index": 201
                },
                {
                  "0": "c017d0c221",
                  "1": "http://twitpic.com/66xlm -  hate when my PARKED car gets hit",
                  "2": "hate",
                  "3": "negative",
                  "index": 202
                },
                {
                  "0": "287755c5dd",
                  "1": " I`ve heard this fall. I`m waiting too!",
                  "2": "I`ve heard this fall. I`m waiting too!",
                  "3": "neutral",
                  "index": 203
                },
                {
                  "0": "58c435d2cf",
                  "1": " more nightmares?  *huggles*",
                  "2": "more nightmares?  *huggles*",
                  "3": "neutral",
                  "index": 204
                },
                {
                  "0": "e6ee6826df",
                  "1": "I AM SUCH A CREEPER  I feel disappointed because of it. **** my cyberstalking skills   the internet = no more privacy.",
                  "2": "I AM SUCH A CREEPER  I feel disappointed because of it. **** my cyberstalking skills   the internet = no more privacy",
                  "3": "negative",
                  "index": 205
                },
                {
                  "0": "01b2476dd7",
                  "1": "going to bed its late and I have headache",
                  "2": "headache",
                  "3": "negative",
                  "index": 206
                },
                {
                  "0": "e02cf4af4c",
                  "1": "happy mother`s day to all moms out there...",
                  "2": "happy",
                  "3": "positive",
                  "index": 207
                },
                {
                  "0": "2dc0dc0d5d",
                  "1": "Grabbing coffee from  then making mom breakfast",
                  "2": "Grabbing coffee from  then making mom breakfast",
                  "3": "neutral",
                  "index": 208
                },
                {
                  "0": "1b13ed8b4b",
                  "1": "im thinking that im going to have fun tonight....and maybe some changes are coming",
                  "2": "going to have fun",
                  "3": "positive",
                  "index": 209
                },
                {
                  "0": "b6b35af246",
                  "1": " thanks. before the major chop.",
                  "2": "thanks. before the major chop.",
                  "3": "neutral",
                  "index": 210
                },
                {
                  "0": "375e74d063",
                  "1": " Haha I know, I cant handle the fame!  and thank you!",
                  "2": "d thank you!",
                  "3": "positive",
                  "index": 211
                },
                {
                  "0": "4700be3234",
                  "1": "just got up and updated my ipod",
                  "2": "just got up and updated my ipod",
                  "3": "neutral",
                  "index": 212
                },
                {
                  "0": "e5c6a6bb5a",
                  "1": " yes! sober HAHAHA tanghaling tapat dude! haha WILD. i don`t knowwww  plan plan  before you go to US!",
                  "2": "HAHAHA",
                  "3": "positive",
                  "index": 213
                },
                {
                  "0": "4f84bea1cc",
                  "1": " We never miss ICarly - my son has a huge crush on Miranda",
                  "2": "crush",
                  "3": "positive",
                  "index": 214
                },
                {
                  "0": "4c73ad2888",
                  "1": "Saw James carville in the store today. His head is really that bald",
                  "2": "Saw James carville in the store today. His head is really that bald",
                  "3": "neutral",
                  "index": 215
                },
                {
                  "0": "2dcd8766a8",
                  "1": "yellow for   ? http://blip.fm/~5z05g",
                  "2": "yellow for   ? http://blip.fm/~5z05g",
                  "3": "neutral",
                  "index": 216
                },
                {
                  "0": "234093bef1",
                  "1": " which means you`re just going to have to come back to vancouver and have it our way! hahah",
                  "2": "which means you`re just going to have to come back to vancouver and have it our way! hahah",
                  "3": "neutral",
                  "index": 217
                },
                {
                  "0": "ca832cad51",
                  "1": "Feeling smooth like chrome",
                  "2": "Feeling smooth",
                  "3": "positive",
                  "index": 218
                },
                {
                  "0": "a8734230b6",
                  "1": "Ew traffic",
                  "2": "Ew traffic",
                  "3": "negative",
                  "index": 219
                },
                {
                  "0": "0b5c2a7d7c",
                  "1": "downloading songs while trying to sneak a lil homework in too, which should be my main priority not songs lol",
                  "2": "downloading songs while trying to sneak a lil homework in too, which should be my main priority not songs lol",
                  "3": "neutral",
                  "index": 220
                },
                {
                  "0": "e70d294d95",
                  "1": "@_Ra_Ra_ your not alone...i need coffee too.",
                  "2": "your not alone...i need coffee too.",
                  "3": "neutral",
                  "index": 221
                },
                {
                  "0": "f84b89a828",
                  "1": " Sounds like me",
                  "2": "Sounds like me",
                  "3": "neutral",
                  "index": 222
                },
                {
                  "0": "ee37bea884",
                  "1": "Bad day  The day you realize what mess you`ve put me through will be one of the happiest days of my life...",
                  "2": "Bad day  The day you realize what mess you`ve put me through will be one of the happiest days of my life...",
                  "3": "neutral",
                  "index": 223
                },
                {
                  "0": "242d92151a",
                  "1": "Walking to class. I hate not having a bike....especially mine.",
                  "2": "I hate not having a bike..",
                  "3": "negative",
                  "index": 224
                },
                {
                  "0": "f3a77c2b5e",
                  "1": "_nesmith",
                  "2": "_nesmith",
                  "3": "neutral",
                  "index": 225
                },
                {
                  "0": "1d6411e9dd",
                  "1": "failed inspection. Did you know you can pass wo/oven, but not wo/anti-tip bracket, which is only sold w/oven? This is worse than taxes.",
                  "2": "This is worse than taxes.",
                  "3": "negative",
                  "index": 226
                },
                {
                  "0": "151c10cc39",
                  "1": "JONAS BROTHERS - Live to party.                It`s rocking so hard     I love the song,",
                  "2": "JONAS BROTHERS - Live to party.                It`s rocking so hard",
                  "3": "positive",
                  "index": 227
                },
                {
                  "0": "7b1927e748",
                  "1": "happy mother`s day to all the mothers in the world.",
                  "2": "happy",
                  "3": "positive",
                  "index": 228
                },
                {
                  "0": "9a6f4d05d5",
                  "1": "35mins through the 1hr 20mins Google Wave demo, that looks a lot of fun, would love to test it though.  http://bit.ly/WnMSc",
                  "2": "would love to test it though.",
                  "3": "positive",
                  "index": 229
                },
                {
                  "0": "0cb4504f2c",
                  "1": "Sleepy Tabz is heading to bed.  Fun night! Listened through the next episode of Joss`d!",
                  "2": "Fun night!",
                  "3": "positive",
                  "index": 230
                },
                {
                  "0": "ae21c1ac38",
                  "1": "The exception for a short dude: Larenz fineass Tate yum",
                  "2": "The exception for a short dude: Larenz fineass Tate yum",
                  "3": "neutral",
                  "index": 231
                },
                {
                  "0": "8f3e73cf09",
                  "1": "Screw the reviews, I thought Wolverine was awesome. But not enough Dominic Monaghan for my liking.",
                  "2": "I thought Wolverine was awesome.",
                  "3": "positive",
                  "index": 232
                },
                {
                  "0": "c7489a23fa",
                  "1": "If you followed us recently, PLEASE dont be offended that we haven`t followed back. We hit our limit.   Hopefully we will be free soon.",
                  "2": "Hopefully",
                  "3": "positive",
                  "index": 233
                },
                {
                  "0": "148ac38bea",
                  "1": " Yes i work 6 to 3...",
                  "2": "Yes i work 6 to 3...",
                  "3": "neutral",
                  "index": 234
                },
                {
                  "0": "641555ac70",
                  "1": " Hmmm, maybe that`s what they meant. They eluded to something brand new but you know how the media is",
                  "2": "Hmmm, maybe that`s what they meant. They eluded to something brand new but you know how the media is",
                  "3": "neutral",
                  "index": 235
                },
                {
                  "0": "4bda359cbb",
                  "1": "Done at the spa   now meeting vic for some late lunch!",
                  "2": "Done at the spa   now meeting vic for some late lunch!",
                  "3": "neutral",
                  "index": 236
                },
                {
                  "0": "ed084a1fa7",
                  "1": "Happy monday  up and about going to tavares today. Hope everyone has a blessed day!",
                  "2": "Happy",
                  "3": "positive",
                  "index": 237
                },
                {
                  "0": "1af124bc1c",
                  "1": " Always have wanted to go to Oz",
                  "2": "Always have wanted to go to Oz",
                  "3": "neutral",
                  "index": 238
                },
                {
                  "0": "e98226e842",
                  "1": " Thx",
                  "2": "Thx",
                  "3": "neutral",
                  "index": 239
                },
                {
                  "0": "85ec413e54",
                  "1": " http://twitpic.com/4jaz5 - Cool... luv it",
                  "2": "luv",
                  "3": "positive",
                  "index": 240
                },
                {
                  "0": "7df7221145",
                  "1": "  that`s why I need to be there...To represent the Blackberries",
                  "2": "that`s why I need to be there",
                  "3": "positive",
                  "index": 241
                },
                {
                  "0": "0ab8f9c4bc",
                  "1": "Okay so I`m dedicating my 300th tweet to the fact that I`m going to the Apple store because there is a HUGE crack on the glass screen!",
                  "2": "Okay so I`m dedicating my 300th tweet to the fact that I`m going to the Apple store because there is a HUGE crack on the glass screen!",
                  "3": "neutral",
                  "index": 242
                },
                {
                  "0": "06cad97de6",
                  "1": " If only we could ever actually be allowed to stay here and do that",
                  "2": "If only we could ever actually be allowed to stay here and do that",
                  "3": "neutral",
                  "index": 243
                },
                {
                  "0": "37f6bd5ac5",
                  "1": " Let me know how that turns out!!",
                  "2": "Let me know how that turns out!!",
                  "3": "neutral",
                  "index": 244
                },
                {
                  "0": "9bef0d7135",
                  "1": " was that sass I detect?  As long as it isn`t back sass! Haha",
                  "2": "was that sass I detect?  As long as it isn`t back sass! Haha",
                  "3": "neutral",
                  "index": 245
                },
                {
                  "0": "7436ec1a2c",
                  "1": " yeah I was thinking about that ,ahaha",
                  "2": ",ahaha",
                  "3": "positive",
                  "index": 246
                },
                {
                  "0": "cf10e9309a",
                  "1": " Sports Bar Shatranjanpoli Rest Ph 26498457 All Sports Bar Andheri W 26733333 Dont know whether that helps. Google ki jai ho",
                  "2": "Sports Bar Shatranjanpoli Rest Ph 26498457 All Sports Bar Andheri W 26733333 Dont know whether that helps. Google ki jai ho",
                  "3": "neutral",
                  "index": 247
                },
                {
                  "0": "ce69e99e71",
                  "1": "I`m not sleeping at all until  accepts my appology",
                  "2": "I`m not sleeping at all un",
                  "3": "negative",
                  "index": 248
                },
                {
                  "0": "6402e14398",
                  "1": "Wolverine Was BOSS! Seriously, And Will.I.Am Was In It, What The **** ??",
                  "2": "Seriously,",
                  "3": "negative",
                  "index": 249
                },
                {
                  "0": "914c40995f",
                  "1": " I live for pain, bring it on",
                  "2": "I live for pain, bring it on",
                  "3": "neutral",
                  "index": 250
                },
                {
                  "0": "258f37341e",
                  "1": "okay, i`m out for a while  back later!",
                  "2": "okay, i`m out for a while  back later!",
                  "3": "neutral",
                  "index": 251
                },
                {
                  "0": "77ba0fee75",
                  "1": "  #powerblog What is this powerblog challenge you keep talking about?  I`m a newbie follower",
                  "2": "g What is this powerblog challenge you keep talking about?  I`m a newbie followe",
                  "3": "neutral",
                  "index": 252
                },
                {
                  "0": "96a4ce0d47",
                  "1": "almost died. Laptop screen was set to 100% brightness after I reinstalled Windows Vista. Got a headache now  #insanedefaults",
                  "2": "died.",
                  "3": "positive",
                  "index": 253
                },
                {
                  "0": "5bcc50c275",
                  "1": "Waiting for tish to get off. Got to drive my moms CRV to pick her up all my myself and duckie. First time",
                  "2": "Waiting for tish to get off. Got to drive my moms CRV to pick her up all my myself and duckie. First time",
                  "3": "neutral",
                  "index": 254
                },
                {
                  "0": "c5645758be",
                  "1": "Trying to decide on a movie with the friends.. not going to well! lol :p  No bible study 2nite, which means ****-day cake  buy my own??",
                  "2": "not going to well!",
                  "3": "negative",
                  "index": 255
                },
                {
                  "0": "7e3c091fc2",
                  "1": "going to shower because i don`t want to smell at school tomorrow",
                  "2": "going to shower because i don`t want to smell at school tomorrow",
                  "3": "neutral",
                  "index": 256
                },
                {
                  "0": "869bb56451",
                  "1": " Sigh... you know I am...",
                  "2": "Sigh... you know I am...",
                  "3": "neutral",
                  "index": 257
                },
                {
                  "0": "09ad12cc5c",
                  "1": "discovered cause of a bug in the new #NetPLAYER 4 build. Publishing bug fix now, hopefully new beta by tomorrow",
                  "2": "hopefully",
                  "3": "positive",
                  "index": 258
                },
                {
                  "0": "251aa82551",
                  "1": "Here are 4 FREE twitter tools will get you followers  http://short.to/511q http://jijr.com/hulz http://short.to/511r http://2ve.org/xPG0/",
                  "2": "Here are 4 FREE twitter tools will get you followers  http://short.to/511q http://jijr.com/hulz http://short.to/511r http://2ve.org/xPG0/",
                  "3": "neutral",
                  "index": 259
                },
                {
                  "0": "8e0a0ffbe1",
                  "1": "just got home from work.... and is chugging down a big bottle of apple juice.",
                  "2": "just got home from work.... and is chugging down a big bottle of apple juice.",
                  "3": "neutral",
                  "index": 260
                },
                {
                  "0": "799f65f193",
                  "1": " Yes it does. Please dont` go. If you die I will cry.. which normally leads to small animals getting harmed",
                  "2": "g harmed",
                  "3": "negative",
                  "index": 261
                },
                {
                  "0": "d06582e26d",
                  "1": "writing report cards  soooo tired but what an amazing day. check it out on fb soon!",
                  "2": "what an amazing day.",
                  "3": "positive",
                  "index": 262
                },
                {
                  "0": "dbe1d16b29",
                  "1": " it was only once for my big brother...and I`m done now",
                  "2": "it was only once for my big brother...and I`m done now",
                  "3": "neutral",
                  "index": 263
                },
                {
                  "0": "7809dd704a",
                  "1": "good news: finally finished my #EASactive workout that has been paused for 6 hours. bad news: my resistance band is torn",
                  "2": "good news: finally finished my #EASactive workout that has been paused for 6 hours. bad news: my resistance band is torn",
                  "3": "neutral",
                  "index": 264
                },
                {
                  "0": "97334eb7c0",
                  "1": "Well good morning all, What a wonderful day in the neighborhood  Thanks for all those that are now following another 60 this morning",
                  "2": "Well good morning all, What a wonderful day in the neighborhood  Thanks for all those that are now following another 60 this morning",
                  "3": "positive",
                  "index": 265
                },
                {
                  "0": "e1546f901a",
                  "1": "FTSK and Mercy Mercedes were amazing tonight.. as always",
                  "2": "were amazing tonight..",
                  "3": "positive",
                  "index": 266
                },
                {
                  "0": "2ece7f3810",
                  "1": "  hope he is ok!",
                  "2": "hope",
                  "3": "positive",
                  "index": 267
                },
                {
                  "0": "ba309a37d1",
                  "1": "can`t school just be done already? it hurts too much... seeing him every day",
                  "2": "it hurts too much...",
                  "3": "positive",
                  "index": 268
                },
                {
                  "0": "84ca20505a",
                  "1": "I waited, listening to wind blowing through the tumbleweed? Are none of you old enough to know what to do when someone says 'Crackerack'?",
                  "2": "I waited, listening to wind blowing through the tumbleweed? Are none of you old enough to know what to do when someone says 'Crackerack'?",
                  "3": "neutral",
                  "index": 269
                },
                {
                  "0": "de8c4c410d",
                  "1": " Hell Yeah!",
                  "2": "Hell Yeah!",
                  "3": "neutral",
                  "index": 270
                },
                {
                  "0": "e33d5ceea2",
                  "1": " HIM shirt at dinner? Do you need to ask??  Does it actually have Ville on it?",
                  "2": "HIM shirt at dinner? Do you need to ask??  Does it actually have Ville on it?",
                  "3": "neutral",
                  "index": 271
                },
                {
                  "0": "394881b7d0",
                  "1": " i know!!",
                  "2": "i know!!",
                  "3": "neutral",
                  "index": 272
                },
                {
                  "0": "52d8be9124",
                  "1": " huh what the ****? Smelly? Noooo. I love alex Vixon",
                  "2": "huh what the ****? Smelly? Noooo. I love alex Vixon",
                  "3": "neutral",
                  "index": 273
                },
                {
                  "0": "dabe649ee3",
                  "1": "Went to a party last night. Dindin and I showed up in matching outfits ) GREAT MINDS THINK ALIKE ) Anyway, happy birthday, ate lara",
                  "2": "GREAT",
                  "3": "positive",
                  "index": 274
                },
                {
                  "0": "2a5bb8d827",
                  "1": " Happy b-day! Just woke up on this side of Earth, so wishes are bit late",
                  "2": "Happy b-day!",
                  "3": "positive",
                  "index": 275
                },
                {
                  "0": "dbbbbe6059",
                  "1": "thank you for teaching me values and to be a better person each day  I LOVE SO MUCH, YOU`RE THE BEST MUM IN THE WORLD",
                  "2": "thank",
                  "3": "positive",
                  "index": 276
                },
                {
                  "0": "894e188d01",
                  "1": "HAPPY MOTHERS DAY.!",
                  "2": "HAPPY",
                  "3": "positive",
                  "index": 277
                },
                {
                  "0": "a91ca2ffae",
                  "1": " *laughs* I`m glad that you have self confidence - it`s a wonderful trait to have  I`ll applaud extra loud for it, okay?",
                  "2": "glad",
                  "3": "positive",
                  "index": 278
                },
                {
                  "0": "89d5b3f0b5",
                  "1": "  Thanks",
                  "2": "Thanks",
                  "3": "positive",
                  "index": 279
                },
                {
                  "0": "fe0abe1754",
                  "1": "twittering after 2 days!",
                  "2": "twittering after 2 days!",
                  "3": "neutral",
                  "index": 280
                },
                {
                  "0": "1b6380b1b3",
                  "1": "Getting ready for week  Its too nice today to be stuck inside working!",
                  "2": "Its too nice",
                  "3": "positive",
                  "index": 281
                },
                {
                  "0": "02c004bc2d",
                  "1": "I am tres depressed",
                  "2": "depressed",
                  "3": "negative",
                  "index": 282
                },
                {
                  "0": "b4d5f1e13e",
                  "1": "Felt like ****, behaved like my son; ate to compensate. Pigged out on home-roasted sugar almonds. Painful tum, threw up, still feel sick.",
                  "2": "sick.",
                  "3": "negative",
                  "index": 283
                },
                {
                  "0": "80481307d5",
                  "1": "Happy Mothers Day people. i love my mom a lot still",
                  "2": "Happy Mothers Day people. i love my mom a lot still",
                  "3": "positive",
                  "index": 284
                },
                {
                  "0": "05a0e60f99",
                  "1": " I`m sorry to hear that.",
                  "2": "sorry",
                  "3": "negative",
                  "index": 285
                },
                {
                  "0": "e3cc598980",
                  "1": " That`s awesome dude, yay for surprise celebrities!  I got to meet him a few years ago, he was soooo friendly.",
                  "2": ", he was soooo friendly.",
                  "3": "positive",
                  "index": 286
                },
                {
                  "0": "a2cf6cc397",
                  "1": " it makes me happy to hear a girl talk, or tweet, about the nba. but... could you give my nuggets some love?!",
                  "2": "happy",
                  "3": "positive",
                  "index": 287
                },
                {
                  "0": "53e78f3f89",
                  "1": "Is getting the hang of Twitter.",
                  "2": "Is getting the hang of Twitter.",
                  "3": "neutral",
                  "index": 288
                },
                {
                  "0": "ba83f744d8",
                  "1": "You know your neck is jacked up when you are forced to pay for parking bc you can`t turn you head to parallel park in the free spaces...",
                  "2": "You know your neck is jacked up when you are forced to pay for parking bc you can`t turn you head to parallel park in the free spaces...",
                  "3": "negative",
                  "index": 289
                },
                {
                  "0": "2dd0cddb70",
                  "1": "I want it BACK NOW!: http://bit.ly/PP1WZ",
                  "2": "I want it BACK NOW!:",
                  "3": "neutral",
                  "index": 290
                },
                {
                  "0": "e3a1b65ef3",
                  "1": "Going to miss my roomie ... We will no longer be roomies starting tomorrow",
                  "2": "miss",
                  "3": "negative",
                  "index": 291
                },
                {
                  "0": "7ae37ef593",
                  "1": "bathing with two little angels, Keyla and Janice.",
                  "2": "bathing with two little angels, Keyla and Janice.",
                  "3": "neutral",
                  "index": 292
                },
                {
                  "0": "73fa7068a2",
                  "1": " Yep, finished, chocked full of spelling and grammatical errors, but I`m cleaning it up tomorrow and popping it up  hehe",
                  "2": "chocked",
                  "3": "negative",
                  "index": 293
                },
                {
                  "0": "f5b15be6f6",
                  "1": " HAHAHHA lol true that! i always remember my BD but i can never remember what date or even day it is",
                  "2": "HAHAHHA lol true that! i always remember my BD but i can never remember what date or even day it is",
                  "3": "neutral",
                  "index": 294
                },
                {
                  "0": "68bda81bb9",
                  "1": "Family is here,hanging with them",
                  "2": "Family is here,hanging with them",
                  "3": "neutral",
                  "index": 295
                },
                {
                  "0": "59e77db781",
                  "1": "Watching Ellen Love her!! then doing the dishes  and tanning ...it`s gorgeous out!",
                  "2": ".it`s gorgeous out!",
                  "3": "positive",
                  "index": 296
                },
                {
                  "0": "e3731b6ce8",
                  "1": " what`s goin on hun?  I`m worried about you",
                  "2": "m worried",
                  "3": "negative",
                  "index": 297
                },
                {
                  "0": "b09362ee8e",
                  "1": " Im not bannished... but I am at work till 6",
                  "2": "Im not bannished.",
                  "3": "negative",
                  "index": 298
                },
                {
                  "0": "c4f9792d55",
                  "1": " Morning! If I get to see it, I`ll let you know. Right now, I`m going to go see Wolverine.",
                  "2": "Morning! If I get to see it, I`ll let you know. Right now, I`m going to go see Wolverine.",
                  "3": "neutral",
                  "index": 299
                },
                {
                  "0": "20d4300a14",
                  "1": " red top tabloids, build em up, knock em down",
                  "2": "red top tabloids, build em up, knock em down",
                  "3": "neutral",
                  "index": 300
                },
                {
                  "0": "7b69f49c42",
                  "1": "tonight in party w/ my girls (minus vita)",
                  "2": "tonight in party w/ my girls (minus vita)",
                  "3": "positive",
                  "index": 301
                },
                {
                  "0": "519a5d3be7",
                  "1": "  why not now you made me sad I thought you`d be jumping for joy",
                  "2": "why not now you made me sad I thought you`d be jumping for joy",
                  "3": "neutral",
                  "index": 302
                },
                {
                  "0": "aa97eca66f",
                  "1": " Simple my a#@",
                  "2": "Simple my a#@",
                  "3": "neutral",
                  "index": 303
                },
                {
                  "0": "d3230b7cfd",
                  "1": "The pics I just uploaded are the baby pics of my cats. Missy is now an adult and a pretty little kitty, but Batty is in kitten heaven now",
                  "2": "The pics I just uploaded are the baby pics of my cats. Missy is now an adult and a pretty little kitty, but Batty is in kitten heaven now",
                  "3": "neutral",
                  "index": 304
                },
                {
                  "0": "294df18b9f",
                  "1": " I saw the play of it here, it was amazing",
                  "2": "amazing",
                  "3": "positive",
                  "index": 305
                },
                {
                  "0": "e5e2d9d1f3",
                  "1": " _ i am glad to break my twitter virginity with you two.",
                  "2": "glad",
                  "3": "positive",
                  "index": 306
                },
                {
                  "0": "b7a9ba95d0",
                  "1": "Dinner with the fam... I have missed them",
                  "2": "I have missed them",
                  "3": "negative",
                  "index": 307
                },
                {
                  "0": "6943d0f480",
                  "1": "_Live That`s what I want. More the better. Bound to be a few bad eggs though, but they will soon learn.",
                  "2": "_Live That`s what I want. More the better. Bound to be a few bad eggs though, but they will soon learn.",
                  "3": "neutral",
                  "index": 308
                },
                {
                  "0": "9e047ed52a",
                  "1": "Hell yeah Kellynn got a Twitter. Finally.",
                  "2": "Hell yeah Kellynn got a Twitter. Finally.",
                  "3": "neutral",
                  "index": 309
                },
                {
                  "0": "a54d3c2825",
                  "1": " I know   It was worth a shot, though!",
                  "2": "as wort",
                  "3": "positive",
                  "index": 310
                },
                {
                  "0": "5b578d0b4c",
                  "1": "Just opened a facebook account, I`m a little confused I don`t really get it. Twitter seems much better",
                  "2": "better",
                  "3": "positive",
                  "index": 311
                },
                {
                  "0": "c4ab28566e",
                  "1": "Ship. I`m stuck.",
                  "2": "Ship. I`m stuck.",
                  "3": "negative",
                  "index": 312
                },
                {
                  "0": "162a2510d2",
                  "1": "DUSTBIN BABY ON AT 11.30 Cannot wait  x",
                  "2": "Cannot wait",
                  "3": "positive",
                  "index": 313
                },
                {
                  "0": "c25871ec9e",
                  "1": " Not going to dwell on it. It happened, it`s passed. Just a shame as he was so supportive! Such is life!  x",
                  "2": "shame",
                  "3": "negative",
                  "index": 314
                },
                {
                  "0": "fdb77c3752",
                  "1": "NULL",
                  "2": "NULL",
                  "3": "neutral",
                  "index": 315
                },
                {
                  "0": "ddd4dd7be4",
                  "1": "It looks like the office TV DOES get MLB Network... and it looks like MLBN will NOT be televising the DET/BAL game today  #wieters",
                  "2": "It looks like the office TV DOES get MLB Network... and it looks like MLBN will NOT be televising the DET/BAL game today  #wieters",
                  "3": "neutral",
                  "index": 316
                },
                {
                  "0": "d2af698d65",
                  "1": "Home empty handed.  No comics found today.  I shall now indulge in my cupcakes from Magnolia Bakery.",
                  "2": "Home empty handed.  No comics found today.  I shall now indulge in my cupcakes from Magnolia Bakery",
                  "3": "neutral",
                  "index": 317
                },
                {
                  "0": "1594011c6d",
                  "1": "Laying in bed til workkk... Oh the life. Definitely pinched a nerve.",
                  "2": "Definitely pinched a nerve.",
                  "3": "negative",
                  "index": 318
                },
                {
                  "0": "bb61a7094b",
                  "1": "today is a busy day. exhausting!",
                  "2": "exhausting!",
                  "3": "negative",
                  "index": 319
                },
                {
                  "0": "454ea2153b",
                  "1": " I was going to go on Sunday, but now I`ve got too much going on that weekend",
                  "2": "I was going to go on Sunday, but now I`ve got too much going on that weekend",
                  "3": "neutral",
                  "index": 320
                },
                {
                  "0": "b5dd587dd2",
                  "1": " Sorry to hear ur flight got cancelled  that blows!!!",
                  "2": "Sorry",
                  "3": "negative",
                  "index": 321
                },
                {
                  "0": "e5160216a5",
                  "1": "ohh my tooth is hurts ohh  im sad it very hurts",
                  "2": "im sad it very hurts",
                  "3": "negative",
                  "index": 322
                },
                {
                  "0": "ea3320d696",
                  "1": "Before I get too distracted, I`d like to thank my new followers for taking the trouble to follow me! And to my others: feelin the love",
                  "2": "Before I get too distracted, I`d like to thank my new followers for taking the trouble to follow me! And to my others: feelin the love",
                  "3": "positive",
                  "index": 323
                },
                {
                  "0": "5680a0b488",
                  "1": " u think u have bills Ha!Ii just finished paying mine that`s y I`m broke",
                  "2": "I`m broke",
                  "3": "negative",
                  "index": 324
                },
                {
                  "0": "ed6c2e4824",
                  "1": " Not sure it didn`t say it was 2 big. I jst saw the pics of u on ur last bday. You looked so pretty!! I miss you!!",
                  "2": "Not sure it didn`t say it was 2 big. I jst saw the pics of u on ur last bday. You looked so pretty!! I miss you!!",
                  "3": "neutral",
                  "index": 325
                },
                {
                  "0": "a8f2acd515",
                  "1": "sore throat. Planning the TET outing to Marwell though...good times",
                  "2": "sore throat. Planning the TET outing to Marwell though...good times",
                  "3": "neutral",
                  "index": 326
                },
                {
                  "0": "e9f7f78cfa",
                  "1": "mcfly gig last nightt omg it was amazin didnt sit down through the whole thing  mcfly did you see me and ma best mate we were in tutus",
                  "2": "it was amazin",
                  "3": "positive",
                  "index": 327
                },
                {
                  "0": "4c71b5fb91",
                  "1": "2 days without sleep and now a migraine. I thought life postR01 was meant to be relaxing",
                  "2": "now a migraine.",
                  "3": "negative",
                  "index": 328
                },
                {
                  "0": "be8544ffb1",
                  "1": " There!",
                  "2": "There!",
                  "3": "neutral",
                  "index": 329
                },
                {
                  "0": "0404648e1c",
                  "1": "?sucks!?..",
                  "2": "?sucks!?..",
                  "3": "negative",
                  "index": 330
                },
                {
                  "0": "e136c0f2af",
                  "1": " whens the sway sway winner announced?",
                  "2": "whens the sway sway winner announced?",
                  "3": "neutral",
                  "index": 331
                },
                {
                  "0": "032e865dc7",
                  "1": " K will check it out...",
                  "2": "K will check it out...",
                  "3": "neutral",
                  "index": 332
                },
                {
                  "0": "d723ea3299",
                  "1": " doing pretty well, up and wide awake",
                  "2": "doing pretty well,",
                  "3": "positive",
                  "index": 333
                },
                {
                  "0": "3d208b8e59",
                  "1": "i want to wake up early, and get a coffee tomorrow (today) !  it`s going to be a busyy day! but have to keep writing.. booo whoo!",
                  "2": "i want to wake up early, and get a coffee tomorrow (today) !  it`s going to be a busyy day! but have to keep writing.. booo whoo!",
                  "3": "neutral",
                  "index": 334
                },
                {
                  "0": "f1f5e8edfa",
                  "1": "I Miss Daddy and Mommy",
                  "2": "I Miss Daddy and Mommy",
                  "3": "negative",
                  "index": 335
                },
                {
                  "0": "51f4502988",
                  "1": "My dog is officially depressed that my brother`s dogs are gone. He doesn`t want to go outside and when we did, he play half-heartedly.",
                  "2": "officially depressed",
                  "3": "negative",
                  "index": 336
                },
                {
                  "0": "728c29215f",
                  "1": "I just realized that I can`t forward text msgs with my iPhone.",
                  "2": "I just realized that I can`t forward text msgs with my iPhone.",
                  "3": "neutral",
                  "index": 337
                },
                {
                  "0": "c9091836ce",
                  "1": "My frist post... Off to find a new car for my parents, exciting!",
                  "2": "exciting!",
                  "3": "positive",
                  "index": 338
                },
                {
                  "0": "9668542b2a",
                  "1": "Argh noo! Missed The Killers on Wossy!  That sucks! Missed out on Brandon. Total failure! Anyone know if it`s repeated? Must investigate!",
                  "2": "That sucks!",
                  "3": "negative",
                  "index": 339
                },
                {
                  "0": "cd5d081760",
                  "1": "seriously bored without anyone to talk to... but not tired enough for sleep",
                  "2": "bored",
                  "3": "negative",
                  "index": 340
                },
                {
                  "0": "061eb4c0de",
                  "1": " I am lost. Please help me find a good home.",
                  "2": "I am lost.",
                  "3": "negative",
                  "index": 341
                },
                {
                  "0": "c20cb786c4",
                  "1": "It`s a Peter & Gordon morning  -> And I, go to pieces and I wanna hide / Go to pieces and I almost die / Ever... ? http://blip.fm/~5yk38",
                  "2": "It`s a Peter & Gordon morning  -> And I, go to pieces and I wanna hide / Go to pieces and I almost die / Ever... ? http://blip.fm/~5yk38",
                  "3": "neutral",
                  "index": 342
                },
                {
                  "0": "7733e8541a",
                  "1": "Ok so I`ve now got a bit of a bad back after lifting all drum hardware into my car   downer.",
                  "2": "bad",
                  "3": "negative",
                  "index": 343
                },
                {
                  "0": "58eda20efc",
                  "1": " LMAO... Smh!  that one threw me off.",
                  "2": "LMAO... Smh!  that one threw me off",
                  "3": "neutral",
                  "index": 344
                },
                {
                  "0": "2f5c77dfb3",
                  "1": " oh nice going!",
                  "2": "oh nice going!",
                  "3": "positive",
                  "index": 345
                },
                {
                  "0": "4646623c1d",
                  "1": "Is getting ready for work... Working all weekend",
                  "2": "Is getting ready for work... Working all weekend",
                  "3": "neutral",
                  "index": 346
                },
                {
                  "0": "a97db072ed",
                  "1": "Gonna celebrate Mothers Day with the family but gonna start the partying tonite",
                  "2": "partying",
                  "3": "positive",
                  "index": 347
                },
                {
                  "0": "f3117413cc",
                  "1": " i agree with you!",
                  "2": "i agree with you!",
                  "3": "positive",
                  "index": 348
                },
                {
                  "0": "59cb0c3a14",
                  "1": " I only do computers. Am hopeless at everything else",
                  "2": "Am hopeless at everything else",
                  "3": "negative",
                  "index": 349
                },
                {
                  "0": "322b61740c",
                  "1": "90 degrees, gross skies, and thunderstorms...perfect match for my mood  lol",
                  "2": "perfect ma",
                  "3": "positive",
                  "index": 350
                },
                {
                  "0": "7179c215a7",
                  "1": "_2nd aww thanks!",
                  "2": "thanks!",
                  "3": "positive",
                  "index": 351
                },
                {
                  "0": "1f581d48bc",
                  "1": " Sorry RB is on PS3 for me",
                  "2": "Sorry",
                  "3": "negative",
                  "index": 352
                },
                {
                  "0": "c42982a22d",
                  "1": "I saw amazing heeels. But they were too big",
                  "2": "I saw amazing heeels. But they were too big",
                  "3": "neutral",
                  "index": 353
                },
                {
                  "0": "9191e574bb",
                  "1": "I just stuck my finger down my throat and there are a bunch of bumps on my tongue & throat.",
                  "2": "stuck",
                  "3": "negative",
                  "index": 354
                },
                {
                  "0": "f4e428e4b3",
                  "1": "dang last url went down  ? http://blip.fm/~7aigm",
                  "2": "dang",
                  "3": "negative",
                  "index": 355
                },
                {
                  "0": "1ee0b44db0",
                  "1": " ohoh i missed all ur tweets  im gonna have to stay awake all night to see the announcement now, **** time difference",
                  "2": "i missed all ur tweets",
                  "3": "negative",
                  "index": 356
                },
                {
                  "0": "4095d52d2d",
                  "1": " Damnit all. That sucks.  You were one of the ones I thought I`d drag back lol",
                  "2": "Damnit all. That sucks.",
                  "3": "negative",
                  "index": 357
                },
                {
                  "0": "4491189459",
                  "1": " my boss. She`s moving to NYC",
                  "2": "my boss. She`s moving to NYC",
                  "3": "neutral",
                  "index": 358
                },
                {
                  "0": "e8be898842",
                  "1": "this is sooo crazy i have fever..",
                  "2": "this is sooo crazy",
                  "3": "negative",
                  "index": 359
                },
                {
                  "0": "9b388b2cd9",
                  "1": "is spending her Saturday morning taking notes for a research essay because some stupid **** recalled the book I`m using. Not fair",
                  "2": "some stupid ****",
                  "3": "negative",
                  "index": 360
                },
                {
                  "0": "3d1238a2f0",
                  "1": "I think i need some new friends",
                  "2": "I think i need some new friends",
                  "3": "neutral",
                  "index": 361
                },
                {
                  "0": "98ff5a440e",
                  "1": " Looking forward to your gig in Ireland!!!  See ya there!",
                  "2": "Looking forward to your gig in Ireland!!!  See ya there!",
                  "3": "neutral",
                  "index": 362
                },
                {
                  "0": "b94aaf845e",
                  "1": "Please Review Sunehre Ad Placement  http://tinyurl.com/oow6mk",
                  "2": "Please Re",
                  "3": "positive",
                  "index": 363
                },
                {
                  "0": "95d0ad2e17",
                  "1": "aww  you loooove me",
                  "2": "aww  you loooove me",
                  "3": "positive",
                  "index": 364
                },
                {
                  "0": "b8e58e1a21",
                  "1": "is hungry, twitter.  i want food. </3",
                  "2": "is hungry, twitter.  i want food.",
                  "3": "neutral",
                  "index": 365
                },
                {
                  "0": "39923bb286",
                  "1": "awesome lucky you",
                  "2": "awesome lucky you",
                  "3": "positive",
                  "index": 366
                },
                {
                  "0": "b751f39570",
                  "1": " yea, i should know.. but tell me EVERYTHING!  ps: send me direct messages telling..   haha",
                  "2": "yea, i should know.. but tell me EVERYTHING!  ps: send me direct messages telling..   ha",
                  "3": "neutral",
                  "index": 367
                },
                {
                  "0": "c1b915d1d5",
                  "1": " haha im jewish, i love that one",
                  "2": "love",
                  "3": "positive",
                  "index": 368
                },
                {
                  "0": "f38f53fbde",
                  "1": "had a great time out in the beer garden wit the boyos !! I think the sun got to me a bit though, feel a bit ill !!",
                  "2": "had a great time out in the beer garden wit the boyos !! I think the sun got to me a bit though, feel a bit ill !!",
                  "3": "neutral",
                  "index": 369
                },
                {
                  "0": "c2a17084e9",
                  "1": " l`m on 3 days too matt. No fun this weekend.",
                  "2": "No fun",
                  "3": "negative",
                  "index": 370
                },
                {
                  "0": "3848e03ac5",
                  "1": " u really don`t think so?  maybe ur right....lol. btw what phone u using? think u told me b4...i might have an app for u",
                  "2": "u really don`t think so?  maybe ur right....lol. btw what phone u using? think u told me b4...i might have an app for",
                  "3": "neutral",
                  "index": 371
                },
                {
                  "0": "356ad29589",
                  "1": " I feel your pain. Mine is the same way",
                  "2": "I feel your pain.",
                  "3": "negative",
                  "index": 372
                },
                {
                  "0": "3696d1db81",
                  "1": "comes home in two days",
                  "2": "comes home in two days",
                  "3": "neutral",
                  "index": 373
                },
                {
                  "0": "81e6c0ac2d",
                  "1": " Sadly no. It didn`t come with one...",
                  "2": "Sadly",
                  "3": "negative",
                  "index": 374
                },
                {
                  "0": "12cfc10225",
                  "1": "Cant wait to see my boy tomorrow",
                  "2": "Cant wait",
                  "3": "positive",
                  "index": 375
                },
                {
                  "0": "9f51c335d0",
                  "1": " ehhh no. just a check up. I have a dentist app next week though. getting my molar pulled/root canal.",
                  "2": "ehhh no. just a check up. I have a dentist app next week though. getting my molar pulled/root canal.",
                  "3": "neutral",
                  "index": 376
                },
                {
                  "0": "81e29d1a0b",
                  "1": " aww I miss driving down elmwood",
                  "2": "aww I miss driving",
                  "3": "negative",
                  "index": 377
                },
                {
                  "0": "3773846bc3",
                  "1": "Omg Wango Tango was **** AWSOME! I love my baby for taking me",
                  "2": "Omg Wango Tango was **** AWSOME! I love my baby for taking me",
                  "3": "positive",
                  "index": 378
                },
                {
                  "0": "6f3818a39e",
                  "1": "Version 2 of our live, interactive Trans-Siberian ticket planner is launched: http://tinyurl.com/c5ljwm - its very cool",
                  "2": "its very cool",
                  "3": "positive",
                  "index": 379
                },
                {
                  "0": "2e6ee964a4",
                  "1": "_30439 I really wish I could go!",
                  "2": "wish",
                  "3": "positive",
                  "index": 380
                },
                {
                  "0": "759b899f29",
                  "1": " yeah real hard, but I know you`ll get by with it... smile",
                  "2": "yeah real hard, but I know you`ll get by with it... smile",
                  "3": "neutral",
                  "index": 381
                },
                {
                  "0": "12da1098a2",
                  "1": " I`m 25 in december that`s not good at all next big birthday is 30  after 21 it flys by for sure",
                  "2": "that`s not good",
                  "3": "negative",
                  "index": 382
                },
                {
                  "0": "38e44e0f32",
                  "1": "  This has made my night!!  Way too funny!!",
                  "2": "This has made my night!!  Way too funny!",
                  "3": "positive",
                  "index": 383
                },
                {
                  "0": "b534d768ca",
                  "1": "Woo CAVS.  Happy Mother`s Day!",
                  "2": "Happy",
                  "3": "positive",
                  "index": 384
                },
                {
                  "0": "c422db675c",
                  "1": " I make that same face when I get home and your mom is watching soaps.",
                  "2": "I make that same face when I get home and your mom is watching soaps.",
                  "3": "neutral",
                  "index": 385
                },
                {
                  "0": "a34bf825fc",
                  "1": "I have to go to work now.",
                  "2": "I have to go to work now.",
                  "3": "neutral",
                  "index": 386
                },
                {
                  "0": "dbc45af041",
                  "1": " I can`t believe you went and got boba without me.",
                  "2": "I can`t believe you went and got boba without me.",
                  "3": "neutral",
                  "index": 387
                },
                {
                  "0": "018c0cf1f9",
                  "1": "  And to you too, how are you today?",
                  "2": "And to you too, how are you today?",
                  "3": "neutral",
                  "index": 388
                },
                {
                  "0": "7e820f005a",
                  "1": " Thanks for the warm welcome! We didn`t make plans   because our arrival time was so up in the air.",
                  "2": "Thanks",
                  "3": "positive",
                  "index": 389
                },
                {
                  "0": "e839d6a472",
                  "1": "19 days and counting",
                  "2": "19 days and counting",
                  "3": "neutral",
                  "index": 390
                },
                {
                  "0": "a210eda5c9",
                  "1": " sorry  friends - I`m swamped with deadlines right now and we have family visiting to boot! No charades for me.",
                  "2": "sorry  friends",
                  "3": "negative",
                  "index": 391
                },
                {
                  "0": "47990d2312",
                  "1": "BRAINFREEZE",
                  "2": "BRAINFREEZE",
                  "3": "neutral",
                  "index": 392
                },
                {
                  "0": "340600d483",
                  "1": "Just discovered a shortcoming of Gravity. When you use Twitpic (integrated) it doesn`t subtract the pic URL from the 140 character limit",
                  "2": "Just discovered a shortcoming of Gravity. When you use Twitpic (integrated) it doesn`t subtract the pic URL from the 140 character limit",
                  "3": "neutral",
                  "index": 393
                },
                {
                  "0": "5fcf7bd80c",
                  "1": "My sunburn is peeling,",
                  "2": "My sunburn is peeling,",
                  "3": "negative",
                  "index": 394
                },
                {
                  "0": "9e964bdfda",
                  "1": "perky purple nail polish isn`t as perky when its chipped",
                  "2": "perky purple nail polish isn`t as perky when its chipped",
                  "3": "neutral",
                  "index": 395
                },
                {
                  "0": "3d635198c2",
                  "1": "http://twitpic.com/4sx96 - before they put a CAMERA in the smokers pit.  i can no longer vandalize that door, without being caught.",
                  "2": "http://twitpic.com/4sx96 - before they put a CAMERA in the smokers pit.  i can no longer vandalize that door, without being caught.",
                  "3": "neutral",
                  "index": 396
                },
                {
                  "0": "bba9d463f4",
                  "1": "Laying ALONE!! Since Mook`s soo comfy in his f`n play pen. I thought it was ill at first now I don`t have no one to cuddle with...",
                  "2": "I don`t have no one to cuddle with..",
                  "3": "negative",
                  "index": 397
                },
                {
                  "0": "54a62c239a",
                  "1": "I hate the dentist",
                  "2": "hate",
                  "3": "negative",
                  "index": 398
                },
                {
                  "0": "ebc8565a98",
                  "1": " nothing aimed at you, just joining in...sorry",
                  "2": ".sorry",
                  "3": "negative",
                  "index": 399
                },
                {
                  "0": "cf888f0df3",
                  "1": "I`m taking a twitter break. Cell is dying",
                  "2": "dying",
                  "3": "negative",
                  "index": 400
                },
                {
                  "0": "0456aab9bb",
                  "1": " qood morninq",
                  "2": "qood morninq",
                  "3": "neutral",
                  "index": 401
                },
                {
                  "0": "85b2dbf969",
                  "1": "writing my english original writing storyyyyy. and listening to `a little respect` by erasure  aaaaaah.",
                  "2": "writing my english original writing storyyyyy. and listening to `a little respect` by erasure  aaaaaah.",
                  "3": "neutral",
                  "index": 402
                },
                {
                  "0": "30dd327860",
                  "1": "needs more followers",
                  "2": "needs more followers",
                  "3": "neutral",
                  "index": 403
                },
                {
                  "0": "4c8d61cfd0",
                  "1": "I wish I could get my nails done  stupid job",
                  "2": "stupid job",
                  "3": "negative",
                  "index": 404
                },
                {
                  "0": "ef200df027",
                  "1": "The little wormy from labyrinth sadly passed away today but its ok as hes still around in a happy ghost form aww  http://twitpic.com/67aim",
                  "2": "The little wormy from labyrinth sadly passed away today but its ok as hes still around in a happy ghost form",
                  "3": "neutral",
                  "index": 405
                },
                {
                  "0": "bd0fa6cebd",
                  "1": " the 'no pants' idea could be the new attempt world-wide to attract business back to the airlines.",
                  "2": "the 'no pants' idea could be the new attempt world-wide to attract business back to the airlines.",
                  "3": "neutral",
                  "index": 406
                },
                {
                  "0": "2c80b2043e",
                  "1": " Have a good one",
                  "2": "Have a good on",
                  "3": "positive",
                  "index": 407
                },
                {
                  "0": "1ecbc820d1",
                  "1": " yep infact she is popular, miss india 99, talented film actress .... and lot more",
                  "2": "she is popular,",
                  "3": "positive",
                  "index": 408
                },
                {
                  "0": "02e569bee0",
                  "1": "Dosen`t Want To Go To Work Tomorrow",
                  "2": "Dosen`t Want To",
                  "3": "negative",
                  "index": 409
                },
                {
                  "0": "f6f3b8b7a4",
                  "1": "Daniel has won DSDS. His voice is great.",
                  "2": "His voice is great.",
                  "3": "positive",
                  "index": 410
                },
                {
                  "0": "41f4eb92b9",
                  "1": "[-O] i wish the birthday massacre would come to australia  i think they said they`re thinking about it tho.. http://tinyurl.com/p6lfch",
                  "2": "i wish the birthday massacre would come to australia  i think they said they`re thinking about it tho.",
                  "3": "neutral",
                  "index": 411
                },
                {
                  "0": "7a341d71fe",
                  "1": "was hoping to go to Red Lobster this weekend",
                  "2": "was hoping to go to Red Lobster this weekend",
                  "3": "neutral",
                  "index": 412
                },
                {
                  "0": "0ddd346323",
                  "1": "_x_ATL u mean jack barakat`s?! wow so have u ever gone to his house? Hehe i mean ur ssoo lucky to have the address!",
                  "2": "lucky",
                  "3": "positive",
                  "index": 413
                },
                {
                  "0": "38a6cb940a",
                  "1": "I sure do hope it becomes 4:20 this afternoon ...",
                  "2": "I sure do hope",
                  "3": "positive",
                  "index": 414
                },
                {
                  "0": "a0f446e1bf",
                  "1": " it means that you are now FAMOUS. Congrats!",
                  "2": "Congrats!",
                  "3": "positive",
                  "index": 415
                },
                {
                  "0": "db0db7f325",
                  "1": "My phone passed away yesterday.. He jumped off the table  Searching for a new phone...",
                  "2": "passed away",
                  "3": "negative",
                  "index": 416
                },
                {
                  "0": "123fa2ef14",
                  "1": "I have such fantastic friends, including several ones met through here! thanks for being in my life - you are such amazing people!",
                  "2": "you are such amazing people!",
                  "3": "positive",
                  "index": 417
                },
                {
                  "0": "8ebbcfcfd1",
                  "1": "tamlyn wishes she was as cool as my sock draw",
                  "2": "cool",
                  "3": "positive",
                  "index": 418
                },
                {
                  "0": "47c5298bb9",
                  "1": " so no rice or crusty bread with the chili .... aawww",
                  "2": "so no rice or crusty bread with the chili .... aawww",
                  "3": "neutral",
                  "index": 419
                },
                {
                  "0": "38c25280f1",
                  "1": "  We are of like minds this evening , my dear!",
                  "2": "We are of like minds this evening , my dear!",
                  "3": "neutral",
                  "index": 420
                },
                {
                  "0": "f83634c7f2",
                  "1": "come and save me from my packing please?!",
                  "2": "come and save me from my packing please?!",
                  "3": "neutral",
                  "index": 421
                },
                {
                  "0": "301f7824f5",
                  "1": "Yes, I love tea. If that makes me typically English then so be it",
                  "2": "Yes, I love tea.",
                  "3": "positive",
                  "index": 422
                },
                {
                  "0": "715e081e22",
                  "1": " a mouth for sure",
                  "2": "a mouth for sure",
                  "3": "positive",
                  "index": 423
                },
                {
                  "0": "5459ddc56e",
                  "1": "_dec0de I finally just have 1 hour of history... at 3.00 pm! but I went to my highschool at 8.00 am to make some homework with a friend",
                  "2": "I finally just have 1 hour of history... at 3.00 pm! but I went to my highschool at 8.00 am to make some homework with a friend",
                  "3": "neutral",
                  "index": 424
                },
                {
                  "0": "e8f99c2de0",
                  "1": " pancakes!! with lemon and sugar thanks!",
                  "2": "thanks!",
                  "3": "positive",
                  "index": 425
                },
                {
                  "0": "b53d8f2b09",
                  "1": " Si, no bueno  I guess I just don`t entertain him :/",
                  "2": "s I just don`t entertain him :/",
                  "3": "negative",
                  "index": 426
                },
                {
                  "0": "71dddc0dff",
                  "1": "I`m so hunrgy right now and these heels kill me I can hardly walk in them",
                  "2": "kill me",
                  "3": "negative",
                  "index": 427
                },
                {
                  "0": "ca57a8830c",
                  "1": "both electronic keys stopped working. there is no keyhole! cant get in my car. so much for technology",
                  "2": "both electronic keys stopped working. there is no keyhole!",
                  "3": "negative",
                  "index": 428
                },
                {
                  "0": "0f0a1d8c75",
                  "1": " Yay, three followers! Good to know more than one person in this big wide world likes fishies.",
                  "2": "Good",
                  "3": "positive",
                  "index": 429
                },
                {
                  "0": "187745f502",
                  "1": "'my name is Tony!!!!!! ...not hey!!!!' -  poor tony",
                  "2": "poor tony",
                  "3": "negative",
                  "index": 430
                },
                {
                  "0": "a78ef3e0d0",
                  "1": "Goodmorning",
                  "2": "Goodmorning",
                  "3": "positive",
                  "index": 431
                },
                {
                  "0": "5010f92b03",
                  "1": "Took a shift tomorrow.    I don`t really feel like working right now.",
                  "2": "I don`t really feel like",
                  "3": "negative",
                  "index": 432
                },
                {
                  "0": "1a88179ebb",
                  "1": " I love mine, too . happy motherï¿½s day to your mom , John Taylor  . much love to you, too .",
                  "2": "I love mine, too . happy motherï¿½s day to your mom , John Taylor  . much love to you, too",
                  "3": "positive",
                  "index": 433
                },
                {
                  "0": "625feab260",
                  "1": "Saw a black snake in the garden.  Went back for a picture and it was gone",
                  "2": "Saw a black snake in the garden.  Went back for a picture and it was gone",
                  "3": "neutral",
                  "index": 434
                },
                {
                  "0": "45b0430eb9",
                  "1": "http://twitpic.com/4wukt - We bought Ludi her own rug. Dogs are the best",
                  "2": "best",
                  "3": "positive",
                  "index": 435
                },
                {
                  "0": "86462cc997",
                  "1": "No waterfront anymore   faccia luna and clarendon will have to do",
                  "2": "No waterfront anymore",
                  "3": "negative",
                  "index": 436
                },
                {
                  "0": "b499204c32",
                  "1": "loves her mum very much! Happy Mothers Day to all the wonderful mothers out there",
                  "2": "loves her mum very much! Happy Mothers Day to all the wonderful mothers out there",
                  "3": "positive",
                  "index": 437
                },
                {
                  "0": "60d0bb5840",
                  "1": "Slipped up and caught the flu  feeling like poop!",
                  "2": "feeling like poop!",
                  "3": "negative",
                  "index": 438
                },
                {
                  "0": "a52203dd88",
                  "1": "i have an urge to play wow but i have to wait 2 weeks til im at my dads! 5+47DAYS TIL MCFLY, im so excited  (L)",
                  "2": "excited",
                  "3": "positive",
                  "index": 439
                },
                {
                  "0": "e8770f1c78",
                  "1": "Ok ... the passengers ... no one is alive ... they`re all dead ... you just don`t know it til the end ... then you cry ...",
                  "2": "then you cry ...",
                  "3": "negative",
                  "index": 440
                },
                {
                  "0": "4016e4cf72",
                  "1": "Discovered  and  are sharing on G reader with me and didn`t even know it. Sigh.... I`m such a G reader newb.",
                  "2": "Discovered  and  are sharing on G reader with me and didn`t even know it. Sigh.... I`m such a G reader newb.",
                  "3": "neutral",
                  "index": 441
                },
                {
                  "0": "4dc7327dd8",
                  "1": "is chilled out tonite, so cannot spew venom or write funny. Seems like these are the only 2 styles she has",
                  "2": "is chilled out tonite, so cannot spew venom or write funny. Seems like these are the only 2 styles she has",
                  "3": "neutral",
                  "index": 442
                },
                {
                  "0": "f5c5fbc40b",
                  "1": " If u do, please pray 4 me.  Lord knows I need it.",
                  "2": "If u do, please pray 4 me.  Lord knows I need it.",
                  "3": "neutral",
                  "index": 443
                },
                {
                  "0": "124e448e00",
                  "1": "aaaaaw i want to live in the USA",
                  "2": "aaaaaw i want to live in the USA",
                  "3": "neutral",
                  "index": 444
                },
                {
                  "0": "641db1b766",
                  "1": "Morning tweeple",
                  "2": "Morning tweeple",
                  "3": "positive",
                  "index": 445
                },
                {
                  "0": "7286b251ca",
                  "1": " Hey, I didn`t get any !!!",
                  "2": "Hey, I didn`t get any !!!",
                  "3": "neutral",
                  "index": 446
                },
                {
                  "0": "4a704b77f2",
                  "1": " Now you only have 2 hours to sleep...  - Rest if you need it.",
                  "2": "- Rest if you need it.",
                  "3": "positive",
                  "index": 447
                },
                {
                  "0": "d046aa63bc",
                  "1": "  That makes my day so much better, it`s been a rough one. Did I mention I love the new photo!",
                  "2": "That makes my day so much better, it`s been a rough one. Did I mention I love the new photo!",
                  "3": "neutral",
                  "index": 448
                },
                {
                  "0": "8a4740ee53",
                  "1": "I don`t want to sit at home on prom night. Someone hang out with me",
                  "2": "I don`t want to sit at home",
                  "3": "negative",
                  "index": 449
                },
                {
                  "0": "d66f920dbd",
                  "1": "Is heading home from foot surgery and wishing she had a boyfriend to come over and cuddle with",
                  "2": "wishing",
                  "3": "positive",
                  "index": 450
                },
                {
                  "0": "64f91449b7",
                  "1": "concert tonight  chackin out and not coming tomorrow!",
                  "2": "concert tonight  chackin out and not coming tomorrow!",
                  "3": "neutral",
                  "index": 451
                },
                {
                  "0": "53dc5649da",
                  "1": " what happened? I thought you were coming back today....",
                  "2": "what happened? I thought you were coming back today....",
                  "3": "neutral",
                  "index": 452
                },
                {
                  "0": "f2f7763cfd",
                  "1": " lol dammit  well then next time then",
                  "2": "dammit",
                  "3": "negative",
                  "index": 453
                },
                {
                  "0": "2abfe0decb",
                  "1": " lol. just don`t ever forget me",
                  "2": "lol.",
                  "3": "positive",
                  "index": 454
                },
                {
                  "0": "7a7228dc2e",
                  "1": " Still jealous",
                  "2": "Still jealous",
                  "3": "negative",
                  "index": 455
                },
                {
                  "0": "754ebd84b4",
                  "1": "http://twitpic.com/67qv3 - Me at Forever 21  Ethan couldn`t be there",
                  "2": "Me at Forever 21  Ethan couldn`t be there",
                  "3": "negative",
                  "index": 456
                },
                {
                  "0": "fba4c01756",
                  "1": "NOW IM SAD BUT IM NOT GIVING IN FIRST..I DIDNT DO NOTHING!!!!    :**-(",
                  "2": "SAD",
                  "3": "negative",
                  "index": 457
                },
                {
                  "0": "0888304834",
                  "1": "this week of mine was not easy!  but finally it`s over! (:",
                  "2": "not easy!",
                  "3": "negative",
                  "index": 458
                },
                {
                  "0": "88d8e96213",
                  "1": "   Wow what a beautiful picture... and by the way....I am straight....just wanted to let you know!!!     Bella",
                  "2": "Wow what a beautiful pictur",
                  "3": "positive",
                  "index": 459
                },
                {
                  "0": "38b762e325",
                  "1": "In Arch. Drawing. Checking out MVCC`s CAD degree. Looks good to me",
                  "2": "Looks good",
                  "3": "positive",
                  "index": 460
                },
                {
                  "0": "94e82d1574",
                  "1": " 'there are people and then there are pencils' some are sharp, some are not and some can be sharpened  my pencil philosophy.....",
                  "2": "'there are people and then there are pencils' some are sharp, some are not and some can be sharpened  my pencil philosophy.....",
                  "3": "neutral",
                  "index": 461
                },
                {
                  "0": "c10f52f160",
                  "1": "just about to go home. I`m usually `mr. positive` but this has been one of those daze. well, 15 mins until tomorrow!",
                  "2": "just about to go home. I`m usually `mr. positive` but this has been one of those daze. well, 15 mins until tomorrow!",
                  "3": "neutral",
                  "index": 462
                },
                {
                  "0": "7e66ca1a42",
                  "1": " but you always have lee. Let`s go to Paris",
                  "2": "but you always have lee. Let`s go to Paris",
                  "3": "neutral",
                  "index": 463
                },
                {
                  "0": "697887b4a1",
                  "1": " you know you want to come keep me company whilst mum`s at her friends for the night  it`s such a nice evening!",
                  "2": "a nice",
                  "3": "positive",
                  "index": 464
                },
                {
                  "0": "1a1c392802",
                  "1": "cooking with my dad  having lots of fun in the kitchen together",
                  "2": "having lots of fun",
                  "3": "positive",
                  "index": 465
                },
                {
                  "0": "95b9338e05",
                  "1": "Bouncing Rush makes me feel nauseous",
                  "2": "Bouncing Rush makes me feel nauseous",
                  "3": "negative",
                  "index": 466
                },
                {
                  "0": "b0b24ed515",
                  "1": "Off to Woolsery this morning to (hopefully) see North Molton U16 clinch the North Devon League title. Lovely day for it",
                  "2": "Lovely day for it",
                  "3": "positive",
                  "index": 467
                },
                {
                  "0": "d31f708485",
                  "1": "playing singstar without my fave duetter",
                  "2": "playing singstar without my fave duetter",
                  "3": "negative",
                  "index": 468
                },
                {
                  "0": "200f31449b",
                  "1": "  you`re missing out, bb! i`m such a cereal nut, i think i like every kind available.",
                  "2": "i like",
                  "3": "positive",
                  "index": 469
                },
                {
                  "0": "3aae3dab5c",
                  "1": " That`s just weird... :\\  Oh, and what was it you were drawing for me?",
                  "2": "That`s just weird... :\\",
                  "3": "negative",
                  "index": 470
                },
                {
                  "0": "8415e9b138",
                  "1": "Just woke up :o mums singing to her new gn`r cd replacement i bought because im a good daughter",
                  "2": "im a good daughter",
                  "3": "positive",
                  "index": 471
                },
                {
                  "0": "7a4a97fba9",
                  "1": "The birds are out,, oh man... That`s NOT cool && I didn`t sleep yet for the night!!!",
                  "2": "That`s NOT cool",
                  "3": "negative",
                  "index": 472
                },
                {
                  "0": "e3a441b9eb",
                  "1": "250 miles down, only 1750 to go. Thats ok, u2 on the radio alwas helps.",
                  "2": "alwas helps.",
                  "3": "positive",
                  "index": 473
                },
                {
                  "0": "32ffcb07c4",
                  "1": "My Street Fighter IV skills are lacking, can`t beat Seth on easy.",
                  "2": "lacking,",
                  "3": "negative",
                  "index": 474
                },
                {
                  "0": "0ef15a1349",
                  "1": " FIL 461 with cool people like me",
                  "2": "cool",
                  "3": "positive",
                  "index": 475
                },
                {
                  "0": "2a98bd4240",
                  "1": "Good Morning!!! Work and then it`s ESPN`s Sunday night Baseball. hopefully it won`t get rained out",
                  "2": "Good",
                  "3": "positive",
                  "index": 476
                },
                {
                  "0": "13dcb0f346",
                  "1": " i think it`s under a honeymoon by the good life -- either that or it`s under a honey moon by joseph arthur.",
                  "2": "i think it`s under a honeymoon by the good life -- either that or it`s under a honey moon by joseph arthur.",
                  "3": "neutral",
                  "index": 477
                },
                {
                  "0": "3c8e8d1940",
                  "1": "my son got stung by a bug for the first time  his little finger is slightly swollen.",
                  "2": "swollen.",
                  "3": "negative",
                  "index": 478
                },
                {
                  "0": "a33b610db4",
                  "1": " it was hours ago i came in.... and it`s only now i realised when i went to buy something online",
                  "2": "it was hours ago i came in.... and it`s only now i realised when i went to buy something online",
                  "3": "neutral",
                  "index": 479
                },
                {
                  "0": "1f42d08f3e",
                  "1": " oh just referring to our lil exchange on LJ with regards to twitter archive postings.",
                  "2": "oh just referring to our lil exchange on LJ with regards to twitter archive postings.",
                  "3": "neutral",
                  "index": 480
                },
                {
                  "0": "02e6423e39",
                  "1": "Bumping dj opus in the drunk in the car.  lmao. Don`t act like u don`t know.",
                  "2": "Don`t act like u don`t know.",
                  "3": "negative",
                  "index": 481
                },
                {
                  "0": "9c2b1313af",
                  "1": "Why kiss the feet of the people who kick you when you can be anything that you want to?  morning everyone! Hope you have the best day ever",
                  "2": "best",
                  "3": "positive",
                  "index": 482
                },
                {
                  "0": "51c2d21362",
                  "1": "Here`s a brief preview: http://bit.ly/eHCfP   OMG James is creepy in that role! I`m scared of him",
                  "2": "! I`m scared of him",
                  "3": "negative",
                  "index": 483
                },
                {
                  "0": "16370c0a2e",
                  "1": "I`m missing crab legs and attending my going away instead!",
                  "2": "missing",
                  "3": "negative",
                  "index": 484
                },
                {
                  "0": "edeeaa9756",
                  "1": "Hicks are mean!",
                  "2": "mean!",
                  "3": "negative",
                  "index": 485
                },
                {
                  "0": "feec8aa27b",
                  "1": "gettn ready to take a trip to Jersey my dad`s not doing so good, he needs a new heart~whoeva see`s this please say a prayer for my dad",
                  "2": "not doing so good,",
                  "3": "negative",
                  "index": 486
                },
                {
                  "0": "8542ba9b94",
                  "1": "back soon, need to run to the shops and cut the grass",
                  "2": "back soon, need to run to the shops and cut the grass",
                  "3": "neutral",
                  "index": 487
                },
                {
                  "0": "6912e77231",
                  "1": "I`m up. I have a plan to transform my bedroom today. Random.",
                  "2": "I`m up. I have a plan to transform my bedroom today. Random.",
                  "3": "neutral",
                  "index": 488
                },
                {
                  "0": "e6c988afb8",
                  "1": "Home until tomorrow. Did my running and spinning. Now time for chiropractor, laundry, shopping, and visiting family. Missing nathan",
                  "2": "Missing",
                  "3": "negative",
                  "index": 489
                },
                {
                  "0": "9652c18d7d",
                  "1": " thats another sponsor",
                  "2": "thats another sponsor",
                  "3": "neutral",
                  "index": 490
                },
                {
                  "0": "df9882c24d",
                  "1": " And most of us are going to be stuck in an office, some without windows",
                  "2": "stuck",
                  "3": "negative",
                  "index": 491
                },
                {
                  "0": "22a8a4639e",
                  "1": " No it`s not sad. Should make you proud",
                  "2": "sad.",
                  "3": "negative",
                  "index": 492
                },
                {
                  "0": "ee9df322d1",
                  "1": "   Sorry, we`ll try to keep it down.",
                  "2": "Sorr",
                  "3": "negative",
                  "index": 493
                },
                {
                  "0": "d9107173c4",
                  "1": "is home alone.. Doing hw",
                  "2": "is home alone.. Doing hw",
                  "3": "neutral",
                  "index": 494
                },
                {
                  "0": "7082999a93",
                  "1": "According to , a quarter of families under six live in poverty.",
                  "2": "live in poverty.",
                  "3": "negative",
                  "index": 495
                },
                {
                  "0": "cf29e364fe",
                  "1": "the plan to not spend money is not going well",
                  "2": "not going well",
                  "3": "negative",
                  "index": 496
                },
                {
                  "0": "ea567e664a",
                  "1": "uploading all my bamboozle pictures of facebook",
                  "2": "uploading all my bamboozle pictures of facebook",
                  "3": "neutral",
                  "index": 497
                },
                {
                  "0": "912bbdea65",
                  "1": " congratulations ! you guys finish a month early than we do. booo",
                  "2": "congratulations",
                  "3": "positive",
                  "index": 498
                },
                {
                  "0": "060d8bb5d5",
                  "1": " actually, I wish I was back in Tahoe.  I miss it there.",
                  "2": "I miss it there",
                  "3": "negative",
                  "index": 499
                },
                {
                  "0": "a07b1d9eea",
                  "1": "Woke Up,I Wanna Stay In My bed",
                  "2": "Woke Up,I Wanna Stay In My bed",
                  "3": "neutral",
                  "index": 500
                },
                {
                  "0": "18f60b8879",
                  "1": " but my bday is JUNE 19.. this is wack... and ihavent seen any promotions for my bday party  someone better finagle this asap!",
                  "2": "wack.",
                  "3": "negative",
                  "index": 501
                },
                {
                  "0": "6abd11b766",
                  "1": " It would be great if those VIPS were for some acts I`d enjoy seeing, but noooo.",
                  "2": "It would be great if those VIPS were for some acts I`d enjoy seeing, but noooo.",
                  "3": "neutral",
                  "index": 502
                },
                {
                  "0": "faaf5f743d",
                  "1": "_Marie Wish I could make it too!!! I hate my commute sometimes",
                  "2": "Wish I could make it too!!! I hate my commute sometimes",
                  "3": "neutral",
                  "index": 503
                },
                {
                  "0": "7311789bcc",
                  "1": "workin a long day today... hopefully i can make some good tips",
                  "2": "hopefully i can make some good tips",
                  "3": "positive",
                  "index": 504
                },
                {
                  "0": "726e099885",
                  "1": " but it all went too quick and there wasn`t a chance lol",
                  "2": "d there wasn`t a chance",
                  "3": "negative",
                  "index": 505
                },
                {
                  "0": "56d742e6bc",
                  "1": "Hates headaches! Maybe I`m not ready to rock",
                  "2": "Hates",
                  "3": "negative",
                  "index": 506
                },
                {
                  "0": "65ffd159b2",
                  "1": " Thanks for the support",
                  "2": "Thanks for the support",
                  "3": "positive",
                  "index": 507
                },
                {
                  "0": "0b64c5977e",
                  "1": "there`s really no android twitter app of Tweetie`s calibre",
                  "2": "there`s really no android twitter app of Tweetie`s calibre",
                  "3": "neutral",
                  "index": 508
                },
                {
                  "0": "151bba80ca",
                  "1": "had a good day driving up mountains, visiting katie, eating chips & fudge and stocking up on lovely smelling soaps",
                  "2": "lovely",
                  "3": "positive",
                  "index": 509
                },
                {
                  "0": "0ec5989a18",
                  "1": "Nyappy mother`s day to your mom`s.",
                  "2": "Nyappy mother`s day to your mom`s.",
                  "3": "positive",
                  "index": 510
                },
                {
                  "0": "2f3ff51870",
                  "1": "yeah.... and im gonna take ur picture off my ipod baby..",
                  "2": "yeah.... and im gonna take ur picture off my ipod baby..",
                  "3": "neutral",
                  "index": 511
                },
                {
                  "0": "c2fc42a9ff",
                  "1": " traumatizing moment of my childhood. my dogs massacred baby bunnies and my brother and i got out the bb gun...",
                  "2": "traumatizing",
                  "3": "negative",
                  "index": 512
                },
                {
                  "0": "09c0bef389",
                  "1": " lol same here....wish there was a way to microsize everything...lol",
                  "2": "lol same here....wish there was a way to microsize everything...lol",
                  "3": "neutral",
                  "index": 513
                },
                {
                  "0": "72cfb17265",
                  "1": " 'organization ...ITIL, forget about people (and so they fail)' preaching to the converted  IT is the people http://tr.im/kWUA",
                  "2": "fail)",
                  "3": "negative",
                  "index": 514
                },
                {
                  "0": "cbbe4f2dd4",
                  "1": "_Libertine um, glad you enjoyed it...",
                  "2": "glad",
                  "3": "positive",
                  "index": 515
                },
                {
                  "0": "9856eea986",
                  "1": "About to have dinner and then an evening of playing cards. Already packed and ready to head home tomorrow   Do we have to go home?",
                  "2": "About to have dinner and then an evening of playing cards. Already packed and ready to head home tomorrow   Do we have to go home?",
                  "3": "neutral",
                  "index": 516
                },
                {
                  "0": "4f6c17bae7",
                  "1": " im allergic to cats! my tonsils get swollen and they hurt  what do i dooo?!",
                  "2": "im allergic to cats! my tonsils get swollen and they hurt  what do i dooo?!",
                  "3": "negative",
                  "index": 517
                },
                {
                  "0": "fa1385e537",
                  "1": " He says he feels mama tucking him in at night  He`s lonely but getting by. Tomorrow will be tough!",
                  "2": ". Tomorrow will be tough!",
                  "3": "negative",
                  "index": 518
                },
                {
                  "0": "b41f647910",
                  "1": "I miss her alot and its only been one day",
                  "2": "miss",
                  "3": "negative",
                  "index": 519
                },
                {
                  "0": "74e92f4188",
                  "1": " sounds like you all had a great night . i`m glad it was successful",
                  "2": "i`m glad",
                  "3": "positive",
                  "index": 520
                },
                {
                  "0": "4e6eb888c1",
                  "1": " Thanks for sharing that",
                  "2": "Thanks",
                  "3": "positive",
                  "index": 521
                },
                {
                  "0": "315d2392c9",
                  "1": " you should say mlia instead of fml  i hope you find it soon",
                  "2": "i hope",
                  "3": "positive",
                  "index": 522
                },
                {
                  "0": "1baeebaf86",
                  "1": "Garden going well, almost all the corn and peas are up, no onions or beets up yet though.",
                  "2": "well,",
                  "3": "positive",
                  "index": 523
                },
                {
                  "0": "216e541532",
                  "1": " nah jkin he`s hot! so... bored now",
                  "2": "nah jkin he`s hot! so... bored now",
                  "3": "neutral",
                  "index": 524
                },
                {
                  "0": "f383ad9856",
                  "1": "Ahhh i`m sqeaky clean and fresh. Even though i`m wearing dirty clothes  I love Two and a Half Men - it`s amazing!",
                  "2": "Ahhh i`m sqeaky clean and fresh. Even though i`m wearing dirty clothes  I love Two and a Half Men - it`s amazing!",
                  "3": "positive",
                  "index": 525
                },
                {
                  "0": "2461db68e0",
                  "1": " yes i have read them many times.",
                  "2": "yes i have read them many times.",
                  "3": "neutral",
                  "index": 526
                },
                {
                  "0": "9ec17fe80c",
                  "1": " Cuz you play a grown up on Twitter?",
                  "2": "Cuz you play a grown up on Twitter?",
                  "3": "neutral",
                  "index": 527
                },
                {
                  "0": "034f2e2104",
                  "1": "i am living in ignorance  :@",
                  "2": "i am living in ignorance",
                  "3": "negative",
                  "index": 528
                },
                {
                  "0": "f09816a243",
                  "1": " nope... it is telling you that you want cameo creams",
                  "2": "nope... it is telling you that you want cameo creams",
                  "3": "neutral",
                  "index": 529
                },
                {
                  "0": "6a9023f1af",
                  "1": " AWWWW  we`re gonna miss you!",
                  "2": "AWWWW  we`re gonna miss you!",
                  "3": "negative",
                  "index": 530
                },
                {
                  "0": "afca91dc92",
                  "1": " WE Quite Like Worthing its a relaxing place with nice coffee shops and fresh air.. and not too many Oiks",
                  "2": "its a relaxing place",
                  "3": "positive",
                  "index": 531
                },
                {
                  "0": "cdcaac066e",
                  "1": "_terrible haha, that was new  the fact that he couldn`t do it should have cost his part. What kind of Spock is that!",
                  "2": "he couldn`t do it should have cost his part.",
                  "3": "neutral",
                  "index": 532
                },
                {
                  "0": "edde759bde",
                  "1": "today was a lovely day! I had fun with  and  this evening!",
                  "2": "lovely",
                  "3": "positive",
                  "index": 533
                },
                {
                  "0": "781d900e89",
                  "1": " Beto`s Pizzeria is on Banksville Rd in I believe the Beachview area... Sorry to answer like 100 years later",
                  "2": ". Sorry",
                  "3": "negative",
                  "index": 534
                },
                {
                  "0": "8aacb54f42",
                  "1": "sigh, my sisters bein strange.. she came all the way from copenhagen to london, and now her phones turned off.. i wanna see her dammit",
                  "2": "dammit",
                  "3": "negative",
                  "index": 535
                },
                {
                  "0": "6172153918",
                  "1": " it was amazing",
                  "2": "it was amazing",
                  "3": "positive",
                  "index": 536
                },
                {
                  "0": "486806238c",
                  "1": "@ Barbs trying to figure out y the dsl aint connecting. I need my google. Going home to my computer if it don`t start working soon. SMH",
                  "2": "@ Barbs trying to figure out y the dsl aint connecting. I need my google. Going home to my computer if it don`t start working soon. SMH",
                  "3": "neutral",
                  "index": 537
                },
                {
                  "0": "8e26c8c6e8",
                  "1": "I`m sick and sad .... missing out on Martini Lounge tonight",
                  "2": "sick and sad ..",
                  "3": "negative",
                  "index": 538
                },
                {
                  "0": "0be8e9f2fd",
                  "1": "Seems really quiet tonight...am jealous of those who are clearly having a more exciting life than me   Off to bed I think...",
                  "2": "Seems really quiet tonight...am jealous of those who are clearly having a more exciting life than me   Off to bed I think...",
                  "3": "neutral",
                  "index": 539
                },
                {
                  "0": "8df4e78879",
                  "1": "Really wishes he had some spare cash to buy the new Punch Out for Wii",
                  "2": "Really wishes he had some spare cash to buy the new Punch Out for Wii",
                  "3": "negative",
                  "index": 540
                },
                {
                  "0": "9843ecd416",
                  "1": "Aw, not going to Toronto anymore.",
                  "2": "not going",
                  "3": "negative",
                  "index": 541
                },
                {
                  "0": "33596d8109",
                  "1": " So sorry to hear about your mom! that really sucks",
                  "2": "So sorry",
                  "3": "negative",
                  "index": 542
                },
                {
                  "0": "cf0e868f70",
                  "1": " I feel for you  I hope it`s a smooth flight. Be safe! Mucho amor from Boston!",
                  "2": "I feel for you  I hope it`s a smooth flight. Be safe",
                  "3": "positive",
                  "index": 543
                },
                {
                  "0": "82215b50d4",
                  "1": "Can`t sleep...so I`m watching HGTV. I`m afraid infomercials are about to take over",
                  "2": "Can`t sleep..",
                  "3": "negative",
                  "index": 544
                },
                {
                  "0": "150ebb41ba",
                  "1": "I`m getting me & my family ready for Kaylee`s graduation! It`s gonna make me so sad.",
                  "2": "sad.",
                  "3": "negative",
                  "index": 545
                },
                {
                  "0": "1689a46690",
                  "1": " sweet dreams",
                  "2": "sweet dreams",
                  "3": "positive",
                  "index": 546
                },
                {
                  "0": "0d709a4c51",
                  "1": " hay wats ur AIM? we should chat",
                  "2": "hay wats ur AIM? we should chat",
                  "3": "neutral",
                  "index": 547
                },
                {
                  "0": "17775140c5",
                  "1": ". Okay kool... I might be touring all summer long but we can make it happen!",
                  "2": ". Okay kool... I might be touring all summer long but we can make it happen!",
                  "3": "neutral",
                  "index": 548
                },
                {
                  "0": "3b0e6c2c55",
                  "1": "IN PAIN. my big toe got stomped on during the hokey cokeu. it`s throbbing. anyone have any suggestions to heal it?",
                  "2": "PAIN.",
                  "3": "negative",
                  "index": 549
                },
                {
                  "0": "9602407df9",
                  "1": "Time to watch OP, then some Dead Like Me, then sleep.",
                  "2": "Time to watch OP, then some Dead Like Me, then sleep.",
                  "3": "neutral",
                  "index": 550
                },
                {
                  "0": "a53c829bee",
                  "1": "Having dinner with my grandma since I couldn`t be with my mum.",
                  "2": "Having dinner with my grandma since I couldn`t be with my mum.",
                  "3": "neutral",
                  "index": 551
                },
                {
                  "0": "d681f0dfbc",
                  "1": " haha thanks  its for history and its on how the invention of television has influence america lol",
                  "2": "haha thanks  its for history and its on how the invention of television has influence america lol",
                  "3": "positive",
                  "index": 552
                },
                {
                  "0": "c81e21ffd8",
                  "1": " yea so wassup",
                  "2": "yea so wassup",
                  "3": "neutral",
                  "index": 553
                },
                {
                  "0": "2839a4d1d8",
                  "1": "Stupid jobs, idk what to do.",
                  "2": "Stupid",
                  "3": "negative",
                  "index": 554
                },
                {
                  "0": "5b747a13f6",
                  "1": "Shopped til i dropped....come bac sunshine i miss u",
                  "2": "Shopped til i dropped....come bac sunshine i miss u",
                  "3": "negative",
                  "index": 555
                },
                {
                  "0": "b1fd9116e3",
                  "1": " Like your pics, Lucky Girl, again",
                  "2": "Like",
                  "3": "positive",
                  "index": 556
                },
                {
                  "0": "c628741a80",
                  "1": " Thank you   I`ve had anxiety issues for years so I think if I can make it through the first couple of days then I will be fine.",
                  "2": "Thank you   I`ve had anxiety issues",
                  "3": "neutral",
                  "index": 557
                },
                {
                  "0": "d2c66b666d",
                  "1": "Around 3 hours left until a 3 day weekend and I have waaaay too much work to do.",
                  "2": "Around 3 hours left until a 3 day weekend and I have waaaay too much work to do.",
                  "3": "neutral",
                  "index": 558
                },
                {
                  "0": "954ab76021",
                  "1": "Feeling loved!  My Mom got me a Nikon Cool Pix for my birthday!!!!",
                  "2": "loved!",
                  "3": "positive",
                  "index": 559
                },
                {
                  "0": "996630f6a0",
                  "1": " there were attempts to somehow extend inner classes, which would be close to #closure, can`t find the ref ATM",
                  "2": "there were attempts to somehow extend inner classes, which would be close to #closure, can`t find the ref ATM",
                  "3": "neutral",
                  "index": 560
                },
                {
                  "0": "0b2c0c6522",
                  "1": " Yes! Join us! All we require is a cupcake donation...",
                  "2": "Yes! Join us! All we require is a cupcake donation...",
                  "3": "neutral",
                  "index": 561
                },
                {
                  "0": "5fbd854b80",
                  "1": "i have such a hard time talking to new people -  I am pretty sure I didn`t make a good impression.....",
                  "2": "hard",
                  "3": "negative",
                  "index": 562
                },
                {
                  "0": "443d30a0ba",
                  "1": "_rc234 haha  yup. but still have a terrible headache and super swollen and puffy eyes! i dont think im going out today.ugh!",
                  "2": "terrible headache and super swollen and puffy eyes! i dont think im going out today.ugh!",
                  "3": "negative",
                  "index": 563
                },
                {
                  "0": "17f4db5ddf",
                  "1": " Can`t access your site!",
                  "2": "Can`t access your site!",
                  "3": "neutral",
                  "index": 564
                },
                {
                  "0": "35e2ce08fc",
                  "1": "And the Sun is shinning.........at last",
                  "2": "Sun is shinning.........at last",
                  "3": "positive",
                  "index": 565
                },
                {
                  "0": "2b6017f8f5",
                  "1": "We are on the slowest train ever, it stops everywhere. Missed a quick train by a few minutes",
                  "2": "slowest train ever,",
                  "3": "negative",
                  "index": 566
                },
                {
                  "0": "fbba87adcf",
                  "1": " nup no cd either.. just a whole bunch of zeros and ones you can have for free",
                  "2": "nup no cd either.. just a whole bunch of zeros and ones you can have for free",
                  "3": "neutral",
                  "index": 567
                },
                {
                  "0": "5cc8486398",
                  "1": "My graduation day... And i feel like a failure...",
                  "2": "My graduation day... And i feel like a failure...",
                  "3": "neutral",
                  "index": 568
                },
                {
                  "0": "8f74422345",
                  "1": "ops   that lol wasnt supposed to got to twitter",
                  "2": "ops   that lol wasnt supposed to got to twitter",
                  "3": "neutral",
                  "index": 569
                },
                {
                  "0": "03f9f6f798",
                  "1": "I don`t think I`ve ever been so tierd in my life.Ugh,goodnight.So sleeping in tomorrow",
                  "2": "I don`t think I`ve ever been so tierd in my life.U",
                  "3": "negative",
                  "index": 570
                },
                {
                  "0": "df120c16ce",
                  "1": " What are u going to do today my girl?",
                  "2": "What are u going to do today my girl?",
                  "3": "neutral",
                  "index": 571
                },
                {
                  "0": "7f0cdc1ac1",
                  "1": "why doesnt he want me anymore",
                  "2": "why doesnt he want me anymore",
                  "3": "negative",
                  "index": 572
                },
                {
                  "0": "c8ac0b9545",
                  "1": "bad hair day",
                  "2": "bad hair day",
                  "3": "negative",
                  "index": 573
                },
                {
                  "0": "bc879a25b0",
                  "1": ".....headache",
                  "2": "headache",
                  "3": "negative",
                  "index": 574
                },
                {
                  "0": "c3bdaf65c9",
                  "1": "sorry guys i didn`t sign in for a while  sorry every1",
                  "2": "sorry",
                  "3": "negative",
                  "index": 575
                },
                {
                  "0": "fa82c3881c",
                  "1": " I am just `okay-okay` .. like the rest of the sane population in the world, I hate mondays",
                  "2": "I am just `okay-okay` .. like the rest of the sane population in the world, I hate mondays",
                  "3": "neutral",
                  "index": 576
                },
                {
                  "0": "6cb03d7c46",
                  "1": "mozart`s requiem!",
                  "2": "mozart`s requiem!",
                  "3": "neutral",
                  "index": 577
                },
                {
                  "0": "4344cafbdc",
                  "1": " i think i am a bit, in love with his creations and wit but not that physically attracted to him although he has great style",
                  "2": "i think i am a bit, in love with his creations and wit but not that physically attracted to him although he has great style",
                  "3": "neutral",
                  "index": 578
                },
                {
                  "0": "e573de5429",
                  "1": "_a_michael Hey! thanks for another great day! I`m going to sleep now! I`ll chat with you tomorrow!  Sweet dreams!",
                  "2": "thanks for another great day!",
                  "3": "positive",
                  "index": 579
                },
                {
                  "0": "4f9abe51eb",
                  "1": " I bet its cool down in SR, huh? It`s not here. I haven`t stopped sweating since noon when dad and I were packing",
                  "2": "huh?",
                  "3": "negative",
                  "index": 580
                },
                {
                  "0": "3ca79f00a1",
                  "1": " OHSHNAPSSS. is she pissed at blair as usual ? hahah. & yeeeah, i bake cookies",
                  "2": "OHSHNAPSSS. is she pissed at blair as usual ? hahah. & yeeeah, i bake cookies",
                  "3": "neutral",
                  "index": 581
                },
                {
                  "0": "1fce3e2d7b",
                  "1": " no bueno.  hollykins needs to feel better asap.  p.s. i miss you.  you done with uni soon aren`t you?  SOPROUDOFYOU.",
                  "2": "no bueno.  hollykins needs to feel better asap.  p.s. i miss you.  you done with uni soon aren`t you?  SOPROUDOFYO",
                  "3": "neutral",
                  "index": 582
                },
                {
                  "0": "21c1915272",
                  "1": " http://twitpic.com/4v0vr - cool! you and your mother have awesome hair styles,! Wish her a happy mother`s day!",
                  "2": "awesome",
                  "3": "positive",
                  "index": 583
                },
                {
                  "0": "efa98d8489",
                  "1": "happy mother`s day mothers.",
                  "2": "happy",
                  "3": "positive",
                  "index": 584
                },
                {
                  "0": "7c59eb38ea",
                  "1": "<---My expression watching this again: http://tinyurl.com/eqbwe",
                  "2": "<---My expression watching this again: http://tinyurl.com/eqbwe",
                  "3": "neutral",
                  "index": 585
                },
                {
                  "0": "e69a965399",
                  "1": "Stupid bipolar weather ruined my day off",
                  "2": "Stupid",
                  "3": "negative",
                  "index": 586
                },
                {
                  "0": "2f1cd44ea2",
                  "1": " I didn`t want to tell you but I think it`s your body odour",
                  "2": "I didn`t want to tell you but I think it`s your body odour",
                  "3": "negative",
                  "index": 587
                },
                {
                  "0": "0a91a64e53",
                  "1": " nice beta for easports still no news on the online for madden",
                  "2": "nice beta for easports still no news on the online for madden",
                  "3": "neutral",
                  "index": 588
                },
                {
                  "0": "a5fbb6fbe8",
                  "1": " thats pretty bad quality and probably the worst pic u posted till date",
                  "2": "bad",
                  "3": "negative",
                  "index": 589
                },
                {
                  "0": "a63858d0d8",
                  "1": "I missed your calls",
                  "2": "missed",
                  "3": "negative",
                  "index": 590
                },
                {
                  "0": "3e4b3ec6a6",
                  "1": " Unfortunately for us it looks like there are NO funny people on twitter  Should we move to FB or start our own...flitter",
                  "2": "Unfortunately",
                  "3": "negative",
                  "index": 591
                },
                {
                  "0": "be6c6fa1b5",
                  "1": "just came back from karaoke & eating dinner with emily. it was sooooo much fun",
                  "2": "fun",
                  "3": "positive",
                  "index": 592
                },
                {
                  "0": "271c145699",
                  "1": " Discrimination is not a bad thing. I`ve learned to say no. My children would say I mastered that years ago",
                  "2": "Discrimination is not a bad thing.",
                  "3": "positive",
                  "index": 593
                },
                {
                  "0": "4dd72d3713",
                  "1": " sure i can talk....the fabulous **** part though is out  sorry dear",
                  "2": "sure i can talk....the fabulous **** part though is out  sorry dear",
                  "3": "neutral",
                  "index": 594
                },
                {
                  "0": "63a116ae1b",
                  "1": " did you see the 15 sec clip of the New Moon trailer?? its up on ETonline.com ...check it out. its a big tease, though",
                  "2": "tease,",
                  "3": "negative",
                  "index": 595
                },
                {
                  "0": "167b97c32a",
                  "1": "Just got back from working out. I`m feeling pretty good. work at 4:30",
                  "2": "Just got back from working out. I`m feeling pretty good.",
                  "3": "positive",
                  "index": 596
                },
                {
                  "0": "9fd51c9c2c",
                  "1": "Ahhh My Satz blend didn`t save",
                  "2": "Ahhh My Satz blend didn`t save",
                  "3": "neutral",
                  "index": 597
                },
                {
                  "0": "d7a7afa0a2",
                  "1": " So!!! Why should that matter? I bet you would be GREAT at it! I do!!! It`s what you love, right? Why not go for it!",
                  "2": "So!!! Why should that matter? I bet you would be GREAT at it! I do!!! It`s what you love, right? Why not go for it!",
                  "3": "positive",
                  "index": 598
                },
                {
                  "0": "2331d16c42",
                  "1": "DH is just about finished making his giant Trio candy bar. Thank the heavens. His work mates are in for a treat tomorrow!",
                  "2": "Thank the heavens.",
                  "3": "positive",
                  "index": 599
                },
                {
                  "0": "f7aa8dcfb8",
                  "1": "My ear are popping.",
                  "2": "My ear are popping.",
                  "3": "neutral",
                  "index": 600
                },
                {
                  "0": "4efc7222ad",
                  "1": "working on diffusing that irritation but this traffic sure isn`t helping  mother F! it`s always real bad the days th@ i help plan stuff",
                  "2": "bad",
                  "3": "negative",
                  "index": 601
                },
                {
                  "0": "925e61d3d8",
                  "1": " I submitted my resume the same day and saw no answer back. Oh well...",
                  "2": "no answer back.",
                  "3": "negative",
                  "index": 602
                },
                {
                  "0": "07e2021536",
                  "1": "Catching up on 2 weeks of LOST and Grey`s!!    House is quiet again.",
                  "2": "Catching up on 2 weeks of LOST and Grey`s!!    House is quiet again.",
                  "3": "neutral",
                  "index": 603
                },
                {
                  "0": "ff0112e0e7",
                  "1": "I love when ryans a housewife. Makes me smile.",
                  "2": "me smile.",
                  "3": "positive",
                  "index": 604
                },
                {
                  "0": "15f47296e2",
                  "1": "Sooo.....I`m kinda o sick n tired of the bs that guys dish out  !!!!!!!!",
                  "2": "I`m kinda o sick n tired",
                  "3": "negative",
                  "index": 605
                },
                {
                  "0": "eba1f29fb0",
                  "1": " boo... i was hoping for a fake alien story with a tinfoil covered beachball photo",
                  "2": "boo.",
                  "3": "negative",
                  "index": 606
                },
                {
                  "0": "57dcad6611",
                  "1": " hey Phillll! Wazzuppppp?!",
                  "2": "hey Phillll! Wazzuppppp?!",
                  "3": "neutral",
                  "index": 607
                },
                {
                  "0": "4e85f6e9b0",
                  "1": "missed out on westcott micro apollo too",
                  "2": "missed out",
                  "3": "negative",
                  "index": 608
                },
                {
                  "0": "e5b5debcdc",
                  "1": " .. .great.. you can buy me lunch when i get my 10-15% pay cut next month..",
                  "2": ".great.",
                  "3": "positive",
                  "index": 609
                },
                {
                  "0": "2a2fd0848d",
                  "1": "finally gone to the beach, yeaaaah!",
                  "2": "finally gone to the beach, yeaaaah!",
                  "3": "positive",
                  "index": 610
                },
                {
                  "0": "98ef34a9f4",
                  "1": "_ranjan Did I ever mention what a nice and awesome dude you are?",
                  "2": "awesome",
                  "3": "positive",
                  "index": 611
                },
                {
                  "0": "e68a0375b2",
                  "1": "last weekday of doing nothing, school starts next week!!!",
                  "2": "last weekday of doing nothing, school starts next week!!!",
                  "3": "neutral",
                  "index": 612
                },
                {
                  "0": "be8ba96aca",
                  "1": " Hello Gorgeous GIRL! Nice new pic!  HOw are you today",
                  "2": "Gorgeous GIRL!",
                  "3": "positive",
                  "index": 613
                },
                {
                  "0": "e6eb0f8e54",
                  "1": "Ok that **** duet was hysterical LOL",
                  "2": "hysterical",
                  "3": "positive",
                  "index": 614
                },
                {
                  "0": "e364d5cdd1",
                  "1": "ok, i have to turn off all of my twitter device updates until i get a new battery. phone goes from fully charged to dead in about 5 hours",
                  "2": "ok, i have to turn off all of my twitter device updates until i get a new battery. phone goes from fully charged to dead in about 5 hours",
                  "3": "neutral",
                  "index": 615
                },
                {
                  "0": "a5d4af0d80",
                  "1": "michelle is a hot mama with chichis grande",
                  "2": "michelle is a hot mama with chichis grande",
                  "3": "neutral",
                  "index": 616
                },
                {
                  "0": "4ccb7ef67c",
                  "1": " either way, you always tend to make my #followfriday list, sweetie - you do rock that much",
                  "2": "you do rock that much",
                  "3": "positive",
                  "index": 617
                },
                {
                  "0": "a82816a060",
                  "1": " no one I know likes boiled peanuts t.",
                  "2": "no one I know likes boiled peanuts t.",
                  "3": "neutral",
                  "index": 618
                },
                {
                  "0": "331663d438",
                  "1": "watched 100th episode of numb3rs. loved how they did a throwback to the first episode, using the sprinkler theory",
                  "2": "loved",
                  "3": "positive",
                  "index": 619
                },
                {
                  "0": "ae8fd767fc",
                  "1": "I`m sleepy but is feeling under the weather! ugh! These **** tonsils. I need some company or somebody to talk too!",
                  "2": "ugh! These **** tonsils.",
                  "3": "negative",
                  "index": 620
                },
                {
                  "0": "61e04b8f6e",
                  "1": " Please get a cell phone with a better camera on it... your pictures are real bad quality compared to those that Miley took",
                  "2": "Please get a cell phone with a better camera on it... your pictures are real bad quality compared to those that Miley took",
                  "3": "neutral",
                  "index": 621
                },
                {
                  "0": "cc0bc2a05d",
                  "1": "_Ichigo She tried to carry on aswell, bless, I suppose maybe that`s why kids shouldn`t be in it?",
                  "2": "bless,",
                  "3": "positive",
                  "index": 622
                },
                {
                  "0": "e553176c2a",
                  "1": "booziest weekend in a long time, good fun though!",
                  "2": "good fun",
                  "3": "positive",
                  "index": 623
                },
                {
                  "0": "762b9211cf",
                  "1": "Counting the hours of lost sunshine until the Weekend",
                  "2": "lost",
                  "3": "negative",
                  "index": 624
                },
                {
                  "0": "241ece149d",
                  "1": "planning! and trying to call the doctor, though that isn`t going so well. So mostly, planning",
                  "2": "though that isn`t going so well.",
                  "3": "negative",
                  "index": 625
                },
                {
                  "0": "716301c33e",
                  "1": " Hoooray!  I`m hooked already",
                  "2": "Hoooray!  I`m hooked already",
                  "3": "neutral",
                  "index": 626
                },
                {
                  "0": "119bbd840c",
                  "1": " Ok then have a good day",
                  "2": "good",
                  "3": "positive",
                  "index": 627
                },
                {
                  "0": "6beb4754f0",
                  "1": " I agree. Everybody would`ve been excited and then it goes... ohhhh nooooo..... MS screws up again..",
                  "2": "I agree. Everybody would`ve been excited and then it goes... ohhhh nooooo..... MS screws up again..",
                  "3": "neutral",
                  "index": 628
                },
                {
                  "0": "b8fbbf1936",
                  "1": "Edge left me off the contributors list in this month`s issue.  x FFS. <- Werd",
                  "2": "Edge left me off the contributors list in this month`s issue.",
                  "3": "neutral",
                  "index": 629
                },
                {
                  "0": "7314b068f7",
                  "1": " ooo Growl and Yummy time coming soon for you too huh oh yeah, I have been hunting for a combo tshirt, think I can find one?  NO",
                  "2": "ooo Growl and Yummy time coming soon for you too huh oh yeah, I have been hunting for a combo tshirt, think I can find one?  NO",
                  "3": "neutral",
                  "index": 630
                },
                {
                  "0": "80a24991b3",
                  "1": "im back to this z-index problem...again",
                  "2": "im back to this z-index problem...again",
                  "3": "negative",
                  "index": 631
                },
                {
                  "0": "0549e452ec",
                  "1": "is anyone out there??  so bored at work...",
                  "2": "so bored at work...",
                  "3": "negative",
                  "index": 632
                },
                {
                  "0": "ebeea1f86c",
                  "1": "Am hating my life at the moment. There`s only so many NOs my delicate little mind can take",
                  "2": "hating",
                  "3": "negative",
                  "index": 633
                },
                {
                  "0": "d35ae0cfa5",
                  "1": "www.myspace.com/fashionisthenextcity  check out and started new tee`s  limited edition in different ways !! check facebook group too",
                  "2": "www.myspace.com/fashionisthenextcity  check out and started new tee`s  limited edition in different ways !! check facebook group too",
                  "3": "neutral",
                  "index": 634
                },
                {
                  "0": "4f09c42f8b",
                  "1": " 'They' being the husband or the girl?",
                  "2": "'They' being the husband or the girl?",
                  "3": "neutral",
                  "index": 635
                },
                {
                  "0": "a8f6fc8b5a",
                  "1": "Thinking of what I should do in Vegas??? Any good ideas or places that are a most see!??",
                  "2": "Thinking of what I should do in Vegas??? Any good ideas or places that are a most see!??",
                  "3": "neutral",
                  "index": 636
                },
                {
                  "0": "fcfa10681f",
                  "1": "first day of summer sucks!!!! its overcast and cold...  this isn`t summer!?!?!?!?",
                  "2": "sucks!!",
                  "3": "negative",
                  "index": 637
                },
                {
                  "0": "b04bbb81c9",
                  "1": "   Hi to one kiwi artist from another kiwi artist",
                  "2": "Hi to one kiwi artist from another kiwi artis",
                  "3": "neutral",
                  "index": 638
                },
                {
                  "0": "a88de8cc26",
                  "1": "says Happy Mother`s Day to all Moms out there  http://plurk.com/p/stkr2",
                  "2": "Happy Mother`s Day",
                  "3": "positive",
                  "index": 639
                },
                {
                  "0": "289317384e",
                  "1": " oooo ok   why  havent you accepted my friends request",
                  "2": "oooo ok   why  havent you accepted my friends reque",
                  "3": "neutral",
                  "index": 640
                },
                {
                  "0": "bfa9cdee68",
                  "1": "sorry to tweet about BGT but poor wonderful crazy weird Greg  so not fair. the silly little girl is never going to cope. urgh. NOT FAIR.",
                  "2": "sorry",
                  "3": "negative",
                  "index": 641
                },
                {
                  "0": "5210cc55ae",
                  "1": " no",
                  "2": "no",
                  "3": "neutral",
                  "index": 642
                },
                {
                  "0": "ea25722a23",
                  "1": "_michele thanks for that...am now following them...love good causes",
                  "2": "love good causes",
                  "3": "positive",
                  "index": 643
                },
                {
                  "0": "f3a5b39195",
                  "1": " Not available in my area  I would too",
                  "2": "Not available in my area",
                  "3": "negative",
                  "index": 644
                },
                {
                  "0": "ba4bcf57b5",
                  "1": "Its Friday! Only 5 more hours until I`m free!.....until tomorrow.  oh well",
                  "2": "Its Friday! Only 5 more hours until I`m free!.....until tomorrow.  oh well",
                  "3": "neutral",
                  "index": 645
                },
                {
                  "0": "532d442071",
                  "1": "meeting just in time that iï¿½m trying to win something  prize`s friday!",
                  "2": "meeting just in time that iï¿½m trying to win something  prize`s friday!",
                  "3": "neutral",
                  "index": 646
                },
                {
                  "0": "1b9afa81bf",
                  "1": "Waiting for 5:00 & having cramps",
                  "2": "cramps",
                  "3": "negative",
                  "index": 647
                },
                {
                  "0": "3fd7a35f32",
                  "1": "philosophy final today! thank you  it`s 3 days now!!!!",
                  "2": "thank you",
                  "3": "positive",
                  "index": 648
                },
                {
                  "0": "c029d4a557",
                  "1": "`s plans didn`t go as followed, but its ok",
                  "2": "`s plans didn`t go as followed, but its ok",
                  "3": "neutral",
                  "index": 649
                },
                {
                  "0": "19af686703",
                  "1": " _what_ did you do?  Let me guess... you skipped sports and bought a new pinkish outfit?",
                  "2": "_what_ did you do?  Let me guess... you skipped sports and bought a new pinkish outfit?",
                  "3": "neutral",
                  "index": 650
                },
                {
                  "0": "4d97f4be67",
                  "1": "where is the rain please come out",
                  "2": "where is the rain please come out",
                  "3": "neutral",
                  "index": 651
                },
                {
                  "0": "b5a110f491",
                  "1": " My pleasure",
                  "2": "My pleasure",
                  "3": "neutral",
                  "index": 652
                },
                {
                  "0": "a834cef9c6",
                  "1": "1st presentation for senior boards? FML",
                  "2": "FML",
                  "3": "negative",
                  "index": 653
                },
                {
                  "0": "e6801164bc",
                  "1": " lol i know but it was just so funny, ahaha",
                  "2": "funny,",
                  "3": "positive",
                  "index": 654
                },
                {
                  "0": "687ee0bd2d",
                  "1": "Wide awake and grouchy as ****.",
                  "2": "grouchy",
                  "3": "negative",
                  "index": 655
                },
                {
                  "0": "e20b9a322f",
                  "1": "just when i thought things couldn`t get any worse. it just did. and it will get even worse tonight, i bet.  my life is a misery.",
                  "2": "worse.",
                  "3": "negative",
                  "index": 656
                },
                {
                  "0": "b922b8b866",
                  "1": " I don`t have the app that does it",
                  "2": "I don`t have the app that does it",
                  "3": "neutral",
                  "index": 657
                },
                {
                  "0": "84747e4e05",
                  "1": " lol hi emmy, latin would help me study for the aptitude tests to get into grad school ;\\ thats why i wanna take it",
                  "2": "would help me study for the aptitude tests",
                  "3": "positive",
                  "index": 658
                },
                {
                  "0": "ce4a3df3a9",
                  "1": "out for supper tonight with kurumi in 10 minutes",
                  "2": "out for supper tonight with kurumi in 10 minutes",
                  "3": "neutral",
                  "index": 659
                },
                {
                  "0": "407f226cdb",
                  "1": "_kap But I think it`s cute.  Do this every night okay?",
                  "2": "cute.",
                  "3": "positive",
                  "index": 660
                },
                {
                  "0": "7ce085e1ef",
                  "1": "Is happy...Skool just let out..! Today was my last day..! Yippee! R.I.P Jackson Tyler Morris..! Always Loved And Never Forgotten..!",
                  "2": "Loved",
                  "3": "positive",
                  "index": 661
                },
                {
                  "0": "f763af7a90",
                  "1": "  hi mariah",
                  "2": "hi mariah",
                  "3": "neutral",
                  "index": 662
                },
                {
                  "0": "4598e31e32",
                  "1": "_Yours13 I`m not at home with my cats right now!",
                  "2": "_Yours13 I`m not at home with my cats right now!",
                  "3": "neutral",
                  "index": 663
                },
                {
                  "0": "153027be1c",
                  "1": " wheres the music mannnn!!?? my inbox is still empty",
                  "2": "my inbox is still empty",
                  "3": "negative",
                  "index": 664
                },
                {
                  "0": "dd9b922aad",
                  "1": "What am I doing atm? http://twitpic.com/4jmeh Oh yeah. Apple Juice  I`m such a rebel!",
                  "2": "I`m such a rebel!",
                  "3": "negative",
                  "index": 665
                },
                {
                  "0": "3f54e1d2cb",
                  "1": " ...i`m sorry about you are still sick  u know most of them, AND i know that u will guess the 'pelzer present' ;-)",
                  "2": ".i`m sorry",
                  "3": "negative",
                  "index": 666
                },
                {
                  "0": "4cd893fb53",
                  "1": " nice one !",
                  "2": "nice",
                  "3": "positive",
                  "index": 667
                },
                {
                  "0": "5caaa15e27",
                  "1": "Exam 1 today. Going to get my license renewed  The birthday is getting closer!",
                  "2": "Exam 1 today. Going to get my license renewed  The birthday is getting closer!",
                  "3": "neutral",
                  "index": 668
                },
                {
                  "0": "1f3cab50fc",
                  "1": "Gotta get creative with these mothers day gifts. I`m gonna win them over with my love!!",
                  "2": "love!!",
                  "3": "positive",
                  "index": 669
                },
                {
                  "0": "f2e20448fa",
                  "1": "Thinks its gonna rain",
                  "2": "Thinks its gonna rain",
                  "3": "neutral",
                  "index": 670
                },
                {
                  "0": "4f0ab06d15",
                  "1": " aah. well, have a few friends over there. Just wondering if all`s great and weather`s been good...",
                  "2": "good.",
                  "3": "positive",
                  "index": 671
                },
                {
                  "0": "b4083313e2",
                  "1": "Yrbook signing w/ evryone was fun, I`m gna miss evrything",
                  "2": "Yrbook signing w/ evryone was fun, I`m gna miss evrything",
                  "3": "neutral",
                  "index": 672
                },
                {
                  "0": "a2623622cc",
                  "1": "I lost my artistic abilities",
                  "2": "lost",
                  "3": "negative",
                  "index": 673
                },
                {
                  "0": "66cb61f78f",
                  "1": "   so not close enough that I could run out and get one",
                  "2": "so not close enough that I could run out and get one",
                  "3": "neutral",
                  "index": 674
                },
                {
                  "0": "2209fb4785",
                  "1": "  That was stone cold   Crazy....  ?",
                  "2": "That was stone cold   Crazy.",
                  "3": "negative",
                  "index": 675
                },
                {
                  "0": "4568211cd0",
                  "1": "totally having austin powers withdrawl symptons and Darrius withdrawl symptoms and mommy and minne withdrawl syamptoms.",
                  "2": "totally having austin powers withdrawl symptons and Darrius withdrawl symptoms and mommy and minne withdrawl syamptoms.",
                  "3": "neutral",
                  "index": 676
                },
                {
                  "0": "89ff9a9119",
                  "1": "_xo they were so pretty and took like an hour to do  CAN I DO URSSSSS!",
                  "2": "they were so pretty",
                  "3": "positive",
                  "index": 677
                },
                {
                  "0": "f589e82592",
                  "1": "Senior`s last day.",
                  "2": "Senior`s last day.",
                  "3": "neutral",
                  "index": 678
                },
                {
                  "0": "b36197ce92",
                  "1": "Crisis: forgot my fringe comb  I`m with men....no one will help me",
                  "2": ".no one will help me",
                  "3": "negative",
                  "index": 679
                },
                {
                  "0": "33889dffc9",
                  "1": " Already got my ticket; thanks for making sure though!",
                  "2": "thanks",
                  "3": "positive",
                  "index": 680
                },
                {
                  "0": "9cba8bf464",
                  "1": "Thanks to all my new followers!",
                  "2": "Thanks",
                  "3": "positive",
                  "index": 681
                },
                {
                  "0": "cba675bd52",
                  "1": "  - we`re getting closer rather than further from REAL lobby dates - Chicago, BlogHer09 - squee!!!",
                  "2": "- we`re getting closer rather than further from REAL lobby dates - Chicago, BlogHer09 - squee!!!",
                  "3": "neutral",
                  "index": 682
                },
                {
                  "0": "6b12692b8d",
                  "1": "Has lost his vocie and Adele is laughing at me LOL and still wondering why I`m in college on me week off",
                  "2": "Has lost his vocie and Adele is laughing at me LOL and still wondering why I`m in college on me week off",
                  "3": "neutral",
                  "index": 683
                },
                {
                  "0": "04510889b6",
                  "1": "_Kill_Boy oh sorry! not getting all my replies  nothing against you. and yes, i do know nirvana",
                  "2": "oh sorry! not getting all my replies  nothing against you.",
                  "3": "negative",
                  "index": 684
                },
                {
                  "0": "f44f3ff9a8",
                  "1": "busy working on a new kit... and a couple interviews done...Yea! The weekend! Pray for my Uncle, still young and had a massive stroke!!",
                  "2": "Pray for my Uncle,",
                  "3": "positive",
                  "index": 685
                },
                {
                  "0": "5bae99f344",
                  "1": "Didn`t get bitten by a rabies infested person last night  yay for me! Gonna scare Rachel with Quarantine tonight, this shall be fun",
                  "2": "! Gonna scare Rachel with Quarantine tonight, this shall be fun",
                  "3": "neutral",
                  "index": 686
                },
                {
                  "0": "24bc4edb49",
                  "1": "_ nooo  no roo crying. but omg i wanted to slap her. she was singing fine then from out of nowhere- BOOHOOOOOOOOOOO",
                  "2": "omg i wanted to slap her.",
                  "3": "negative",
                  "index": 687
                },
                {
                  "0": "9a1fc155de",
                  "1": "watching the simpsons",
                  "2": "watching the simpsons",
                  "3": "neutral",
                  "index": 688
                },
                {
                  "0": "77711764bf",
                  "1": "Good Morning! - Court - Crossfit - Bible Study - Someone very special`s house  http://tinyurl.com/cjs668",
                  "2": "very special`s",
                  "3": "positive",
                  "index": 689
                },
                {
                  "0": "57025d9fd9",
                  "1": " Have a great time in London",
                  "2": "great",
                  "3": "positive",
                  "index": 690
                },
                {
                  "0": "d2a2993900",
                  "1": "Has work very, very soon. Way too soon!",
                  "2": "Has work very, very soon. Way too soon!",
                  "3": "neutral",
                  "index": 691
                },
                {
                  "0": "1753eb0481",
                  "1": " phaket.  what did anneliese want to do?",
                  "2": "phaket.  what did anneliese want to do?",
                  "3": "neutral",
                  "index": 692
                },
                {
                  "0": "df4b40b30e",
                  "1": "In the emergency room with my cousin. She`s got mad flu and can`t walk or breathe.  Why are hospitals always so cold?",
                  "2": "mad",
                  "3": "negative",
                  "index": 693
                },
                {
                  "0": "196b4d6897",
                  "1": "  Thanks for the greeting",
                  "2": "Thanks",
                  "3": "positive",
                  "index": 694
                },
                {
                  "0": "b3719416fa",
                  "1": "I`m hungry  wife is at a Bodyshop Party and is bringing a takeaway home with her - how much longer will the party go on?",
                  "2": "I`m hungry  wife is at a Bodyshop Party and is bringing a takeaway home with her - how much longer will the party go on?",
                  "3": "neutral",
                  "index": 695
                },
                {
                  "0": "ca5909d8ea",
                  "1": " http://twitpic.com/4wb52 - Such a pretty baby!",
                  "2": "Such a pretty baby!",
                  "3": "positive",
                  "index": 696
                },
                {
                  "0": "112a5320b5",
                  "1": " Invite them to your house instead",
                  "2": "Invite them to your house instead",
                  "3": "neutral",
                  "index": 697
                },
                {
                  "0": "a3ff2fa162",
                  "1": " I`m a bit Ben`s Thai-ed out",
                  "2": "I`m a bit Ben`s Thai-ed out",
                  "3": "neutral",
                  "index": 698
                },
                {
                  "0": "2f6d9d1419",
                  "1": "  #stackeoverflow  http://bit.ly/13Nfk1",
                  "2": "#stackeoverflow",
                  "3": "neutral",
                  "index": 699
                },
                {
                  "0": "7d03216477",
                  "1": "jungle book 2 is sooooo cute.. i have nothing to eat or drink",
                  "2": "cute..",
                  "3": "positive",
                  "index": 700
                },
                {
                  "0": "439803cf54",
                  "1": "Dead stopped in the express lane. This would happen when I choose to take it. No way out now. Ugh. Hopefully this gets moving",
                  "2": "Dead stopped in the express lane. This would happen when I choose to take it. No way out now. Ugh. Hopefully this gets moving",
                  "3": "neutral",
                  "index": 701
                },
                {
                  "0": "7cfe40cca8",
                  "1": "_OKeefe Yay! You`re on Twitter! You`re my secret celeb crush!  (too much info??)",
                  "2": "_OKeefe Yay! You`re on Twitter! You`re my secret celeb crush!  (too much info??)",
                  "3": "neutral",
                  "index": 702
                },
                {
                  "0": "a1847c4311",
                  "1": " ah, ok  thank youuuuuu!",
                  "2": "k  thank",
                  "3": "positive",
                  "index": 703
                },
                {
                  "0": "e4c637df1d",
                  "1": "Twitter, you just fail at life sometimes.  Oh well. http://tinyurl.com/qkxh7q",
                  "2": "fail at life sometimes.",
                  "3": "negative",
                  "index": 704
                },
                {
                  "0": "fc53d120e4",
                  "1": "no phone call yet.. 20 minutes until I pluck up the courage. I WISH MY PHONE WOULD RING",
                  "2": "WISH",
                  "3": "positive",
                  "index": 705
                },
                {
                  "0": "bbfcac5e08",
                  "1": " *points at the gear question I just posted* I cant get the rest of my Dreadweave set",
                  "2": "*points at the gear question I just posted* I cant get the rest of my Dreadweave set",
                  "3": "neutral",
                  "index": 706
                },
                {
                  "0": "8a351a9ee7",
                  "1": " You remind me so much of a Omaha Girl, that I use to date.  I guess it all in the Jeans, (Calvin Kleins is what she wore).",
                  "2": "You remind me so much of a Omaha Girl, that I use to date.  I guess it all in the Jeans, (Calvin Kleins is what she wore).",
                  "3": "neutral",
                  "index": 707
                },
                {
                  "0": "c7bd31ba90",
                  "1": " SherriEShepherd gave the link for  http://www.brentozar.com/twitter. He gives Twitter tips. Hope this helps",
                  "2": ". He gives Twitter tips. Hope this helps",
                  "3": "positive",
                  "index": 708
                },
                {
                  "0": "fd5b328f6d",
                  "1": " I loved him and he was in a mini",
                  "2": "I loved him",
                  "3": "positive",
                  "index": 709
                },
                {
                  "0": "48096285e5",
                  "1": "  Yeah I`m okay been icing and ace bandage and sitting on my **** on twitter... LOL Thanks",
                  "2": "... LOL Than",
                  "3": "positive",
                  "index": 710
                },
                {
                  "0": "4c55586b72",
                  "1": " you`re so gorgeous!!",
                  "2": "gorgeous!",
                  "3": "positive",
                  "index": 711
                },
                {
                  "0": "6ea3693282",
                  "1": "I guess the relaxing dinner and a movie is out for tonight...I was looking forward to that after my day at work",
                  "2": "I guess the relaxing dinner and a movie is out for tonight...I was looking forward to that after my day at work",
                  "3": "positive",
                  "index": 712
                },
                {
                  "0": "0a29424e62",
                  "1": "My laptop grew speakers. Now I can watch Charlie with the sound on",
                  "2": "My laptop grew speakers. Now I can watch Charlie with the sound on",
                  "3": "neutral",
                  "index": 713
                },
                {
                  "0": "f3c0386426",
                  "1": " rofl uh huh",
                  "2": "rofl uh huh",
                  "3": "positive",
                  "index": 714
                },
                {
                  "0": "582090d484",
                  "1": " This was funny! I have 7.",
                  "2": "funny!",
                  "3": "positive",
                  "index": 715
                },
                {
                  "0": "72f8d5e864",
                  "1": " well doesn`t that look fab, even if I do say so myself!",
                  "2": "doesn`t that look fab,",
                  "3": "negative",
                  "index": 716
                },
                {
                  "0": "c30127adf3",
                  "1": "deadlines!",
                  "2": "deadlines!",
                  "3": "neutral",
                  "index": 717
                },
                {
                  "0": "9d30f19fe0",
                  "1": "has a terrible headache.  I need relief!",
                  "2": "terrible",
                  "3": "negative",
                  "index": 718
                },
                {
                  "0": "1b35e9d109",
                  "1": "Two months ago, I became irrelevant.",
                  "2": "irrelevant.",
                  "3": "negative",
                  "index": 719
                },
                {
                  "0": "cae4719603",
                  "1": "Finally sunny days and I`m too sick to go outside and play.",
                  "2": "I`m too sick to go outside",
                  "3": "negative",
                  "index": 720
                },
                {
                  "0": "8fe7e90d7b",
                  "1": " good luck!! How exciting",
                  "2": "good",
                  "3": "positive",
                  "index": 721
                },
                {
                  "0": "29244d2d46",
                  "1": "Working up to my vacation to Thailand. Getting more excited every day",
                  "2": "excited",
                  "3": "positive",
                  "index": 722
                },
                {
                  "0": "503a362985",
                  "1": " we won`t be home till like next month",
                  "2": "we won`t be home till like next month",
                  "3": "neutral",
                  "index": 723
                },
                {
                  "0": "5ea02d49eb",
                  "1": "Finally a chance to show genuine love, not dependent selfish love, I hope I can do it. My heart goes out to you and I`m sorry 4 ur pain.",
                  "2": "love,",
                  "3": "positive",
                  "index": 724
                },
                {
                  "0": "ba1a8153da",
                  "1": " I`m game, too bad your leaving HI!",
                  "2": "bad",
                  "3": "negative",
                  "index": 725
                },
                {
                  "0": "e19e92412a",
                  "1": "So screwed for sat 2 us",
                  "2": "screwed",
                  "3": "negative",
                  "index": 726
                },
                {
                  "0": "55bc437a33",
                  "1": "Just got an IM from another co-worker who just got laid off. Lots of people becoming unemployed",
                  "2": "just got laid off. Lots of people becoming unemployed",
                  "3": "negative",
                  "index": 727
                },
                {
                  "0": "24f090ea3d",
                  "1": " the exact one i was thinking of  the bestttt.",
                  "2": "e bestttt",
                  "3": "positive",
                  "index": 728
                },
                {
                  "0": "d5621b043e",
                  "1": "easties you can go there anytime",
                  "2": "easties you can go there anytime",
                  "3": "neutral",
                  "index": 729
                },
                {
                  "0": "d8ffeb6591",
                  "1": "Why does #googledocs do folders, instead of labels like #gmail? I kind of like labels",
                  "2": "like",
                  "3": "positive",
                  "index": 730
                },
                {
                  "0": "d978b7f334",
                  "1": " lemme guess - you ran 5 miles at the gym, and are waking your kids up, and then going to the beach and / or recording studio?",
                  "2": "lemme guess - you ran 5 miles at the gym, and are waking your kids up, and then going to the beach and / or recording studio?",
                  "3": "neutral",
                  "index": 731
                },
                {
                  "0": "d4824f31d8",
                  "1": "i never knew a dentention was so hard 2 get",
                  "2": "i never knew a dentention was so hard",
                  "3": "negative",
                  "index": 732
                },
                {
                  "0": "2eb8e4fd0a",
                  "1": "pacquiao fight was fun at home wif fam and melissa sat.    today was a mission to ikea. srsly 4 different freeways to ge to burbank.",
                  "2": "fun",
                  "3": "positive",
                  "index": 733
                },
                {
                  "0": "829fd30504",
                  "1": "my nail broke  I haaaaaaaaate",
                  "2": "my nail broke  I haaaaaaaaate",
                  "3": "negative",
                  "index": 734
                },
                {
                  "0": "fc92519d0d",
                  "1": " Dang... that IS disappointing",
                  "2": "IS disappointing",
                  "3": "negative",
                  "index": 735
                },
                {
                  "0": "a1bda541fd",
                  "1": " yep",
                  "2": "yep",
                  "3": "neutral",
                  "index": 736
                },
                {
                  "0": "b31f326e68",
                  "1": " How much longer is the NKOTB Block Party? Love it! I need to go to bed so just wondering what time it`s over..LOL..thanks!",
                  "2": "Love",
                  "3": "positive",
                  "index": 737
                },
                {
                  "0": "0bc2e46e4e",
                  "1": "  Thanks! My mom`s seed is larger and already cracked (and planted). I hope Avalina isn`t a dud!",
                  "2": ". I hope Avalina isn`t a dud!",
                  "3": "negative",
                  "index": 738
                },
                {
                  "0": "fddd46aee8",
                  "1": "Anyone want to buy me this anthropomorphic planter? http://tinyurl.com/m6sru3 Only available till the 31st",
                  "2": "Anyone want to buy me this anthropomorphic planter? http://tinyurl.com/m6sru3 Only available till the 31st",
                  "3": "neutral",
                  "index": 739
                },
                {
                  "0": "07069f29c4",
                  "1": "It`s a beautiful day outside today, shame I`m stuck in the office with the blinds shut to stop glare.",
                  "2": "It`s a beautiful day outside today, shame I`m stuck in the office with the blinds shut to stop glare.",
                  "3": "neutral",
                  "index": 740
                },
                {
                  "0": "43d08e6dce",
                  "1": "Woke up and there was sun! And then it started to rain",
                  "2": "Woke up and there was sun! And then it started to rain",
                  "3": "neutral",
                  "index": 741
                },
                {
                  "0": "babf4b1bda",
                  "1": " and  the Creative VADO`s are out of stock at walmart.com (missed it)  but thanks for tweeting about it",
                  "2": "and  the Creative VADO`s are out of stock at walmart.com (missed it)  but thanks for tweeting about",
                  "3": "neutral",
                  "index": 742
                },
                {
                  "0": "a2056ff40a",
                  "1": "hates this weather",
                  "2": "hates",
                  "3": "negative",
                  "index": 743
                },
                {
                  "0": "94d2b00f6b",
                  "1": "Cultural tour 102 by loiusa`s family: kangaroo sight-seeing in cemetary. Lovely",
                  "2": "Lovely",
                  "3": "positive",
                  "index": 744
                },
                {
                  "0": "ec66683c9f",
                  "1": "Flap-a-taco was nice until the plebs came in.",
                  "2": "Flap-a-taco was nice until the plebs came in.",
                  "3": "negative",
                  "index": 745
                },
                {
                  "0": "5f1e07398b",
                  "1": "Oh, and yippee for Lyn-Z Way who gets to celebrate Mother`s Day for the first time as a mother.",
                  "2": "celebrate",
                  "3": "positive",
                  "index": 746
                },
                {
                  "0": "f93c297e3a",
                  "1": "am chillaxin after a busy BankHoliday, Hope everbody had a gd wkend! Holiday in 12 days!!!  ****",
                  "2": "am chillaxin after a busy BankHoliday, Hope everbody had a gd wkend! Holiday in 12 days!!",
                  "3": "positive",
                  "index": 747
                },
                {
                  "0": "7420980c60",
                  "1": "Havin a much better day today!! Finished the last Twilight book yesterday. Classes start next week!      Get at me yall!!",
                  "2": "better",
                  "3": "positive",
                  "index": 748
                },
                {
                  "0": "cf30a8df0a",
                  "1": " NEW motorcycle and you POPPED a cable already? wow-you ride HARD!",
                  "2": "wow-you ride HARD!",
                  "3": "positive",
                  "index": 749
                },
                {
                  "0": "2af437c472",
                  "1": "check out the flyer i designed for the notary and retrograde: http://rachellovespeace.blogspot.com let me know what you think",
                  "2": "check out the flyer i designed for the notary and retrograde: http://rachellovespeace.blogspot.com let me know what you think",
                  "3": "neutral",
                  "index": 750
                },
                {
                  "0": "fab844f0c2",
                  "1": " Thanks! Welcome back!",
                  "2": "Thanks! Welcome back!",
                  "3": "positive",
                  "index": 751
                },
                {
                  "0": "c0f58575bf",
                  "1": " i want to experience snow  we don`t have snow here and it sucks",
                  "2": "t sucks",
                  "3": "negative",
                  "index": 752
                },
                {
                  "0": "7d770c7bd6",
                  "1": "i have such a sore head",
                  "2": "sore head",
                  "3": "negative",
                  "index": 753
                },
                {
                  "0": "d707cc9cb1",
                  "1": "at the office, trying to solve the mystery of whose blood is that in the  bathroom toilet.... eewwwww",
                  "2": "at the office, trying to solve the mystery of whose blood is that in the  bathroom toilet.... eewwwww",
                  "3": "neutral",
                  "index": 754
                },
                {
                  "0": "e451131bc1",
                  "1": "awwww..I love him! His car was soooo CUTE tonight!! I love me some Carl..My 10yr old is sad now..LOL..",
                  "2": "awwww..I love him! His car was soooo CUTE tonight!! I love me some Carl..My 10yr old is sad now..LOL..",
                  "3": "neutral",
                  "index": 755
                },
                {
                  "0": "876cd15514",
                  "1": " Bryan hasn`t replied about wingnuts",
                  "2": "Bryan hasn`t replied about wingnuts",
                  "3": "neutral",
                  "index": 756
                },
                {
                  "0": "009ab3e6db",
                  "1": "Watching southpark for another 20 minutes",
                  "2": "Watching southpark for another 20 minutes",
                  "3": "neutral",
                  "index": 757
                },
                {
                  "0": "8a8c28f5ba",
                  "1": " Thanks Amy!  That video is so awesome!  Did you see TMH?  He`s amazing in that too!! Bouncy Bouncy Bouncy!!!",
                  "2": "e`s amazi",
                  "3": "positive",
                  "index": 758
                },
                {
                  "0": "6b064ca919",
                  "1": " LMAO...Ha! No I just simply wanted to go to NY!",
                  "2": "LMAO...Ha!",
                  "3": "positive",
                  "index": 759
                },
                {
                  "0": "cbdbfb9de2",
                  "1": "is bored, cant go on habbo stupid ban",
                  "2": "stupid",
                  "3": "negative",
                  "index": 760
                },
                {
                  "0": "51ed0c17c0",
                  "1": "Tried on all the shoes in new look",
                  "2": "Tried on all the shoes in new look",
                  "3": "neutral",
                  "index": 761
                },
                {
                  "0": "8fee3fb6a4",
                  "1": "its too early  i wanna go back to sleeep",
                  "2": "its too early  i wanna go back to sleeep",
                  "3": "neutral",
                  "index": 762
                },
                {
                  "0": "708b41b0c8",
                  "1": " I don`t think I am, my sisters refusn to get me a ticket now.  what you doing next week?",
                  "2": "I don`t think I am, my sisters refusn to get me a ticket now.",
                  "3": "negative",
                  "index": 763
                },
                {
                  "0": "44eba69b30",
                  "1": " oh wow...hope he`s ok  u take him 2 the vet?",
                  "2": "oh wow...hope he`s ok  u take him 2 the vet?",
                  "3": "neutral",
                  "index": 764
                },
                {
                  "0": "10133a7283",
                  "1": " He died.  Wait, what about Magic Jack? I just read it.",
                  "2": "He died.  Wait, what about Magic Jack? I just read it.",
                  "3": "neutral",
                  "index": 765
                },
                {
                  "0": "901b9b9cc4",
                  "1": "i`ve just woken up",
                  "2": "i`ve just woken up",
                  "3": "neutral",
                  "index": 766
                },
                {
                  "0": "2eaefcfa53",
                  "1": " hahaha oh man please come to pomona i would love to see you everyday instead of like once a year if that",
                  "2": "love",
                  "3": "positive",
                  "index": 767
                },
                {
                  "0": "493f47d778",
                  "1": "Jon made one of the greatest dinners ever: roast pork tenderloin on a bed of wild rice on a bed of mixed greens & yummy sauce. No wine",
                  "2": "one of the greatest dinners ever:",
                  "3": "positive",
                  "index": 768
                },
                {
                  "0": "49e24a4501",
                  "1": "nooooo its raining......had 2 leave the beach",
                  "2": "nooooo its raining..",
                  "3": "negative",
                  "index": 769
                },
                {
                  "0": "36a0a476c5",
                  "1": "Shower. Class. More class. Taking care of my lady-friend. Writing like there`s no tomorrow.",
                  "2": "Shower. Class. More class. Taking care of my lady-friend.",
                  "3": "positive",
                  "index": 770
                },
                {
                  "0": "5343b52f89",
                  "1": "Rockstar photographer shoot went great tonight. A little different than the usual stuff - very nice.",
                  "2": "great",
                  "3": "positive",
                  "index": 771
                },
                {
                  "0": "18cd7ae71d",
                  "1": " great pics! You should try to start selling your race photos to runners",
                  "2": "great",
                  "3": "positive",
                  "index": 772
                },
                {
                  "0": "cb60620a4f",
                  "1": "Goodmorning twitter, oh my gosh, i woke up soooo nice, lol ... oh hai thar twitterverse. Happy #mothersday everybody  (especially mine)",
                  "2": "Goodmorning twitter, oh my gosh, i woke up soooo nice, lol ... oh hai thar twitterverse. Happy #mothersday everybody",
                  "3": "positive",
                  "index": 773
                },
                {
                  "0": "8396f13b4b",
                  "1": "_dulay i swear it took me 2 hours to get from bel air to alabang.  but yes, i LOVED reminiscing about our HK trip with you & ",
                  "2": "i LOVED",
                  "3": "positive",
                  "index": 774
                },
                {
                  "0": "c58b2ba46e",
                  "1": "Hubby went to pick up  my Fringe comics today @ store by his work. THAT store was out of business too. No comix in Houston. Have 2 Web.",
                  "2": "Hubby went to pick up  my Fringe comics today @ store by his work. THAT store was out of business too. No comix in Houston. Have 2 Web.",
                  "3": "neutral",
                  "index": 775
                },
                {
                  "0": "e350274c1a",
                  "1": "The World is just amazing!",
                  "2": "The World is just amazing!",
                  "3": "positive",
                  "index": 776
                },
                {
                  "0": "66521b4652",
                  "1": "i have no idea what im doing and i am completely lost.",
                  "2": "i am completely lost.",
                  "3": "negative",
                  "index": 777
                },
                {
                  "0": "d116927538",
                  "1": "@ gadgetopia need to DM you but you`re not following me.   Will send email.",
                  "2": "@ gadgetopia need to DM you but you`re not following me.   Will send email.",
                  "3": "neutral",
                  "index": 778
                },
                {
                  "0": "5dbe4cae20",
                  "1": " awww hes too cute!!wish i could`ve gone",
                  "2": "cute!",
                  "3": "positive",
                  "index": 779
                },
                {
                  "0": "c2ada5b889",
                  "1": "got my cable set up! WIN!  got my lock put on my door! WIN! feeling a tad neglected... FAIL.",
                  "2": "got my cable set up! WIN!  got my lock put on my door! WIN! feeling a tad neglected... FAIL.",
                  "3": "neutral",
                  "index": 780
                },
                {
                  "0": "8d9f0090b0",
                  "1": " I think that may look a little silly -.- Also my camera is broken so no photo",
                  "2": "silly",
                  "3": "negative",
                  "index": 781
                },
                {
                  "0": "355a1e84e2",
                  "1": "just had a great talk with grace about how awesome God is and how he works...that somehow started with how remote controls work",
                  "2": "just had a great talk with grace about how awesome God is and how he works...that somehow started with how remote controls work",
                  "3": "positive",
                  "index": 782
                },
                {
                  "0": "da2bf1eb03",
                  "1": "this day has beasted me.",
                  "2": "beasted",
                  "3": "negative",
                  "index": 783
                },
                {
                  "0": "e9d903f9aa",
                  "1": " I`ll be listening!",
                  "2": "I`ll be listening!",
                  "3": "neutral",
                  "index": 784
                },
                {
                  "0": "28f67f674e",
                  "1": " oh no....u don`t have to hit him up. He had a family emergency so there was a lil delay. Just can`t wait to see them",
                  "2": "oh no....u don`t have to hit him up. He had a family emergency so there was a lil delay. Just can`t wait to see them",
                  "3": "neutral",
                  "index": 785
                },
                {
                  "0": "aba25eb3f5",
                  "1": "sitting at home doing nothing. gonna be like this all weekend",
                  "2": "sitting at home doing nothing. gonna be like this all weekend",
                  "3": "neutral",
                  "index": 786
                },
                {
                  "0": "a30612b7f6",
                  "1": "OH NEVERMIND I THINK THIS THING IS UNSALVAGEABLE",
                  "2": "UNSALVAGEABLE",
                  "3": "negative",
                  "index": 787
                },
                {
                  "0": "13a9406926",
                  "1": " flew Brisbane - Lax today.  Great flight.  Love the lights.  Shame about one drink limit though!",
                  "2": "flew Brisbane - Lax today.  Great flight.  Love the lights.  Shame about one drink limit thoug",
                  "3": "neutral",
                  "index": 788
                },
                {
                  "0": "5b2b140151",
                  "1": "I think i should go to sleep considering i hav to b up on 3hrs....",
                  "2": "I think i should go to sleep considering i hav to b up on 3hrs....",
                  "3": "neutral",
                  "index": 789
                },
                {
                  "0": "923f7ee786",
                  "1": "  If I told you how often I wash my hair you would never speak to me again",
                  "2": "If I told you how often I wash my hair you would never speak to me again",
                  "3": "neutral",
                  "index": 790
                },
                {
                  "0": "fac4f75f45",
                  "1": "I just spent 2 hours looking for a blog topic and ended up inventing my own.  grrrr    http://bit.ly/QRz6y",
                  "2": "ended up inventing my own.",
                  "3": "negative",
                  "index": 791
                },
                {
                  "0": "28f000e641",
                  "1": " seems to have disappeared out of my life",
                  "2": "seems to have disappeared out of my life",
                  "3": "negative",
                  "index": 792
                },
                {
                  "0": "152bedb5a6",
                  "1": "HAPPY MOTHER`S DAY to my Mom, and every Mom everywhere.  Off for a stroll at the Beaches later--hopefully...",
                  "2": "HAPPY MOTHER`S DAY to my Mom, and every Mom everywhere.  Off for a stroll at the Beaches later--hopefully...",
                  "3": "positive",
                  "index": 793
                },
                {
                  "0": "b2afb1cf57",
                  "1": " ohhh i wanna go  gahhh but i dunnooooooo :S me confuzzzledd should i or not???",
                  "2": "ohhh i wanna go  gahhh but i dunnooooooo :S me confuzzzledd should i or not???",
                  "3": "neutral",
                  "index": 794
                },
                {
                  "0": "6d57e5fcb0",
                  "1": "_KittyKat hello new follower  haha!! how are ya?",
                  "2": "haha!",
                  "3": "positive",
                  "index": 795
                },
                {
                  "0": "27f1fa3214",
                  "1": " haha best thing about office birthdays hey",
                  "2": "best",
                  "3": "positive",
                  "index": 796
                },
                {
                  "0": "233b90417d",
                  "1": "****, I never knew I could miss my phone so much for 4 hours till they told me I won`t have it back till then",
                  "2": "****,",
                  "3": "negative",
                  "index": 797
                },
                {
                  "0": "0d32a589d2",
                  "1": "_Lay aww well I just randomly woke up and now I can`t sleep! Too many things on my mind",
                  "2": "aww",
                  "3": "negative",
                  "index": 798
                },
                {
                  "0": "0aa7e2d375",
                  "1": "That`s it? It`s done already? This is one proof that there`s nothing fair in this world.   http://bit.ly/10UEMq",
                  "2": "nothing fair",
                  "3": "negative",
                  "index": 799
                },
                {
                  "0": "1d8c801864",
                  "1": "I am going to see how long I can do this for.",
                  "2": "I am going to see how long I can do this for.",
                  "3": "neutral",
                  "index": 800
                },
                {
                  "0": "4d8c11c5cd",
                  "1": "You better come here by the time I count to 10 or else. 1, 2, 3,  BAM!!!!!",
                  "2": "You better come here by the time I count to 10 or else. 1, 2, 3,  BAM!!!!!",
                  "3": "positive",
                  "index": 801
                },
                {
                  "0": "6bff31375d",
                  "1": "PRD take a long time to review!",
                  "2": "PRD take a long time to review!",
                  "3": "neutral",
                  "index": 802
                },
                {
                  "0": "9e275c23b0",
                  "1": "_3 U know - kids do what we DO - not what we SAY ... well, don`t we all, really  ....",
                  "2": "well,",
                  "3": "positive",
                  "index": 803
                },
                {
                  "0": "8074eded04",
                  "1": "Ugh! I wanna play dnd but i know i`m going to fail this final. I NEED to study",
                  "2": "i`m going to fail this final.",
                  "3": "negative",
                  "index": 804
                },
                {
                  "0": "ea4429b35a",
                  "1": "  Hi, Thx for following  I teach some Chinese lessons on youtube, pls feel free to have a look www.youtube.com/ChineseLearn",
                  "2": ", Thx",
                  "3": "positive",
                  "index": 805
                },
                {
                  "0": "70eb969d45",
                  "1": " how sad! are you saying that I`m fat?  *tears*",
                  "2": "how sad! are you saying that I`m fat?  *tears*",
                  "3": "negative",
                  "index": 806
                },
                {
                  "0": "5c6d1a22c4",
                  "1": " why thank you. I might just take you up on your offer",
                  "2": "why thank you. I might just take you up on your offer",
                  "3": "neutral",
                  "index": 807
                },
                {
                  "0": "2003e360f8",
                  "1": "I`m trying to find the driver for my Microsoft Lifecam VX-3000 Webcam and can`t find it anywhere! anyone have any links?",
                  "2": "can`t find it anywhere!",
                  "3": "negative",
                  "index": 808
                },
                {
                  "0": "198c97b57a",
                  "1": "Finally get to lay down for a bit i have a major headache",
                  "2": "i have a major headache",
                  "3": "negative",
                  "index": 809
                },
                {
                  "0": "31fa81e0ae",
                  "1": "  Yes, you should go see Star Trek!  It`s sooooo much fun!",
                  "2": "ch fu",
                  "3": "positive",
                  "index": 810
                },
                {
                  "0": "68d82a25f9",
                  "1": " Mitchel you have no idea how much I want to call you!! but it costs loads to call from england!!!",
                  "2": "Mitchel you have no idea how much I want to call you!! but it costs loads to call from england!!!",
                  "3": "neutral",
                  "index": 811
                },
                {
                  "0": "38b91a3688",
                  "1": "Stupid me, accidentally gave my honey the Atomic flavored buffalo wings and now his stomach feels just awful..... Im sorry baby",
                  "2": "Stupid me,",
                  "3": "negative",
                  "index": 812
                },
                {
                  "0": "c380578d03",
                  "1": " very relaxing thank you. Hope you get to put your feet up tomorrow and enjoy the day",
                  "2": "very relaxing",
                  "3": "positive",
                  "index": 813
                },
                {
                  "0": "22e968402f",
                  "1": " yessir that is 100% right",
                  "2": "yessir that is 100% right",
                  "3": "positive",
                  "index": 814
                },
                {
                  "0": "469ce3aeee",
                  "1": " Night!",
                  "2": "Night!",
                  "3": "neutral",
                  "index": 815
                },
                {
                  "0": "34af663e50",
                  "1": "Writing my Music Lit final paper on Mozart`s Eine kleine nashtmusik. Mom is giving me a hand...and I`m actually having a GREAT time",
                  "2": "GREAT",
                  "3": "positive",
                  "index": 816
                },
                {
                  "0": "7f9b45945a",
                  "1": "i got over the crush issue but now tomorrow my friend is going to india for the whole summer  im back to being sad.",
                  "2": "sad.",
                  "3": "negative",
                  "index": 817
                },
                {
                  "0": "ab75ab645f",
                  "1": "Too warm!!!",
                  "2": "Too warm!!!",
                  "3": "neutral",
                  "index": 818
                },
                {
                  "0": "10602528ed",
                  "1": "Ada acara menarik lain: Keys to the VIP di channel V. Ttg straight yg dikasih tasks to approach strangers in the crowd.. Hmm",
                  "2": "Ada acara menarik lain: Keys to the VIP di channel V. Ttg straight yg dikasih tasks to approach strangers in the crowd.. Hmm",
                  "3": "neutral",
                  "index": 819
                },
                {
                  "0": "f5f26ea04a",
                  "1": "  well hit me and we can see...it depends then",
                  "2": "well hit me and we can see...it depends then",
                  "3": "neutral",
                  "index": 820
                },
                {
                  "0": "f00bd4ea4e",
                  "1": " aww thanx andy",
                  "2": "thanx",
                  "3": "positive",
                  "index": 821
                },
                {
                  "0": "24cb365662",
                  "1": "Some goodies bagged at the car boot including some very cute cross stitch birds for my craft room! The man selling was a sweetie",
                  "2": "very cute",
                  "3": "positive",
                  "index": 822
                },
                {
                  "0": "de2af3c3a5",
                  "1": "has just finished ironing his clothes for #Church. Gonna walk the dog now then grab a shower/shave and be off  #jottonia looks good too",
                  "2": "good",
                  "3": "positive",
                  "index": 823
                },
                {
                  "0": "7820f628a4",
                  "1": "shower time!!!!!",
                  "2": "shower time!!!!!",
                  "3": "neutral",
                  "index": 824
                },
                {
                  "0": "b1dea509d6",
                  "1": " COOOOOOOOOL... DOOOOOOOOOWN... Patience... Is... Virtue...",
                  "2": "COOOOOOOOOL... DOOOOOOOOOWN... Patience... Is... Virtue...",
                  "3": "positive",
                  "index": 825
                },
                {
                  "0": "981713769d",
                  "1": "Gotta drop off some car parts for a buddy to press out, then to the dentist!    http://yfrog.com/0a7v3j",
                  "2": "Gotta drop off some car parts for a buddy to press out, then to the dentist!    http://yfrog.com/0a7v3j",
                  "3": "neutral",
                  "index": 826
                },
                {
                  "0": "520eec948e",
                  "1": " i cant call  im at work",
                  "2": "i cant call  im at work",
                  "3": "neutral",
                  "index": 827
                },
                {
                  "0": "29e8b6bb7f",
                  "1": "Going to the courthouse to pay for tags & taxes on all our cars...this is gonna be expensive.",
                  "2": "expensive.",
                  "3": "negative",
                  "index": 828
                },
                {
                  "0": "252e56c4d1",
                  "1": "So tired & ready for bed!! Really in the mood for salt & pepper chicken wings & noodles but have no money on me for a Chinese!",
                  "2": "So tired &",
                  "3": "negative",
                  "index": 829
                },
                {
                  "0": "3dd678750f",
                  "1": "The usual. Two family parties today. Happy Birthday Lily!  http://twitpic.com/4w472",
                  "2": "Happy",
                  "3": "positive",
                  "index": 830
                },
                {
                  "0": "dd2a3bd5b8",
                  "1": " I am on here..finally. AND YAY. seriously. that made my day oh fellow hell ruler",
                  "2": "am on here..finally. AND YAY. seriously. that made my day oh fellow hell ruler",
                  "3": "neutral",
                  "index": 831
                },
                {
                  "0": "33fd898450",
                  "1": "GOODNIGHT MAGIC AND PRETTY WORLD",
                  "2": "GOODNIGHT",
                  "3": "positive",
                  "index": 832
                },
                {
                  "0": "3fe5d830f7",
                  "1": "doesnt have a hangover  and is getting ready for a good ol` english fry up",
                  "2": "doesnt have a hangover  and is getting ready for a good ol` english fry up",
                  "3": "neutral",
                  "index": 833
                },
                {
                  "0": "fa0813c599",
                  "1": "Waiting to put my story about Stereo Skyline up. Don`t know where to put it. BOOOO",
                  "2": "Waiting to put my story about Stereo Skyline up. Don`t know where to put it. BOOOO",
                  "3": "neutral",
                  "index": 834
                },
                {
                  "0": "7a4a289831",
                  "1": "Working now",
                  "2": "Working now",
                  "3": "neutral",
                  "index": 835
                },
                {
                  "0": "28f9a33b14",
                  "1": "Just at Starbucks with Farrah!",
                  "2": "Just at Starbucks with Farrah!",
                  "3": "neutral",
                  "index": 836
                },
                {
                  "0": "2991e56ed4",
                  "1": "@ ginniejean there`s a lot of mojo all over the place...  yes.",
                  "2": "@ ginniejean there`s a lot of mojo all over the place...  yes.",
                  "3": "neutral",
                  "index": 837
                },
                {
                  "0": "b75505e7a6",
                  "1": "third date went well....moving on to fourth!!!!!!",
                  "2": "third date went well....moving on to fourth!!!!!!",
                  "3": "neutral",
                  "index": 838
                },
                {
                  "0": "01427ed7f0",
                  "1": "Mad tired. But it`s the hols! I miss chomp chomp terribly!",
                  "2": "Mad tired. But it`s the hols! I miss chomp chomp terribly!",
                  "3": "negative",
                  "index": 839
                },
                {
                  "0": "0526a41f4b",
                  "1": "is finally starting her assignments",
                  "2": "is finally starting her assignments",
                  "3": "neutral",
                  "index": 840
                },
                {
                  "0": "518ae43e25",
                  "1": "Good morning  ready to start this week.",
                  "2": "Good",
                  "3": "positive",
                  "index": 841
                },
                {
                  "0": "81adf60881",
                  "1": " I`ve read good things bout it. Just not feelin it tonight. Proly finish it tomorrow, after Star Trek",
                  "2": "good",
                  "3": "positive",
                  "index": 842
                },
                {
                  "0": "2d94c993c9",
                  "1": "So glad I`m finally done with finals!",
                  "2": "glad",
                  "3": "positive",
                  "index": 843
                },
                {
                  "0": "90469c762f",
                  "1": "watching 'That Thing You Do' on Comcast. Missing my boo like crrrrrazy!",
                  "2": "Missing",
                  "3": "negative",
                  "index": 844
                },
                {
                  "0": "647e680fec",
                  "1": "It just had to rain on me almost a perfect day now my clothes are wet",
                  "2": "It just had to rain on me",
                  "3": "negative",
                  "index": 845
                },
                {
                  "0": "9db3cb33a2",
                  "1": "_1 yeah we only went for 5 days  im trying to get back in november with my mom for super soak stars weekend",
                  "2": "yeah we only went for 5 days  im trying to get back in november with my mom for super soak stars weekend",
                  "3": "neutral",
                  "index": 846
                },
                {
                  "0": "020a2d26ec",
                  "1": " I miss u guys too  I prob won`t b bk til august sumtime... But if I come bk anytime b4 then ill 4 sure let u kno!",
                  "2": "I miss u guys too  I prob won`t b bk til august sumtime",
                  "3": "positive",
                  "index": 847
                },
                {
                  "0": "e3d78da8b9",
                  "1": " Okay, make sure he`s alright kk? Cuidalo. Let him know he`s a got friend in us aha..",
                  "2": "Okay, make sure he`s alright kk? Cuidalo. Let him know he`s a got friend in us aha..",
                  "3": "neutral",
                  "index": 848
                },
                {
                  "0": "c9d567bba5",
                  "1": "It will if I do it in a round about way. I ahve to copy the public contacts into my personal contacts first.  no big deal",
                  "2": "It will if I do it in a round about way. I ahve to copy the public contacts into my personal contacts first.  no big deal",
                  "3": "neutral",
                  "index": 849
                },
                {
                  "0": "0397995d17",
                  "1": "trying to figure it out",
                  "2": "trying to figure it out",
                  "3": "neutral",
                  "index": 850
                },
                {
                  "0": "49f811f90c",
                  "1": " _bob7 I`ll update you. I had to leave him at the vet for tests and xrays.",
                  "2": "_bob7 I`ll update you. I had to leave him at the vet for tests and xrays.",
                  "3": "neutral",
                  "index": 851
                },
                {
                  "0": "aaf0bbf7c8",
                  "1": "Went to see hannah montana movie on saturday  loved it .... still cant work twitter out though",
                  "2": "Went to see hannah montana movie on saturday  loved it .... still cant work twitter out though",
                  "3": "neutral",
                  "index": 852
                },
                {
                  "0": "43b0426667",
                  "1": " lol, i`ve done that one b4  i`m a victim 2 that! lol",
                  "2": "i`m a victim",
                  "3": "negative",
                  "index": 853
                },
                {
                  "0": "e9785cbd8c",
                  "1": "i would slip and fall... on the dirty school bathroom floor. fml.",
                  "2": "i would slip and fall..",
                  "3": "negative",
                  "index": 854
                },
                {
                  "0": "2617b9c9e3",
                  "1": "Just got confirmed that itï¿½s pizza-time with some ex co-workers on friday...looking forward to it",
                  "2": "looking forward to it",
                  "3": "positive",
                  "index": 855
                },
                {
                  "0": "69db8f3c7e",
                  "1": "well paisley has one of those cone things around her head...SO funny but I feel bad for her",
                  "2": "well paisley has one of those cone things around her head...SO funny but I feel bad for her",
                  "3": "neutral",
                  "index": 856
                },
                {
                  "0": "3bfc997081",
                  "1": " ugggh idk how to do that  but i only wanna stop getting texts from twitterr  -ilsE*",
                  "2": "a stop",
                  "3": "negative",
                  "index": 857
                },
                {
                  "0": "317715cbc5",
                  "1": "can`t wait to november for Jobros concert ! In examination",
                  "2": "can`t wait to november for Jobros concert !",
                  "3": "positive",
                  "index": 858
                },
                {
                  "0": "494b8aafd8",
                  "1": " been there done that. It always ended up with me selling the machine and going back to my mac",
                  "2": "been there done that. It always ended up with me selling the machine and going back to my mac",
                  "3": "neutral",
                  "index": 859
                },
                {
                  "0": "a7850c4612",
                  "1": "Just came back from watching Terminator Salvation @ Cathay. It`s so-so only, not so much action  but I feel sorry for Marcus though.",
                  "2": "but I feel sorry for Marcus though.",
                  "3": "negative",
                  "index": 860
                },
                {
                  "0": "c0360fd4e9",
                  "1": "is sitting thru the boring bits in Titanic waiting for the good bit to start in couple of hours",
                  "2": "is sitting thru the boring bits in Titanic waiting for the good bit to start in couple of hours",
                  "3": "neutral",
                  "index": 861
                },
                {
                  "0": "35210988be",
                  "1": "http://twitpic.com/4jken - fire and urban at rock challenge",
                  "2": "http://twitpic.com/4jken - fire and urban at rock challenge",
                  "3": "neutral",
                  "index": 862
                },
                {
                  "0": "f11843720f",
                  "1": "I can`t believe I thought I had a morning shift today and told Alex that I could take him to the airport.  His flight is during my shift!",
                  "2": "can`t believe",
                  "3": "negative",
                  "index": 863
                },
                {
                  "0": "19d585c61b",
                  "1": "My poor heather, she didnt make the cheerleading squad. Im sorry babygirl. Maybe next year",
                  "2": "sorry ba",
                  "3": "negative",
                  "index": 864
                },
                {
                  "0": "f70614e8a5",
                  "1": " well now i do",
                  "2": "well now i do",
                  "3": "neutral",
                  "index": 865
                },
                {
                  "0": "6015ac6085",
                  "1": "  250E!!! CRAZZYYYY ! But just this summer !!!  cuz Ci are very close to RD! :s",
                  "2": "250E!!! CRAZZYYYY ! But just this summer !!!  cuz Ci are very close to RD!",
                  "3": "neutral",
                  "index": 866
                },
                {
                  "0": "77338f26c5",
                  "1": "i jus love doin night shifts...will be done in an hour",
                  "2": "i jus love doin night shifts...",
                  "3": "positive",
                  "index": 867
                },
                {
                  "0": "4441b5b0dc",
                  "1": "Morning tweeple,way to early again",
                  "2": "Morning tweeple,way to early again",
                  "3": "neutral",
                  "index": 868
                },
                {
                  "0": "ce5dd24a33",
                  "1": "I have to reupload the **** thing again",
                  "2": "reupload the **** thing again",
                  "3": "negative",
                  "index": 869
                },
                {
                  "0": "a8b5846c0e",
                  "1": " You know, your updates are really amusing.  How was the prop auction?How much did that baseship bed go for?",
                  "2": "your updates are really amusing.",
                  "3": "positive",
                  "index": 870
                },
                {
                  "0": "dba3019318",
                  "1": "Loves the fact that there`s only 5 days of school left",
                  "2": "Loves the fact",
                  "3": "positive",
                  "index": 871
                },
                {
                  "0": "f2737e9c15",
                  "1": " Oh no!! I hope it`s not bad",
                  "2": "s not bad",
                  "3": "positive",
                  "index": 872
                },
                {
                  "0": "f62706f76e",
                  "1": " awesome..am headin there that nite after my grad dinner  c u then boi! hehe",
                  "2": "awesome.",
                  "3": "positive",
                  "index": 873
                },
                {
                  "0": "2554631fd6",
                  "1": "_beery Yeah little rough this morning but more tonight, and tomorrow night if all goes as planned. Caloric intake off the charts",
                  "2": "rough",
                  "3": "negative",
                  "index": 874
                },
                {
                  "0": "5d94b30c0f",
                  "1": " Aww, congrats to the family. ;) Send me piccies in the email!",
                  "2": "Aww, congrats to the family.",
                  "3": "positive",
                  "index": 875
                },
                {
                  "0": "c35f392086",
                  "1": "Uber Bored ATM, after Out of the Blue, will have shower, then watch house or numb3rs (vid) then CSI + CSI NY + Bones Double . .. . YAY!",
                  "2": "YAY!",
                  "3": "positive",
                  "index": 876
                },
                {
                  "0": "83cdbdeada",
                  "1": "  i can`t.",
                  "2": "i can`t.",
                  "3": "neutral",
                  "index": 877
                },
                {
                  "0": "6e76e15092",
                  "1": "strongly agrees with Jason about Wolverine, but not about Hugh Jackman.  Sorry. No kids for this Mouse.",
                  "2": "strongly agrees with Jason about Wolverine, but not about Hugh Jackman.  Sorry. No kids for this Mouse.",
                  "3": "neutral",
                  "index": 878
                },
                {
                  "0": "11a05040a9",
                  "1": " you okay bby?",
                  "2": "you okay bby?",
                  "3": "neutral",
                  "index": 879
                },
                {
                  "0": "edd0fa3494",
                  "1": "okay okay sleep for realz now! Goodnight!  ::waves to followers::",
                  "2": "Goodnight!",
                  "3": "positive",
                  "index": 880
                },
                {
                  "0": "80c985a159",
                  "1": "Omg, my mom just called... Im too late... Hes gone",
                  "2": "Im too late... Hes gone",
                  "3": "negative",
                  "index": 881
                },
                {
                  "0": "ad2e9f53be",
                  "1": "Just lost my internet signal  how will life go on",
                  "2": "lost my internet signal",
                  "3": "negative",
                  "index": 882
                },
                {
                  "0": "a2e0a7c278",
                  "1": " sorry we didn`t get a chance to chat at #screengrab09. Caught glimpse of you across room but was dragged home prematurely",
                  "2": "sorry",
                  "3": "negative",
                  "index": 883
                },
                {
                  "0": "d153e50085",
                  "1": "__buckley Good for you mate, sadly I couldnt get pissed tonight **** driving bad times",
                  "2": "Good for you mate, sadly I couldnt get pissed tonight **** driving bad times",
                  "3": "positive",
                  "index": 884
                },
                {
                  "0": "ff5950afbb",
                  "1": "i just bit my tongue.  blood everywhere!!!",
                  "2": "blood everywhere!!!",
                  "3": "negative",
                  "index": 885
                },
                {
                  "0": "6632d58c82",
                  "1": "pulled up @ walmart aunt got out went in I fell asleep 2 hours later.... were r you?!  lol",
                  "2": "pulled up @ walmart aunt got out went in I fell asleep 2 hours later.... were r you?!  lol",
                  "3": "neutral",
                  "index": 886
                },
                {
                  "0": "1f82ec212e",
                  "1": "Searching my home for a few things to cook them for dinner this evening. It`s mothers day so guess who im eating with",
                  "2": "Searching my home for a few things to cook them for dinner this evening. It`s mothers day so guess who im eating with",
                  "3": "neutral",
                  "index": 887
                },
                {
                  "0": "1c32289f9a",
                  "1": " very very cute  and fun to watch.",
                  "2": "very very cute",
                  "3": "positive",
                  "index": 888
                },
                {
                  "0": "5250e01ce0",
                  "1": "Woke up at 7:50 then fell back to sleep. Woke up at 8:50 and back to sleep again. Woke up at 9:50 and I`m staying awake! MORNING!",
                  "2": "Woke up at 7:50 then fell back to sleep. Woke up at 8:50 and back to sleep again. Woke up at 9:50 and I`m staying awake! MORNING!",
                  "3": "neutral",
                  "index": 889
                },
                {
                  "0": "b6c236ef0d",
                  "1": "Great weekend, even though my site is not moved. Plenty other things to do and learn. Keeping the faith and looking to the future",
                  "2": "Great",
                  "3": "positive",
                  "index": 890
                },
                {
                  "0": "2a8f304f11",
                  "1": " don`t know it really hurt my arm. guess you have to booze me.. or just ask  or  if you don`t believe me!",
                  "2": "hurt my arm.",
                  "3": "negative",
                  "index": 891
                },
                {
                  "0": "584ed4d88e",
                  "1": "Not going to the dance recital and now i feel like a piece of **** cuz it cost so much money",
                  "2": "****",
                  "3": "negative",
                  "index": 892
                },
                {
                  "0": "f4e66c4f1a",
                  "1": "tiiiiiiired! Going to bed! Drinking leads to making out with boys, who you later forget their names.... Don`t drink kids. Goodnight",
                  "2": "tiiiiiiired! Going to bed!",
                  "3": "negative",
                  "index": 893
                },
                {
                  "0": "520d782e5e",
                  "1": " Just been in that kind of mood, not reason at all. Lol, but I`ll try not to be too mushy around you!  I can behave!",
                  "2": "Just been in that kind of mood, not reason at all. Lol, but I`ll try not to be too mushy around you!  I can behave!",
                  "3": "neutral",
                  "index": 894
                },
                {
                  "0": "60c870e68e",
                  "1": " thats what doting husbands are for LOL!!  I hope that once my braces go on, I can eat normally again",
                  "2": "I hope",
                  "3": "positive",
                  "index": 895
                },
                {
                  "0": "5d97a78333",
                  "1": "; keeps getting such delayed responses. why is my internet so messed up?!",
                  "2": "keeps getting such delayed responses. why is my internet so messed up?!",
                  "3": "negative",
                  "index": 896
                },
                {
                  "0": "7f4fd40fcf",
                  "1": "and dont tell burnsy - but no comparison between the rocky mountains and mountains in enlgland",
                  "2": "and dont tell burnsy - but no comparison between the rocky mountains and mountains in enlgland",
                  "3": "neutral",
                  "index": 897
                },
                {
                  "0": "92b005cd96",
                  "1": " I know, that is so sad.  I",
                  "2": "sad.",
                  "3": "negative",
                  "index": 898
                },
                {
                  "0": "5c09d44365",
                  "1": "Good Morning Twits!  Let`s makes today x100 better than the one before! Start runnin",
                  "2": "Good",
                  "3": "positive",
                  "index": 899
                },
                {
                  "0": "c53e7f7415",
                  "1": " I could get away with it. dare me? I`ll go buy it tomorrow",
                  "2": "I could get away with it. dare me? I`ll go buy it tomorrow",
                  "3": "neutral",
                  "index": 900
                },
                {
                  "0": "1f40da44dc",
                  "1": " Thanks man.  That sorted it. I only ever remember 222.222",
                  "2": "Thanks man.  That sorted it",
                  "3": "positive",
                  "index": 901
                },
                {
                  "0": "0a2bce3efa",
                  "1": "_Craig_G Hope your enjoying the money..it`s looking real good to me right now",
                  "2": "enjoying",
                  "3": "positive",
                  "index": 902
                },
                {
                  "0": "bddc27eafe",
                  "1": "This is my favourite shirt, because its true.  <3 grumpy.    a) cute  b) huggable  c) life of the party  (d)... http://tinyurl.com/q7eax7",
                  "2": "favourite",
                  "3": "positive",
                  "index": 903
                },
                {
                  "0": "d19ddcc745",
                  "1": "Ok, back to packing. Have been sitting in car charging phone as charger was left @ home as well",
                  "2": "Ok, back to packing. Have been sitting in car charging phone as charger was left @ home as well",
                  "3": "neutral",
                  "index": 904
                },
                {
                  "0": "0f5a1691df",
                  "1": "and thanks,  , fr. yr congratulatory gweetin`",
                  "2": "congratulatory",
                  "3": "positive",
                  "index": 905
                },
                {
                  "0": "6fb42d0a8e",
                  "1": " Every time I have Friday off. Sadly, that`s not too often",
                  "2": "Sadly, that`s not too often",
                  "3": "negative",
                  "index": 906
                },
                {
                  "0": "caf284161d",
                  "1": "Star trek was good times.",
                  "2": "good times.",
                  "3": "positive",
                  "index": 907
                },
                {
                  "0": "f541987e81",
                  "1": "The sun is not cool",
                  "2": "The sun is not cool",
                  "3": "negative",
                  "index": 908
                },
                {
                  "0": "f26ab1a9d4",
                  "1": "...  that was meeeaaannn. people make mistakes ok?! lol",
                  "2": "...  that was meeeaaannn.",
                  "3": "negative",
                  "index": 909
                },
                {
                  "0": "3c3ff93959",
                  "1": "Invisible car helps to boost recycling. Honest   http://twurl.nl/fdgmyo",
                  "2": "Invisible car helps to boost recycling. Honest",
                  "3": "positive",
                  "index": 910
                },
                {
                  "0": "1841a654de",
                  "1": "Baby baby, it`s gonna be all right when I`m by your side and the whole world turns against you... I ? it when my Ipod randoms BSB songs",
                  "2": "Baby baby, it`s gonna be all right when I`m by your side and the whole world turns against you... I ? it when my Ipod randoms BSB songs",
                  "3": "neutral",
                  "index": 911
                },
                {
                  "0": "dc36435d5a",
                  "1": "HA. Totally posting an update at 2am.Its lightning outside, pretty.",
                  "2": "pretty.",
                  "3": "positive",
                  "index": 912
                },
                {
                  "0": "249bd1fcea",
                  "1": " Do a tour in the Philippines sometime.  A lot of fans here would really love that!",
                  "2": "d really love that!",
                  "3": "positive",
                  "index": 913
                },
                {
                  "0": "6585732a49",
                  "1": "has broken off the fb wedding so sadly no longer has an excuse to get @ hauntingxealot to Goulburn",
                  "2": "so sadly",
                  "3": "negative",
                  "index": 914
                },
                {
                  "0": "66f8fa737a",
                  "1": " ...you are kickable.",
                  "2": "...you are kickable.",
                  "3": "neutral",
                  "index": 915
                },
                {
                  "0": "6970c09cfc",
                  "1": "_richie I also saw u on American Idol great performance, I see u will be at Windsor in June 20 Commodores won`t be there",
                  "2": "I also saw u on American Idol great performance, I see u will be at Windsor in June 20 Commodores won`t be there",
                  "3": "neutral",
                  "index": 916
                },
                {
                  "0": "c16a52d2a7",
                  "1": " nice clutch",
                  "2": "nice",
                  "3": "positive",
                  "index": 917
                },
                {
                  "0": "a342cf829b",
                  "1": "Happy Mother`s Day to all the mommies",
                  "2": "Happy",
                  "3": "positive",
                  "index": 918
                },
                {
                  "0": "e4a1945972",
                  "1": "Just finished watching 'Marley and Me'",
                  "2": "Just finished watching 'Marley and Me'",
                  "3": "neutral",
                  "index": 919
                },
                {
                  "0": "6268a5fa23",
                  "1": "Enjoying Mother`s Day",
                  "2": "Enjoying",
                  "3": "positive",
                  "index": 920
                },
                {
                  "0": "0c667d555e",
                  "1": " Everyone seems to love it, but it felt kinda lazy and repetative to me.  I was really disappointed.",
                  "2": "Everyone seems to love it, but it felt kinda lazy and repetative to me.  I was really disappointed.",
                  "3": "neutral",
                  "index": 921
                },
                {
                  "0": "a6340877e3",
                  "1": "Roll on Thursday",
                  "2": "Roll on Thursday",
                  "3": "neutral",
                  "index": 922
                },
                {
                  "0": "4b7059f018",
                  "1": "Dadgum, I think this nations shipping needs have shut down completely. still no freight for carriers out there.",
                  "2": "Dadgum, I think this nations shipping needs have shut down completely. still no freight for carriers out there.",
                  "3": "neutral",
                  "index": 923
                },
                {
                  "0": "f1e747751a",
                  "1": "cavs got lucky 2night  lol but lebron took over and killed em another triple double",
                  "2": "cavs got lucky 2night  lol but lebron took over and killed em another triple double",
                  "3": "neutral",
                  "index": 924
                },
                {
                  "0": "f4317a30ae",
                  "1": "Wishing all the mommies out there a very happy day!!!",
                  "2": "happy",
                  "3": "positive",
                  "index": 925
                },
                {
                  "0": "bd5e56bd6d",
                  "1": "What did I learn today? Never post anything you`ve sold on ebay using royal mail. They lose it, I refund: compo`s nowhere near - my bad",
                  "2": "my bad",
                  "3": "negative",
                  "index": 926
                },
                {
                  "0": "c2213ecb79",
                  "1": "_ Oh god, yeah! I forgot about that",
                  "2": "forgot",
                  "3": "negative",
                  "index": 927
                },
                {
                  "0": "3521fb0d31",
                  "1": "  as long as you have someone to make out with    lol",
                  "2": "as long as you have someone to make out with",
                  "3": "neutral",
                  "index": 928
                },
                {
                  "0": "52f70c2da6",
                  "1": " ahaha its stuck in my head; thanxx",
                  "2": "thanxx",
                  "3": "positive",
                  "index": 929
                },
                {
                  "0": "f8c1ff9b6e",
                  "1": " You arent following me, so i cant send you a DM..",
                  "2": "You arent following me, so i cant send you a DM..",
                  "3": "neutral",
                  "index": 930
                },
                {
                  "0": "f5e3ae4806",
                  "1": "I`m poorly and can`t sleep",
                  "2": "poorly",
                  "3": "negative",
                  "index": 931
                },
                {
                  "0": "568ad4a905",
                  "1": "Happy Star Wars Day ...  'May the 4th be with you'.... read http://tinyurl.com/axsujx for more ;)",
                  "2": "Happy St",
                  "3": "positive",
                  "index": 932
                },
                {
                  "0": "1e81e55e38",
                  "1": " I picked up a taco over lunch... you got a guitar.",
                  "2": "I picked up a taco over lunch... you got a guitar.",
                  "3": "neutral",
                  "index": 933
                },
                {
                  "0": "753d7f4ac2",
                  "1": "Buried under more web changes. Going to make lunch now... I won`t have a chance later. Too much to do.",
                  "2": "I won`t have a chance later.",
                  "3": "negative",
                  "index": 934
                },
                {
                  "0": "fbc44d0924",
                  "1": "'Up' is all sold out!!",
                  "2": "'Up' is all sold out!!",
                  "3": "neutral",
                  "index": 935
                },
                {
                  "0": "a8d9ff4fc3",
                  "1": "I hope everyone had a great weekend! I will be here on and off today as I have 2 important meetings today",
                  "2": "hope",
                  "3": "positive",
                  "index": 936
                },
                {
                  "0": "ec38c9863d",
                  "1": "_gd whoaa kinda hard :O that one that you think will be interesting enough to tell",
                  "2": "whoaa kinda hard :O that one that you think will be interesting enough to tell",
                  "3": "neutral",
                  "index": 937
                },
                {
                  "0": "ab75d13082",
                  "1": " http://twitpic.com/4qpzx - i love you guys  you`re the best",
                  "2": "s  you`re the best",
                  "3": "positive",
                  "index": 938
                },
                {
                  "0": "c502223f1e",
                  "1": "Listening 2 music @ home all alone lol  who wants 2 come over & hang with me LOL!!",
                  "2": "Listening 2 music @ home all alone lol  who wants 2 come over & hang with me LOL!!",
                  "3": "neutral",
                  "index": 939
                },
                {
                  "0": "b87178f4d3",
                  "1": " SHUT YOUR FACE! Why are you so mean to me? Pedro is supposed to be the mean one",
                  "2": "SHUT YOUR FACE!",
                  "3": "negative",
                  "index": 940
                },
                {
                  "0": "5c3f0ab2aa",
                  "1": " or so a month. I put my 2 week`s notice in a little over a week ago, my last day is this friday!",
                  "2": "or so a month. I put my 2 week`s notice in a little over a week ago, my last day is this friday!",
                  "3": "neutral",
                  "index": 941
                },
                {
                  "0": "e0635b5bbe",
                  "1": "oh yea mspacers my boy just hooked up my page  it looks kewl at least i think so and it only took him 5 minutes www.myspace.com/missmickey",
                  "2": "oh yea mspacers my boy just hooked up my page  it looks kewl at least i think so and it only took him 5 minutes www.myspace.com/missmickey",
                  "3": "neutral",
                  "index": 942
                },
                {
                  "0": "f0e3079931",
                  "1": "_babe woo! im getting mine on monday,cant wait  x",
                  "2": "cant wait",
                  "3": "positive",
                  "index": 943
                },
                {
                  "0": "85c86e7975",
                  "1": " awww she`s laavly ;) I had to come in  but I`ve got a stunning wee tan (l) ;) yourself?",
                  "2": "laavly",
                  "3": "positive",
                  "index": 944
                },
                {
                  "0": "e027da0b8d",
                  "1": " yes please  and if you`re gone i might actually get some work done lol",
                  "2": "yes please  and if you`re gone i might actually get some work done lol",
                  "3": "neutral",
                  "index": 945
                },
                {
                  "0": "992f2b16fb",
                  "1": "I`m really getting sick ugh **** nursing homes! Laying in bed, might go run later, watch some more movies with Austin. Sara & Sami left",
                  "2": "I`m really getting sick ugh",
                  "3": "negative",
                  "index": 946
                },
                {
                  "0": "c97b52ace6",
                  "1": " I saw you stalkerishly from the elevator, but Brookie was eating her moracca (?) So we had to go.",
                  "2": "stalkerishly",
                  "3": "negative",
                  "index": 947
                },
                {
                  "0": "48d8087f95",
                  "1": "???-?? ? youtube ? ????",
                  "2": "???-?? ? youtube ? ????",
                  "3": "neutral",
                  "index": 948
                },
                {
                  "0": "48037ebde3",
                  "1": "calling mum too ask if she can by ice-cream",
                  "2": "calling mum too ask if she can by ice-cream",
                  "3": "neutral",
                  "index": 949
                },
                {
                  "0": "dffeaa7330",
                  "1": "_ having a very lazy day, playing xbox and drinking tea",
                  "2": "_ having a very lazy day, playing xbox and drinking tea",
                  "3": "neutral",
                  "index": 950
                },
                {
                  "0": "55f2673e6b",
                  "1": " Well thatï¿½s disappointing to hear.",
                  "2": "s disappointing",
                  "3": "negative",
                  "index": 951
                },
                {
                  "0": "4ab133ebad",
                  "1": " well if i use all my tweets will be the push to make me go to the shop. and by the time im back it will be over hopefully",
                  "2": "hopefully",
                  "3": "positive",
                  "index": 952
                },
                {
                  "0": "ed5a6ba312",
                  "1": "My mom just texted me and told me that Rodney was chasing fireflies in their backyard. Awwwww I`m miss him    http://twitpic.com/66pn1",
                  "2": "My mom just texted me and told me that Rodney was chasing fireflies in their backyard. Awwwww I`m miss",
                  "3": "neutral",
                  "index": 953
                },
                {
                  "0": "abae918052",
                  "1": "is getting ready for bed. Happy Mother`s Day to all the mothers out there!",
                  "2": "Happy",
                  "3": "positive",
                  "index": 954
                },
                {
                  "0": "7abffbad91",
                  "1": " (blinks fast) its better now ... Lol thanks :-*",
                  "2": "thanks",
                  "3": "positive",
                  "index": 955
                },
                {
                  "0": "36e6c80b35",
                  "1": "My legs are killing me now.  but i know it`s a good pain all in all.",
                  "2": "My legs are killing me now.  but i know it`s a good pain all in all.",
                  "3": "neutral",
                  "index": 956
                },
                {
                  "0": "8ac49207e1",
                  "1": " (cont) a bastardized version of French? It`s fun, believe me!",
                  "2": "s fun,",
                  "3": "positive",
                  "index": 957
                },
                {
                  "0": "c400a6bf99",
                  "1": " alas, I am moving   (like where i`m moving too, but the actual moving, ugh) wish I could go too!",
                  "2": "h) wish I could go too",
                  "3": "positive",
                  "index": 958
                },
                {
                  "0": "45a9136ace",
                  "1": "ready to go home",
                  "2": "ready to go home",
                  "3": "neutral",
                  "index": 959
                },
                {
                  "0": "c6b72791c6",
                  "1": "need to push diet to last level. Not too good last week lost 1 lb. . Better than a gain",
                  "2": "need to push diet to last level. Not too good last week lost 1 lb. . Better than a gain",
                  "3": "neutral",
                  "index": 960
                },
                {
                  "0": "d8b30029da",
                  "1": "today Jon Doe plays at the Moho. ia m excited  itï¿½s gonna be funny.. but before i have to carry all the equipment and do the backline",
                  "2": "excited",
                  "3": "positive",
                  "index": 961
                },
                {
                  "0": "5481448e66",
                  "1": "My back is killing me...  It won`t keep me from dropping it low...hope I got someone to pick it back up tho... LOL",
                  "2": "My back is killing me...  It won`t keep me from dropping it low...hope I got someone to pick it back up tho... LOL",
                  "3": "neutral",
                  "index": 962
                },
                {
                  "0": "ae1b6151f2",
                  "1": "facebook is being a ****",
                  "2": "****",
                  "3": "negative",
                  "index": 963
                },
                {
                  "0": "e0ef3a78fc",
                  "1": "mad the rain got me...now i cant go see jaiden   *|)|/-\\|\\|/-\\*",
                  "2": "mad the rain got me..",
                  "3": "negative",
                  "index": 964
                },
                {
                  "0": "9e36c68f31",
                  "1": "I am at my grandparents place",
                  "2": "I am at my grandparents place",
                  "3": "neutral",
                  "index": 965
                },
                {
                  "0": "01f7a3b229",
                  "1": "hi from chile!!! It`s 9 deg C  winter`s coming....cant wait for cali sun.",
                  "2": "hi from chile!!! It`s 9 deg C  winter`s coming....cant wait for cali sun.",
                  "3": "neutral",
                  "index": 966
                },
                {
                  "0": "8c015be59f",
                  "1": "i dont feel very good",
                  "2": "i dont feel very good",
                  "3": "negative",
                  "index": 967
                },
                {
                  "0": "72bafdda6a",
                  "1": " I was born there",
                  "2": "I was born there",
                  "3": "neutral",
                  "index": 968
                },
                {
                  "0": "6c2ac7dbcb",
                  "1": " congradts on ur show  Even tho i wasnt there lol",
                  "2": "congradts on ur show  Even tho i wasnt there lol",
                  "3": "positive",
                  "index": 969
                },
                {
                  "0": "ea953646cb",
                  "1": "damjust finished watching Prison Break: the final break...omg i dont think i`ve cried so hard for a show..Finally understand the finale",
                  "2": "damjust finished watching Prison Break: the final break...omg i dont think i`ve cried so hard for a show..Finally understand the finale",
                  "3": "positive",
                  "index": 970
                },
                {
                  "0": "84200d46e6",
                  "1": "Visiting the grandparents in Manhattan, and dropping off my sister for the week! I wish I had an excuse to be so tired today..",
                  "2": "excuse",
                  "3": "negative",
                  "index": 971
                },
                {
                  "0": "0c95eb579e",
                  "1": "so glad it is friday  two classes, then lazy afternoon. too bad it isnt nice and warm out today",
                  "2": "so glad it is friday  two classes, then lazy afternoon. too bad it isnt nice and warm out today",
                  "3": "neutral",
                  "index": 972
                },
                {
                  "0": "ba047dae2b",
                  "1": " good luck.. Finally your long time will of panvel tweetup finally coming true..",
                  "2": "good",
                  "3": "positive",
                  "index": 973
                },
                {
                  "0": "6be832d308",
                  "1": "Heading off to Hollywood Studios today  Manta and Kraken were both awesome yesterday, feeling like doing a few more rides!!",
                  "2": "awesome",
                  "3": "positive",
                  "index": 974
                },
                {
                  "0": "0bb43bf3bc",
                  "1": "This weekend is going to be packed full of work for school  No life this summer I`m afraid.",
                  "2": "I`m afraid.",
                  "3": "negative",
                  "index": 975
                },
                {
                  "0": "9b81e91703",
                  "1": "Please read my blog http://amandallynn.blogspot.com/ I`m not having the best day",
                  "2": "I`m not having the best day",
                  "3": "negative",
                  "index": 976
                },
                {
                  "0": "66f9e8ee5e",
                  "1": "_Aid16 Goodnight!",
                  "2": "_Aid16 Goodnight!",
                  "3": "neutral",
                  "index": 977
                },
                {
                  "0": "6c7f3f8a21",
                  "1": " Welcome",
                  "2": "Welcome",
                  "3": "positive",
                  "index": 978
                },
                {
                  "0": "6ec800a85c",
                  "1": " Ha! Thanks Bryan! And don`t remind me about the state budget issues.  Actually, Steve only has 6 staffers in 3 offices.",
                  "2": "Thanks",
                  "3": "positive",
                  "index": 979
                },
                {
                  "0": "56c68e6b45",
                  "1": " Thanks, none close to me.",
                  "2": "Thanks,",
                  "3": "positive",
                  "index": 980
                },
                {
                  "0": "ec1c6989b0",
                  "1": "watered the tomato plants, pepper plants and lettuce, feeling all homely! off out with Freddie for a fun-packed day",
                  "2": "feeling all homely! off out with Freddie for a fun-packed day",
                  "3": "positive",
                  "index": 981
                },
                {
                  "0": "1b65a5216d",
                  "1": " haha i will remember that  ****",
                  "2": "haha i will remember that  ****",
                  "3": "neutral",
                  "index": 982
                },
                {
                  "0": "61fee88949",
                  "1": " will do  hee after exams, i`ll give u plenty of shows. HAHA hopeless me",
                  "2": "will do  hee after exams, i`ll give u plenty of shows. HAHA hopeless me",
                  "3": "neutral",
                  "index": 983
                },
                {
                  "0": "7411938f57",
                  "1": " I sorry",
                  "2": "I sorry",
                  "3": "positive",
                  "index": 984
                },
                {
                  "0": "2f36645604",
                  "1": " Awww, it does remind me of getting ready for the ball.",
                  "2": "Awww, it does remind me of getting ready for the ball.",
                  "3": "neutral",
                  "index": 985
                },
                {
                  "0": "b38290dfd8",
                  "1": " You did know, you just couldn`t remember!!",
                  "2": "just couldn`t remember!!",
                  "3": "negative",
                  "index": 986
                },
                {
                  "0": "2c7965a544",
                  "1": "_bishop  sez need to get u to look at my flights again  will email ur work tonite",
                  "2": "_bishop  sez need to get u to look at my flights again  will email ur work tonite",
                  "3": "neutral",
                  "index": 987
                },
                {
                  "0": "1a46538172",
                  "1": " if so, the TMobile G1 is the Hummer H1. I wish I had the battery life of an iPhone!",
                  "2": "I wish I had the battery life of an iPhone!",
                  "3": "positive",
                  "index": 988
                },
                {
                  "0": "a732d0a8eb",
                  "1": "nite nite twitts i wish u all a happy sunday i already have my major gift my my 2kids-my bro-n @_agressiva23 n 1 other gift on d way  tyg",
                  "2": "happy",
                  "3": "positive",
                  "index": 989
                },
                {
                  "0": "b2e551b292",
                  "1": "Omg. Its 1:47 am and Kim Possible is on Disney Channel right now. I am glued to the screen",
                  "2": "Omg.",
                  "3": "positive",
                  "index": 990
                },
                {
                  "0": "40ecb95c7e",
                  "1": " at first i thought bar life meant you were partying nonstop to catch up for the last 2 years...lol shoulda known better",
                  "2": "better",
                  "3": "positive",
                  "index": 991
                },
                {
                  "0": "8a2a4790e0",
                  "1": "Work in that heat is horrible !",
                  "2": "Work in that heat is horrible !",
                  "3": "negative",
                  "index": 992
                },
                {
                  "0": "5a7c51d790",
                  "1": " someone came in when I was sleeping off my national passtime and turned me human",
                  "2": "d turned me human",
                  "3": "positive",
                  "index": 993
                },
                {
                  "0": "e5909bf38b",
                  "1": " I see you didn`t shave your head. But I *LOVE* the cut.  I`m glad you didn`t shave it. Your hair`s too pretty!",
                  "2": "m glad",
                  "3": "positive",
                  "index": 994
                },
                {
                  "0": "fddcbe9285",
                  "1": "_starr Yep, the Hawkesbury Classic starts at Windsor, home of said DJ",
                  "2": "_starr Yep, the Hawkesbury Classic starts at Windsor, home of said DJ",
                  "3": "neutral",
                  "index": 995
                },
                {
                  "0": "7c7a445b8d",
                  "1": " I am twittering, LIKE A BOSS. Thanks Savvv",
                  "2": "Thanks Savvv",
                  "3": "positive",
                  "index": 996
                },
                {
                  "0": "fe6301dd3a",
                  "1": " my sleep pattern is screwed i need to try and stay up 2 midnight so i can get some decent sleep coz i havent slept",
                  "2": "my sleep pattern is screwed",
                  "3": "positive",
                  "index": 997
                },
                {
                  "0": "fd98097a71",
                  "1": " Since the demise of Woolworths it isn`t easy to find reasonably priced pick n mix anywhere",
                  "2": "isn`t easy to find",
                  "3": "negative",
                  "index": 998
                },
                {
                  "0": "a7b4ba7093",
                  "1": "may the fourth be with you! happy star wars day",
                  "2": "may the fourth be with you! happy star wars day",
                  "3": "positive",
                  "index": 999
                },
                {
                  "0": "6d2170e60f",
                  "1": " I`ve been unlocked for decades now...just not lucky, never have been.  Gottta make my own luck and that involves $$$$$",
                  "2": ".just not lucky, never have been.",
                  "3": "negative",
                  "index": 1000
                }
              ],
              "schema": [
                {
                  "key": "0",
                  "name": "textID",
                  "type": "string"
                },
                {
                  "key": "1",
                  "name": "text",
                  "type": "string"
                },
                {
                  "key": "2",
                  "name": "selected_text",
                  "type": "string"
                },
                {
                  "key": "3",
                  "name": "sentiment",
                  "type": "string"
                }
              ],
              "truncated": false
            }
          },
          "type": "Synapse.DataFrame"
        },
        "f12decfc-e7bb-4b62-94c0-5169960470c5": {
          "persist_state": {
            "view": {
              "chartOptions": {
                "aggregationType": "count",
                "binsNumber": 10,
                "categoryFieldKeys": [
                  "3"
                ],
                "chartType": "bar",
                "isStacked": false,
                "seriesFieldKeys": [
                  "1"
                ],
                "wordFrequency": "-1"
              },
              "tableOptions": {},
              "type": "details"
            }
          },
          "sync_state": {
            "isSummary": false,
            "language": "scala",
            "table": {
              "rows": [
                {
                  "0": "cc395894cc",
                  "1": "I had a horrible dream  it had to do with a scary face, now im awake for the rest of the night. God dammit :\",had a horrible dream,negative",
                  "2": "NULL",
                  "3": "NULL",
                  "index": 1
                },
                {
                  "0": "a19d94c943",
                  "1": "angry, sad, happy, excited, i hate how my moods change  right now i am immensely sad =\",immensely sad =\\,negative",
                  "2": "NULL",
                  "3": "NULL",
                  "index": 2
                },
                {
                  "0": "549e992a42",
                  "1": " Sooo SAD I will miss you here in San Diego!!!",
                  "2": "Sooo SAD",
                  "3": "negative",
                  "index": 3
                },
                {
                  "0": "088c60f138",
                  "1": "my boss is bullying me...",
                  "2": "bullying me",
                  "3": "negative",
                  "index": 4
                },
                {
                  "0": "9642c003ef",
                  "1": " what interview! leave me alone",
                  "2": "leave me alone",
                  "3": "negative",
                  "index": 5
                },
                {
                  "0": "358bd9e861",
                  "1": " Sons of ****, why couldn`t they put them on the releases we already bought",
                  "2": "Sons of ****,",
                  "3": "negative",
                  "index": 6
                },
                {
                  "0": "74a76f6e0a",
                  "1": "My Sharpie is running DANGERously low on ink",
                  "2": "DANGERously",
                  "3": "negative",
                  "index": 7
                },
                {
                  "0": "8a939bfb59",
                  "1": "Uh oh, I am sunburned",
                  "2": "Uh oh, I am sunburned",
                  "3": "negative",
                  "index": 8
                },
                {
                  "0": "3440297f8b",
                  "1": " S`ok, trying to plot alternatives as we speak *sigh*",
                  "2": "*sigh*",
                  "3": "negative",
                  "index": 9
                },
                {
                  "0": "af3fed7fc3",
                  "1": "is back home now      gonna miss every one",
                  "2": "onna",
                  "3": "negative",
                  "index": 10
                },
                {
                  "0": "852edc3769",
                  "1": "  I`m sorry.",
                  "2": "I`m sorry.",
                  "3": "negative",
                  "index": 11
                },
                {
                  "0": "bdc32ea43c",
                  "1": "On the way to Malaysia...no internet access to Twit",
                  "2": ".no internet",
                  "3": "negative",
                  "index": 12
                },
                {
                  "0": "d22e6d40a7",
                  "1": "Went to sleep and there is a power cut in Noida  Power back up not working too",
                  "2": "Power back up not working too",
                  "3": "negative",
                  "index": 13
                },
                {
                  "0": "1c31703aef",
                  "1": " If it is any consolation I got my BMI tested hahaha it says I am obesed  well so much for being unhappy for about 10 minutes.",
                  "2": "well so much for being unhappy for about 10 minute",
                  "3": "negative",
                  "index": 14
                },
                {
                  "0": "4b61dffbeb",
                  "1": "i`m soooooo sleeeeepy!!! the last day o` school was today....sniffle....",
                  "2": "soooooo sleeeeepy!!!",
                  "3": "negative",
                  "index": 15
                },
                {
                  "0": "ddf296dffa",
                  "1": "egh blah and boooooooooooo i dunno wanna go to work  HANGOVERS SUCKKKKKK Im a drunk mess!",
                  "2": "SUCKKKKKK",
                  "3": "negative",
                  "index": 16
                },
                {
                  "0": "3d9d4b0b55",
                  "1": "i donbt like to peel prawns, i also dont like going shopping, running out of money and crawling round the car looking for more",
                  "2": "dont like go",
                  "3": "negative",
                  "index": 17
                },
                {
                  "0": "3fcea4debc",
                  "1": " which case? I got a new one last week and I`m not thrilled at all with mine.",
                  "2": "d I`m not thrilled at all with mine.",
                  "3": "negative",
                  "index": 18
                },
                {
                  "0": "11084dac09",
                  "1": " it is ****...u have dissappointed me that past few days",
                  "2": "it is ****...u have dissappointed me that past few days",
                  "3": "negative",
                  "index": 19
                },
                {
                  "0": "703afdc44b",
                  "1": "Aw. Torn ace of hearts  #Hunchback",
                  "2": "Torn ace of hearts",
                  "3": "negative",
                  "index": 20
                },
                {
                  "0": "52483f7da8",
                  "1": "i lost all my friends, i`m alone and sleepy..i wanna go home",
                  "2": "i lost all my friends, i`m alone and sleepy..",
                  "3": "negative",
                  "index": 21
                },
                {
                  "0": "2a9765b7f9",
                  "1": "I give in to easily",
                  "2": "I give in to easily",
                  "3": "negative",
                  "index": 22
                },
                {
                  "0": "98f25bc596",
                  "1": "mannnn..... _ got an iphone!!! im jealous....  http://bit.ly/NgnaR",
                  "2": "jealous..",
                  "3": "negative",
                  "index": 23
                },
                {
                  "0": "35f393a245",
                  "1": "WOW, i AM REALLY MiSSiN THE FAM(iLY) TODAY. BADDD.",
                  "2": "BADDD.",
                  "3": "negative",
                  "index": 24
                },
                {
                  "0": "0a61cbf4b5",
                  "1": "I am sooo tired",
                  "2": "I am sooo tired",
                  "3": "negative",
                  "index": 25
                },
                {
                  "0": "64ed512788",
                  "1": "Sick. With a flu like thing.",
                  "2": "Sick.",
                  "3": "negative",
                  "index": 26
                },
                {
                  "0": "4cd390c007",
                  "1": "Still no reply from  about my SimFinger problem  So no iRape parody video until I get a response, sorry guys",
                  "2": ", sorry guys",
                  "3": "negative",
                  "index": 27
                },
                {
                  "0": "bffa3ddd61",
                  "1": "i miss you bby      wish you were going tomorrow to make me do good.",
                  "2": "i miss you bby",
                  "3": "negative",
                  "index": 28
                },
                {
                  "0": "61a8e11e8a",
                  "1": " CASEY`S GONE?!?! BUT WHY?! So, she piddled a little on the carpet. She`s prolly freaked cause it`s new. Can we get her back?",
                  "2": "freaked",
                  "3": "negative",
                  "index": 29
                },
                {
                  "0": "447dc22c81",
                  "1": " hemp cloth is marvelous but unfortunately no",
                  "2": "unfortunately",
                  "3": "negative",
                  "index": 30
                },
                {
                  "0": "ebcdf07ac5",
                  "1": "1 week post my'horrible, traumatic jumping cholla accident.'-cholla`s next dirty trick:pieces are starting to emerge from my hand! Ouch!",
                  "2": "horrible,",
                  "3": "negative",
                  "index": 31
                },
                {
                  "0": "fd9fb4f1ad",
                  "1": "i realy wanted to go out cause its so nice but everybodys busy",
                  "2": "busy",
                  "3": "negative",
                  "index": 32
                },
                {
                  "0": "43e9a93104",
                  "1": "So many tests todayyy  I don`t feel confident about anyy.",
                  "2": "I don`t feel confident",
                  "3": "negative",
                  "index": 33
                },
                {
                  "0": "401869d615",
                  "1": "graduation is done  im a little sad.. anyone want to hang out???",
                  "2": "sad.",
                  "3": "negative",
                  "index": 34
                },
                {
                  "0": "66057d58c2",
                  "1": "Not looking forward to next week: Maths, Geography, English and French exams, totalling 7 hours",
                  "2": "Not looking forward",
                  "3": "negative",
                  "index": 35
                },
                {
                  "0": "af90ad5989",
                  "1": " Poor you  Get outside and sleep in the garden, the sun will do you good. But don`t forget suncream!!!",
                  "2": "Poor you",
                  "3": "negative",
                  "index": 36
                },
                {
                  "0": "f0460d611d",
                  "1": "not well",
                  "2": "not well",
                  "3": "negative",
                  "index": 37
                },
                {
                  "0": "b495300bbf",
                  "1": " those splinters look very painful...but you were being very heroic saving mr. Pickle",
                  "2": "painful.",
                  "3": "negative",
                  "index": 38
                },
                {
                  "0": "504539e6ec",
                  "1": " why are you sad?",
                  "2": "sad?",
                  "3": "negative",
                  "index": 39
                },
                {
                  "0": "cb1b0d191d",
                  "1": "missed all the awesome weather, because she was in a movie!",
                  "2": "missed all the awesome weather,",
                  "3": "negative",
                  "index": 40
                },
                {
                  "0": "997a62f83f",
                  "1": "These kids are terrible! If I was in Good Evans, I`d call Childline",
                  "2": "terrible!",
                  "3": "negative",
                  "index": 41
                },
                {
                  "0": "7e1757d4f0",
                  "1": "Unfortunatley, AerLingus no longer fly to Copenhagen so we`re have to fly Ryanair to Billund and drive up to Copenhagen one of the days!",
                  "2": "Unfortunatley,",
                  "3": "negative",
                  "index": 42
                },
                {
                  "0": "254546cd2c",
                  "1": " What`s sad is that I actually had to google that term. That sucks, tho.",
                  "2": "That sucks, tho.",
                  "3": "negative",
                  "index": 43
                },
                {
                  "0": "7e4ed52c4a",
                  "1": "Hate fighting",
                  "2": "Hate fighting",
                  "3": "negative",
                  "index": 44
                },
                {
                  "0": "48cdcd5f28",
                  "1": "Car-warmed Sprite tastes like sore throat",
                  "2": "Car-warmed Sprite tastes like sore throat",
                  "3": "negative",
                  "index": 45
                },
                {
                  "0": "20ec7c7c32",
                  "1": "I WANT RED CRUISERS!!  i don`t like the other ones. LMFAO!",
                  "2": "i don`t like the other ones.",
                  "3": "negative",
                  "index": 46
                },
                {
                  "0": "5f93cc70ff",
                  "1": "Bugger. forgot I still have washing in my machine",
                  "2": "Bugger. forgot I still have washing in my machine",
                  "3": "negative",
                  "index": 47
                },
                {
                  "0": "e4e9b8713a",
                  "1": "My back hurts...really bad",
                  "2": ".really bad",
                  "3": "negative",
                  "index": 48
                },
                {
                  "0": "328a0e76bd",
                  "1": "My modem has been offline for a week now... God bless the 3g network. Tim just left... Again!! May schedule has been brutal",
                  "2": "brutal",
                  "3": "negative",
                  "index": 49
                },
                {
                  "0": "940eb93dd5",
                  "1": " Had parent teacher thing yesterday!! So boring going to skl on saturday!!  lol",
                  "2": "boring",
                  "3": "negative",
                  "index": 50
                },
                {
                  "0": "bc02870b7d",
                  "1": "URL in previous post (to timer job) should be http://bit.ly/a4Fdb. I`d removed space which messed up URL.  ^ES",
                  "2": "messed",
                  "3": "negative",
                  "index": 51
                },
                {
                  "0": "079e4e3472",
                  "1": "or even NOOOOO NOT THE SECRET NAMEREBECCA PLEASE",
                  "2": "NOT THE SECRET NAMEREBECCA PLEASE",
                  "3": "negative",
                  "index": 52
                },
                {
                  "0": "9d3a1e0269",
                  "1": "really hopes her car`s illness is not terminal...",
                  "2": "illness",
                  "3": "negative",
                  "index": 53
                },
                {
                  "0": "24ee55f264",
                  "1": "today was the last day of high school for me and i ended up going home sick! ... stupid dead rats",
                  "2": "sick!",
                  "3": "negative",
                  "index": 54
                },
                {
                  "0": "a0a306868a",
                  "1": "lost my tooth 2day whilst i was eating gum...oww",
                  "2": "oww",
                  "3": "negative",
                  "index": 55
                },
                {
                  "0": "3e880ec28d",
                  "1": "  WHAT ABOUT ME ??  I VOTE EVERY DAY FOR YOU !!!!!",
                  "2": "WHAT ABOUT ME ??  I VOTE EVERY DAY FOR YOU !!!!!",
                  "3": "negative",
                  "index": 56
                },
                {
                  "0": "38271074d1",
                  "1": "I`m starving!! This diet is killing me but I can`t eat after 8pm",
                  "2": "This diet is killing me",
                  "3": "negative",
                  "index": 57
                },
                {
                  "0": "f0db54f5bf",
                  "1": "im soo bored...im deffo missing my music channels",
                  "2": "bored..",
                  "3": "negative",
                  "index": 58
                },
                {
                  "0": "a6fccce9db",
                  "1": "should be sleeping.  lost my voice a couple day ago.",
                  "2": "lost my voice",
                  "3": "negative",
                  "index": 59
                },
                {
                  "0": "e6ee6826df",
                  "1": "I AM SUCH A CREEPER  I feel disappointed because of it. **** my cyberstalking skills   the internet = no more privacy.",
                  "2": "I AM SUCH A CREEPER  I feel disappointed because of it. **** my cyberstalking skills   the internet = no more privacy",
                  "3": "negative",
                  "index": 60
                },
                {
                  "0": "01b2476dd7",
                  "1": "going to bed its late and I have headache",
                  "2": "headache",
                  "3": "negative",
                  "index": 61
                },
                {
                  "0": "a8734230b6",
                  "1": "Ew traffic",
                  "2": "Ew traffic",
                  "3": "negative",
                  "index": 62
                },
                {
                  "0": "242d92151a",
                  "1": "Walking to class. I hate not having a bike....especially mine.",
                  "2": "I hate not having a bike..",
                  "3": "negative",
                  "index": 63
                },
                {
                  "0": "1d6411e9dd",
                  "1": "failed inspection. Did you know you can pass wo/oven, but not wo/anti-tip bracket, which is only sold w/oven? This is worse than taxes.",
                  "2": "This is worse than taxes.",
                  "3": "negative",
                  "index": 64
                },
                {
                  "0": "ce69e99e71",
                  "1": "I`m not sleeping at all until  accepts my appology",
                  "2": "I`m not sleeping at all un",
                  "3": "negative",
                  "index": 65
                },
                {
                  "0": "6402e14398",
                  "1": "Wolverine Was BOSS! Seriously, And Will.I.Am Was In It, What The **** ??",
                  "2": "Seriously,",
                  "3": "negative",
                  "index": 66
                },
                {
                  "0": "c5645758be",
                  "1": "Trying to decide on a movie with the friends.. not going to well! lol :p  No bible study 2nite, which means ****-day cake  buy my own??",
                  "2": "not going to well!",
                  "3": "negative",
                  "index": 67
                },
                {
                  "0": "799f65f193",
                  "1": " Yes it does. Please dont` go. If you die I will cry.. which normally leads to small animals getting harmed",
                  "2": "g harmed",
                  "3": "negative",
                  "index": 68
                },
                {
                  "0": "02c004bc2d",
                  "1": "I am tres depressed",
                  "2": "depressed",
                  "3": "negative",
                  "index": 69
                },
                {
                  "0": "b4d5f1e13e",
                  "1": "Felt like ****, behaved like my son; ate to compensate. Pigged out on home-roasted sugar almonds. Painful tum, threw up, still feel sick.",
                  "2": "sick.",
                  "3": "negative",
                  "index": 70
                },
                {
                  "0": "ba83f744d8",
                  "1": "You know your neck is jacked up when you are forced to pay for parking bc you can`t turn you head to parallel park in the free spaces...",
                  "2": "You know your neck is jacked up when you are forced to pay for parking bc you can`t turn you head to parallel park in the free spaces...",
                  "3": "negative",
                  "index": 71
                },
                {
                  "0": "73fa7068a2",
                  "1": " Yep, finished, chocked full of spelling and grammatical errors, but I`m cleaning it up tomorrow and popping it up  hehe",
                  "2": "chocked",
                  "3": "negative",
                  "index": 72
                },
                {
                  "0": "e3731b6ce8",
                  "1": " what`s goin on hun?  I`m worried about you",
                  "2": "m worried",
                  "3": "negative",
                  "index": 73
                },
                {
                  "0": "b09362ee8e",
                  "1": " Im not bannished... but I am at work till 6",
                  "2": "Im not bannished.",
                  "3": "negative",
                  "index": 74
                },
                {
                  "0": "b7a9ba95d0",
                  "1": "Dinner with the fam... I have missed them",
                  "2": "I have missed them",
                  "3": "negative",
                  "index": 75
                },
                {
                  "0": "c4ab28566e",
                  "1": "Ship. I`m stuck.",
                  "2": "Ship. I`m stuck.",
                  "3": "negative",
                  "index": 76
                },
                {
                  "0": "c25871ec9e",
                  "1": " Not going to dwell on it. It happened, it`s passed. Just a shame as he was so supportive! Such is life!  x",
                  "2": "shame",
                  "3": "negative",
                  "index": 77
                },
                {
                  "0": "1594011c6d",
                  "1": "Laying in bed til workkk... Oh the life. Definitely pinched a nerve.",
                  "2": "Definitely pinched a nerve.",
                  "3": "negative",
                  "index": 78
                },
                {
                  "0": "bb61a7094b",
                  "1": "today is a busy day. exhausting!",
                  "2": "exhausting!",
                  "3": "negative",
                  "index": 79
                },
                {
                  "0": "b5dd587dd2",
                  "1": " Sorry to hear ur flight got cancelled  that blows!!!",
                  "2": "Sorry",
                  "3": "negative",
                  "index": 80
                },
                {
                  "0": "e5160216a5",
                  "1": "ohh my tooth is hurts ohh  im sad it very hurts",
                  "2": "im sad it very hurts",
                  "3": "negative",
                  "index": 81
                },
                {
                  "0": "5680a0b488",
                  "1": " u think u have bills Ha!Ii just finished paying mine that`s y I`m broke",
                  "2": "I`m broke",
                  "3": "negative",
                  "index": 82
                },
                {
                  "0": "4c71b5fb91",
                  "1": "2 days without sleep and now a migraine. I thought life postR01 was meant to be relaxing",
                  "2": "now a migraine.",
                  "3": "negative",
                  "index": 83
                },
                {
                  "0": "0404648e1c",
                  "1": "?sucks!?..",
                  "2": "?sucks!?..",
                  "3": "negative",
                  "index": 84
                },
                {
                  "0": "f1f5e8edfa",
                  "1": "I Miss Daddy and Mommy",
                  "2": "I Miss Daddy and Mommy",
                  "3": "negative",
                  "index": 85
                },
                {
                  "0": "51f4502988",
                  "1": "My dog is officially depressed that my brother`s dogs are gone. He doesn`t want to go outside and when we did, he play half-heartedly.",
                  "2": "officially depressed",
                  "3": "negative",
                  "index": 86
                },
                {
                  "0": "9668542b2a",
                  "1": "Argh noo! Missed The Killers on Wossy!  That sucks! Missed out on Brandon. Total failure! Anyone know if it`s repeated? Must investigate!",
                  "2": "That sucks!",
                  "3": "negative",
                  "index": 87
                },
                {
                  "0": "cd5d081760",
                  "1": "seriously bored without anyone to talk to... but not tired enough for sleep",
                  "2": "bored",
                  "3": "negative",
                  "index": 88
                },
                {
                  "0": "061eb4c0de",
                  "1": " I am lost. Please help me find a good home.",
                  "2": "I am lost.",
                  "3": "negative",
                  "index": 89
                },
                {
                  "0": "59cb0c3a14",
                  "1": " I only do computers. Am hopeless at everything else",
                  "2": "Am hopeless at everything else",
                  "3": "negative",
                  "index": 90
                },
                {
                  "0": "1f581d48bc",
                  "1": " Sorry RB is on PS3 for me",
                  "2": "Sorry",
                  "3": "negative",
                  "index": 91
                },
                {
                  "0": "9191e574bb",
                  "1": "I just stuck my finger down my throat and there are a bunch of bumps on my tongue & throat.",
                  "2": "stuck",
                  "3": "negative",
                  "index": 92
                },
                {
                  "0": "f4e428e4b3",
                  "1": "dang last url went down  ? http://blip.fm/~7aigm",
                  "2": "dang",
                  "3": "negative",
                  "index": 93
                },
                {
                  "0": "1ee0b44db0",
                  "1": " ohoh i missed all ur tweets  im gonna have to stay awake all night to see the announcement now, **** time difference",
                  "2": "i missed all ur tweets",
                  "3": "negative",
                  "index": 94
                },
                {
                  "0": "4095d52d2d",
                  "1": " Damnit all. That sucks.  You were one of the ones I thought I`d drag back lol",
                  "2": "Damnit all. That sucks.",
                  "3": "negative",
                  "index": 95
                },
                {
                  "0": "e8be898842",
                  "1": "this is sooo crazy i have fever..",
                  "2": "this is sooo crazy",
                  "3": "negative",
                  "index": 96
                },
                {
                  "0": "9b388b2cd9",
                  "1": "is spending her Saturday morning taking notes for a research essay because some stupid **** recalled the book I`m using. Not fair",
                  "2": "some stupid ****",
                  "3": "negative",
                  "index": 97
                },
                {
                  "0": "c2a17084e9",
                  "1": " l`m on 3 days too matt. No fun this weekend.",
                  "2": "No fun",
                  "3": "negative",
                  "index": 98
                },
                {
                  "0": "356ad29589",
                  "1": " I feel your pain. Mine is the same way",
                  "2": "I feel your pain.",
                  "3": "negative",
                  "index": 99
                },
                {
                  "0": "81e6c0ac2d",
                  "1": " Sadly no. It didn`t come with one...",
                  "2": "Sadly",
                  "3": "negative",
                  "index": 100
                },
                {
                  "0": "81e29d1a0b",
                  "1": " aww I miss driving down elmwood",
                  "2": "aww I miss driving",
                  "3": "negative",
                  "index": 101
                },
                {
                  "0": "12da1098a2",
                  "1": " I`m 25 in december that`s not good at all next big birthday is 30  after 21 it flys by for sure",
                  "2": "that`s not good",
                  "3": "negative",
                  "index": 102
                },
                {
                  "0": "a210eda5c9",
                  "1": " sorry  friends - I`m swamped with deadlines right now and we have family visiting to boot! No charades for me.",
                  "2": "sorry  friends",
                  "3": "negative",
                  "index": 103
                },
                {
                  "0": "5fcf7bd80c",
                  "1": "My sunburn is peeling,",
                  "2": "My sunburn is peeling,",
                  "3": "negative",
                  "index": 104
                },
                {
                  "0": "bba9d463f4",
                  "1": "Laying ALONE!! Since Mook`s soo comfy in his f`n play pen. I thought it was ill at first now I don`t have no one to cuddle with...",
                  "2": "I don`t have no one to cuddle with..",
                  "3": "negative",
                  "index": 105
                },
                {
                  "0": "ebc8565a98",
                  "1": " nothing aimed at you, just joining in...sorry",
                  "2": ".sorry",
                  "3": "negative",
                  "index": 106
                },
                {
                  "0": "cf888f0df3",
                  "1": "I`m taking a twitter break. Cell is dying",
                  "2": "dying",
                  "3": "negative",
                  "index": 107
                },
                {
                  "0": "4c8d61cfd0",
                  "1": "I wish I could get my nails done  stupid job",
                  "2": "stupid job",
                  "3": "negative",
                  "index": 108
                },
                {
                  "0": "02e569bee0",
                  "1": "Dosen`t Want To Go To Work Tomorrow",
                  "2": "Dosen`t Want To",
                  "3": "negative",
                  "index": 109
                },
                {
                  "0": "db0db7f325",
                  "1": "My phone passed away yesterday.. He jumped off the table  Searching for a new phone...",
                  "2": "passed away",
                  "3": "negative",
                  "index": 110
                },
                {
                  "0": "b53d8f2b09",
                  "1": " Si, no bueno  I guess I just don`t entertain him :/",
                  "2": "s I just don`t entertain him :/",
                  "3": "negative",
                  "index": 111
                },
                {
                  "0": "71dddc0dff",
                  "1": "I`m so hunrgy right now and these heels kill me I can hardly walk in them",
                  "2": "kill me",
                  "3": "negative",
                  "index": 112
                },
                {
                  "0": "ca57a8830c",
                  "1": "both electronic keys stopped working. there is no keyhole! cant get in my car. so much for technology",
                  "2": "both electronic keys stopped working. there is no keyhole!",
                  "3": "negative",
                  "index": 113
                },
                {
                  "0": "187745f502",
                  "1": "'my name is Tony!!!!!! ...not hey!!!!' -  poor tony",
                  "2": "poor tony",
                  "3": "negative",
                  "index": 114
                },
                {
                  "0": "5010f92b03",
                  "1": "Took a shift tomorrow.    I don`t really feel like working right now.",
                  "2": "I don`t really feel like",
                  "3": "negative",
                  "index": 115
                },
                {
                  "0": "86462cc997",
                  "1": "No waterfront anymore   faccia luna and clarendon will have to do",
                  "2": "No waterfront anymore",
                  "3": "negative",
                  "index": 116
                },
                {
                  "0": "60d0bb5840",
                  "1": "Slipped up and caught the flu  feeling like poop!",
                  "2": "feeling like poop!",
                  "3": "negative",
                  "index": 117
                },
                {
                  "0": "e8770f1c78",
                  "1": "Ok ... the passengers ... no one is alive ... they`re all dead ... you just don`t know it til the end ... then you cry ...",
                  "2": "then you cry ...",
                  "3": "negative",
                  "index": 118
                },
                {
                  "0": "8a4740ee53",
                  "1": "I don`t want to sit at home on prom night. Someone hang out with me",
                  "2": "I don`t want to sit at home",
                  "3": "negative",
                  "index": 119
                },
                {
                  "0": "f2f7763cfd",
                  "1": " lol dammit  well then next time then",
                  "2": "dammit",
                  "3": "negative",
                  "index": 120
                },
                {
                  "0": "7a7228dc2e",
                  "1": " Still jealous",
                  "2": "Still jealous",
                  "3": "negative",
                  "index": 121
                },
                {
                  "0": "754ebd84b4",
                  "1": "http://twitpic.com/67qv3 - Me at Forever 21  Ethan couldn`t be there",
                  "2": "Me at Forever 21  Ethan couldn`t be there",
                  "3": "negative",
                  "index": 122
                },
                {
                  "0": "fba4c01756",
                  "1": "NOW IM SAD BUT IM NOT GIVING IN FIRST..I DIDNT DO NOTHING!!!!    :**-(",
                  "2": "SAD",
                  "3": "negative",
                  "index": 123
                },
                {
                  "0": "0888304834",
                  "1": "this week of mine was not easy!  but finally it`s over! (:",
                  "2": "not easy!",
                  "3": "negative",
                  "index": 124
                },
                {
                  "0": "95b9338e05",
                  "1": "Bouncing Rush makes me feel nauseous",
                  "2": "Bouncing Rush makes me feel nauseous",
                  "3": "negative",
                  "index": 125
                },
                {
                  "0": "d31f708485",
                  "1": "playing singstar without my fave duetter",
                  "2": "playing singstar without my fave duetter",
                  "3": "negative",
                  "index": 126
                },
                {
                  "0": "3aae3dab5c",
                  "1": " That`s just weird... :\\  Oh, and what was it you were drawing for me?",
                  "2": "That`s just weird... :\\",
                  "3": "negative",
                  "index": 127
                },
                {
                  "0": "7a4a97fba9",
                  "1": "The birds are out,, oh man... That`s NOT cool && I didn`t sleep yet for the night!!!",
                  "2": "That`s NOT cool",
                  "3": "negative",
                  "index": 128
                },
                {
                  "0": "32ffcb07c4",
                  "1": "My Street Fighter IV skills are lacking, can`t beat Seth on easy.",
                  "2": "lacking,",
                  "3": "negative",
                  "index": 129
                },
                {
                  "0": "3c8e8d1940",
                  "1": "my son got stung by a bug for the first time  his little finger is slightly swollen.",
                  "2": "swollen.",
                  "3": "negative",
                  "index": 130
                },
                {
                  "0": "02e6423e39",
                  "1": "Bumping dj opus in the drunk in the car.  lmao. Don`t act like u don`t know.",
                  "2": "Don`t act like u don`t know.",
                  "3": "negative",
                  "index": 131
                },
                {
                  "0": "51c2d21362",
                  "1": "Here`s a brief preview: http://bit.ly/eHCfP   OMG James is creepy in that role! I`m scared of him",
                  "2": "! I`m scared of him",
                  "3": "negative",
                  "index": 132
                },
                {
                  "0": "edeeaa9756",
                  "1": "Hicks are mean!",
                  "2": "mean!",
                  "3": "negative",
                  "index": 133
                },
                {
                  "0": "feec8aa27b",
                  "1": "gettn ready to take a trip to Jersey my dad`s not doing so good, he needs a new heart~whoeva see`s this please say a prayer for my dad",
                  "2": "not doing so good,",
                  "3": "negative",
                  "index": 134
                },
                {
                  "0": "e6c988afb8",
                  "1": "Home until tomorrow. Did my running and spinning. Now time for chiropractor, laundry, shopping, and visiting family. Missing nathan",
                  "2": "Missing",
                  "3": "negative",
                  "index": 135
                },
                {
                  "0": "df9882c24d",
                  "1": " And most of us are going to be stuck in an office, some without windows",
                  "2": "stuck",
                  "3": "negative",
                  "index": 136
                },
                {
                  "0": "22a8a4639e",
                  "1": " No it`s not sad. Should make you proud",
                  "2": "sad.",
                  "3": "negative",
                  "index": 137
                },
                {
                  "0": "ee9df322d1",
                  "1": "   Sorry, we`ll try to keep it down.",
                  "2": "Sorr",
                  "3": "negative",
                  "index": 138
                },
                {
                  "0": "7082999a93",
                  "1": "According to , a quarter of families under six live in poverty.",
                  "2": "live in poverty.",
                  "3": "negative",
                  "index": 139
                },
                {
                  "0": "cf29e364fe",
                  "1": "the plan to not spend money is not going well",
                  "2": "not going well",
                  "3": "negative",
                  "index": 140
                },
                {
                  "0": "060d8bb5d5",
                  "1": " actually, I wish I was back in Tahoe.  I miss it there.",
                  "2": "I miss it there",
                  "3": "negative",
                  "index": 141
                },
                {
                  "0": "18f60b8879",
                  "1": " but my bday is JUNE 19.. this is wack... and ihavent seen any promotions for my bday party  someone better finagle this asap!",
                  "2": "wack.",
                  "3": "negative",
                  "index": 142
                },
                {
                  "0": "726e099885",
                  "1": " but it all went too quick and there wasn`t a chance lol",
                  "2": "d there wasn`t a chance",
                  "3": "negative",
                  "index": 143
                },
                {
                  "0": "56d742e6bc",
                  "1": "Hates headaches! Maybe I`m not ready to rock",
                  "2": "Hates",
                  "3": "negative",
                  "index": 144
                },
                {
                  "0": "c2fc42a9ff",
                  "1": " traumatizing moment of my childhood. my dogs massacred baby bunnies and my brother and i got out the bb gun...",
                  "2": "traumatizing",
                  "3": "negative",
                  "index": 145
                },
                {
                  "0": "72cfb17265",
                  "1": " 'organization ...ITIL, forget about people (and so they fail)' preaching to the converted  IT is the people http://tr.im/kWUA",
                  "2": "fail)",
                  "3": "negative",
                  "index": 146
                },
                {
                  "0": "4f6c17bae7",
                  "1": " im allergic to cats! my tonsils get swollen and they hurt  what do i dooo?!",
                  "2": "im allergic to cats! my tonsils get swollen and they hurt  what do i dooo?!",
                  "3": "negative",
                  "index": 147
                },
                {
                  "0": "fa1385e537",
                  "1": " He says he feels mama tucking him in at night  He`s lonely but getting by. Tomorrow will be tough!",
                  "2": ". Tomorrow will be tough!",
                  "3": "negative",
                  "index": 148
                },
                {
                  "0": "034f2e2104",
                  "1": "i am living in ignorance  :@",
                  "2": "i am living in ignorance",
                  "3": "negative",
                  "index": 149
                },
                {
                  "0": "6a9023f1af",
                  "1": " AWWWW  we`re gonna miss you!",
                  "2": "AWWWW  we`re gonna miss you!",
                  "3": "negative",
                  "index": 150
                },
                {
                  "0": "781d900e89",
                  "1": " Beto`s Pizzeria is on Banksville Rd in I believe the Beachview area... Sorry to answer like 100 years later",
                  "2": ". Sorry",
                  "3": "negative",
                  "index": 151
                },
                {
                  "0": "8aacb54f42",
                  "1": "sigh, my sisters bein strange.. she came all the way from copenhagen to london, and now her phones turned off.. i wanna see her dammit",
                  "2": "dammit",
                  "3": "negative",
                  "index": 152
                },
                {
                  "0": "8e26c8c6e8",
                  "1": "I`m sick and sad .... missing out on Martini Lounge tonight",
                  "2": "sick and sad ..",
                  "3": "negative",
                  "index": 153
                },
                {
                  "0": "8df4e78879",
                  "1": "Really wishes he had some spare cash to buy the new Punch Out for Wii",
                  "2": "Really wishes he had some spare cash to buy the new Punch Out for Wii",
                  "3": "negative",
                  "index": 154
                },
                {
                  "0": "9843ecd416",
                  "1": "Aw, not going to Toronto anymore.",
                  "2": "not going",
                  "3": "negative",
                  "index": 155
                },
                {
                  "0": "33596d8109",
                  "1": " So sorry to hear about your mom! that really sucks",
                  "2": "So sorry",
                  "3": "negative",
                  "index": 156
                },
                {
                  "0": "82215b50d4",
                  "1": "Can`t sleep...so I`m watching HGTV. I`m afraid infomercials are about to take over",
                  "2": "Can`t sleep..",
                  "3": "negative",
                  "index": 157
                },
                {
                  "0": "150ebb41ba",
                  "1": "I`m getting me & my family ready for Kaylee`s graduation! It`s gonna make me so sad.",
                  "2": "sad.",
                  "3": "negative",
                  "index": 158
                },
                {
                  "0": "3b0e6c2c55",
                  "1": "IN PAIN. my big toe got stomped on during the hokey cokeu. it`s throbbing. anyone have any suggestions to heal it?",
                  "2": "PAIN.",
                  "3": "negative",
                  "index": 159
                },
                {
                  "0": "2839a4d1d8",
                  "1": "Stupid jobs, idk what to do.",
                  "2": "Stupid",
                  "3": "negative",
                  "index": 160
                },
                {
                  "0": "5b747a13f6",
                  "1": "Shopped til i dropped....come bac sunshine i miss u",
                  "2": "Shopped til i dropped....come bac sunshine i miss u",
                  "3": "negative",
                  "index": 161
                },
                {
                  "0": "443d30a0ba",
                  "1": "_rc234 haha  yup. but still have a terrible headache and super swollen and puffy eyes! i dont think im going out today.ugh!",
                  "2": "terrible headache and super swollen and puffy eyes! i dont think im going out today.ugh!",
                  "3": "negative",
                  "index": 162
                },
                {
                  "0": "2b6017f8f5",
                  "1": "We are on the slowest train ever, it stops everywhere. Missed a quick train by a few minutes",
                  "2": "slowest train ever,",
                  "3": "negative",
                  "index": 163
                },
                {
                  "0": "03f9f6f798",
                  "1": "I don`t think I`ve ever been so tierd in my life.Ugh,goodnight.So sleeping in tomorrow",
                  "2": "I don`t think I`ve ever been so tierd in my life.U",
                  "3": "negative",
                  "index": 164
                },
                {
                  "0": "7f0cdc1ac1",
                  "1": "why doesnt he want me anymore",
                  "2": "why doesnt he want me anymore",
                  "3": "negative",
                  "index": 165
                },
                {
                  "0": "c8ac0b9545",
                  "1": "bad hair day",
                  "2": "bad hair day",
                  "3": "negative",
                  "index": 166
                },
                {
                  "0": "bc879a25b0",
                  "1": ".....headache",
                  "2": "headache",
                  "3": "negative",
                  "index": 167
                },
                {
                  "0": "4f9abe51eb",
                  "1": " I bet its cool down in SR, huh? It`s not here. I haven`t stopped sweating since noon when dad and I were packing",
                  "2": "huh?",
                  "3": "negative",
                  "index": 168
                },
                {
                  "0": "e69a965399",
                  "1": "Stupid bipolar weather ruined my day off",
                  "2": "Stupid",
                  "3": "negative",
                  "index": 169
                },
                {
                  "0": "2f1cd44ea2",
                  "1": " I didn`t want to tell you but I think it`s your body odour",
                  "2": "I didn`t want to tell you but I think it`s your body odour",
                  "3": "negative",
                  "index": 170
                },
                {
                  "0": "3e4b3ec6a6",
                  "1": " Unfortunately for us it looks like there are NO funny people on twitter  Should we move to FB or start our own...flitter",
                  "2": "Unfortunately",
                  "3": "negative",
                  "index": 171
                },
                {
                  "0": "63a116ae1b",
                  "1": " did you see the 15 sec clip of the New Moon trailer?? its up on ETonline.com ...check it out. its a big tease, though",
                  "2": "tease,",
                  "3": "negative",
                  "index": 172
                },
                {
                  "0": "925e61d3d8",
                  "1": " I submitted my resume the same day and saw no answer back. Oh well...",
                  "2": "no answer back.",
                  "3": "negative",
                  "index": 173
                },
                {
                  "0": "15f47296e2",
                  "1": "Sooo.....I`m kinda o sick n tired of the bs that guys dish out  !!!!!!!!",
                  "2": "I`m kinda o sick n tired",
                  "3": "negative",
                  "index": 174
                },
                {
                  "0": "eba1f29fb0",
                  "1": " boo... i was hoping for a fake alien story with a tinfoil covered beachball photo",
                  "2": "boo.",
                  "3": "negative",
                  "index": 175
                },
                {
                  "0": "4e85f6e9b0",
                  "1": "missed out on westcott micro apollo too",
                  "2": "missed out",
                  "3": "negative",
                  "index": 176
                },
                {
                  "0": "ae8fd767fc",
                  "1": "I`m sleepy but is feeling under the weather! ugh! These **** tonsils. I need some company or somebody to talk too!",
                  "2": "ugh! These **** tonsils.",
                  "3": "negative",
                  "index": 177
                },
                {
                  "0": "241ece149d",
                  "1": "planning! and trying to call the doctor, though that isn`t going so well. So mostly, planning",
                  "2": "though that isn`t going so well.",
                  "3": "negative",
                  "index": 178
                },
                {
                  "0": "80a24991b3",
                  "1": "im back to this z-index problem...again",
                  "2": "im back to this z-index problem...again",
                  "3": "negative",
                  "index": 179
                },
                {
                  "0": "0549e452ec",
                  "1": "is anyone out there??  so bored at work...",
                  "2": "so bored at work...",
                  "3": "negative",
                  "index": 180
                },
                {
                  "0": "ebeea1f86c",
                  "1": "Am hating my life at the moment. There`s only so many NOs my delicate little mind can take",
                  "2": "hating",
                  "3": "negative",
                  "index": 181
                },
                {
                  "0": "fcfa10681f",
                  "1": "first day of summer sucks!!!! its overcast and cold...  this isn`t summer!?!?!?!?",
                  "2": "sucks!!",
                  "3": "negative",
                  "index": 182
                },
                {
                  "0": "f3a5b39195",
                  "1": " Not available in my area  I would too",
                  "2": "Not available in my area",
                  "3": "negative",
                  "index": 183
                },
                {
                  "0": "1b9afa81bf",
                  "1": "Waiting for 5:00 & having cramps",
                  "2": "cramps",
                  "3": "negative",
                  "index": 184
                },
                {
                  "0": "a834cef9c6",
                  "1": "1st presentation for senior boards? FML",
                  "2": "FML",
                  "3": "negative",
                  "index": 185
                },
                {
                  "0": "687ee0bd2d",
                  "1": "Wide awake and grouchy as ****.",
                  "2": "grouchy",
                  "3": "negative",
                  "index": 186
                },
                {
                  "0": "e20b9a322f",
                  "1": "just when i thought things couldn`t get any worse. it just did. and it will get even worse tonight, i bet.  my life is a misery.",
                  "2": "worse.",
                  "3": "negative",
                  "index": 187
                },
                {
                  "0": "153027be1c",
                  "1": " wheres the music mannnn!!?? my inbox is still empty",
                  "2": "my inbox is still empty",
                  "3": "negative",
                  "index": 188
                },
                {
                  "0": "dd9b922aad",
                  "1": "What am I doing atm? http://twitpic.com/4jmeh Oh yeah. Apple Juice  I`m such a rebel!",
                  "2": "I`m such a rebel!",
                  "3": "negative",
                  "index": 189
                },
                {
                  "0": "3f54e1d2cb",
                  "1": " ...i`m sorry about you are still sick  u know most of them, AND i know that u will guess the 'pelzer present' ;-)",
                  "2": ".i`m sorry",
                  "3": "negative",
                  "index": 190
                },
                {
                  "0": "2209fb4785",
                  "1": "  That was stone cold   Crazy....  ?",
                  "2": "That was stone cold   Crazy.",
                  "3": "negative",
                  "index": 191
                },
                {
                  "0": "b36197ce92",
                  "1": "Crisis: forgot my fringe comb  I`m with men....no one will help me",
                  "2": ".no one will help me",
                  "3": "negative",
                  "index": 192
                },
                {
                  "0": "04510889b6",
                  "1": "_Kill_Boy oh sorry! not getting all my replies  nothing against you. and yes, i do know nirvana",
                  "2": "oh sorry! not getting all my replies  nothing against you.",
                  "3": "negative",
                  "index": 193
                },
                {
                  "0": "24bc4edb49",
                  "1": "_ nooo  no roo crying. but omg i wanted to slap her. she was singing fine then from out of nowhere- BOOHOOOOOOOOOOO",
                  "2": "omg i wanted to slap her.",
                  "3": "negative",
                  "index": 194
                },
                {
                  "0": "df4b40b30e",
                  "1": "In the emergency room with my cousin. She`s got mad flu and can`t walk or breathe.  Why are hospitals always so cold?",
                  "2": "mad",
                  "3": "negative",
                  "index": 195
                },
                {
                  "0": "e4c637df1d",
                  "1": "Twitter, you just fail at life sometimes.  Oh well. http://tinyurl.com/qkxh7q",
                  "2": "fail at life sometimes.",
                  "3": "negative",
                  "index": 196
                },
                {
                  "0": "72f8d5e864",
                  "1": " well doesn`t that look fab, even if I do say so myself!",
                  "2": "doesn`t that look fab,",
                  "3": "negative",
                  "index": 197
                },
                {
                  "0": "9d30f19fe0",
                  "1": "has a terrible headache.  I need relief!",
                  "2": "terrible",
                  "3": "negative",
                  "index": 198
                },
                {
                  "0": "1b35e9d109",
                  "1": "Two months ago, I became irrelevant.",
                  "2": "irrelevant.",
                  "3": "negative",
                  "index": 199
                },
                {
                  "0": "cae4719603",
                  "1": "Finally sunny days and I`m too sick to go outside and play.",
                  "2": "I`m too sick to go outside",
                  "3": "negative",
                  "index": 200
                },
                {
                  "0": "e19e92412a",
                  "1": "So screwed for sat 2 us",
                  "2": "screwed",
                  "3": "negative",
                  "index": 201
                },
                {
                  "0": "55bc437a33",
                  "1": "Just got an IM from another co-worker who just got laid off. Lots of people becoming unemployed",
                  "2": "just got laid off. Lots of people becoming unemployed",
                  "3": "negative",
                  "index": 202
                },
                {
                  "0": "d4824f31d8",
                  "1": "i never knew a dentention was so hard 2 get",
                  "2": "i never knew a dentention was so hard",
                  "3": "negative",
                  "index": 203
                },
                {
                  "0": "829fd30504",
                  "1": "my nail broke  I haaaaaaaaate",
                  "2": "my nail broke  I haaaaaaaaate",
                  "3": "negative",
                  "index": 204
                },
                {
                  "0": "fc92519d0d",
                  "1": " Dang... that IS disappointing",
                  "2": "IS disappointing",
                  "3": "negative",
                  "index": 205
                },
                {
                  "0": "0bc2e46e4e",
                  "1": "  Thanks! My mom`s seed is larger and already cracked (and planted). I hope Avalina isn`t a dud!",
                  "2": ". I hope Avalina isn`t a dud!",
                  "3": "negative",
                  "index": 206
                },
                {
                  "0": "a2056ff40a",
                  "1": "hates this weather",
                  "2": "hates",
                  "3": "negative",
                  "index": 207
                },
                {
                  "0": "ec66683c9f",
                  "1": "Flap-a-taco was nice until the plebs came in.",
                  "2": "Flap-a-taco was nice until the plebs came in.",
                  "3": "negative",
                  "index": 208
                },
                {
                  "0": "c0f58575bf",
                  "1": " i want to experience snow  we don`t have snow here and it sucks",
                  "2": "t sucks",
                  "3": "negative",
                  "index": 209
                },
                {
                  "0": "7d770c7bd6",
                  "1": "i have such a sore head",
                  "2": "sore head",
                  "3": "negative",
                  "index": 210
                },
                {
                  "0": "cbdbfb9de2",
                  "1": "is bored, cant go on habbo stupid ban",
                  "2": "stupid",
                  "3": "negative",
                  "index": 211
                },
                {
                  "0": "708b41b0c8",
                  "1": " I don`t think I am, my sisters refusn to get me a ticket now.  what you doing next week?",
                  "2": "I don`t think I am, my sisters refusn to get me a ticket now.",
                  "3": "negative",
                  "index": 212
                },
                {
                  "0": "49e24a4501",
                  "1": "nooooo its raining......had 2 leave the beach",
                  "2": "nooooo its raining..",
                  "3": "negative",
                  "index": 213
                },
                {
                  "0": "66521b4652",
                  "1": "i have no idea what im doing and i am completely lost.",
                  "2": "i am completely lost.",
                  "3": "negative",
                  "index": 214
                },
                {
                  "0": "8d9f0090b0",
                  "1": " I think that may look a little silly -.- Also my camera is broken so no photo",
                  "2": "silly",
                  "3": "negative",
                  "index": 215
                },
                {
                  "0": "da2bf1eb03",
                  "1": "this day has beasted me.",
                  "2": "beasted",
                  "3": "negative",
                  "index": 216
                },
                {
                  "0": "a30612b7f6",
                  "1": "OH NEVERMIND I THINK THIS THING IS UNSALVAGEABLE",
                  "2": "UNSALVAGEABLE",
                  "3": "negative",
                  "index": 217
                },
                {
                  "0": "fac4f75f45",
                  "1": "I just spent 2 hours looking for a blog topic and ended up inventing my own.  grrrr    http://bit.ly/QRz6y",
                  "2": "ended up inventing my own.",
                  "3": "negative",
                  "index": 218
                },
                {
                  "0": "28f000e641",
                  "1": " seems to have disappeared out of my life",
                  "2": "seems to have disappeared out of my life",
                  "3": "negative",
                  "index": 219
                },
                {
                  "0": "233b90417d",
                  "1": "****, I never knew I could miss my phone so much for 4 hours till they told me I won`t have it back till then",
                  "2": "****,",
                  "3": "negative",
                  "index": 220
                },
                {
                  "0": "0d32a589d2",
                  "1": "_Lay aww well I just randomly woke up and now I can`t sleep! Too many things on my mind",
                  "2": "aww",
                  "3": "negative",
                  "index": 221
                },
                {
                  "0": "0aa7e2d375",
                  "1": "That`s it? It`s done already? This is one proof that there`s nothing fair in this world.   http://bit.ly/10UEMq",
                  "2": "nothing fair",
                  "3": "negative",
                  "index": 222
                },
                {
                  "0": "8074eded04",
                  "1": "Ugh! I wanna play dnd but i know i`m going to fail this final. I NEED to study",
                  "2": "i`m going to fail this final.",
                  "3": "negative",
                  "index": 223
                },
                {
                  "0": "70eb969d45",
                  "1": " how sad! are you saying that I`m fat?  *tears*",
                  "2": "how sad! are you saying that I`m fat?  *tears*",
                  "3": "negative",
                  "index": 224
                },
                {
                  "0": "2003e360f8",
                  "1": "I`m trying to find the driver for my Microsoft Lifecam VX-3000 Webcam and can`t find it anywhere! anyone have any links?",
                  "2": "can`t find it anywhere!",
                  "3": "negative",
                  "index": 225
                },
                {
                  "0": "198c97b57a",
                  "1": "Finally get to lay down for a bit i have a major headache",
                  "2": "i have a major headache",
                  "3": "negative",
                  "index": 226
                },
                {
                  "0": "38b91a3688",
                  "1": "Stupid me, accidentally gave my honey the Atomic flavored buffalo wings and now his stomach feels just awful..... Im sorry baby",
                  "2": "Stupid me,",
                  "3": "negative",
                  "index": 227
                },
                {
                  "0": "7f9b45945a",
                  "1": "i got over the crush issue but now tomorrow my friend is going to india for the whole summer  im back to being sad.",
                  "2": "sad.",
                  "3": "negative",
                  "index": 228
                },
                {
                  "0": "29e8b6bb7f",
                  "1": "Going to the courthouse to pay for tags & taxes on all our cars...this is gonna be expensive.",
                  "2": "expensive.",
                  "3": "negative",
                  "index": 229
                },
                {
                  "0": "252e56c4d1",
                  "1": "So tired & ready for bed!! Really in the mood for salt & pepper chicken wings & noodles but have no money on me for a Chinese!",
                  "2": "So tired &",
                  "3": "negative",
                  "index": 230
                },
                {
                  "0": "01427ed7f0",
                  "1": "Mad tired. But it`s the hols! I miss chomp chomp terribly!",
                  "2": "Mad tired. But it`s the hols! I miss chomp chomp terribly!",
                  "3": "negative",
                  "index": 231
                },
                {
                  "0": "90469c762f",
                  "1": "watching 'That Thing You Do' on Comcast. Missing my boo like crrrrrazy!",
                  "2": "Missing",
                  "3": "negative",
                  "index": 232
                },
                {
                  "0": "647e680fec",
                  "1": "It just had to rain on me almost a perfect day now my clothes are wet",
                  "2": "It just had to rain on me",
                  "3": "negative",
                  "index": 233
                },
                {
                  "0": "43b0426667",
                  "1": " lol, i`ve done that one b4  i`m a victim 2 that! lol",
                  "2": "i`m a victim",
                  "3": "negative",
                  "index": 234
                },
                {
                  "0": "e9785cbd8c",
                  "1": "i would slip and fall... on the dirty school bathroom floor. fml.",
                  "2": "i would slip and fall..",
                  "3": "negative",
                  "index": 235
                },
                {
                  "0": "3bfc997081",
                  "1": " ugggh idk how to do that  but i only wanna stop getting texts from twitterr  -ilsE*",
                  "2": "a stop",
                  "3": "negative",
                  "index": 236
                },
                {
                  "0": "a7850c4612",
                  "1": "Just came back from watching Terminator Salvation @ Cathay. It`s so-so only, not so much action  but I feel sorry for Marcus though.",
                  "2": "but I feel sorry for Marcus though.",
                  "3": "negative",
                  "index": 237
                },
                {
                  "0": "f11843720f",
                  "1": "I can`t believe I thought I had a morning shift today and told Alex that I could take him to the airport.  His flight is during my shift!",
                  "2": "can`t believe",
                  "3": "negative",
                  "index": 238
                },
                {
                  "0": "19d585c61b",
                  "1": "My poor heather, she didnt make the cheerleading squad. Im sorry babygirl. Maybe next year",
                  "2": "sorry ba",
                  "3": "negative",
                  "index": 239
                },
                {
                  "0": "ce5dd24a33",
                  "1": "I have to reupload the **** thing again",
                  "2": "reupload the **** thing again",
                  "3": "negative",
                  "index": 240
                },
                {
                  "0": "2554631fd6",
                  "1": "_beery Yeah little rough this morning but more tonight, and tomorrow night if all goes as planned. Caloric intake off the charts",
                  "2": "rough",
                  "3": "negative",
                  "index": 241
                },
                {
                  "0": "80c985a159",
                  "1": "Omg, my mom just called... Im too late... Hes gone",
                  "2": "Im too late... Hes gone",
                  "3": "negative",
                  "index": 242
                },
                {
                  "0": "ad2e9f53be",
                  "1": "Just lost my internet signal  how will life go on",
                  "2": "lost my internet signal",
                  "3": "negative",
                  "index": 243
                },
                {
                  "0": "ff5950afbb",
                  "1": "i just bit my tongue.  blood everywhere!!!",
                  "2": "blood everywhere!!!",
                  "3": "negative",
                  "index": 244
                },
                {
                  "0": "2a8f304f11",
                  "1": " don`t know it really hurt my arm. guess you have to booze me.. or just ask  or  if you don`t believe me!",
                  "2": "hurt my arm.",
                  "3": "negative",
                  "index": 245
                },
                {
                  "0": "f4e66c4f1a",
                  "1": "tiiiiiiired! Going to bed! Drinking leads to making out with boys, who you later forget their names.... Don`t drink kids. Goodnight",
                  "2": "tiiiiiiired! Going to bed!",
                  "3": "negative",
                  "index": 246
                },
                {
                  "0": "5d97a78333",
                  "1": "; keeps getting such delayed responses. why is my internet so messed up?!",
                  "2": "keeps getting such delayed responses. why is my internet so messed up?!",
                  "3": "negative",
                  "index": 247
                },
                {
                  "0": "92b005cd96",
                  "1": " I know, that is so sad.  I",
                  "2": "sad.",
                  "3": "negative",
                  "index": 248
                },
                {
                  "0": "6fb42d0a8e",
                  "1": " Every time I have Friday off. Sadly, that`s not too often",
                  "2": "Sadly, that`s not too often",
                  "3": "negative",
                  "index": 249
                },
                {
                  "0": "f541987e81",
                  "1": "The sun is not cool",
                  "2": "The sun is not cool",
                  "3": "negative",
                  "index": 250
                },
                {
                  "0": "f26ab1a9d4",
                  "1": "...  that was meeeaaannn. people make mistakes ok?! lol",
                  "2": "...  that was meeeaaannn.",
                  "3": "negative",
                  "index": 251
                },
                {
                  "0": "6585732a49",
                  "1": "has broken off the fb wedding so sadly no longer has an excuse to get @ hauntingxealot to Goulburn",
                  "2": "so sadly",
                  "3": "negative",
                  "index": 252
                },
                {
                  "0": "bd5e56bd6d",
                  "1": "What did I learn today? Never post anything you`ve sold on ebay using royal mail. They lose it, I refund: compo`s nowhere near - my bad",
                  "2": "my bad",
                  "3": "negative",
                  "index": 253
                },
                {
                  "0": "c2213ecb79",
                  "1": "_ Oh god, yeah! I forgot about that",
                  "2": "forgot",
                  "3": "negative",
                  "index": 254
                },
                {
                  "0": "f5e3ae4806",
                  "1": "I`m poorly and can`t sleep",
                  "2": "poorly",
                  "3": "negative",
                  "index": 255
                },
                {
                  "0": "753d7f4ac2",
                  "1": "Buried under more web changes. Going to make lunch now... I won`t have a chance later. Too much to do.",
                  "2": "I won`t have a chance later.",
                  "3": "negative",
                  "index": 256
                },
                {
                  "0": "b87178f4d3",
                  "1": " SHUT YOUR FACE! Why are you so mean to me? Pedro is supposed to be the mean one",
                  "2": "SHUT YOUR FACE!",
                  "3": "negative",
                  "index": 257
                },
                {
                  "0": "992f2b16fb",
                  "1": "I`m really getting sick ugh **** nursing homes! Laying in bed, might go run later, watch some more movies with Austin. Sara & Sami left",
                  "2": "I`m really getting sick ugh",
                  "3": "negative",
                  "index": 258
                },
                {
                  "0": "c97b52ace6",
                  "1": " I saw you stalkerishly from the elevator, but Brookie was eating her moracca (?) So we had to go.",
                  "2": "stalkerishly",
                  "3": "negative",
                  "index": 259
                },
                {
                  "0": "55f2673e6b",
                  "1": " Well thatï¿½s disappointing to hear.",
                  "2": "s disappointing",
                  "3": "negative",
                  "index": 260
                },
                {
                  "0": "e0ef3a78fc",
                  "1": "mad the rain got me...now i cant go see jaiden   *|)|/-\\|\\|/-\\*",
                  "2": "mad the rain got me..",
                  "3": "negative",
                  "index": 261
                },
                {
                  "0": "8c015be59f",
                  "1": "i dont feel very good",
                  "2": "i dont feel very good",
                  "3": "negative",
                  "index": 262
                },
                {
                  "0": "84200d46e6",
                  "1": "Visiting the grandparents in Manhattan, and dropping off my sister for the week! I wish I had an excuse to be so tired today..",
                  "2": "excuse",
                  "3": "negative",
                  "index": 263
                },
                {
                  "0": "0bb43bf3bc",
                  "1": "This weekend is going to be packed full of work for school  No life this summer I`m afraid.",
                  "2": "I`m afraid.",
                  "3": "negative",
                  "index": 264
                },
                {
                  "0": "9b81e91703",
                  "1": "Please read my blog http://amandallynn.blogspot.com/ I`m not having the best day",
                  "2": "I`m not having the best day",
                  "3": "negative",
                  "index": 265
                },
                {
                  "0": "b38290dfd8",
                  "1": " You did know, you just couldn`t remember!!",
                  "2": "just couldn`t remember!!",
                  "3": "negative",
                  "index": 266
                },
                {
                  "0": "8a2a4790e0",
                  "1": "Work in that heat is horrible !",
                  "2": "Work in that heat is horrible !",
                  "3": "negative",
                  "index": 267
                },
                {
                  "0": "fd98097a71",
                  "1": " Since the demise of Woolworths it isn`t easy to find reasonably priced pick n mix anywhere",
                  "2": "isn`t easy to find",
                  "3": "negative",
                  "index": 268
                },
                {
                  "0": "6d2170e60f",
                  "1": " I`ve been unlocked for decades now...just not lucky, never have been.  Gottta make my own luck and that involves $$$$$",
                  "2": ".just not lucky, never have been.",
                  "3": "negative",
                  "index": 269
                },
                {
                  "0": "33acc93d94",
                  "1": "Taking care of yucky stuff.",
                  "2": "Taking care of yucky stuff.",
                  "3": "negative",
                  "index": 270
                },
                {
                  "0": "5eb0846f97",
                  "1": "homework on a friday night...lame",
                  "2": "lame",
                  "3": "negative",
                  "index": 271
                },
                {
                  "0": "1af165ffbe",
                  "1": "industrial tommorow! oh yeah & I get to go see a bunch of old people go away forever & I will probably cry all over the place.",
                  "2": "cry",
                  "3": "negative",
                  "index": 272
                },
                {
                  "0": "181de1d263",
                  "1": "Laughing for no reason...maybe its because its 2:27 and I`m tired, haha. Maybe i should go to bed  Night!",
                  "2": "I`m tired,",
                  "3": "negative",
                  "index": 273
                },
                {
                  "0": "d86b813a34",
                  "1": "_Greta That is so not good.  Your box is worth way more than that!",
                  "2": "not good.",
                  "3": "negative",
                  "index": 274
                },
                {
                  "0": "9810abc707",
                  "1": " very bad.",
                  "2": "very bad.",
                  "3": "negative",
                  "index": 275
                },
                {
                  "0": "8ddbe8e99b",
                  "1": "I must have just missed   & I guess I scared  & _TX off...  Sorry",
                  "2": "I scared",
                  "3": "negative",
                  "index": 276
                },
                {
                  "0": "9955130b68",
                  "1": "Its prob cuz I don`t really like sleeping in late, even if I tried.",
                  "2": "Its prob cuz I don`t really like sleeping in late, even if I tried.",
                  "3": "negative",
                  "index": 277
                },
                {
                  "0": "3e49b93467",
                  "1": " Awww. Don`t mean to sound like an overgrown age 37 baby, but I`m still stick. Not as bad as yesterday, but still bad.",
                  "2": "t I`m still stick.",
                  "3": "negative",
                  "index": 278
                },
                {
                  "0": "e302ba395c",
                  "1": "My throat is killing me",
                  "2": "My throat is killing me",
                  "3": "negative",
                  "index": 279
                },
                {
                  "0": "4f5340eafa",
                  "1": "_nexus he has to have a new suitcase, but he is just so bloody indecicive, everytime he wants to buy something it takes HOURS",
                  "2": "bloody",
                  "3": "negative",
                  "index": 280
                },
                {
                  "0": "b8d2a9667c",
                  "1": " oh dear.. u serious? so how does one prevent bites??  I`m so itchy its distracting while editing.. *sigh*",
                  "2": "o itchy",
                  "3": "negative",
                  "index": 281
                },
                {
                  "0": "8dee9a95f0",
                  "1": "DotA is an addiction...i waste 6-7 hours playing dota",
                  "2": "waste",
                  "3": "negative",
                  "index": 282
                },
                {
                  "0": "6b2c6b3095",
                  "1": " How long before the Frisbee Golfer 'accidentally' catches one in the back of the head from his friend",
                  "2": "'accidentally'",
                  "3": "negative",
                  "index": 283
                },
                {
                  "0": "7c26a466b6",
                  "1": "hi guys just doing da usael notmuch really! <3 sad me",
                  "2": "sad me",
                  "3": "negative",
                  "index": 284
                },
                {
                  "0": "598c09a87d",
                  "1": "Not smoking sucks sucks **** SUCKS, I want a cig",
                  "2": "SUCKS,",
                  "3": "negative",
                  "index": 285
                },
                {
                  "0": "fe80c21e0f",
                  "1": "has heart burn",
                  "2": "has heart burn",
                  "3": "negative",
                  "index": 286
                },
                {
                  "0": "003034a92b",
                  "1": " dude, that`s eff`ed up. LOL @ chris browning you. We live so far apart and Im afraid to fly",
                  "2": "afraid",
                  "3": "negative",
                  "index": 287
                },
                {
                  "0": "14c67c535b",
                  "1": " Depends on what they want for it....I`ve become poor again",
                  "2": ".I`ve become poor again",
                  "3": "negative",
                  "index": 288
                },
                {
                  "0": "44543f660b",
                  "1": "Almost to grandmas now. No internet there. I will never catch up on twitter.",
                  "2": "No internet there.",
                  "3": "negative",
                  "index": 289
                },
                {
                  "0": "78de864435",
                  "1": "okie gonna tweet more because i am loosing you guys or girls",
                  "2": "loosing",
                  "3": "negative",
                  "index": 290
                },
                {
                  "0": "00886f0ea5",
                  "1": "why am i so tired?",
                  "2": "tired?",
                  "3": "negative",
                  "index": 291
                },
                {
                  "0": "b11a01ef9b",
                  "1": "just uploaded my new blog... a painful story about an 80s year old man who cried because he wanted to die... very sad",
                  "2": "painful",
                  "3": "negative",
                  "index": 292
                },
                {
                  "0": "c9d6997a02",
                  "1": " wats gooood !! miss yall already",
                  "2": "miss yall",
                  "3": "negative",
                  "index": 293
                },
                {
                  "0": "bba51e47ab",
                  "1": "its my burfday and i`m all alone",
                  "2": "i`m all alone",
                  "3": "negative",
                  "index": 294
                },
                {
                  "0": "debbe76d54",
                  "1": "Why are young people attracted to trouble? this makes me sad!  ,<3 kMv",
                  "2": "sad!",
                  "3": "negative",
                  "index": 295
                },
                {
                  "0": "cb3ca1167f",
                  "1": "Omg i`m going to robinson with tyler wfm. And i freakin miss anthony  ugh today kinda sucks. Lex<3",
                  "2": "And i freakin miss anthony  ugh today kinda sucks.",
                  "3": "negative",
                  "index": 296
                },
                {
                  "0": "0e533abdae",
                  "1": " That is super sad   How is Bart etc holding up?",
                  "2": "s super sad",
                  "3": "negative",
                  "index": 297
                },
                {
                  "0": "bf18156019",
                  "1": "_ERON Effy breaks my heart.",
                  "2": "breaks my heart.",
                  "3": "negative",
                  "index": 298
                },
                {
                  "0": "6dbc4aeaf0",
                  "1": "and this terrible cartoon that`s supposed to be mexican.",
                  "2": "terrible",
                  "3": "negative",
                  "index": 299
                },
                {
                  "0": "bb946cb35b",
                  "1": " - Sorry only just seen this - how strange it seems only to happen from my iPhone - perhaps it is a problem with Twitterific",
                  "2": "problem",
                  "3": "negative",
                  "index": 300
                },
                {
                  "0": "aa189955b1",
                  "1": "  BUT THEY ARE EXPENSIVE.",
                  "2": "E EXPENSIVE",
                  "3": "negative",
                  "index": 301
                },
                {
                  "0": "f03dae6ab0",
                  "1": " so sorry about that  I have the same issues...LOL. My weekend started about an hour ago!!!",
                  "2": "so sorry",
                  "3": "negative",
                  "index": 302
                },
                {
                  "0": "62086f9961",
                  "1": "is sad that she is not seeing Basshunter at Metroplex this weekend",
                  "2": "is sad th",
                  "3": "negative",
                  "index": 303
                },
                {
                  "0": "0a68c4f3b6",
                  "1": " *reads phone book* Hugh Clancy, Hugh Claments...Nope, no Hugh Clap.  Poor Holly, though she`ll grab pity votes like a shark.",
                  "2": "Poor",
                  "3": "negative",
                  "index": 304
                },
                {
                  "0": "2889cb3b49",
                  "1": " o can`t work that one out  pain in the **** them spammers",
                  "2": "o can`t work that one out  pain in the **** them spammers",
                  "3": "negative",
                  "index": 305
                },
                {
                  "0": "882d707aca",
                  "1": "**** it. Totally gutted I decided not to go out tonight. Roni Size is DJing",
                  "2": "**** it. Totally gutted",
                  "3": "negative",
                  "index": 306
                },
                {
                  "0": "d0dcbd4559",
                  "1": "  I don`t think I like this Roy Williams who dissects frogs while still alive >  You look like Chachi from Happy Days",
                  "2": "I don`t think I like",
                  "3": "negative",
                  "index": 307
                },
                {
                  "0": "f145992965",
                  "1": " I am definitely ready... actually ahead of you... I already have a sun tan and I was out at the beach yesterday.",
                  "2": "tan",
                  "3": "negative",
                  "index": 308
                },
                {
                  "0": "23e6219d6a",
                  "1": "Zach G. gets an extensive profile in this weekend`s NY Times Magazine. The chances of us falling in love are getting fewer and fewer.",
                  "2": "The chances of us falling in love are getting fewer and fewer.",
                  "3": "negative",
                  "index": 309
                },
                {
                  "0": "771b845b38",
                  "1": "ahhh fusterated",
                  "2": "fusterated",
                  "3": "negative",
                  "index": 310
                },
                {
                  "0": "feb8ed98d1",
                  "1": " I am using iMovie 08 and it`s still not bad. I am afraid to hear what is wrong with 09",
                  "2": "afraid",
                  "3": "negative",
                  "index": 311
                },
                {
                  "0": "7fee70ea8a",
                  "1": " jealous  it looks like schindler`s list in toronto",
                  "2": "jealous",
                  "3": "negative",
                  "index": 312
                },
                {
                  "0": "1722cd3459",
                  "1": "  I`m SO jealous! I don`t know when I`ll be able to see Conan.",
                  "2": "I`m SO jealous",
                  "3": "negative",
                  "index": 313
                },
                {
                  "0": "f4d7f474ba",
                  "1": "My wedding next Thursday and I`m ill",
                  "2": "I`m ill",
                  "3": "negative",
                  "index": 314
                },
                {
                  "0": "bc361e245e",
                  "1": " Aw...poor thing.",
                  "2": "..poor thing.",
                  "3": "negative",
                  "index": 315
                },
                {
                  "0": "968964a722",
                  "1": " hahahah of course  they have such a nasty display picture :`)",
                  "2": "e such a nasty display picture",
                  "3": "negative",
                  "index": 316
                },
                {
                  "0": "3a33697bb7",
                  "1": " dad`s been having fever since last nite and needs 2 bottles of blood trasfusion..loaded 1 today..1 to go tomorrow.",
                  "2": "having fever",
                  "3": "negative",
                  "index": 317
                },
                {
                  "0": "e3b7b4a3c8",
                  "1": "Sick. Feel like jello, can`t talk, and delirious.",
                  "2": "Sick. Feel like jello, can`t talk, and delirious.",
                  "3": "negative",
                  "index": 318
                },
                {
                  "0": "993ed46c7e",
                  "1": "It`s teddy-chucking time",
                  "2": "It`s teddy-chucking time",
                  "3": "negative",
                  "index": 319
                },
                {
                  "0": "814f356244",
                  "1": "Finally, im back online! I miss my lappy. So many things to follow up. Starting with Ning... Haha.",
                  "2": "I miss my lappy.",
                  "3": "negative",
                  "index": 320
                },
                {
                  "0": "54277afaa4",
                  "1": " sux, I`m thinking of being an accountant. Mad monies! I`m a middleschool cafeteria manager  (25k/yr)",
                  "2": "sux,",
                  "3": "negative",
                  "index": 321
                },
                {
                  "0": "1be7769340",
                  "1": "my arms hurt!",
                  "2": "my arms hurt!",
                  "3": "negative",
                  "index": 322
                },
                {
                  "0": "ae1f196245",
                  "1": "on my way to work. I`M SO HUNGRY!",
                  "2": "SO HUNGRY!",
                  "3": "negative",
                  "index": 323
                },
                {
                  "0": "b9b1ff657b",
                  "1": "starting phase 1 of operation 'be productive'- pack clothes. can`t find pink tank top!! oh no!!!",
                  "2": "oh no!!!",
                  "3": "negative",
                  "index": 324
                },
                {
                  "0": "17fc6384ed",
                  "1": "Miss Cauzinhoooo already",
                  "2": "Miss Cauzinhoooo already",
                  "3": "negative",
                  "index": 325
                },
                {
                  "0": "9369a7a9ec",
                  "1": " http://twitpic.com/4wfs8 - You are so weird. You need to lay off the smokes, because you`re talking to yourself.",
                  "2": "You are so weird.",
                  "3": "negative",
                  "index": 326
                },
                {
                  "0": "f0726ddd52",
                  "1": "A sunny morning in the Big K, with lawns to mow and a 2 mile to run to attempt, urgh",
                  "2": "urgh",
                  "3": "negative",
                  "index": 327
                },
                {
                  "0": "54477f9f5c",
                  "1": "melissa_leah: my car wont start.......",
                  "2": "my car wont start.......",
                  "3": "negative",
                  "index": 328
                },
                {
                  "0": "c0a2d8f63d",
                  "1": "Bushidokan class got canceled.   I`ll just have to sign up for karate someplace else!!",
                  "2": "canceled.",
                  "3": "negative",
                  "index": 329
                },
                {
                  "0": "528ccda85a",
                  "1": "Never commute in the rain. The people get so much meaner to you.",
                  "2": "The people get so much meaner to you.",
                  "3": "negative",
                  "index": 330
                },
                {
                  "0": "9be60c1b72",
                  "1": " The problem is that I`m not finished with it  But I have logged in mass hours this week on it. And i`m not being paid! POP!",
                  "2": "problem",
                  "3": "negative",
                  "index": 331
                },
                {
                  "0": "c3d933e350",
                  "1": " FAILlllllllll  whenever ur freee then?",
                  "2": "FAILlllllllll",
                  "3": "negative",
                  "index": 332
                },
                {
                  "0": "ad94c81511",
                  "1": "My legs are so **** sore. And my feet hurt to walk. Whataday",
                  "2": "hurt to",
                  "3": "negative",
                  "index": 333
                },
                {
                  "0": "024b8d4b95",
                  "1": " hahah! sadly there is no current activity though in the room",
                  "2": "! sadly",
                  "3": "negative",
                  "index": 334
                },
                {
                  "0": "1124f6f9a5",
                  "1": "noone wants to talk to me  lol",
                  "2": "noone wants to talk to me  lol",
                  "3": "negative",
                  "index": 335
                },
                {
                  "0": "59d23b3db7",
                  "1": "so very irratated",
                  "2": "so very irratated",
                  "3": "negative",
                  "index": 336
                },
                {
                  "0": "fb93940016",
                  "1": " haha.. you were actually in violations of someone`s trademark?! okay..  Yeah, I went to bed at 4 and I had to be up at 6. :[",
                  "2": "Yeah, I went to bed at 4 and I had to be up at 6. :[",
                  "3": "negative",
                  "index": 337
                },
                {
                  "0": "59e971682c",
                  "1": "Lost at bowling again  why do i suck",
                  "2": "suck",
                  "3": "negative",
                  "index": 338
                },
                {
                  "0": "a7036b7dfe",
                  "1": " hahahaha wtf dianne????? who twitters that lol...i guess it depends who the person is.....",
                  "2": "wtf",
                  "3": "negative",
                  "index": 339
                },
                {
                  "0": "8c1c2b26a4",
                  "1": "always excited for a new chapter in my life. just didnt expect it to be so emotional.",
                  "2": "so emotional.",
                  "3": "negative",
                  "index": 340
                },
                {
                  "0": "094218c2e7",
                  "1": "in about half a hour i`m going to my english lesson...guess i`ll have to wait...and wait for a couple hours so i`m over with it.(( :S   ))",
                  "2": "i`ll have to wait..",
                  "3": "negative",
                  "index": 341
                },
                {
                  "0": "915c66ead8",
                  "1": "acsvxdcbgfn soccer now. shall see young phoebe after D: I don`t want her dressed up though",
                  "2": "I don`t want her dressed up th",
                  "3": "negative",
                  "index": 342
                },
                {
                  "0": "46dcf0b66d",
                  "1": " you could say that. I left it in VT and have been Blackberryless since Tuesday Night. I`m lost",
                  "2": "I`m lost",
                  "3": "negative",
                  "index": 343
                },
                {
                  "0": "3b3d48063c",
                  "1": " it was a biligual sweatshop LOL I talk 2 him once in a while but not as much, he got an r6",
                  "2": "but not as much,",
                  "3": "negative",
                  "index": 344
                },
                {
                  "0": "b31f52a91e",
                  "1": "Taking 40 underpriveledged kids to the circus 2moro. BIG day planned & I still aint feeling 100%  so nervous right now..",
                  "2": "underpriveledged",
                  "3": "negative",
                  "index": 345
                },
                {
                  "0": "015a057c59",
                  "1": "  it might be the swine flu! haha `cause i`ve got the flu",
                  "2": "e swine flu",
                  "3": "negative",
                  "index": 346
                },
                {
                  "0": "6599743334",
                  "1": "i can`t studyyyyyyyyyyyyyyyyyyyyyyyyy  i have an exam tom",
                  "2": "can`t",
                  "3": "negative",
                  "index": 347
                },
                {
                  "0": "74e9f8da6b",
                  "1": "I think I should hire one of those tranlsators.. because no one ever understands me....",
                  "2": "because no one ever understands me....",
                  "3": "negative",
                  "index": 348
                },
                {
                  "0": "6ecab08a38",
                  "1": "I overslept  headache",
                  "2": "I overslept  headache",
                  "3": "negative",
                  "index": 349
                },
                {
                  "0": "49d6a06d0c",
                  "1": "Rats the Creative VADO`s are out of stock at walmart.com I`m too late.",
                  "2": "too late.",
                  "3": "negative",
                  "index": 350
                },
                {
                  "0": "95a6c29dc3",
                  "1": " I wasn`t feeling it",
                  "2": "I wasn`t feeling it",
                  "3": "negative",
                  "index": 351
                },
                {
                  "0": "d9d12cf0ce",
                  "1": " I always feel guilty about it",
                  "2": "s feel guilty",
                  "3": "negative",
                  "index": 352
                },
                {
                  "0": "db0604e817",
                  "1": "i really cant take this.",
                  "2": "i really cant take this.",
                  "3": "negative",
                  "index": 353
                },
                {
                  "0": "05edc8f85a",
                  "1": "net .. net .. net ..  hmm. bad weather .. weird summer!",
                  "2": "bad weather .. weird summer!",
                  "3": "negative",
                  "index": 354
                },
                {
                  "0": "1a8ff9899f",
                  "1": " ugh I`m not doin too good",
                  "2": "ugh I`m not doin too good",
                  "3": "negative",
                  "index": 355
                },
                {
                  "0": "6cf7b5f739",
                  "1": " Miley, I tried voting for you, and it wont let me vote for some reason  Ill try back a little later! <3",
                  "2": "it wont let me vote for some reason",
                  "3": "negative",
                  "index": 356
                },
                {
                  "0": "ec6c041943",
                  "1": " Whom do yu wanna kill ??",
                  "2": "kill",
                  "3": "negative",
                  "index": 357
                },
                {
                  "0": "1ce6042e00",
                  "1": "I dont like seeing my best friend cry, it breaks my heart and I dont know what to do or say",
                  "2": "it breaks my heart",
                  "3": "negative",
                  "index": 358
                },
                {
                  "0": "919c02e1d9",
                  "1": "Sob! I can`t believe I`m ending my work week at the chapter about what Augusten Burrough`s father did to Ernie the guinea pig!",
                  "2": "I can`t believe I`",
                  "3": "negative",
                  "index": 359
                },
                {
                  "0": "197e8317da",
                  "1": "Actual wiki entry 'The Million Dollar Homepage' made me just shake my head due to the fact that ... sometimes...somtimes things just work",
                  "2": "made me just shake my head",
                  "3": "negative",
                  "index": 360
                },
                {
                  "0": "90b04358f6",
                  "1": "Boring starting work weekend soon................ 1st need to get a Tim Coffee so I can make it through this **** night shift........",
                  "2": "Boring",
                  "3": "negative",
                  "index": 361
                },
                {
                  "0": "69b4cc5d84",
                  "1": "am bored out of my skull.  i have got to get a job.  this SUCKS.  i need entertainment. /grumbles",
                  "2": ".  this SUCKS",
                  "3": "negative",
                  "index": 362
                },
                {
                  "0": "194141225a",
                  "1": "_Dew tokens haven`t been working for me all day....",
                  "2": "haven`t been working for me all day....",
                  "3": "negative",
                  "index": 363
                },
                {
                  "0": "5f814111a8",
                  "1": "Epicfail and Joseph in class... Very long liao",
                  "2": "Epicfail",
                  "3": "negative",
                  "index": 364
                },
                {
                  "0": "1a433d2adf",
                  "1": "i`m freezing in math class!",
                  "2": "i`m freezing in math class!",
                  "3": "negative",
                  "index": 365
                },
                {
                  "0": "d4f27a0788",
                  "1": "This is what I had to endure to get prizes of to my lucky winners  http://twitpic.com/669nm",
                  "2": "endure",
                  "3": "negative",
                  "index": 366
                },
                {
                  "0": "999983bd97",
                  "1": "Nic has no idea what he`s going to do!  money is all gone!",
                  "2": "money is all gone!",
                  "3": "negative",
                  "index": 367
                },
                {
                  "0": "d21ee0c579",
                  "1": "Unanticipated thunderstorm quashed camping trip",
                  "2": "quashed",
                  "3": "negative",
                  "index": 368
                },
                {
                  "0": "ddb98de46e",
                  "1": "Omg going to die of swine flu when I go to Melbourne",
                  "2": "die",
                  "3": "negative",
                  "index": 369
                },
                {
                  "0": "a71ecf3bcc",
                  "1": "Suddenly I remember all the memories with him  ohhh please",
                  "2": "ohhh please",
                  "3": "negative",
                  "index": 370
                },
                {
                  "0": "ca3b1dae3f",
                  "1": "I think my cheap sunglasses are falling apart. Oh well",
                  "2": "falling apart.",
                  "3": "negative",
                  "index": 371
                },
                {
                  "0": "672b861395",
                  "1": "Slept at my parents the bed was hard as a rock now my back feels like a rock",
                  "2": "Slept at my parents the bed was hard as a rock now my back feels like a rock",
                  "3": "negative",
                  "index": 372
                },
                {
                  "0": "41780fcc9c",
                  "1": "I ate to much lunch...now I don`t want to work",
                  "2": "don`t want to work",
                  "3": "negative",
                  "index": 373
                },
                {
                  "0": "2f8e80a88d",
                  "1": "@_Glitter_  kk but 4 sum reason its not lettin me vote 4 them",
                  "2": "s not lettin me vote 4 them",
                  "3": "negative",
                  "index": 374
                },
                {
                  "0": "eee5181373",
                  "1": " ugh! **** it. Today doesn`t look like it`s going to work  i`m sorry",
                  "2": "ugh!",
                  "3": "negative",
                  "index": 375
                },
                {
                  "0": "3afcddc07d",
                  "1": "****, got Chili Beans on my shirt  I hate that I can be a messy eater. Such a lady!",
                  "2": "I hate that I can be a messy eater.",
                  "3": "negative",
                  "index": 376
                },
                {
                  "0": "6eeb25bff2",
                  "1": " I think that`s what`s wrong with me.  Stuffed up and when I breathe in it feels like a sore throat",
                  "2": "wrong",
                  "3": "negative",
                  "index": 377
                },
                {
                  "0": "699c07b35c",
                  "1": " ****. it should be recoverable. it`s just the boot part that`s messed up. grr argh. my business was on there.",
                  "2": ". it should be recoverable.",
                  "3": "negative",
                  "index": 378
                },
                {
                  "0": "3f96c39a12",
                  "1": "http://www.bodybuilding.com/fun/richardchan.htm OMFG this dude looks well `ard! He puts me to shame...",
                  "2": "this dude looks well `ard! He puts me to shame...",
                  "3": "negative",
                  "index": 379
                },
                {
                  "0": "fa31b75c55",
                  "1": " OMG are u still naked 1313 XDD omg i miss you so muuch",
                  "2": "omg i miss you so muuch",
                  "3": "negative",
                  "index": 380
                },
                {
                  "0": "debb339c32",
                  "1": "has stuff to do but refuses to do them.  :[",
                  "2": "has stuff to do but refuses to do them.  :[",
                  "3": "negative",
                  "index": 381
                },
                {
                  "0": "ac55c1b977",
                  "1": "rented bikes + unknown trail with random bumps + big hills + kids = one beat up little girl. Not a good day on the B family vacation.",
                  "2": "one beat up little girl. Not a good day on",
                  "3": "negative",
                  "index": 382
                },
                {
                  "0": "3285cfbb0d",
                  "1": "  I do not mean to laugh but a little giggle did come out - sorry",
                  "2": "I do not mean to laugh but a little giggle did come out - sorry",
                  "3": "negative",
                  "index": 383
                },
                {
                  "0": "54acae24bc",
                  "1": "No one wants to sit with me at lunch  I guess I`ll just bury my head in my laptop and continue to be anti-social.",
                  "2": "No one wants to sit with me",
                  "3": "negative",
                  "index": 384
                },
                {
                  "0": "34d7e39dd6",
                  "1": " 5 seasons that`s it? Sorry just noticed in ur previous update. My sis isn`t gonna be happy",
                  "2": "5 seasons that`s it? Sorry just noticed in ur previous update. My sis isn`t gonna be happy",
                  "3": "negative",
                  "index": 385
                },
                {
                  "0": "e69012514b",
                  "1": " I miss rollerblading down Shoreline.",
                  "2": "I miss rollerblading down Shoreline.",
                  "3": "negative",
                  "index": 386
                },
                {
                  "0": "578ec67a68",
                  "1": "This wind is crampin` my style. I have a section of my yard that won`t get any water. I`d move the sprinkler, but it`s surrounded by mud.",
                  "2": "crampin`",
                  "3": "negative",
                  "index": 387
                },
                {
                  "0": "2f955c2829",
                  "1": "I am probably spamming my follower`s account.",
                  "2": "spamming",
                  "3": "negative",
                  "index": 388
                },
                {
                  "0": "5a835ac93c",
                  "1": " Don`t worry. You`ll be 38 soon",
                  "2": "Don`t worry.",
                  "3": "negative",
                  "index": 389
                },
                {
                  "0": "43ebf29edc",
                  "1": "Sometimes I could swear I really am insane.",
                  "2": "I really am insane.",
                  "3": "negative",
                  "index": 390
                },
                {
                  "0": "cfc8ece057",
                  "1": " haha IE...it`s expensive!!!! Hm...let me message you later",
                  "2": ".it`s expensive!",
                  "3": "negative",
                  "index": 391
                },
                {
                  "0": "2bdd4e75a8",
                  "1": " you got it all done?? even the labs? thats all i have left to do. and i cant figure it out. FML",
                  "2": "i cant figure it out.",
                  "3": "negative",
                  "index": 392
                },
                {
                  "0": "e8d2a28b66",
                  "1": "Really missing hockey already.  Off for a night in Dtn Naperville.  Can`t wait for the day off tomorrow,  I have to work Sunday.",
                  "2": "Really missing hockey already.",
                  "3": "negative",
                  "index": 393
                },
                {
                  "0": "df0d78273e",
                  "1": " Never ever smoking around you again.",
                  "2": "Never ever",
                  "3": "negative",
                  "index": 394
                },
                {
                  "0": "7bf530de4a",
                  "1": "This has been a dismal week.",
                  "2": "dismal",
                  "3": "negative",
                  "index": 395
                },
                {
                  "0": "b39b259b09",
                  "1": " My public talk in July got canceled and I don`t know why.",
                  "2": "canceled",
                  "3": "negative",
                  "index": 396
                },
                {
                  "0": "4581062c44",
                  "1": "I had 2 buy a new washer, bought the dryer 2.  Dryer labeled electric but is gas   GRRR.  Now we have 2 load it up tomorrow 2 return it.",
                  "2": "Dryer labeled electric but is gas   GRRR.  Now we have 2 load it up tomorrow 2 return",
                  "3": "negative",
                  "index": 397
                },
                {
                  "0": "29bb355fef",
                  "1": "I`m so sad, really really sad",
                  "2": "I`m so sad, really really sad",
                  "3": "negative",
                  "index": 398
                },
                {
                  "0": "9014625463",
                  "1": "I can`t breathe well but turns out I`m not crazy.  Just inflammed lungs",
                  "2": "inflammed",
                  "3": "negative",
                  "index": 399
                },
                {
                  "0": "898410ba40",
                  "1": "Waiting for Natie to come online I miss him.",
                  "2": "I miss him.",
                  "3": "negative",
                  "index": 400
                },
                {
                  "0": "20578c75d8",
                  "1": " that truely is sad news to hear  we are all created equal, so sad to know our neighbors are such prejudice people",
                  "2": ", so sad",
                  "3": "negative",
                  "index": 401
                },
                {
                  "0": "024535ea03",
                  "1": "btw ian watkins has stopped following me  so i am a wee bit pissed off!",
                  "2": "pissed",
                  "3": "negative",
                  "index": 402
                },
                {
                  "0": "15aedbc11c",
                  "1": "oy, im such a nerd..im writin 2 no1 cuz no1 is followin me  i mean lik sum1 was but their account was deleted due to 'strange activities'",
                  "2": "oy, im such a nerd..im writin 2 no1 cuz no1 is followin me  i mean lik sum1 was but their account was deleted due to 'strange activities'",
                  "3": "negative",
                  "index": 403
                },
                {
                  "0": "9981249d33",
                  "1": " this week has dragged a bit for me too  have an essay to write about the seaside then Im seeing eddie izzard tonight x",
                  "2": "dragged",
                  "3": "negative",
                  "index": 404
                },
                {
                  "0": "bac324b47f",
                  "1": " oh ... you`ve been superseeded?  not good enough",
                  "2": "?  not good enough",
                  "3": "negative",
                  "index": 405
                },
                {
                  "0": "56dc73e72d",
                  "1": "Stupid liars. Glad they are ignorant, because I had a blast!!",
                  "2": "Stupid",
                  "3": "negative",
                  "index": 406
                },
                {
                  "0": "aa1ae6ce1d",
                  "1": " Hello, yourself. Enjoy London. Watch out for the Hackneys. They`re mental.",
                  "2": "They`re mental.",
                  "3": "negative",
                  "index": 407
                },
                {
                  "0": "784ccecc37",
                  "1": " Oh dear, what a rotten life you lead, NOT!",
                  "2": "rotten",
                  "3": "negative",
                  "index": 408
                },
                {
                  "0": "916bdc35e3",
                  "1": "headed to the hospital. i can`t take the pain anymore",
                  "2": "headed to the hospital. i can`t take the pain anymore",
                  "3": "negative",
                  "index": 409
                },
                {
                  "0": "a9c15ea0b2",
                  "1": " Ooh, jealous. I just have yoghurt and some carrots.",
                  "2": "jealous.",
                  "3": "negative",
                  "index": 410
                },
                {
                  "0": "7e863dcf5b",
                  "1": "Bored out of my mind!  LOL",
                  "2": "Bored out of my mind!  LOL",
                  "3": "negative",
                  "index": 411
                },
                {
                  "0": "6e6f31e8fe",
                  "1": "_Guy In the past it was ok but since iï¿½ve got my own appartment, my own car........itï¿½s very difficult to save the money",
                  "2": "difficult",
                  "3": "negative",
                  "index": 412
                },
                {
                  "0": "f998b63839",
                  "1": "Just got back from school! Ugh I don`t want to go to the dance tonight",
                  "2": "Ugh",
                  "3": "negative",
                  "index": 413
                },
                {
                  "0": "b4202309d4",
                  "1": "  Is competition around the corner? if not take it slow for at least a week. Twisted my ankle back in jc, awfully painful.",
                  "2": ", awfully",
                  "3": "negative",
                  "index": 414
                },
                {
                  "0": "67b47fcb79",
                  "1": "i cant sleep",
                  "2": "i cant sleep",
                  "3": "negative",
                  "index": 415
                },
                {
                  "0": "1b4e6c86c7",
                  "1": "I`m very upset right now, like I can`t even formulate a complete thought....",
                  "2": "I`m very upset right now,",
                  "3": "negative",
                  "index": 416
                },
                {
                  "0": "2ddda5cb20",
                  "1": "oh my gosh!!! hollyoaks was so sad tonite",
                  "2": "so sad",
                  "3": "negative",
                  "index": 417
                },
                {
                  "0": "a174faa63c",
                  "1": "Just found a tink cover for a wii remote but the people i know dont have a wii  fail",
                  "2": "fail",
                  "3": "negative",
                  "index": 418
                },
                {
                  "0": "f9f80cbb90",
                  "1": "Why can`t I make a phone call! I hate this anxiety ****. Someone cure me",
                  "2": "anxiety",
                  "3": "negative",
                  "index": 419
                },
                {
                  "0": "2dc0b560b5",
                  "1": " copy & paste **** **** tosser piss flap a 10000000000 times !!!!",
                  "2": "copy & paste **** **** tosser piss flap a 10000000000 times !!!",
                  "3": "negative",
                  "index": 420
                },
                {
                  "0": "06e9fdc221",
                  "1": "Friday is not treating me well so far.",
                  "2": "not treating me well so far.",
                  "3": "negative",
                  "index": 421
                },
                {
                  "0": "dc7f2b6061",
                  "1": "Much to my surprise, I was using my credit card before the crack dawn to do some serious online gambling. One problem: it wasn`t me.",
                  "2": "One problem: it wasn`t me.",
                  "3": "negative",
                  "index": 422
                },
                {
                  "0": "2535aa208d",
                  "1": " yeah but there are like 5,000 types of snakes..and it`s wicked wicked wicked hot...and idk. i don`t think i`d like it",
                  "2": "i don`t think i`d like it",
                  "3": "negative",
                  "index": 423
                },
                {
                  "0": "9d9e65ced2",
                  "1": "I think I may have ruined a friendship this week by getting carried away",
                  "2": "ruined",
                  "3": "negative",
                  "index": 424
                },
                {
                  "0": "8f74c4f71c",
                  "1": " that sucks!!",
                  "2": "sucks!",
                  "3": "negative",
                  "index": 425
                },
                {
                  "0": "5766fcf9f8",
                  "1": "_Guy Iï¿½m afraid yes - both are true  I hope u r not disappointed yet",
                  "2": "I hope u r not disappointed yet",
                  "3": "negative",
                  "index": 426
                },
                {
                  "0": "cb349bae1a",
                  "1": "im still melting and im in the house in the shade  its not fair.",
                  "2": "m still melting and im in the house in the shade  its not fair.",
                  "3": "negative",
                  "index": 427
                },
                {
                  "0": "6603cfbf34",
                  "1": " right..  making compromises is what kills us!",
                  "2": "t kills",
                  "3": "negative",
                  "index": 428
                },
                {
                  "0": "ecca496740",
                  "1": "In worst case cenario, I`ll show up on OFFF with a white mask, and scare everyone. Even better: everyone should wear a mask besides me.",
                  "2": "worst",
                  "3": "negative",
                  "index": 429
                },
                {
                  "0": "90fb34189c",
                  "1": "is back from the park and is very sunburnt  cant wait 4  2night,and is gonna get smashed..bein sober jst wnt b as fun!",
                  "2": "..bein sober jst wnt b as fun!",
                  "3": "negative",
                  "index": 430
                },
                {
                  "0": "d44d2dd860",
                  "1": "I feel lazy watching other people work on my roof!  Kat Woman OUT",
                  "2": "lazy",
                  "3": "negative",
                  "index": 431
                },
                {
                  "0": "2c60434fea",
                  "1": " RE: Hulu Desktop in Windows 7 Media Center  http://bit.ly/DEc64but not on extenders unfortunately",
                  "2": "s unfortunately",
                  "3": "negative",
                  "index": 432
                },
                {
                  "0": "7bfc7b24b3",
                  "1": "ouuuuuuuuuchhhhhhhh, still hurting from the Barca spanking",
                  "2": "ouuuuuuuuuchhhhhhhh, still hurting from the Barca spanking",
                  "3": "negative",
                  "index": 433
                },
                {
                  "0": "49eabea843",
                  "1": "iPhone today! I want to see The Morning Of in Virginia Beach, but I don`t think I can get there",
                  "2": "but I don`t think I can get there",
                  "3": "negative",
                  "index": 434
                },
                {
                  "0": "2f3f9a83c2",
                  "1": " I need to do some more post but I don`t have time on this tour  ........... Apologies to all my supporters.",
                  "2": ". Apologies to all my supporters.",
                  "3": "negative",
                  "index": 435
                },
                {
                  "0": "09b918e8aa",
                  "1": "totally forgot she had soccer today. ugh  today was actually good too...",
                  "2": "ugh",
                  "3": "negative",
                  "index": 436
                },
                {
                  "0": "7c55adcb6a",
                  "1": " oops too late",
                  "2": "oops",
                  "3": "negative",
                  "index": 437
                },
                {
                  "0": "e70ba4df8f",
                  "1": "Dang i didnt even remember it was my bday today",
                  "2": "Dang",
                  "3": "negative",
                  "index": 438
                },
                {
                  "0": "21dc26e9a8",
                  "1": " I have heard that about a lot of programs like that, we go to a large chain of learning centers, sorry for you!",
                  "2": ", sorry",
                  "3": "negative",
                  "index": 439
                },
                {
                  "0": "8e5b7978c3",
                  "1": "why yes jeeves. bring me that noose there  TOO MANY ASSIGNMENTS!",
                  "2": "TOO MANY ASSIGNMENTS!",
                  "3": "negative",
                  "index": 440
                },
                {
                  "0": "e03324c33b",
                  "1": "i lost a follower",
                  "2": "lost a follower",
                  "3": "negative",
                  "index": 441
                },
                {
                  "0": "39348df004",
                  "1": "but this little boy still makin me  work during the storm!!!",
                  "2": "but this little boy still makin me  work during the storm!!!",
                  "3": "negative",
                  "index": 442
                },
                {
                  "0": "10b078951f",
                  "1": "Things aren`t just as easy and simple as they seem to be.",
                  "2": "Things aren`t just as easy and simple as they seem to be.",
                  "3": "negative",
                  "index": 443
                },
                {
                  "0": "f28b43561c",
                  "1": "is on twitter for the second day running. This is what study leave does to me! If only my car were in one piece",
                  "2": "s on twitter for the second day running. This is what study leave does to me! If only my car were in one piece",
                  "3": "negative",
                  "index": 444
                },
                {
                  "0": "2e96633973",
                  "1": "_J_Stuart Unfortunately not yet, I am still without licence.",
                  "2": "Unfortunately not yet,",
                  "3": "negative",
                  "index": 445
                },
                {
                  "0": "afe152340b",
                  "1": "Ow... My shoulder muscle (I can`t remember the name :p) hurts... What did I do?  I don`t even know",
                  "2": "hurts..",
                  "3": "negative",
                  "index": 446
                },
                {
                  "0": "de930fa753",
                  "1": " I wish I could afford to attend those benefits.",
                  "2": "wish I could afford",
                  "3": "negative",
                  "index": 447
                },
                {
                  "0": "31323a99d0",
                  "1": "Oooh the hangover",
                  "2": "hangover",
                  "3": "negative",
                  "index": 448
                },
                {
                  "0": "a25c6ba0ea",
                  "1": "My attempts at writing tonight seem to be failing.",
                  "2": "My attempts at writing tonight seem to be failing.",
                  "3": "negative",
                  "index": 449
                },
                {
                  "0": "434af71088",
                  "1": "Very bad things.......I need to stop thinking!",
                  "2": "Very bad things..",
                  "3": "negative",
                  "index": 450
                },
                {
                  "0": "e36e03078c",
                  "1": "Phone will die soon. What to do now? Oh no!",
                  "2": "die",
                  "3": "negative",
                  "index": 451
                },
                {
                  "0": "603641a514",
                  "1": " ?? Sorry you posted the vid again, but it won`t load for me...",
                  "2": "Sorry",
                  "3": "negative",
                  "index": 452
                },
                {
                  "0": "0a4f813af2",
                  "1": "  no water park today? made me jealous looking at that pic",
                  "2": "? made me jealous",
                  "3": "negative",
                  "index": 453
                },
                {
                  "0": "70791caf15",
                  "1": "In pain,, poor me, I HATE THE SUN",
                  "2": "In pain,, poor me, I HATE THE SUN",
                  "3": "negative",
                  "index": 454
                },
                {
                  "0": "725d9342bd",
                  "1": "F.Y.I. a lot of you people that are following me i have unfollowed a lot of you  yer kinda boring me or not really helpful to my e-growth!",
                  "2": "boring",
                  "3": "negative",
                  "index": 455
                },
                {
                  "0": "4ff8b3efb4",
                  "1": " I can`t  has blocked me.  I can`t even request",
                  "2": "I can`t  has blocked me.  I can`t even reques",
                  "3": "negative",
                  "index": 456
                },
                {
                  "0": "62c9c4f81f",
                  "1": "Getting very frustrated by people who don`t know what they want... can`t wait to go home tonight...",
                  "2": "frustrated",
                  "3": "negative",
                  "index": 457
                },
                {
                  "0": "b809700a90",
                  "1": "****, can`t sleep.  feening for cigs. i`m horrible. :X",
                  "2": "horrible.",
                  "3": "negative",
                  "index": 458
                },
                {
                  "0": "718fa1b02e",
                  "1": " is there something wrong with the internet in chelmsford? my tv on demad isnt working right and my internet is SUPER slow",
                  "2": "my tv on demad isnt working right and my internet is SUPER slow",
                  "3": "negative",
                  "index": 459
                },
                {
                  "0": "d45f4bc4dd",
                  "1": "Tried to do an Audioboo recording but it` distorted due to the high volume  #OBS",
                  "2": "distorted",
                  "3": "negative",
                  "index": 460
                },
                {
                  "0": "2bf4730761",
                  "1": "Need to come up with another blog post today. But for now, I AM SLEEEEEPPYYYYYY!!!!!!!!",
                  "2": "I AM SLEEEEEPPYYYYYY!!!!!!!!",
                  "3": "negative",
                  "index": 461
                },
                {
                  "0": "cb37dd4f3b",
                  "1": "she`s gone   I miss my kay way already",
                  "2": "she`s gone   I miss my kay way already",
                  "3": "negative",
                  "index": 462
                },
                {
                  "0": "95828aebf3",
                  "1": "Missing nathan and the bccg already. And my best friends that tried to visit me   Heading back tomorrow afternoon.",
                  "2": "Missing nathan and the bccg already.",
                  "3": "negative",
                  "index": 463
                },
                {
                  "0": "a7c665c91e",
                  "1": "on jacksonville beach walking in the cold **** water   but have to work in the morning   ily <(`-`)>",
                  "2": "walking in the cold **** water",
                  "3": "negative",
                  "index": 464
                },
                {
                  "0": "cd53878e76",
                  "1": "finished the noodles. done the dishwasher. really really warm. i don`t like it",
                  "2": "i don`t like it",
                  "3": "negative",
                  "index": 465
                },
                {
                  "0": "d7cbf13ce9",
                  "1": "christian lacroix, and one of our on-off clients, gone bust.  http://tinyurl.com/kv653j",
                  "2": "bust.",
                  "3": "negative",
                  "index": 466
                },
                {
                  "0": "c2bdf76265",
                  "1": "just got back from my exam... im surely gonna fail...now trying 2 get tickets 4 il divo! someone doesnt want us 2b there!!!",
                  "2": "fail..",
                  "3": "negative",
                  "index": 467
                },
                {
                  "0": "8ba644c9bd",
                  "1": " The devil you say!  I`ve been waiting for the Black Widow in movies and now she won`t be awesome at all.",
                  "2": "w she won`t be awesome at all",
                  "3": "negative",
                  "index": 468
                },
                {
                  "0": "1cafbadd63",
                  "1": " you suck",
                  "2": "you suck",
                  "3": "negative",
                  "index": 469
                },
                {
                  "0": "25d0ae4faf",
                  "1": "The case for my iPod Touch is literally falling apart.  So junk",
                  "2": "The case for my iPod Touch is literally falling apart.  So junk",
                  "3": "negative",
                  "index": 470
                },
                {
                  "0": "b55ac98ae8",
                  "1": "I dont care who gets mad. I like speaking my mind. Im alreadt crazy so it helps me not go off da deep edge! **** u!",
                  "2": "I dont care who gets mad. I like speaking my mind. Im alreadt crazy so it helps me not go off da deep edge! **** u!",
                  "3": "negative",
                  "index": 471
                },
                {
                  "0": "e415b7e325",
                  "1": "throat infection coming on strong I think  I can taste blood :S",
                  "2": "throat infection",
                  "3": "negative",
                  "index": 472
                },
                {
                  "0": "a52a462bef",
                  "1": "I cant to sleep and tomorrow i must wake up too early",
                  "2": "I cant to sleep an",
                  "3": "negative",
                  "index": 473
                },
                {
                  "0": "aa20ff7392",
                  "1": " I wasn`t given an exact date, but it shouldn`t be much longer. Please accept our apologies for the inconvenience!",
                  "2": "Please accept our apologies for the inconvenience!",
                  "3": "negative",
                  "index": 474
                },
                {
                  "0": "43720cae34",
                  "1": " physics  the most boring class ever!",
                  "2": "t boring",
                  "3": "negative",
                  "index": 475
                },
                {
                  "0": "f6c8408921",
                  "1": "gaahhhh! i want my #comet09 stream back...",
                  "2": "gaahhhh!",
                  "3": "negative",
                  "index": 476
                },
                {
                  "0": "7a6c1bcb7d",
                  "1": "i`m a little sad that school ended today i`m moving so i`m going to miss all my new friends from this year.    just got a hair cut",
                  "2": "little sad th",
                  "3": "negative",
                  "index": 477
                },
                {
                  "0": "c3b00da593",
                  "1": "oops just unfollowed everyone!  anywayz, will build my Twitter Empire.... again....",
                  "2": "oops just unfollowed everyone!  anywayz, will build my Twitter Empire.... again....",
                  "3": "negative",
                  "index": 478
                },
                {
                  "0": "e1fd4cf2a7",
                  "1": " Oh I see who u mean now-tht heltershelter person lol. yer looks scary",
                  "2": "scary",
                  "3": "negative",
                  "index": 479
                },
                {
                  "0": "2d4944b8ef",
                  "1": "I knew I should`ve worn the SARS mask on the plane from SoCal.. feeling the beginnings of a sore throat",
                  "2": "feeling the beginnings of a sore throat",
                  "3": "negative",
                  "index": 480
                },
                {
                  "0": "dbe49e110b",
                  "1": " yep, so I **** it.",
                  "2": "I **** it.",
                  "3": "negative",
                  "index": 481
                },
                {
                  "0": "ed1d6d2bdb",
                  "1": "hollie steel on bgt was absolutely excruciating to watch...poor girl.",
                  "2": "bgt was absolutely excruciating to watch...poor girl.",
                  "3": "negative",
                  "index": 482
                },
                {
                  "0": "7e9b461caa",
                  "1": " oops, me and my drunken stupor lol. Ima check it out",
                  "2": "oops,",
                  "3": "negative",
                  "index": 483
                },
                {
                  "0": "092bb0deab",
                  "1": "soo sick. i hate my life",
                  "2": "soo sick. i hate my life",
                  "3": "negative",
                  "index": 484
                },
                {
                  "0": "8b25e05dff",
                  "1": "I hate waiting in lines",
                  "2": "I hate wa",
                  "3": "negative",
                  "index": 485
                },
                {
                  "0": "01d66b7d46",
                  "1": " yeah the weather ruined my plans too  i was gonna beach it up as well",
                  "2": "ruined",
                  "3": "negative",
                  "index": 486
                },
                {
                  "0": "22b097900d",
                  "1": "Its an undeniable truth.  I suck at talking to people.  No good at making a connection.  i come off as either strange or distant",
                  "2": "suck",
                  "3": "negative",
                  "index": 487
                },
                {
                  "0": "40d8340387",
                  "1": " I gotta say, I feel bad for everyone in NKorea.  They`re starving, and they have a crazy in charge who endangers them daily.",
                  "2": ", I feel bad for everyone in NKorea.",
                  "3": "negative",
                  "index": 488
                },
                {
                  "0": "f6e1c13d98",
                  "1": "Feeling so rough today, just want a cuddle and some sleep",
                  "2": "Feeling so rough today,",
                  "3": "negative",
                  "index": 489
                },
                {
                  "0": "300997aaeb",
                  "1": "Still soo tired..not ready to get up for the day...work again",
                  "2": "Still soo tired..",
                  "3": "negative",
                  "index": 490
                },
                {
                  "0": "e98e0fede0",
                  "1": "at last i wr0te again....got bored the previous dayss....",
                  "2": "bored",
                  "3": "negative",
                  "index": 491
                },
                {
                  "0": "e42f22608c",
                  "1": " She! Maybe that was our first mistake.  Not everyone is as cool as   (brown nose moment)",
                  "2": "mistake.",
                  "3": "negative",
                  "index": 492
                },
                {
                  "0": "1dd8d096e8",
                  "1": "Internet is getting **** slow today..",
                  "2": "**** slow",
                  "3": "negative",
                  "index": 493
                },
                {
                  "0": "700eb9d742",
                  "1": "Went out to get groceries...prices are inflating  Gas went up another 10 cents to hit $2.49... #TCOT",
                  "2": "inflating",
                  "3": "negative",
                  "index": 494
                },
                {
                  "0": "9f99fb6260",
                  "1": "I`m so down again.  I wish I could share my problems with someone...",
                  "2": "I`m so down again.",
                  "3": "negative",
                  "index": 495
                },
                {
                  "0": "c251de9d23",
                  "1": "urban think fail. chai latte is not good there",
                  "2": "chai latte is not good",
                  "3": "negative",
                  "index": 496
                },
                {
                  "0": "91d6223051",
                  "1": "Trying to open a .docx file on my virtual system while I`m under the dryer. But it only has Office 2007,",
                  "2": "I`m under the dryer.",
                  "3": "negative",
                  "index": 497
                },
                {
                  "0": "4c1b73ef1f",
                  "1": "idk why im so hyper im jumping everyhere. ugh lets let it be friday sweeney todd then cinco de mayo il those parties",
                  "2": "hyper",
                  "3": "negative",
                  "index": 498
                },
                {
                  "0": "3a8a7232eb",
                  "1": "bed. with stomach ache",
                  "2": "bed. with stomach ache",
                  "3": "negative",
                  "index": 499
                },
                {
                  "0": "3aa1123af3",
                  "1": " my computer is being stupid and wont let me vote  . if i could i would vote for u.",
                  "2": "my computer is being stupid and wont let me vote  . if i could i would vote for u.",
                  "3": "negative",
                  "index": 500
                },
                {
                  "0": "22eef0949d",
                  "1": "Gettin some fuel, too bad no one is reading this!",
                  "2": "too bad no",
                  "3": "negative",
                  "index": 501
                },
                {
                  "0": "fb06c8e8ef",
                  "1": " KH is the only thing I`ll be a weeaboo about.  I still prefer it in English but I`m impatient, haha",
                  "2": "m impatient",
                  "3": "negative",
                  "index": 502
                },
                {
                  "0": "3cbc1723cf",
                  "1": "Everything is annoying me today",
                  "2": "annoying",
                  "3": "negative",
                  "index": 503
                },
                {
                  "0": "b31486f8c0",
                  "1": "How did Day 26 go from a good budget video (imma put it on her) to such a low budget video (Stadium Music) The end may be near for them",
                  "2": "such a low budget video",
                  "3": "negative",
                  "index": 504
                },
                {
                  "0": "ff85b0b80a",
                  "1": " I think you and Tamera should have your own show anyway...the CW or ABC fam is not appreciating you like they should.",
                  "2": "fam is not appreciating you like they should.",
                  "3": "negative",
                  "index": 505
                },
                {
                  "0": "5db2195e56",
                  "1": "is still sick  sigh",
                  "2": "is still sick",
                  "3": "negative",
                  "index": 506
                },
                {
                  "0": "c3af043193",
                  "1": "Morning all. I appear to have a bit of a sore head. Perhaps the bag of pork scratchings for dinner wasn`t such a good idea",
                  "2": "sore",
                  "3": "negative",
                  "index": 507
                },
                {
                  "0": "8f45d14d87",
                  "1": " haha you didnt see my macbook or my 24`` imac in that pic, so feel extra jealous lolll",
                  "2": "jealous",
                  "3": "negative",
                  "index": 508
                },
                {
                  "0": "4bf8205ece",
                  "1": " hey!  sorry for the late reply.but i do plan on posting on both facebook and twitpic.",
                  "2": "sorry for the late reply",
                  "3": "negative",
                  "index": 509
                },
                {
                  "0": "e14df90efb",
                  "1": "At pool in Orlando got new kicks  going to seaworld tommrow miss my best friend",
                  "2": "miss my best friend",
                  "3": "negative",
                  "index": 510
                },
                {
                  "0": "125249886e",
                  "1": "Father is staying home and conference calling. Sorry ",
                  "2": "Sorry",
                  "3": "negative",
                  "index": 511
                },
                {
                  "0": "6584036615",
                  "1": "Why are the sinks in hospital toilets so low? Now the **** of my grey suit is spattered with water! Just in time for Physio",
                  "2": "so low? No",
                  "3": "negative",
                  "index": 512
                },
                {
                  "0": "f0bb64692f",
                  "1": "Wishing it was a sunny day, then I might just be bothered to get outta bed! ..up the blues",
                  "2": "up the blues",
                  "3": "negative",
                  "index": 513
                },
                {
                  "0": "31098bb260",
                  "1": "wishes he had realized his wife hadn`t held onto the debit card before he took a long walk to get lunch and not after.  GRRR!",
                  "2": "his wife hadn`t held onto the debit card be",
                  "3": "negative",
                  "index": 514
                },
                {
                  "0": "5942352255",
                  "1": " How is she spoilt? She`s like 10? 11? That was hard for her to be put up in front of 14m people.  She`s really young.",
                  "2": "How is she spoilt? She`s like 10? 11? That was hard for her to be put up in front of 14m people.",
                  "3": "negative",
                  "index": 515
                },
                {
                  "0": "35a2e01940",
                  "1": "school and the guy i like was talking to the girl i cant stand at all!!  ppl are just sooo...ughhhh!!",
                  "2": ".ughhhh!",
                  "3": "negative",
                  "index": 516
                },
                {
                  "0": "b0fc59f0dd",
                  "1": "Have $#@&!!! Malware on my work PC!  I miss having an IT dept",
                  "2": "I miss having an IT dept",
                  "3": "negative",
                  "index": 517
                },
                {
                  "0": "041ab65625",
                  "1": "Took me 2 times to get over the wall. What killed me was the 150 lb dummy that you can`t drag. 12  seconds over.",
                  "2": "What killed me was the 150 lb dummy that you can`t drag.",
                  "3": "negative",
                  "index": 518
                },
                {
                  "0": "1206c7aefb",
                  "1": " I accidentaly slammed my finger in the trunk",
                  "2": "I accidentaly slammed my finger in the trunk",
                  "3": "negative",
                  "index": 519
                },
                {
                  "0": "914e57e54b",
                  "1": " **** it! Must be Morrisons then",
                  "2": "**** it!",
                  "3": "negative",
                  "index": 520
                },
                {
                  "0": "12c89d051d",
                  "1": "That was ****.",
                  "2": "****.",
                  "3": "negative",
                  "index": 521
                },
                {
                  "0": "846c546859",
                  "1": " NOOOOO I hate traffic",
                  "2": "NOOOOO I hate traffic",
                  "3": "negative",
                  "index": 522
                },
                {
                  "0": "71c9975b09",
                  "1": " !! I miss you too.",
                  "2": "I miss you too.",
                  "3": "negative",
                  "index": 523
                },
                {
                  "0": "fc4caebc32",
                  "1": "cupcakes gave me heartburn",
                  "2": "heartburn",
                  "3": "negative",
                  "index": 524
                },
                {
                  "0": "f2fd79de98",
                  "1": " pandora is blocked at my work  bummed",
                  "2": "bummed",
                  "3": "negative",
                  "index": 525
                },
                {
                  "0": "9fda61503d",
                  "1": " no panasonic charger.sorry",
                  "2": ".sorry",
                  "3": "negative",
                  "index": 526
                },
                {
                  "0": "e4bf91468f",
                  "1": "_xox  Oh god, everyone`s dying.  But it`s mainly justin depressing me",
                  "2": "n depressing",
                  "3": "negative",
                  "index": 527
                },
                {
                  "0": "8ea6edf6c7",
                  "1": " i know, and we gotta wait until earl 2010, i think or very late 2009! its just wrong",
                  "2": ", i think or very late 2009! its just wrong",
                  "3": "negative",
                  "index": 528
                },
                {
                  "0": "411a54feb1",
                  "1": "painting my nails green in an attempt to look like an army person. annoyed that everyone seems to tan apart from me! freckles and sunburn",
                  "2": "annoyed that everyone seems to tan apart from me! freckles and sunburn",
                  "3": "negative",
                  "index": 529
                },
                {
                  "0": "d032abe7e7",
                  "1": "#fieldnotes I ordered some on the 8th and they still haven`t arrived. 3 weeks and still no books",
                  "2": "I ordered some on the 8th and they still haven`t arrived. 3 weeks and still no books",
                  "3": "negative",
                  "index": 530
                },
                {
                  "0": "f0d4626bab",
                  "1": "watching Jon & Kate plus 8..can`t believe they`re divorcing",
                  "2": "can`t believe they`re divorcing",
                  "3": "negative",
                  "index": 531
                },
                {
                  "0": "ab4a849f72",
                  "1": "My poor wife.  I`m laid up for another 6 hours on doctors orders, then can`t do much and she is dealing with screaming baby",
                  "2": "My poor wife.",
                  "3": "negative",
                  "index": 532
                },
                {
                  "0": "94537563a1",
                  "1": "looks like the eprocurement e-mail address from office mate is blacklisted by IT here.. asking them to whitelist now.",
                  "2": "blacklisted by IT here..",
                  "3": "negative",
                  "index": 533
                },
                {
                  "0": "8aed647dce",
                  "1": " :: I know the feeling  Its a little depressing :S",
                  "2": "e feeling  Its a little depressing",
                  "3": "negative",
                  "index": 534
                },
                {
                  "0": "75aa5fabca",
                  "1": "Uh-Oooh my throat is scratchy",
                  "2": "scratchy",
                  "3": "negative",
                  "index": 535
                },
                {
                  "0": "7e260b1f13",
                  "1": "  man i wont be home to co host with you!  xo*blair",
                  "2": "n i wont be home to co host with you!",
                  "3": "negative",
                  "index": 536
                },
                {
                  "0": "a6ad5df0ca",
                  "1": "ughhhhhhhhhhhh  :/",
                  "2": "ughhhhhhhhhhhh  :/",
                  "3": "negative",
                  "index": 537
                },
                {
                  "0": "a27e6d1054",
                  "1": " lol - that`s what hubby`s are there for, to think their wives are nuts.",
                  "2": ", to think their wives are nuts.",
                  "3": "negative",
                  "index": 538
                },
                {
                  "0": "609bf831e2",
                  "1": "apparently even Novell Moonlight doesn`t work on my Jaunty",
                  "2": "doesn`t work",
                  "3": "negative",
                  "index": 539
                },
                {
                  "0": "24f443230e",
                  "1": "people with mustaches get super powers and mustaches. no fair.",
                  "2": "no fair.",
                  "3": "negative",
                  "index": 540
                },
                {
                  "0": "98069e1e28",
                  "1": "Bad day, just got worse...",
                  "2": "Bad",
                  "3": "negative",
                  "index": 541
                },
                {
                  "0": "82f88a3667",
                  "1": "Trying to recover photos after a problem between Windows and my XD card. Result: shots are all half visible  **** Microsoft...",
                  "2": "Trying to recover photos after a problem between Windows and my XD card. Result: shots are all half visible  **** Microsoft...",
                  "3": "negative",
                  "index": 542
                },
                {
                  "0": "7f6299624f",
                  "1": " Wish I could listen but because I`m from Canada, the website won`t let me!",
                  "2": "Wish I could listen but because I`m from Canada, the website won`t let me!",
                  "3": "negative",
                  "index": 543
                },
                {
                  "0": "6d392e7d08",
                  "1": "  I guess you are not interested !!",
                  "2": "e not interested",
                  "3": "negative",
                  "index": 544
                },
                {
                  "0": "83c53b5fb9",
                  "1": "oh no. opera 10 is not google friendly  *weeps*",
                  "2": "not google friendly",
                  "3": "negative",
                  "index": 545
                },
                {
                  "0": "cc74409945",
                  "1": "Hates bleech!! Messed up my black outfit",
                  "2": "Hates",
                  "3": "negative",
                  "index": 546
                },
                {
                  "0": "8c5bb48dcd",
                  "1": "I feel like **** cause I couldnt sleep last night and went to sleep at 320 n bk up at 6  soooo tired!!!",
                  "2": "feel like ****",
                  "3": "negative",
                  "index": 547
                },
                {
                  "0": "8b8f51c9f8",
                  "1": "I need a blackberry",
                  "2": "I need a blackberry",
                  "3": "negative",
                  "index": 548
                },
                {
                  "0": "2977740144",
                  "1": "Found my book. Starting a real paper-bound journal tonight. Have an annoying zit above my lip. Makes me look like I have herpes",
                  "2": "annoying",
                  "3": "negative",
                  "index": 549
                },
                {
                  "0": "fd53aa272c",
                  "1": "scratchy scratchy throat. warm fluids needed",
                  "2": "scratchy",
                  "3": "negative",
                  "index": 550
                },
                {
                  "0": "6b78e2821a",
                  "1": "would like june the nineteenth to hurry it self up, as she is waiting very impatiently to see wes carr",
                  "2": "she is waiting very impatiently",
                  "3": "negative",
                  "index": 551
                },
                {
                  "0": "f1d7662793",
                  "1": "Trying to go to sleep but no luck  I think i`m sick... =S",
                  "2": "but no luck  I think i`m sick.",
                  "3": "negative",
                  "index": 552
                },
                {
                  "0": "50f8337cdf",
                  "1": "_654  it`s this damp weather...",
                  "2": "damp",
                  "3": "negative",
                  "index": 553
                },
                {
                  "0": "fd0e1afe7b",
                  "1": "New work wellness challenge not going well.  I committed to not check email between 10 pm and 6 am.  Failed on first day.  Twice",
                  "2": "Failed on first day.  Twic",
                  "3": "negative",
                  "index": 554
                },
                {
                  "0": "7e6bcdb2e2",
                  "1": "Whew. Finally done editing my Friendster account. Haha! Oh, geez. I`m hungry.",
                  "2": "Oh, geez. I`m hungry.",
                  "3": "negative",
                  "index": 555
                },
                {
                  "0": "428802d196",
                  "1": " that really sucks I feel bad for you at least I woke up at eight.",
                  "2": "I feel bad for you",
                  "3": "negative",
                  "index": 556
                },
                {
                  "0": "7841b9fac0",
                  "1": "my 21month daughter`s seperation anxiety is intense. it`s killing me. i cant leave her sight without her breaking into an anxiety attack",
                  "2": "it`s killing me.",
                  "3": "negative",
                  "index": 557
                },
                {
                  "0": "70237730b5",
                  "1": "Officially out of my apt  Learned some stuff about the crazy neighbors that used to live across the hall....scary!",
                  "2": ".scary!",
                  "3": "negative",
                  "index": 558
                },
                {
                  "0": "9d4923ef46",
                  "1": "oh, not just his IMs, but also from all my friends who IM me! This really sucks, I am always not around!",
                  "2": "really sucks,",
                  "3": "negative",
                  "index": 559
                },
                {
                  "0": "770c7872ee",
                  "1": " what a **** shame all that body to waste",
                  "2": "**** shame",
                  "3": "negative",
                  "index": 560
                },
                {
                  "0": "c8e44ba4ed",
                  "1": "Sitting watching britain`s got f all talent, but have watched a small girl cry and it`s sad",
                  "2": "watched a small girl cry and it`s sad",
                  "3": "negative",
                  "index": 561
                },
                {
                  "0": "ffce24e081",
                  "1": " Oh No! Oprah jumped in front again",
                  "2": "Oh No!",
                  "3": "negative",
                  "index": 562
                },
                {
                  "0": "a1ca634afc",
                  "1": " 1000 = make sure it has the word poo or balls in it  Underbelly DOES suck balls... I gave up on it in wk 3.",
                  "2": ".. I gave up on it",
                  "3": "negative",
                  "index": 563
                },
                {
                  "0": "5156e1f9c9",
                  "1": " I agree with _Crazy it`s not worth it - block them & let Twitter police know about harrassment.",
                  "2": "harrassment.",
                  "3": "negative",
                  "index": 564
                },
                {
                  "0": "9d5407420e",
                  "1": "Needs a job BADLY!!!",
                  "2": "BADLY!!",
                  "3": "negative",
                  "index": 565
                },
                {
                  "0": "0654536ed4",
                  "1": " Wow  That had to be difficult",
                  "2": "Wow  That had to be difficult",
                  "3": "negative",
                  "index": 566
                },
                {
                  "0": "0b46134123",
                  "1": "i think that studying has really started taking its toll..",
                  "2": "i think that studying has really started taking its toll..",
                  "3": "negative",
                  "index": 567
                },
                {
                  "0": "5c1e9ac72e",
                  "1": " i did a couple hours ago...ive got sun burn and its really uncomfortable",
                  "2": "uncomfortable",
                  "3": "negative",
                  "index": 568
                },
                {
                  "0": "900a88bb34",
                  "1": "Missing my baby ducks",
                  "2": "Missing my baby ducks",
                  "3": "negative",
                  "index": 569
                },
                {
                  "0": "73e592eef0",
                  "1": "I REALLY  should have gone to the Chiropractor this week . . And today  my neck hurts so bad",
                  "2": "k hurts",
                  "3": "negative",
                  "index": 570
                },
                {
                  "0": "cd3dc4adf6",
                  "1": "I was gonna get off at 230 2day. Just found out I`m stayin til 630",
                  "2": "I`m stayin til 630",
                  "3": "negative",
                  "index": 571
                },
                {
                  "0": "236d5acf70",
                  "1": "even though everyone wanted to do a newish song and our teacher agreed :S old grumpy doesn`t like us happy  haha",
                  "2": "doesn`t like us happy",
                  "3": "negative",
                  "index": 572
                },
                {
                  "0": "10b5f7786a",
                  "1": " I wish I was! well, for the past hour I have been. But before that I was in bed. Proper migraine!",
                  "2": "migraine!",
                  "3": "negative",
                  "index": 573
                },
                {
                  "0": "35422c15e7",
                  "1": "leaving now  off to get my angry teethed pulled....",
                  "2": "angry",
                  "3": "negative",
                  "index": 574
                },
                {
                  "0": "58351086b6",
                  "1": " Just go near a hive, they`ll tame you!",
                  "2": "they`ll tame you!",
                  "3": "negative",
                  "index": 575
                },
                {
                  "0": "e28b4c4fb7",
                  "1": " my three most hated words are 'see you monday'",
                  "2": "my three most hated words are 'see you monday'",
                  "3": "negative",
                  "index": 576
                },
                {
                  "0": "15a32538cf",
                  "1": "I am in so much pain I really don`t feel too good. Couldn`t eat my dinner",
                  "2": "I am in so much pain I really don`t feel too good. Couldn`t eat my dinner",
                  "3": "negative",
                  "index": 577
                },
                {
                  "0": "e92751610f",
                  "1": "   People are cruel sometimes.  I can`t imagine being a Star.",
                  "2": "People are cruel sometime",
                  "3": "negative",
                  "index": 578
                },
                {
                  "0": "dd9d766857",
                  "1": "Sick at home and so bored  I want to get better already so I can enjoy being a college grad!",
                  "2": "Sick",
                  "3": "negative",
                  "index": 579
                },
                {
                  "0": "b7e6d162e8",
                  "1": "kinda has a headache...",
                  "2": "headache..",
                  "3": "negative",
                  "index": 580
                },
                {
                  "0": "7dc906d5a1",
                  "1": "Omg, watching Hollie Steel`s crying is so so painful  #bgt",
                  "2": "painful",
                  "3": "negative",
                  "index": 581
                },
                {
                  "0": "5591081c25",
                  "1": " That sucks about your prints. Sorry",
                  "2": "That sucks about your prints. Sorry",
                  "3": "negative",
                  "index": 582
                },
                {
                  "0": "fbf5fbf656",
                  "1": "Weather sucks!!... It`s raining again!!",
                  "2": "Weather sucks!!...",
                  "3": "negative",
                  "index": 583
                },
                {
                  "0": "d9dcae5eed",
                  "1": "work soonnnnnn  it`s looking rly dead today...",
                  "2": "work soonnnnnn  it`s looking rly dead today...",
                  "3": "negative",
                  "index": 584
                },
                {
                  "0": "09256ab5f3",
                  "1": " i know my mom is going up there monday with me to get it changed. i`m so upset",
                  "2": "so upset",
                  "3": "negative",
                  "index": 585
                },
                {
                  "0": "fa5f151155",
                  "1": "emily is over tonight XD work experience is over. Jen I`m  going to miss seeing you like everyday",
                  "2": "I`m  going to miss seeing you like everyday",
                  "3": "negative",
                  "index": 586
                },
                {
                  "0": "59baf4230b",
                  "1": "I feel slightly sick now  #BGT",
                  "2": "sick no",
                  "3": "negative",
                  "index": 587
                },
                {
                  "0": "9ca53f2fb2",
                  "1": "Okay, the man with the hook for a hand is kinda freaking me out right now.",
                  "2": "is kinda freaking me out ri",
                  "3": "negative",
                  "index": 588
                },
                {
                  "0": "f5d11320aa",
                  "1": " I miss you too, Mojokins! I go there, but not long enough to comment  Will do more this weekend!",
                  "2": "I miss you too,",
                  "3": "negative",
                  "index": 589
                },
                {
                  "0": "13cb60cfc5",
                  "1": " Sigh. It is a sad, lonely profession.",
                  "2": "It is a sad, lonely profession.",
                  "3": "negative",
                  "index": 590
                },
                {
                  "0": "d16a599d1d",
                  "1": " oh no fair.... thats in 9 hours",
                  "2": "no fair.",
                  "3": "negative",
                  "index": 591
                },
                {
                  "0": "c962059cfb",
                  "1": "I should go shower but FFAF is **** distraaaaacting",
                  "2": "**** distraaaaacting",
                  "3": "negative",
                  "index": 592
                },
                {
                  "0": "f6935311d2",
                  "1": " aww noooo that doesn`t sound too great",
                  "2": "that doesn`t sound too great",
                  "3": "negative",
                  "index": 593
                },
                {
                  "0": "7f927df185",
                  "1": " I did do that one Twitter while driving, although the iPhone keypad sucks for driving and typing",
                  "2": "iPhone keypad sucks",
                  "3": "negative",
                  "index": 594
                },
                {
                  "0": "930b5a21be",
                  "1": "Tummy hurts",
                  "2": "Tummy hurts",
                  "3": "negative",
                  "index": 595
                },
                {
                  "0": "0a3db03798",
                  "1": "Another Lake Park kid is going to Tulane. I`m not unique anymore",
                  "2": "Another Lake Park kid is going to Tulane. I`m not unique anymore",
                  "3": "negative",
                  "index": 596
                },
                {
                  "0": "300ee64c61",
                  "1": " Welcome to Glasgow Felix, sorry I cant be there tonight",
                  "2": ", sorry I cant be there tonight",
                  "3": "negative",
                  "index": 597
                },
                {
                  "0": "a4107cd765",
                  "1": " Im not getting any treatments, we are just gonna hang out at the pool and the hot tubs.",
                  "2": "Im not getting any treatments,",
                  "3": "negative",
                  "index": 598
                },
                {
                  "0": "979d46a2d4",
                  "1": " again your fault  i didnt make u leave",
                  "2": "again your fault  i didnt make u leave",
                  "3": "negative",
                  "index": 599
                },
                {
                  "0": "d71ce50ae9",
                  "1": "TGIF Resto here at home is dayuummm expensive!",
                  "2": "expensive!",
                  "3": "negative",
                  "index": 600
                },
                {
                  "0": "ebf3cd9c1e",
                  "1": "Just finished reading Chuck Palahniuk`s 'Pygmy' and kind of hated it. I`m really disappointed; I had pretty high hopes for this one.",
                  "2": "I`m really disappointed; I had pretty high hopes for this one.",
                  "3": "negative",
                  "index": 601
                },
                {
                  "0": "467593cbb0",
                  "1": "riding daddy`s bike (yes a man`s bike, very convenient! NOT) in the dark without glasses on. i was scared  but i survived HAHA",
                  "2": "scared",
                  "3": "negative",
                  "index": 602
                },
                {
                  "0": "527877de07",
                  "1": "VERY upset....  Mom is in the hospital",
                  "2": "upset..",
                  "3": "negative",
                  "index": 603
                },
                {
                  "0": "9fccd68eb2",
                  "1": "_J think so.. although think i am being ignored! not a good day",
                  "2": "i am being ignored! not a good day",
                  "3": "negative",
                  "index": 604
                },
                {
                  "0": "b092dea94f",
                  "1": " That is annoying. What gear is it? I`ll take it off your hands",
                  "2": "That is annoying. What gear is it? I`ll take it off your hands",
                  "3": "negative",
                  "index": 605
                },
                {
                  "0": "13d1cd323a",
                  "1": "my back hurts  have a heating pad on it... stupid ladder y did you have to collapse and make me fall on my back/bum???",
                  "2": "stupid ladder y did you have to collapse and make me fall on my back/bum???",
                  "3": "negative",
                  "index": 606
                },
                {
                  "0": "983dfecd25",
                  "1": "gonna do laundry....never did laundry @ a hotel before.....I miss you R.....even though you ignore me and don even check on me....",
                  "2": "I miss you R.....",
                  "3": "negative",
                  "index": 607
                },
                {
                  "0": "c0ce3aaf89",
                  "1": "Ewww just printed my new I.d badge thingie 4 work n eww my picture. I took so many n they were all ugly",
                  "2": "they were all ugly",
                  "3": "negative",
                  "index": 608
                },
                {
                  "0": "5c430e5850",
                  "1": "Awake at 4am..  can`t sleep",
                  "2": "can`t sleep",
                  "3": "negative",
                  "index": 609
                },
                {
                  "0": "8fb818e875",
                  "1": "anyone else having a problem accessing their account info on the istore?  i cant buy music and cant look at my account",
                  "2": "problem",
                  "3": "negative",
                  "index": 610
                },
                {
                  "0": "93756375f7",
                  "1": "frame damage... car could be totalled",
                  "2": "damage..",
                  "3": "negative",
                  "index": 611
                },
                {
                  "0": "547321030c",
                  "1": "Ugh soooo much work to do today while trying to make the 6:10 train to the game... looking like a 4-5 hour Sunday at the office.",
                  "2": "Ugh soooo much work to",
                  "3": "negative",
                  "index": 612
                },
                {
                  "0": "fea3c0ce76",
                  "1": "_breannarose fuuuuuuck  idk if andy can get youuuu",
                  "2": "fuuuuuuck  idk if andy can get youuuu",
                  "3": "negative",
                  "index": 613
                },
                {
                  "0": "27810adee5",
                  "1": " doesnt look good  we have to go burn some lampions",
                  "2": "doesnt look good  we have to go burn some lampions",
                  "3": "negative",
                  "index": 614
                },
                {
                  "0": "ef52ec7e13",
                  "1": "My mouth hurts. Wish I could cut my head off",
                  "2": "hurts.",
                  "3": "negative",
                  "index": 615
                },
                {
                  "0": "26702e60d9",
                  "1": " i had a dream that u didn`t like me",
                  "2": "i had a dream that u didn`t like me",
                  "3": "negative",
                  "index": 616
                },
                {
                  "0": "4c1897aa51",
                  "1": "Ugh, still sick. This Calgary cold has lasted forever.",
                  "2": "Ugh, still sick. This Calgary cold has lasted forever.",
                  "3": "negative",
                  "index": 617
                },
                {
                  "0": "ca57f1f9bb",
                  "1": " ha! I know..I`m very ashamed.",
                  "2": ".I`m very ashamed.",
                  "3": "negative",
                  "index": 618
                },
                {
                  "0": "62bf1999ab",
                  "1": " Yeah, Sabrina..though I keep thinking it`s something else.  Cary Grant ain`t too shabby either. Bringing up Baby",
                  "2": "o shabby",
                  "3": "negative",
                  "index": 619
                },
                {
                  "0": "32dc2d3da5",
                  "1": "I have uncontrolable hic-ups right now that hurt",
                  "2": "I have uncontrolable",
                  "3": "negative",
                  "index": 620
                },
                {
                  "0": "080c0727a0",
                  "1": "oh yah her and angel came and harrassed me and tried to break in my house!! lol  Burgen",
                  "2": "harrassed me and tried to break in my house!!",
                  "3": "negative",
                  "index": 621
                },
                {
                  "0": "c58cd47886",
                  "1": "Not feelin right. Hope the feeling passes. Stupid stomach.",
                  "2": "Not feelin right.",
                  "3": "negative",
                  "index": 622
                },
                {
                  "0": "c8dfc591ec",
                  "1": " I can`t seem to find it, can you send it to me again please  oh and tag it too lol",
                  "2": "I can`t seem to find it,",
                  "3": "negative",
                  "index": 623
                },
                {
                  "0": "2143ed1be2",
                  "1": " Bad times for everyone  Whywhywhy do we have to write essays  No fair!",
                  "2": "Bad times for everyone  Whywhywhy do we have to write essays  No fair",
                  "3": "negative",
                  "index": 624
                },
                {
                  "0": "39b2a0d81f",
                  "1": "omg patron is 1ofmy FAVS   im so jealous icant do 10 but i can do 5 so make it 15  so serious im in alabama visitin fam",
                  "2": "im so jealous icant do",
                  "3": "negative",
                  "index": 625
                },
                {
                  "0": "48b10eaac4",
                  "1": "Have decided I just can`t stand `s Alltop spam any longer.",
                  "2": "I just can`t stand",
                  "3": "negative",
                  "index": 626
                },
                {
                  "0": "00f1209e69",
                  "1": "Really mad at myself for forgetting about the May 24 deadline for the 40,000 mile award trips to South America on ",
                  "2": "mad",
                  "3": "negative",
                  "index": 627
                },
                {
                  "0": "cd5f10b26f",
                  "1": "Has been rejected",
                  "2": "rejected",
                  "3": "negative",
                  "index": 628
                },
                {
                  "0": "500d5b1751",
                  "1": "Almost time to say Good Bye to my twimulations. I`ll miss my tweeps",
                  "2": "I`ll miss my tweeps",
                  "3": "negative",
                  "index": 629
                },
                {
                  "0": "68f79be259",
                  "1": " Right here! Army Wife in Germany! I can`t STAND that I cannot be there this summer!",
                  "2": "! I can`t STAND that I cannot be there this summer!",
                  "3": "negative",
                  "index": 630
                },
                {
                  "0": "b1c2b4b9d5",
                  "1": "Oh no  I wanted to go to sea but today the sun is not here!  SIGH!",
                  "2": "today the sun is not here!",
                  "3": "negative",
                  "index": 631
                },
                {
                  "0": "eb3c1f7bcd",
                  "1": "my deep fry drumsticks were not as good as i thought they would be",
                  "2": "not as good",
                  "3": "negative",
                  "index": 632
                },
                {
                  "0": "46eb0ef934",
                  "1": "This weather is awful! I just want to curl up and read a book all day",
                  "2": "This weather is awful!",
                  "3": "negative",
                  "index": 633
                },
                {
                  "0": "2fbb56c292",
                  "1": "_and_jay hi!  **** your job!",
                  "2": "and_jay hi!  **** your job!",
                  "3": "negative",
                  "index": 634
                },
                {
                  "0": "29ffd15818",
                  "1": " she`s in LA, wanting sun today... but apparently LA isn`t cooperating",
                  "2": "A isn`t cooperating",
                  "3": "negative",
                  "index": 635
                },
                {
                  "0": "739e3b18bc",
                  "1": "Learned a lesson the hard way. Lost my USB stick and backup was a month old",
                  "2": "Learned a lesson the hard way.",
                  "3": "negative",
                  "index": 636
                },
                {
                  "0": "db1be9d601",
                  "1": "is going to forgo Pub Night with the wife tonight. Tough week for both of us and neither is really up for it. Plus our neighbor died",
                  "2": "Tough week for both of us and neither is really up for it. Plus our neighbor died",
                  "3": "negative",
                  "index": 637
                },
                {
                  "0": "e4ca3bccbc",
                  "1": "Cant believe Venus lost. A real shame. Smh. I think im getting sick  Had such a **** week, doesnt look like the wknd is gona be better!",
                  "2": "Cant believe Venus lost. A real shame. Smh. I think im getting sick  Had such a **** week, doesnt look like the wknd is gona be better!",
                  "3": "negative",
                  "index": 638
                },
                {
                  "0": "2094697870",
                  "1": "Spent the night finally relaxing with Nogard on WoW after finishing some work Needed to take a small break from art. I really missed this",
                  "2": "I really missed this",
                  "3": "negative",
                  "index": 639
                },
                {
                  "0": "2c08b3b456",
                  "1": " Sorry about the weather, hopefully you`re not in the 2-3 hour wx delays here in BWI",
                  "2": "Sorry about the weather, hopefully you`re not in the 2-3 hour wx delays here in BWI",
                  "3": "negative",
                  "index": 640
                },
                {
                  "0": "b8fa9e7e2b",
                  "1": " Sorry, that was a bit negative!",
                  "2": "Sorry, that was a bit negative!",
                  "3": "negative",
                  "index": 641
                },
                {
                  "0": "0a96158ea3",
                  "1": "Now have an unpleasant talk w/n-laws 2 look 4ward 2....",
                  "2": "unpleasant",
                  "3": "negative",
                  "index": 642
                },
                {
                  "0": "196ecaa275",
                  "1": " how tough was that, just wanted to hug her like my own",
                  "2": "tough",
                  "3": "negative",
                  "index": 643
                },
                {
                  "0": "ee1067d6be",
                  "1": "oh...my foot`s hurting now. About 5 minutes after I took it out though.",
                  "2": "hurting",
                  "3": "negative",
                  "index": 644
                },
                {
                  "0": "852d0f895c",
                  "1": "i don`t know what to do... time is going by so fast.",
                  "2": "i don`t know what to do..",
                  "3": "negative",
                  "index": 645
                },
                {
                  "0": "610ece882b",
                  "1": " See? Sucked you right in.  The only problem will be church/Sunday race conflicts, but that`s why God gave us DVR. :-D _niffer",
                  "2": "See? Sucked you right in.  The only problem will be church/Sunday race conflicts, but that`s why God gave us",
                  "3": "negative",
                  "index": 646
                },
                {
                  "0": "91fb409df7",
                  "1": "I feel actual heartbreak.. _Gates last night  x",
                  "2": "I feel actual heartbreak..",
                  "3": "negative",
                  "index": 647
                },
                {
                  "0": "7ed78468fa",
                  "1": " Momentum works!  But Jeff will have a hard time from 42nd.",
                  "2": "But Jeff will have a hard time from 42nd",
                  "3": "negative",
                  "index": 648
                },
                {
                  "0": "7eb12f3dd8",
                  "1": "I am in school. Absolutely I have been sick .. I want to go home - we are writing of geography, the best it will",
                  "2": "Absolutely I have been sick .. I want to go home",
                  "3": "negative",
                  "index": 649
                },
                {
                  "0": "ccbfe16adf",
                  "1": " I could do with another one now myself. was back to work on Monday after being off for 7 weeks  not good.",
                  "2": "not good",
                  "3": "negative",
                  "index": 650
                },
                {
                  "0": "0eccc63901",
                  "1": " Sorry to hear that man  He is were the **** cant reach him now. My heart goes out to you and your family.",
                  "2": "Sorry",
                  "3": "negative",
                  "index": 651
                },
                {
                  "0": "72df0ca5a2",
                  "1": "TODAy SUCKs - kisskass19: ï¿½you and katey broke up?! Yah Kate Broke up with me  Itï¿½s been awful nd Vodkas... http://tumblr.com/xkx1wgl8r",
                  "2": "SUCKs",
                  "3": "negative",
                  "index": 652
                },
                {
                  "0": "7dfb8ee831",
                  "1": "I don`t wanna go back to work   sleepy time.",
                  "2": "I don`t wanna go",
                  "3": "negative",
                  "index": 653
                },
                {
                  "0": "c2112e0f01",
                  "1": " i am so jealous!!",
                  "2": "jealous!",
                  "3": "negative",
                  "index": 654
                },
                {
                  "0": "fdb0ca60dd",
                  "1": "Almost made it to reading comedy outlet. Headlining all weekend. Only took me 2 extra hours with traffic. Basically doubled my time.",
                  "2": "Basically doubled my time.",
                  "3": "negative",
                  "index": 655
                },
                {
                  "0": "4e96aaff43",
                  "1": "New picture isn`t working",
                  "2": "New picture isn`t working",
                  "3": "negative",
                  "index": 656
                },
                {
                  "0": "14511658bb",
                  "1": "I`m hungry. And single.  heading to the golfing range soon.",
                  "2": "hungry.",
                  "3": "negative",
                  "index": 657
                },
                {
                  "0": "c01b398556",
                  "1": "can`t upload a picture. I already hate twitter",
                  "2": "hate twitter",
                  "3": "negative",
                  "index": 658
                },
                {
                  "0": "2820205db5",
                  "1": " I know! I`m so slow its horrible. DON`T TELL ON ME!",
                  "2": "horrible.",
                  "3": "negative",
                  "index": 659
                },
                {
                  "0": "6ed1d3b93d",
                  "1": "I`m up. getting ready for skill. can`t wait to fail my bio final yay! ugh, honor classes suckkkk.  ):",
                  "2": "I`m up. getting ready for skill. can`t wait to fail my bio final yay! ugh, honor classes suckkkk.  ):",
                  "3": "negative",
                  "index": 660
                },
                {
                  "0": "9de8636140",
                  "1": " It saddens me, you`re youtube has changed. It`s just like every other youtube kid, you used to be different",
                  "2": "saddens",
                  "3": "negative",
                  "index": 661
                },
                {
                  "0": "837956c3d7",
                  "1": " Right now it is 5:07am.  Ugghhh.",
                  "2": "Ugghhh",
                  "3": "negative",
                  "index": 662
                },
                {
                  "0": "e831b1889e",
                  "1": " Homework bound for the whole weekend, not so fun",
                  "2": "not so fun",
                  "3": "negative",
                  "index": 663
                },
                {
                  "0": "d3120710c4",
                  "1": "_R Drive-in!? srsly!? *jealous*  I have never ever been to one.  there is one down the rd, but it`s no longer operational :|",
                  "2": "jealous*",
                  "3": "negative",
                  "index": 664
                },
                {
                  "0": "74fa55b2ad",
                  "1": "I feel bad over everything..  How can I be so stupid? Why was I so harsh? Its my fault, I know it. I`m sorry SaVvy, love you guys<3",
                  "2": "feel bad ov",
                  "3": "negative",
                  "index": 665
                },
                {
                  "0": "5d7af585d3",
                  "1": "...and all woman who transfer their first impressions (sexual/maternal) onto a less `threatening` man -- are themselves as weak as `Him`",
                  "2": "weak",
                  "3": "negative",
                  "index": 666
                },
                {
                  "0": "4c05fa770f",
                  "1": " Sorry you are having a bad week. I feel like if I could get good sleep, I would be so much better too. Fog",
                  "2": "Sorry",
                  "3": "negative",
                  "index": 667
                },
                {
                  "0": "75293e6d71",
                  "1": "wow, 5 pm rolled around really fast. I accomplished only one thing on my to do list today...",
                  "2": "wow, 5 pm rolled around really fast.",
                  "3": "negative",
                  "index": 668
                },
                {
                  "0": "6422d8044b",
                  "1": " yeah.. gives me something useless to crib abt",
                  "2": "useless",
                  "3": "negative",
                  "index": 669
                },
                {
                  "0": "9adc43322f",
                  "1": "Worst day ever. And its only noon.",
                  "2": "Worst day ever.",
                  "3": "negative",
                  "index": 670
                },
                {
                  "0": "385e0fb48e",
                  "1": "wearing a pair of trousers that were loose last year, tight this year",
                  "2": "tight this year",
                  "3": "negative",
                  "index": 671
                },
                {
                  "0": "fb58fcae23",
                  "1": " I`m soo jealous right now!!",
                  "2": "I`m soo jealous right now!!",
                  "3": "negative",
                  "index": 672
                },
                {
                  "0": "65a48787a4",
                  "1": "HollowbabesHere comes the utter shite #bgt <I completely agree",
                  "2": "Here comes the utter shite",
                  "3": "negative",
                  "index": 673
                },
                {
                  "0": "97e811cd65",
                  "1": "missing my bffls! missing my friday night dates!  hot dogs for dinner then who knows what the evening holds!",
                  "2": "missing my bffls! missing my friday night dates!",
                  "3": "negative",
                  "index": 674
                },
                {
                  "0": "031c478bcf",
                  "1": "cant sleep again! I couldnt sleep last night eather!  *Wabble Wabble*",
                  "2": "*Wabble Wabble*",
                  "3": "negative",
                  "index": 675
                },
                {
                  "0": "2ebb6270b5",
                  "1": " Yucky!  Time to bring out the vaccuum and go to War. Our house is always a spider haven for some reason. Not cool.",
                  "2": ". Not cool.",
                  "3": "negative",
                  "index": 676
                },
                {
                  "0": "382c9f3b3e",
                  "1": "Oh and thank alllll of you who put me in ur Follow Friday!!  to all of my new followers I usually do it, but today...I`m just too tired!",
                  "2": "tired!",
                  "3": "negative",
                  "index": 677
                },
                {
                  "0": "0f8f76fc11",
                  "1": "was gonna go to my brothers show but still feeling like poo :**(",
                  "2": "poo",
                  "3": "negative",
                  "index": 678
                },
                {
                  "0": "23519c6777",
                  "1": " I`m not feeling very inspired today...I was suppose to be @ the B`ham concert tonight!",
                  "2": "I`m not feeling very inspired today..",
                  "3": "negative",
                  "index": 679
                },
                {
                  "0": "bd2b4a032d",
                  "1": "on my 42nd written ****.. i get less ideas every day, and every day",
                  "2": "i get less ideas every day, and every day",
                  "3": "negative",
                  "index": 680
                },
                {
                  "0": "6c796fad21",
                  "1": "on my way to work! working sucks big time",
                  "2": "working sucks bi",
                  "3": "negative",
                  "index": 681
                },
                {
                  "0": "e2d012bcd7",
                  "1": "SF felt WAY too intense for me tonight. Hope that doesn`t keep up. Upset with myself for not hanging with  and pearl",
                  "2": "Upset",
                  "3": "negative",
                  "index": 682
                },
                {
                  "0": "97e86cfd26",
                  "1": " that`s sad  what kind of mess are you getting into this weekend?",
                  "2": "that`s sad  what kind of mess are you getting into this weekend?",
                  "3": "negative",
                  "index": 683
                },
                {
                  "0": "47ac7fd547",
                  "1": "why are matters of the heart so complicated?",
                  "2": "complicated?",
                  "3": "negative",
                  "index": 684
                },
                {
                  "0": "bb2c08bb19",
                  "1": "haha I`m bored! I think I`ll go watch a movie  BBL",
                  "2": "bored!",
                  "3": "negative",
                  "index": 685
                },
                {
                  "0": "8f29848b65",
                  "1": " oh! Yeah,your mom told be about that.  I thought you meant his twitter ID & I was very confused. That sucks. Sick.",
                  "2": "t sucks",
                  "3": "negative",
                  "index": 686
                },
                {
                  "0": "ec34058059",
                  "1": "fell on the sidewalk in harvard square.  stupid cobblestones!  now my hand hurts",
                  "2": "fell on the sidewalk in harvard square.  stupid cobblestones!  now my hand hurts",
                  "3": "negative",
                  "index": 687
                },
                {
                  "0": "760c4e9790",
                  "1": "either my inerne is **** or my mind is but i`m pretty sure that it`s the internet",
                  "2": "either my inerne is **** or my mind is but i`m pretty sure that it`s the internet",
                  "3": "negative",
                  "index": 688
                },
                {
                  "0": "9055095298",
                  "1": "ready for the weekend and sad that I have to be at the office again tomorrow morning",
                  "2": "sad th",
                  "3": "negative",
                  "index": 689
                },
                {
                  "0": "6d7cbe3da9",
                  "1": "  I`m @ work and missed everythin yesterday but don`t know wot? Anybody",
                  "2": "d missed everythin",
                  "3": "negative",
                  "index": 690
                },
                {
                  "0": "70762d960b",
                  "1": "is sad that greg pritchard didnt make it through to the final of britains got talent coz he soooo deserved it",
                  "2": "is sad",
                  "3": "negative",
                  "index": 691
                },
                {
                  "0": "56a82e0dea",
                  "1": "Heading home. Could really have done without banging my head on the way into the bus",
                  "2": "banging",
                  "3": "negative",
                  "index": 692
                },
                {
                  "0": "3428badfea",
                  "1": "_distel Maybe u have natural ability for languages  I envy u on that !!",
                  "2": "envy",
                  "3": "negative",
                  "index": 693
                },
                {
                  "0": "37f6d9dc72",
                  "1": "The cats are gone. All 3 of them.",
                  "2": "cats are gone.",
                  "3": "negative",
                  "index": 694
                },
                {
                  "0": "c1b8ead73d",
                  "1": "My Boy is leaving for the Summer, Going to stay with the Grandparents.. I`m gonna miss him!!",
                  "2": "I`m gonna miss him!!",
                  "3": "negative",
                  "index": 695
                },
                {
                  "0": "80ebe94248",
                  "1": "Only just past 8am and already been spoiled rotton",
                  "2": "spoiled",
                  "3": "negative",
                  "index": 696
                },
                {
                  "0": "ad0dc9e617",
                  "1": "Insomnia at its finest. Go to bed at 11:30, fully awake at 2. Grrr. Anyone want to call mee?",
                  "2": "Insomnia at its finest. Go to bed at 11:30, fully awake at 2. Grrr.",
                  "3": "negative",
                  "index": 697
                },
                {
                  "0": "405f700027",
                  "1": "I had the worst dream ever: the Lakers were losing 11 : ZIP  & Courney Cox had a mohawk wtf.",
                  "2": "worst",
                  "3": "negative",
                  "index": 698
                },
                {
                  "0": "961e6af49c",
                  "1": "don`t think that went well, was only in there for 15 mins",
                  "2": "don`t think that went well,",
                  "3": "negative",
                  "index": 699
                },
                {
                  "0": "c6ab65bfbc",
                  "1": "i really want a blackberry  my sidekick is hella wack. night",
                  "2": "sidekick",
                  "3": "negative",
                  "index": 700
                },
                {
                  "0": "b58382ccbe",
                  "1": " man that sucks.",
                  "2": "man that sucks.",
                  "3": "negative",
                  "index": 701
                },
                {
                  "0": "f1412f1467",
                  "1": "I`m really nervous about giving a speech at a wedding tomorrow",
                  "2": "I`m really nervous ab",
                  "3": "negative",
                  "index": 702
                },
                {
                  "0": "533c72cf1f",
                  "1": "lousy **** landlord.   need to focus on kid`s packing but cant . nevermind sew sleeping bag",
                  "2": "need to focus on kid`s packing but cant",
                  "3": "negative",
                  "index": 703
                },
                {
                  "0": "3f2395f676",
                  "1": " that sucks mama",
                  "2": "that sucks mama",
                  "3": "negative",
                  "index": 704
                },
                {
                  "0": "0b87e5c566",
                  "1": " I`m not going, sadly.  Maybe next year, eh?",
                  "2": "sadly.",
                  "3": "negative",
                  "index": 705
                },
                {
                  "0": "1eff103696",
                  "1": "****, we have some kind of bugs in our house. And we dont know why or what it is",
                  "2": "bugs",
                  "3": "negative",
                  "index": 706
                },
                {
                  "0": "569fceca58",
                  "1": "My stomach effing hurts. Sadly there`ll be no gym class this afternoon",
                  "2": "My stomach effing hurts. Sadly there`ll be no gym class this afternoon",
                  "3": "negative",
                  "index": 707
                },
                {
                  "0": "92dad66de9",
                  "1": "Gotta go now .. i`m going to Circus .. the real Circus not Britney`s Tour  sadly ..",
                  "2": "sadly ..",
                  "3": "negative",
                  "index": 708
                },
                {
                  "0": "51f461e27e",
                  "1": " I have my 830 class  **** school! what time you work wed? if jade comes ima have to get her in antioch at amtrak.",
                  "2": "**** school!",
                  "3": "negative",
                  "index": 709
                },
                {
                  "0": "90e2fd75f1",
                  "1": "*old me`s dead and gone*",
                  "2": "dead",
                  "3": "negative",
                  "index": 710
                },
                {
                  "0": "8d6fb4185c",
                  "1": "it`s you and me forever ?, it`s you and me right now   flywithmeobsessive. Im crying",
                  "2": "m crying",
                  "3": "negative",
                  "index": 711
                },
                {
                  "0": "0a19903154",
                  "1": " sounds like the muffler bearings are going bad",
                  "2": "going bad",
                  "3": "negative",
                  "index": 712
                },
                {
                  "0": "08e8b684dc",
                  "1": "can I just go to sleep and wake up in December when my house is all organized and the baby is here?.. feeling like poo today",
                  "2": "feeling like poo today",
                  "3": "negative",
                  "index": 713
                },
                {
                  "0": "9c56dcbab3",
                  "1": "I wish I had company",
                  "2": "I wish I had company",
                  "3": "negative",
                  "index": 714
                },
                {
                  "0": "eda6389e34",
                  "1": "  My Power was cut off  thats where i went",
                  "2": "My Power was cut off",
                  "3": "negative",
                  "index": 715
                },
                {
                  "0": "4dcd538cc3",
                  "1": "looks like it got cloudy again outside! and i have nothing to do tonight! boo friday",
                  "2": "boo",
                  "3": "negative",
                  "index": 716
                },
                {
                  "0": "49aba92092",
                  "1": "Home early, yeh! work to do over the weekend, $%$#@!!!! not happy!!! so much 4 a big1",
                  "2": "not happy!!! so",
                  "3": "negative",
                  "index": 717
                },
                {
                  "0": "a1d7004bc4",
                  "1": "It was going to happen one day but I so feel for the girl AND her mum",
                  "2": "It was going to happen one day but I so feel for the girl AND her mum",
                  "3": "negative",
                  "index": 718
                },
                {
                  "0": "b36a092e84",
                  "1": "Stupid idiot who ran a stop sing and almost killed me and my car!",
                  "2": "Stupid idiot who ran a stop sing and almost killed me and my car!",
                  "3": "negative",
                  "index": 719
                },
                {
                  "0": "2f74ecb5d8",
                  "1": " didn`t have my camera with me  totally regretting it now!",
                  "2": "y regretting",
                  "3": "negative",
                  "index": 720
                },
                {
                  "0": "893c270d85",
                  "1": "im bored.. RC is goin maintenance",
                  "2": "bored..",
                  "3": "negative",
                  "index": 721
                },
                {
                  "0": "4e913afd6f",
                  "1": "nursing my scratches and bumps from Festivus mud wrestling. I swear there`s still dirt in my hair but a good time was had by all",
                  "2": "nursing my scratches and bumps from Festivus mud wrestling. I swear there`s still dirt in my hair but a good time was had by all",
                  "3": "negative",
                  "index": 722
                },
                {
                  "0": "f1f2fda39a",
                  "1": "Cried my eyes out watching My Girl last period   hahah",
                  "2": "Cried",
                  "3": "negative",
                  "index": 723
                },
                {
                  "0": "bb19849987",
                  "1": "this time, i really need to shut it.. i`m going to sleep! my head aches badly and i really can`t take it..",
                  "2": "my head aches badly",
                  "3": "negative",
                  "index": 724
                },
                {
                  "0": "3da31fa687",
                  "1": "Youtube`s tubes appear to be clogging up somewhat today, connection errors a plenty.",
                  "2": "connection errors a plenty.",
                  "3": "negative",
                  "index": 725
                },
                {
                  "0": "033d596615",
                  "1": " sorry guys, the WAVVES show was canceled, they missed their flight",
                  "2": "sorry guys,",
                  "3": "negative",
                  "index": 726
                },
                {
                  "0": "1777208983",
                  "1": "going to my bff`s. haha. but thats in like 2 hourssss sooooo...calllll me. actually darn, i have hw",
                  "2": "actually darn,",
                  "3": "negative",
                  "index": 727
                },
                {
                  "0": "df5bd277ca",
                  "1": "wishes he can just call her.  blah. it used to be so easy to move on. wtf happened?",
                  "2": "wtf happened?",
                  "3": "negative",
                  "index": 728
                },
                {
                  "0": "25d37f8198",
                  "1": " yeah & when it goes wrong it`s the worst feeling ever",
                  "2": "worst",
                  "3": "negative",
                  "index": 729
                },
                {
                  "0": "1584913060",
                  "1": "Sad that everyone is leaving me.",
                  "2": "Sad",
                  "3": "negative",
                  "index": 730
                },
                {
                  "0": "8cbc64a056",
                  "1": "after I said hi how are you she did at double take & left. **** it I should have let her look around first",
                  "2": "**** it",
                  "3": "negative",
                  "index": 731
                },
                {
                  "0": "447733f192",
                  "1": " the no tweeting guilt trip didn`t stop you huh?  I felt so bad!",
                  "2": "o bad",
                  "3": "negative",
                  "index": 732
                },
                {
                  "0": "a04c212559",
                  "1": "My boyfriend just broke his wrist, now he might need surgery  im so nervous",
                  "2": "nervous",
                  "3": "negative",
                  "index": 733
                },
                {
                  "0": "a7995f1950",
                  "1": "  no one told me the mutual admiration society was meeting this morning! LOL  Hi boys!",
                  "2": "no one told me the mutual admiration society was meeting",
                  "3": "negative",
                  "index": 734
                },
                {
                  "0": "32f17aee22",
                  "1": "i`m still full from the buffet at palms.  my stomach actually hurts. ugh gluttony bites.",
                  "2": "my stomach actually hurts.",
                  "3": "negative",
                  "index": 735
                },
                {
                  "0": "cf6c4b4a00",
                  "1": "is feeling really sick",
                  "2": "is feeling really sick",
                  "3": "negative",
                  "index": 736
                },
                {
                  "0": "8d9769220b",
                  "1": "10 minutes to boarding; 14 hours to home. no window seat",
                  "2": "no window seat",
                  "3": "negative",
                  "index": 737
                },
                {
                  "0": "5383565acd",
                  "1": "I`m a lil sad looks like nomore brooklyn 4 a while WTF ",
                  "2": "I`m a lil sad",
                  "3": "negative",
                  "index": 738
                },
                {
                  "0": "dad0c9a456",
                  "1": "So much to tell-Only blip is her immune system hasn`t recovered-not yet a newborns. Give it 6 more months.  But that`s nothing.",
                  "2": "hasn`t recovered-n",
                  "3": "negative",
                  "index": 739
                },
                {
                  "0": "efcca2b409",
                  "1": "_M ah. knowing microsoft, they could probby do it, but would want to charge way too much extra for it",
                  "2": "want to charge way too much extra for it",
                  "3": "negative",
                  "index": 740
                },
                {
                  "0": "b028a47082",
                  "1": " soooo jelous of you right now",
                  "2": "soooo jelous of you",
                  "3": "negative",
                  "index": 741
                },
                {
                  "0": "b333707153",
                  "1": "also. proof number #2923848932 that I have no life - I have an imaginary boyfriend named Vince. It`s sad that my friends encourage me so.",
                  "2": "sad th",
                  "3": "negative",
                  "index": 742
                },
                {
                  "0": "1bf5c354b6",
                  "1": "The sun is shining and I`m stuck in work",
                  "2": "stuck",
                  "3": "negative",
                  "index": 743
                },
                {
                  "0": "ab2d0091a6",
                  "1": "@_katieedwards I can`t yet back, I`ve run out of texts!  I`ll ring you laters xoxo",
                  "2": "I`ve run out of texts!",
                  "3": "negative",
                  "index": 744
                },
                {
                  "0": "0ddbe6068e",
                  "1": "Exams are so stressful",
                  "2": "stressful",
                  "3": "negative",
                  "index": 745
                },
                {
                  "0": "da83070320",
                  "1": "#itsucks when everyone but the one i want to text me is texting me!",
                  "2": "#itsucks",
                  "3": "negative",
                  "index": 746
                },
                {
                  "0": "9624b0b500",
                  "1": "Layin in bed awake. Txtin my girl in vegas. Wishin I didn`t have to work and I was w her",
                  "2": "Wishin I didn`t have to work",
                  "3": "negative",
                  "index": 747
                },
                {
                  "0": "e2c9efe517",
                  "1": "Sick......and no it`s not the swine flu atleast I hope not",
                  "2": "Sick..",
                  "3": "negative",
                  "index": 748
                },
                {
                  "0": "25efb02546",
                  "1": " i want to comment but don`t understand what you`re saying",
                  "2": "t don`t understand",
                  "3": "negative",
                  "index": 749
                },
                {
                  "0": "864adb0d02",
                  "1": " jet blue is okay I guess. They cancel flights and don`t have a lot of backup planes. And no first class",
                  "2": "They cancel flights and don`t have a lot of backup planes. And no first class",
                  "3": "negative",
                  "index": 750
                },
                {
                  "0": "96de84d102",
                  "1": " I am like the most saddest person on jtv right now because you are not on",
                  "2": "saddest",
                  "3": "negative",
                  "index": 751
                },
                {
                  "0": "37051dddd9",
                  "1": " awwwwww i wish her to be safe while shes gone n hugs to u must of been hard to say goodbye",
                  "2": "hard to say goodbye",
                  "3": "negative",
                  "index": 752
                },
                {
                  "0": "9f0481e677",
                  "1": "someone WOULD give a speech about loved ones in the hospital. Stupid COMM class",
                  "2": "Stupid COMM class",
                  "3": "negative",
                  "index": 753
                },
                {
                  "0": "14823c91a2",
                  "1": "Warhammer 40k: Space Marines `officially` announced, only for 360 and PS3.  No luck for PC gamers",
                  "2": "No luck for PC gamers",
                  "3": "negative",
                  "index": 754
                },
                {
                  "0": "dd98466b8b",
                  "1": "__  im so sick  I fell over last night outside coz I was putting something in the bin",
                  "2": "im so sick",
                  "3": "negative",
                  "index": 755
                },
                {
                  "0": "4d9e43aa45",
                  "1": " the kid that got a second chance shudnt have. mowgli didnt. gutted",
                  "2": "a second chance shudnt have. mowgli didnt. gutted",
                  "3": "negative",
                  "index": 756
                },
                {
                  "0": "6c67f0c9c3",
                  "1": "Showered in ice-cold water. Sweating now. Means one thing: I`m sick",
                  "2": "I`m sick",
                  "3": "negative",
                  "index": 757
                },
                {
                  "0": "f23d42b8e3",
                  "1": "just got back from the ER... i cut myself while trying to cook a nice lunch  3 stiches on my right index finger, talk about ouchie",
                  "2": "cut myself",
                  "3": "negative",
                  "index": 758
                },
                {
                  "0": "146503eb1e",
                  "1": "agh! freaking out about going to Wales already! >< not packed!!",
                  "2": "freaking out",
                  "3": "negative",
                  "index": 759
                },
                {
                  "0": "cea2861940",
                  "1": "spray tan = fail on legs and feet. I`ve been scrubbing them and feet look better, but they looked awful this morning  Everywhere else = ok",
                  "2": "spray tan = fail on legs and feet. I`ve been scrubbing them and feet look better, but they looked awful this morning  Everywhere else = ok",
                  "3": "negative",
                  "index": 760
                },
                {
                  "0": "3e86e8f21e",
                  "1": "_RachineA oh so you said you good-byes and hugs  my dad left around 4 in the morning so I woke up to an empty house i`m pretty scared.",
                  "2": "i`m pretty scared.",
                  "3": "negative",
                  "index": 761
                },
                {
                  "0": "a068b95bd9",
                  "1": " Can you ask Ryan why he stopped following me on Twitter",
                  "2": "stopped",
                  "3": "negative",
                  "index": 762
                },
                {
                  "0": "04bbce0abc",
                  "1": "I came home thinking that maybe there was something good to eat. Apparently not.",
                  "2": "Apparently not.",
                  "3": "negative",
                  "index": 763
                },
                {
                  "0": "f71e92064e",
                  "1": "aww i feel bad cause i dunno if nicole is in the city looking for me. she`s probably worried  srry hun",
                  "2": "she`s probably worried  srry hun",
                  "3": "negative",
                  "index": 764
                },
                {
                  "0": "2fa4d0b1b2",
                  "1": "i wanna do something tonight, but that doesnt look very promising",
                  "2": "that doesnt look very promising",
                  "3": "negative",
                  "index": 765
                },
                {
                  "0": "8472323928",
                  "1": "no so sad about that  i`m from MALTA have you heard about it ?",
                  "2": "so sad ab",
                  "3": "negative",
                  "index": 766
                },
                {
                  "0": "5530ce872f",
                  "1": " oh no!  i`m sorry. at least you`ll still be able to buy regular tickets and not worry about limits?",
                  "2": "oh no!  i`m sorry",
                  "3": "negative",
                  "index": 767
                },
                {
                  "0": "f1c4da2a2e",
                  "1": " say hello to Marina Green ... couldn`t participate in Barcelona this weeken",
                  "2": "couldn`t participate",
                  "3": "negative",
                  "index": 768
                },
                {
                  "0": "f7be4bc7ad",
                  "1": "wants to go out tonight but cant get home",
                  "2": "but cant get home",
                  "3": "negative",
                  "index": 769
                },
                {
                  "0": "8f1a61f7f8",
                  "1": "Getting to play golf with our kickin` Leadership Team...I have a feeling they r gonna kick me on the golf course",
                  "2": "kick me",
                  "3": "negative",
                  "index": 770
                },
                {
                  "0": "9e7ce81888",
                  "1": " ia so much! i haven`t really been happy with any of cooks choices for singles.",
                  "2": "i haven`t really been happy",
                  "3": "negative",
                  "index": 771
                },
                {
                  "0": "aad8997372",
                  "1": "good 1km visible shot of TD one shows total decoupling of the low and mid level centers....this system is DEAD!! Waiting for the next one",
                  "2": "system is DEAD!!",
                  "3": "negative",
                  "index": 772
                },
                {
                  "0": "10e218c9dd",
                  "1": "awww i`ve lost a follower i fail",
                  "2": "fail",
                  "3": "negative",
                  "index": 773
                },
                {
                  "0": "98e7195247",
                  "1": "soooo sunburnt  my mum was out earlier so i had to wait for her to get in and fell asleep on the trampoline for 2 hours in the sun (U)",
                  "2": "sunburnt",
                  "3": "negative",
                  "index": 774
                },
                {
                  "0": "63a48f7850",
                  "1": "Or this, for that matter: http://bit.ly/SS6Yp  So jealous.",
                  "2": "So jealous.",
                  "3": "negative",
                  "index": 775
                },
                {
                  "0": "e1c7737131",
                  "1": "It`s STILL not working!! Why not!! This is FRUSTRATING!!!",
                  "2": "FRUSTRATING!!",
                  "3": "negative",
                  "index": 776
                },
                {
                  "0": "02be95a9e0",
                  "1": "has has an ok day with jo. She bit me and now its bruised.",
                  "2": "bruised.",
                  "3": "negative",
                  "index": 777
                },
                {
                  "0": "4541e7217e",
                  "1": "isnt going to the movies!! i got grounded",
                  "2": "i got grounded",
                  "3": "negative",
                  "index": 778
                },
                {
                  "0": "4e1fc4b289",
                  "1": " `erocka the ruler` i called you, but i see i gets the no love   whats up with that?",
                  "2": "i see i gets the no love   whats up with that",
                  "3": "negative",
                  "index": 779
                },
                {
                  "0": "9099b13d86",
                  "1": " ohh, i`m watching my best friend`s wedding. it`s so sad..",
                  "2": "sad.",
                  "3": "negative",
                  "index": 780
                },
                {
                  "0": "f7e80a4d74",
                  "1": "No school, again. This time cuz im sick.",
                  "2": "im sick.",
                  "3": "negative",
                  "index": 781
                },
                {
                  "0": "cfea4a2383",
                  "1": " Did you know that there is a shortage of shells for crabs to use on the beach due to beach combers? It is very sad",
                  "2": "? It is very sad",
                  "3": "negative",
                  "index": 782
                },
                {
                  "0": "97dd95da97",
                  "1": "  it sucks no matter where you are! I`m gonna freakin be late for work!",
                  "2": "t sucks",
                  "3": "negative",
                  "index": 783
                },
                {
                  "0": "80d01af3a9",
                  "1": " ha... I thought you would enjoy the Family Guy reference... and I`m more bored than you",
                  "2": "bored",
                  "3": "negative",
                  "index": 784
                },
                {
                  "0": "75b7008aa7",
                  "1": "shakalohana week two of flat wavez no surfin",
                  "2": "shakalohana week two of flat wavez no surfin",
                  "3": "negative",
                  "index": 785
                },
                {
                  "0": "eda19b9526",
                  "1": " T, im sooooo bored right now",
                  "2": "bored",
                  "3": "negative",
                  "index": 786
                },
                {
                  "0": "c74fafdb94",
                  "1": "THIS twitter is driving me nuts...WONT LET ME DOWNLOAD A PROFILE PIC!! ...guess i`ll keep trying!!",
                  "2": "driving me nuts..",
                  "3": "negative",
                  "index": 787
                },
                {
                  "0": "032bb2eb50",
                  "1": "reaons not worth it; drunk for no reason, depressed about revision, nothing happened. Reason`s worth it:Matt, ...after that? i dunno",
                  "2": "depressed",
                  "3": "negative",
                  "index": 788
                },
                {
                  "0": "5abbf5d8a2",
                  "1": "Twitter is slowing me down today.",
                  "2": "Twitter is slowing me down today.",
                  "3": "negative",
                  "index": 789
                },
                {
                  "0": "3c25394b2a",
                  "1": " that and being so careless with her vocals.",
                  "2": "careless",
                  "3": "negative",
                  "index": 790
                },
                {
                  "0": "8aa84ce978",
                  "1": "at panera for lunch  byyy myself  aww",
                  "2": "aww",
                  "3": "negative",
                  "index": 791
                },
                {
                  "0": "2a92889496",
                  "1": " this is sounding like the worst lurgy ever - the one that just won`t go away ..  ...are you ready for end-of-rope action yet??",
                  "2": "this is sounding like the worst lurgy ever - the one that just won`t go away ..  ...are you ready for end-of-rope action yet??",
                  "3": "negative",
                  "index": 792
                },
                {
                  "0": "09537c7a77",
                  "1": "i have a headache",
                  "2": "headache",
                  "3": "negative",
                  "index": 793
                },
                {
                  "0": "57f97a9ac7",
                  "1": " dont worry, i will. i HATE it when nobody comments on my pics",
                  "2": "i HATE it",
                  "3": "negative",
                  "index": 794
                },
                {
                  "0": "0d64ba9efd",
                  "1": "Is so freaking bored on the bus. Hate being poor, ï¿½4.80 return for a 10 min train or ï¿½2 return for an HOUR long bus.ipod has no battery 2",
                  "2": "bored",
                  "3": "negative",
                  "index": 795
                },
                {
                  "0": "01d5aeeac2",
                  "1": " I don`t like the term 'partner' when it comes to relationships. It`s too business like so that`s my ugly word of the day",
                  "2": "ugly",
                  "3": "negative",
                  "index": 796
                },
                {
                  "0": "9b70036610",
                  "1": "tired as hell!!!! bed time from cara  nighty night twitter world..",
                  "2": "tired as hell!!!! be",
                  "3": "negative",
                  "index": 797
                },
                {
                  "0": "c21365d1af",
                  "1": "just camee back from bowling, which i offiacial suck at",
                  "2": "which i offiacial suck at",
                  "3": "negative",
                  "index": 798
                },
                {
                  "0": "5bfac56ef2",
                  "1": "Ugh! Plane delayed due to weather!  Stuck with another hour to kill.  http://twitpic.com/67xs0",
                  "2": "Ugh!",
                  "3": "negative",
                  "index": 799
                },
                {
                  "0": "1da17c8145",
                  "1": "Watching Ripley`s Believe it or Not while eating=bad choice",
                  "2": "bad choice",
                  "3": "negative",
                  "index": 800
                },
                {
                  "0": "1127006912",
                  "1": "i m totally confused and bored.. my life must change!!",
                  "2": "i m totally confused and bored..",
                  "3": "negative",
                  "index": 801
                },
                {
                  "0": "f29f83bf06",
                  "1": " That`s the problem. DNS isn`t working  uTorrent and DestroyTwitter are working while everything else is down.",
                  "2": "problem.",
                  "3": "negative",
                  "index": 802
                },
                {
                  "0": "17cfe8b80e",
                  "1": " but have you got , and twitted a link to it. No? Fail.",
                  "2": "Fail.",
                  "3": "negative",
                  "index": 803
                },
                {
                  "0": "68c06541ce",
                  "1": "Bored and lonely at work",
                  "2": "Bored and lonely at work",
                  "3": "negative",
                  "index": 804
                },
                {
                  "0": "c94d1cb011",
                  "1": " i`m afraid im def. a product of the NRI Karan Johar generation- I`ve been watching a lot of classics this semester",
                  "2": "afraid",
                  "3": "negative",
                  "index": 805
                },
                {
                  "0": "d0c2af8892",
                  "1": "_Hall Is that why you aint answer my call? Thought we were homies!?",
                  "2": "_Hall Is that why you aint answer my call? Thought we were homies!?",
                  "3": "negative",
                  "index": 806
                },
                {
                  "0": "718e94282f",
                  "1": "tired as ****. it`s pissing down with rain. i miss summer",
                  "2": "tired as ****.",
                  "3": "negative",
                  "index": 807
                },
                {
                  "0": "0d37fdad55",
                  "1": "nervous about going out tomorrow, cos its the first time since my daughter was born, she`s 2!!! HELP",
                  "2": "nervous",
                  "3": "negative",
                  "index": 808
                },
                {
                  "0": "1ee11e3186",
                  "1": " Omg same here! They hurt so much",
                  "2": "hurt",
                  "3": "negative",
                  "index": 809
                },
                {
                  "0": "2585b67ba4",
                  "1": "Wedding anniversary meal yest. - first 5* proper meal out with wife since Rohan born. She did well and only checked her phone 80 times",
                  "2": "She did well and only checked her phone 80 times",
                  "3": "negative",
                  "index": 810
                },
                {
                  "0": "701f05eebd",
                  "1": "not doing relay  oh well.",
                  "2": "not doing relay  oh well.",
                  "3": "negative",
                  "index": 811
                },
                {
                  "0": "4123075cf7",
                  "1": " Is it possible to a have phobia of phobias? Afraid to look at list.",
                  "2": "Is it possible to a have phobia of phobias? Afraid to look at list.",
                  "3": "negative",
                  "index": 812
                },
                {
                  "0": "e697654ad5",
                  "1": "saw a dead bird on my way to work!what a kind of day to start?! Poor little bird!",
                  "2": "dead bird",
                  "3": "negative",
                  "index": 813
                },
                {
                  "0": "e3953c8bee",
                  "1": "Poor baby`s got his first booboo  that he caused himself LOL  http://twitpic.com/673vt",
                  "2": "Poor",
                  "3": "negative",
                  "index": 814
                },
                {
                  "0": "9cc5161b00",
                  "1": " will the presentations be available online during the meeting?  The poster discussants are going so fast I can`t write fast enough",
                  "2": "t I can`t write fast enough",
                  "3": "negative",
                  "index": 815
                },
                {
                  "0": "96e6ccc10b",
                  "1": "getting ready to start my work week, it`s so not TGIF for me!! It`s monday",
                  "2": "it`s so not TGIF for me!!",
                  "3": "negative",
                  "index": 816
                },
                {
                  "0": "1cf3ac7b6a",
                  "1": " No prob, skittles we always gonna have yall`s backs. The true sweeties dont play.. LOL But yea we just got heated. We sry",
                  "2": "sry",
                  "3": "negative",
                  "index": 817
                },
                {
                  "0": "31ab116bc8",
                  "1": "  Sadly not, no. They`re his colleagues and it`s a work party",
                  "2": "Sadly not",
                  "3": "negative",
                  "index": 818
                },
                {
                  "0": "0cbb3a6d26",
                  "1": "Its summer and no one has texted/called me. Im a loner",
                  "2": "loner",
                  "3": "negative",
                  "index": 819
                },
                {
                  "0": "c48776d616",
                  "1": " eeeeeeeeeeeeee i jealous sia i didnt get to seee",
                  "2": "jealous",
                  "3": "negative",
                  "index": 820
                },
                {
                  "0": "7926ebc33b",
                  "1": " she is that`s why she never speaks to me in college i think  .....i might just stick to unzela...if hashim dosnt shoot me",
                  "2": "e never speaks to me",
                  "3": "negative",
                  "index": 821
                },
                {
                  "0": "eeb70d82b3",
                  "1": "i`m so tired  of being sick ALL the time!!!!",
                  "2": "i`m so tired",
                  "3": "negative",
                  "index": 822
                },
                {
                  "0": "5aadbb1411",
                  "1": "i have sore throat. that`s suck.",
                  "2": "i have sore throat. that`s suck.",
                  "3": "negative",
                  "index": 823
                },
                {
                  "0": "b43cdb01a7",
                  "1": " so you are like the rest of us on this miserable bank holiday.then LOL",
                  "2": "s miserable",
                  "3": "negative",
                  "index": 824
                },
                {
                  "0": "cb9deb455d",
                  "1": "We`re going to panahra for dinner.  miss you guys.",
                  "2": "miss you guys.",
                  "3": "negative",
                  "index": 825
                },
                {
                  "0": "8409d9e467",
                  "1": " LMAO shush. with my illness comes the joys of multiple mouth ulcers, and i think they are coming back  they JUST healed",
                  "2": "with my illness comes the joys of multiple mouth ulcers,",
                  "3": "negative",
                  "index": 826
                },
                {
                  "0": "b9bf73e93a",
                  "1": "I missed the bl***y bus!!!!!!!!",
                  "2": "missed th",
                  "3": "negative",
                  "index": 827
                },
                {
                  "0": "342b10863f",
                  "1": " not a fan",
                  "2": "not a fan",
                  "3": "negative",
                  "index": 828
                },
                {
                  "0": "99119b900f",
                  "1": " LOL freakinggg I worse a lookse shirt and shorts and sandals and it looks like its gonna rain outside  boo yahoo wearther",
                  "2": "worse",
                  "3": "negative",
                  "index": 829
                },
                {
                  "0": "16ccebb674",
                  "1": "driving home,Iï¿½m so tired,had a bad day",
                  "2": "Iï¿½m so tired,had a bad day",
                  "3": "negative",
                  "index": 830
                },
                {
                  "0": "a9d739cbcd",
                  "1": ": to triste",
                  "2": ": to triste",
                  "3": "negative",
                  "index": 831
                },
                {
                  "0": "99d787d063",
                  "1": "ScREW MY PHONE. ITS BROKEN. DONT BOTHER TEXTING.",
                  "2": "ScREW",
                  "3": "negative",
                  "index": 832
                },
                {
                  "0": "522fd74625",
                  "1": "Visiting family in hospital = not fun",
                  "2": "Visiting family in hospital = not fun",
                  "3": "negative",
                  "index": 833
                },
                {
                  "0": "fe92f9a5ba",
                  "1": "have yet to start this paper due tonight. i have no motivation",
                  "2": "i have no motivation",
                  "3": "negative",
                  "index": 834
                },
                {
                  "0": "7d7b41c60e",
                  "1": "I need to burp ....  Im so nauseas....",
                  "2": "nauseas.",
                  "3": "negative",
                  "index": 835
                },
                {
                  "0": "412ce5f8f0",
                  "1": "not so good mood..",
                  "2": "not so good mood..",
                  "3": "negative",
                  "index": 836
                },
                {
                  "0": "12456985b1",
                  "1": "At work sick  but I`m ok to the mall!",
                  "2": "At work sick",
                  "3": "negative",
                  "index": 837
                },
                {
                  "0": "09abcd85b9",
                  "1": "I wanna go see the cab really bad.",
                  "2": "I wanna go see the cab really bad.",
                  "3": "negative",
                  "index": 838
                },
                {
                  "0": "a663e7c602",
                  "1": " Unfortunately, no.",
                  "2": "Unfortunately,",
                  "3": "negative",
                  "index": 839
                },
                {
                  "0": "2d41f45aca",
                  "1": "has got my xbox back  , i have a really sore knee cant walk",
                  "2": ", i have a really sore knee cant walk",
                  "3": "negative",
                  "index": 840
                },
                {
                  "0": "82b173a05f",
                  "1": "so bored. nothing to do",
                  "2": "bored.",
                  "3": "negative",
                  "index": 841
                },
                {
                  "0": "cc73efff2b",
                  "1": "This song is a slap on you face!!  ? http://blip.fm/~5jib6",
                  "2": "This song is a slap on you face!!  ? http://blip.fm/~5jib6",
                  "3": "negative",
                  "index": 842
                },
                {
                  "0": "00187f2f4f",
                  "1": " naw, it doesnt match up LOL and i have no shenanigans to discuss...  but i did do the thing...",
                  "2": "it doesnt match up",
                  "3": "negative",
                  "index": 843
                },
                {
                  "0": "9590e14088",
                  "1": " that sucks!  how old are you actually?",
                  "2": "that sucks!",
                  "3": "negative",
                  "index": 844
                },
                {
                  "0": "0843f4bf18",
                  "1": "missing my hobo/****/tramp way of life, and cooking for my mother on a saturday night  MAMA I LUV U",
                  "2": "missing my hobo/*",
                  "3": "negative",
                  "index": 845
                },
                {
                  "0": "1377ef2ae4",
                  "1": "Working on some Product Buzz (product reviews) for the blog... have a pain in the back of my neck",
                  "2": "pain",
                  "3": "negative",
                  "index": 846
                },
                {
                  "0": "ee5eb5337b",
                  "1": "Heading to the gym.  The group of guys that USED to go with me has all quit...well, except for Brandon.   Makes me terribly sad",
                  "2": "ly sa",
                  "3": "negative",
                  "index": 847
                },
                {
                  "0": "955bc31cc4",
                  "1": " _lord Can`t we just all get along?",
                  "2": "_lord Can`t we just all get along?",
                  "3": "negative",
                  "index": 848
                },
                {
                  "0": "1df8ab717d",
                  "1": " - l`d come if u could, but Australia is just too far away",
                  "2": "far",
                  "3": "negative",
                  "index": 849
                },
                {
                  "0": "68e2d1008a",
                  "1": " Not a fan of the layout change of hyperlinks. I don`t like the indentation and, well, I`m clicking and no link shows.",
                  "2": ". I don`t like the indentation",
                  "3": "negative",
                  "index": 850
                },
                {
                  "0": "0ffc8aa368",
                  "1": " I think i would die if they played Pushit. I missed them when they came last time. When Isis toured with them",
                  "2": "i would die if they played Pushit.",
                  "3": "negative",
                  "index": 851
                },
                {
                  "0": "378f2ee0a2",
                  "1": "I had a realization today, and it made me sad  But at least the healing can begin.",
                  "2": "it made me sad",
                  "3": "negative",
                  "index": 852
                },
                {
                  "0": "b06ffbc598",
                  "1": "AHHHH! Cant find anything because I have way too much open",
                  "2": "AHHHH! Cant find anything because I have way too much open",
                  "3": "negative",
                  "index": 853
                },
                {
                  "0": "8d484d4f89",
                  "1": "at work booo....",
                  "2": "booo..",
                  "3": "negative",
                  "index": 854
                },
                {
                  "0": "79dc6a41f9",
                  "1": "My computer is being killed by a combo of mirrors edge and really poor win7 thermal management...75c gpu = one sad game",
                  "2": "My computer is being killed by a combo of mirrors edge and really poor win7 thermal management...75c gpu = one sad game",
                  "3": "negative",
                  "index": 855
                },
                {
                  "0": "f4aeb65e97",
                  "1": "OMG - the M&Ms in my pantry are calling my name. I`ve been ignoring them all day. It is driving me completely insane. Too many calories",
                  "2": "It is driving me completely insane.",
                  "3": "negative",
                  "index": 856
                },
                {
                  "0": "dddea32d04",
                  "1": "just slammed my finger in a car dor  FML ow",
                  "2": "slammed",
                  "3": "negative",
                  "index": 857
                },
                {
                  "0": "551461ea1d",
                  "1": "is going home... I`ve seriously had enough",
                  "2": "I`ve seriously had enough",
                  "3": "negative",
                  "index": 858
                },
                {
                  "0": "c87f9557af",
                  "1": "I will never eat broadway pizza again.. feelin ill.",
                  "2": "feelin ill.",
                  "3": "negative",
                  "index": 859
                },
                {
                  "0": "3208302fde",
                  "1": "Gonna miss my gurl while shes on her honeymoon",
                  "2": "Gonna miss my gurl",
                  "3": "negative",
                  "index": 860
                },
                {
                  "0": "36cba1a206",
                  "1": "****.. my legs are sun burned...",
                  "2": "****..",
                  "3": "negative",
                  "index": 861
                },
                {
                  "0": "8642af60ac",
                  "1": "Ohhh me, i am rather bored. How can a friday night be soo boring!",
                  "2": "bored.",
                  "3": "negative",
                  "index": 862
                },
                {
                  "0": "55ee97cf53",
                  "1": "installed the new modem which is meant to run 5 times faster than the old one and its slower  what the hell? gah slow internet kills me",
                  "2": "slower",
                  "3": "negative",
                  "index": 863
                },
                {
                  "0": "836033d745",
                  "1": "The parking meter computed 25 plus 25 is 40. I got jipped! And the 10 free minute button didn`t work.",
                  "2": "And the 10 free minute button didn`t work.",
                  "3": "negative",
                  "index": 864
                },
                {
                  "0": "2ffe48e341",
                  "1": ".  he`s in bed sick. Heavy fever. Went to dr`s. Part of the reason i`m watching Aladdin 2 now and still haven`t been fed",
                  "2": ".  he`s in bed sick. Heavy fever. Went to dr`s. Part of the reason i`m watching Aladdin 2 now and still haven`t been fed",
                  "3": "negative",
                  "index": 865
                },
                {
                  "0": "6eff3352d8",
                  "1": "Taking back the HORRIBLE shoes my mum made me get.. urgggh. They are some nasty footwear! Problem is, I can`t find any other shoes!",
                  "2": "HORRIBLE",
                  "3": "negative",
                  "index": 866
                },
                {
                  "0": "10a2647b43",
                  "1": "im soooo loney",
                  "2": "im soooo loney",
                  "3": "negative",
                  "index": 867
                },
                {
                  "0": "382c32bf50",
                  "1": " I`m just sick of stupid guys but for a moment u make me believe not all of them suck then I get back to reality",
                  "2": "just sick of stupid guys",
                  "3": "negative",
                  "index": 868
                },
                {
                  "0": "4a2da853aa",
                  "1": "is saddened by Husker Access...no internet!",
                  "2": "is saddened by Husker Access...no internet!",
                  "3": "negative",
                  "index": 869
                },
                {
                  "0": "b0d1361181",
                  "1": "Oh ****!  I forgot to eat! Grumble grumble.",
                  "2": "****!",
                  "3": "negative",
                  "index": 870
                },
                {
                  "0": "8fc93f5936",
                  "1": "Kinda pissed really wanted to go see Drag me to Hell with Christina and Garrit, but I have to work till 2am  I`m go... http://znl.me/OSWGH",
                  "2": "Kinda pissed really wanted to",
                  "3": "negative",
                  "index": 871
                },
                {
                  "0": "fa14103466",
                  "1": " I`m SO jealous- it`s pouring right now",
                  "2": "jealous-",
                  "3": "negative",
                  "index": 872
                },
                {
                  "0": "8112ab04aa",
                  "1": "sickkkkk.  GET ME OUT OF THIS HOUSE! need to get active. whats going down? Celina havin a party? hit me uhpp!",
                  "2": "sickkkkk.",
                  "3": "negative",
                  "index": 873
                },
                {
                  "0": "969365e841",
                  "1": " ahhh...Lily`s new kitten just took a giant wet stinky **** on me",
                  "2": "giant wet stinky **** on me",
                  "3": "negative",
                  "index": 874
                },
                {
                  "0": "3846df112f",
                  "1": " you said you **** up your nose!",
                  "2": "**** up your nose!",
                  "3": "negative",
                  "index": 875
                },
                {
                  "0": "a543a92656",
                  "1": "My stomach is killing me do I can`t sleep",
                  "2": "is killing me",
                  "3": "negative",
                  "index": 876
                },
                {
                  "0": "f72f035c15",
                  "1": "Just ate way to many chocolate animal crackers",
                  "2": "way to many chocolate animal crackers",
                  "3": "negative",
                  "index": 877
                },
                {
                  "0": "9681d94126",
                  "1": " don`t know  and no not at all",
                  "2": "don`t know  and no not at all",
                  "3": "negative",
                  "index": 878
                },
                {
                  "0": "c7030fa1f4",
                  "1": "omg! taylor and selena broke up  sooo sad, aw i think i actually like selena now. poor gal.",
                  "2": "sooo sad,",
                  "3": "negative",
                  "index": 879
                },
                {
                  "0": "1448b746d3",
                  "1": "Broke Up with girlfriend, FEELING Very lonely and heartbroken  Sad times guys (N)",
                  "2": "heartbroken",
                  "3": "negative",
                  "index": 880
                },
                {
                  "0": "12ea678b2a",
                  "1": "Gained 3lbs wish I could afford something other than top ramen... If only I had a job...",
                  "2": "If only I had a job...",
                  "3": "negative",
                  "index": 881
                },
                {
                  "0": "b565d92d2c",
                  "1": " OMG.  I`m so sorry! Anything I can do to help?",
                  "2": "o sorry!",
                  "3": "negative",
                  "index": 882
                },
                {
                  "0": "dffc4c62e1",
                  "1": "dont wanna cry  but the seniors are out there graduating&its breakin my heart;but im home",
                  "2": "&its breakin my heart;",
                  "3": "negative",
                  "index": 883
                },
                {
                  "0": "f949071243",
                  "1": " I think the x3 is confusing ;-) can`t believe that many peeps will know that it should be a heart",
                  "2": "I think the x3 is confusing",
                  "3": "negative",
                  "index": 884
                },
                {
                  "0": "7527ed21ee",
                  "1": "I`m so unhappy being here. I hate it. It`s affecting everything. My relationships with people, my personality, my attitude...",
                  "2": "I`m so unhappy being here. I hate it.",
                  "3": "negative",
                  "index": 885
                },
                {
                  "0": "14c0bf2334",
                  "1": " My iPod headphones have gone kaput.  Wanted to buy new ones. Should I buy some Bose instead then? Do they work with Apple?",
                  "2": "kaput.",
                  "3": "negative",
                  "index": 886
                },
                {
                  "0": "bcd73a9aa7",
                  "1": "On the bus goin 2 work but omg seriously im sooooo tired dont know if i`ll survive the 8 hour shift",
                  "2": "seriously im sooooo tired dont know if i`ll survive the 8 hour shift",
                  "3": "negative",
                  "index": 887
                },
                {
                  "0": "e6b8d99c39",
                  "1": "Boy is going to a movie. I wish I didn`t feel like ****.",
                  "2": "I wish I didn`t feel like ****.",
                  "3": "negative",
                  "index": 888
                },
                {
                  "0": "98cb7c67de",
                  "1": "ahh..my stomach hurts",
                  "2": "my stomach hurts",
                  "3": "negative",
                  "index": 889
                },
                {
                  "0": "e60b496b41",
                  "1": "_xo  wicked , what time you leaving? how come you cant stay the night",
                  "2": "how come you cant stay",
                  "3": "negative",
                  "index": 890
                },
                {
                  "0": "a9e196f603",
                  "1": " http://twitpic.com/67uc7 - can you lend me one? I have a cold too",
                  "2": "cold",
                  "3": "negative",
                  "index": 891
                },
                {
                  "0": "d5b33ff5f4",
                  "1": "  it was just true  and you do cause me to having dirty thoughts lol well also some other dude, huh? ;) xoxo",
                  "2": "ng dirt",
                  "3": "negative",
                  "index": 892
                },
                {
                  "0": "749b3d96cb",
                  "1": "just got home from school and from the wake of my friend`s father.  so tired..",
                  "2": "so tired..",
                  "3": "negative",
                  "index": 893
                },
                {
                  "0": "89e5f736a1",
                  "1": "I right here...don`t worry",
                  "2": "don`t worry",
                  "3": "negative",
                  "index": 894
                },
                {
                  "0": "e90b3bf2eb",
                  "1": " wasnt it sad?  was the 3d good?",
                  "2": "sad?",
                  "3": "negative",
                  "index": 895
                },
                {
                  "0": "c988aca31e",
                  "1": " its so sad how dead it is.",
                  "2": "dead",
                  "3": "negative",
                  "index": 896
                },
                {
                  "0": "d85fc66004",
                  "1": "Hmph. This is nowhere near as effective as it was a few mins ago. I wonder if it was a coincidence. FOLLOWERS: please report ur findings",
                  "2": "nowhere near as effective as it was a",
                  "3": "negative",
                  "index": 897
                },
                {
                  "0": "1be36af355",
                  "1": "Back at the vet and it isn`t good",
                  "2": "isn`t good",
                  "3": "negative",
                  "index": 898
                },
                {
                  "0": "e9a87971b0",
                  "1": "i need some hot green tea  I cant sleep  ....",
                  "2": "cant sleep  ....",
                  "3": "negative",
                  "index": 899
                },
                {
                  "0": "c30f5edccd",
                  "1": " I can`t direct message you for my free lunch",
                  "2": "I can`t direct message",
                  "3": "negative",
                  "index": 900
                },
                {
                  "0": "2f05e12d43",
                  "1": " Sorry about that. I got behind on followers and am still catching up.  I follow folks that @ me (including you",
                  "2": "Sorry about that.",
                  "3": "negative",
                  "index": 901
                },
                {
                  "0": "b9e82fc391",
                  "1": "my bf had to go to her dads for the week end. i will have 2 full days of bordom.",
                  "2": "bordom.",
                  "3": "negative",
                  "index": 902
                },
                {
                  "0": "e44c9e3d5a",
                  "1": "I`m a new french girl in Twitter! And I speak English very bad",
                  "2": "very bad",
                  "3": "negative",
                  "index": 903
                },
                {
                  "0": "9c252fb22d",
                  "1": "Why hasn`t he called. I`m being blown off yet again.",
                  "2": "being blown off",
                  "3": "negative",
                  "index": 904
                },
                {
                  "0": "5f880890b6",
                  "1": "I went over the limit for actions per hour for twitter clients.  i hate that limit.",
                  "2": "i hate that limit.",
                  "3": "negative",
                  "index": 905
                },
                {
                  "0": "8c61acc444",
                  "1": "Sunburnt  Gutted! Hope it`s faded by tmw!",
                  "2": "Gutted!",
                  "3": "negative",
                  "index": 906
                },
                {
                  "0": "d9d3225697",
                  "1": "The one day I do my hair, weather sucks  where is the sun?",
                  "2": "weather sucks",
                  "3": "negative",
                  "index": 907
                },
                {
                  "0": "3d3f95b048",
                  "1": "Wanna know a not fun way to wake up? Having a panic attack and not being able to breath for no **** reason, that **** sucked",
                  "2": "**** sucked",
                  "3": "negative",
                  "index": 908
                },
                {
                  "0": "5e52ca56d8",
                  "1": " Awe - didn`t know cats got skin cancer",
                  "2": "Awe",
                  "3": "negative",
                  "index": 909
                },
                {
                  "0": "748b7f7654",
                  "1": "Bored...um...Song of the day: 'I caught myself by Paramore' and 'No good deed from the musical Wicked'  Oh! And Fully Alive by Flyleaf!!!",
                  "2": "Bored...",
                  "3": "negative",
                  "index": 910
                },
                {
                  "0": "bebd27b79b",
                  "1": "my hair hurts",
                  "2": "my hair hurts",
                  "3": "negative",
                  "index": 911
                },
                {
                  "0": "85eff5452d",
                  "1": "People are just pisssing me offf. Ugh",
                  "2": "pisssing me offf. Ugh",
                  "3": "negative",
                  "index": 912
                },
                {
                  "0": "a1f34c6c29",
                  "1": " yeah bit it is overheating a bit and the AC died.",
                  "2": "overheating",
                  "3": "negative",
                  "index": 913
                },
                {
                  "0": "48ba01d8cb",
                  "1": "  Still dealing with quite a bit of pain, will jump off here soon to lay down,very frustrating  Thanks 4 asking",
                  "2": "f pain",
                  "3": "negative",
                  "index": 914
                },
                {
                  "0": "376271b337",
                  "1": "Now I feel sick.",
                  "2": "Now I feel sick.",
                  "3": "negative",
                  "index": 915
                },
                {
                  "0": "14ebf4cb1d",
                  "1": "Addicted to Glee... watching the video over and over again....I should be out",
                  "2": "Addicted",
                  "3": "negative",
                  "index": 916
                },
                {
                  "0": "899ba63056",
                  "1": " Sorry to disappoint. Not a big Nascar fan but I`m still an all-around decent redneck other than that.",
                  "2": "Sorry",
                  "3": "negative",
                  "index": 917
                },
                {
                  "0": "639dada300",
                  "1": " girl i am buying & posting your pressie tomorrow but i have no **** clue what to get you so i`m sorry if you hate it",
                  "2": "u so i`m sorry if you hate it",
                  "3": "negative",
                  "index": 918
                },
                {
                  "0": "eefadf413d",
                  "1": " omgsh i know  i`m dealing with that rite now. its no fun!",
                  "2": ". its no fun",
                  "3": "negative",
                  "index": 919
                },
                {
                  "0": "1d753545cd",
                  "1": " *hug* yep I hate that meself",
                  "2": "I hate that meself",
                  "3": "negative",
                  "index": 920
                },
                {
                  "0": "ec08321ce1",
                  "1": "**** EM",
                  "2": "**** EM",
                  "3": "negative",
                  "index": 921
                },
                {
                  "0": "85c1dbf1a5",
                  "1": "Just had my hair cut it looks like ****",
                  "2": "looks like ****",
                  "3": "negative",
                  "index": 922
                },
                {
                  "0": "4d208cbf0f",
                  "1": "Trying to figure out how to personalize my downloaded Wordpress blog!  Not as easy as I was hoping   Any suggestions?",
                  "2": "Not as easy as",
                  "3": "negative",
                  "index": 923
                },
                {
                  "0": "e4ab085b0d",
                  "1": " and the download failed  My phone does not like your phone.",
                  "2": "failed",
                  "3": "negative",
                  "index": 924
                },
                {
                  "0": "30bd9f83e8",
                  "1": "How I wish I get at least 2 days-off in a row. 1 day off is not enough to rest.  3 days on, 1 day off, 4 days on, 1 day off...Ugh!!!",
                  "2": "not enough to rest.",
                  "3": "negative",
                  "index": 925
                },
                {
                  "0": "5bb98dd30a",
                  "1": "I`m miserable with my boredom.",
                  "2": "miserable",
                  "3": "negative",
                  "index": 926
                },
                {
                  "0": "66638cd3ef",
                  "1": "it just thundered reallyreally loud at work and this little boy started crying  I wanted to cry too...I hate storms! wah",
                  "2": "little boy started crying  I wanted to cry too...I hate storms!",
                  "3": "negative",
                  "index": 927
                },
                {
                  "0": "1ab32a27aa",
                  "1": "wishing i was there, so you should go in my place. #brandwkshop http://tr.im/mOXL i see they`ve got scott bedbury and more.. poor me",
                  "2": "poor",
                  "3": "negative",
                  "index": 928
                },
                {
                  "0": "99b69572a8",
                  "1": "im cold  i still cant find my hoodie",
                  "2": "cant find my hoodie",
                  "3": "negative",
                  "index": 929
                },
                {
                  "0": "db63f19e59",
                  "1": " yaaay for u cleaning ur room. I said hi to u the other day & u didnt write me back",
                  "2": "u didnt write me back",
                  "3": "negative",
                  "index": 930
                },
                {
                  "0": "b35196167e",
                  "1": "seriously getting hurt.... 4 days before nationals.. what a joke",
                  "2": "seriously getting hurt...",
                  "3": "negative",
                  "index": 931
                },
                {
                  "0": "2d9c34b943",
                  "1": " not funny he profiled my ****. Like wtf? I`m still kinda heated. Ugh",
                  "2": "heated.",
                  "3": "negative",
                  "index": 932
                },
                {
                  "0": "e7bbcf0efd",
                  "1": "is not feelin well... i feel sooooo weak....i hate bein sick in the summer",
                  "2": "weak..",
                  "3": "negative",
                  "index": 933
                },
                {
                  "0": "6f4be24d3a",
                  "1": " i misss youhhhhhhh ci! Tell dem japenese ppl to give yu a computer or sumthinnn. Ya twit fam misssesss supa c!",
                  "2": "i misss youhhhhhhh",
                  "3": "negative",
                  "index": 934
                },
                {
                  "0": "28d757d511",
                  "1": "no one calls me anymore",
                  "2": "no one calls me anymore",
                  "3": "negative",
                  "index": 935
                },
                {
                  "0": "2c2360468d",
                  "1": "Migranes suck....Especially when the kids are suddenly hyper.",
                  "2": "suck..",
                  "3": "negative",
                  "index": 936
                },
                {
                  "0": "f1b5f0b8b7",
                  "1": "Working on this **** Financial project, Definitely not having any fun this weekend  , I want to spend it wit my BAAABY waaaah",
                  "2": "Definitely not having any fun this weekend",
                  "3": "negative",
                  "index": 937
                },
                {
                  "0": "d04f8878e0",
                  "1": "_brown Damnit, I accidentally put  instead of  in my #FollowFriday",
                  "2": "Damnit,",
                  "3": "negative",
                  "index": 938
                },
                {
                  "0": "78161d90a3",
                  "1": " It`s a tough life you lead!",
                  "2": "tough life",
                  "3": "negative",
                  "index": 939
                },
                {
                  "0": "145ba56a5a",
                  "1": "Havnt gotten any in months  my ex seems into dating but there isn`t that spark anymore  still in love with loser who left me",
                  "2": "still in love with loser who left me",
                  "3": "negative",
                  "index": 940
                },
                {
                  "0": "02aaecbc9c",
                  "1": " i got mcdonalds, surpisingly its not a popular drunk food option.  its sucks that all diners aren`t 24hrs here anymore",
                  "2": "its sucks that all diners aren`t 24hrs here anymore",
                  "3": "negative",
                  "index": 941
                },
                {
                  "0": "d3b3d844df",
                  "1": " Gosh, no need to be so rude.",
                  "2": "Gosh, no need to be so rude.",
                  "3": "negative",
                  "index": 942
                },
                {
                  "0": "c2e7f4c4d3",
                  "1": "my pooooor baby (my dog chachi)  she had surgery todayyyyy",
                  "2": "pooooor",
                  "3": "negative",
                  "index": 943
                },
                {
                  "0": "ddef6b8713",
                  "1": "Archie Proposes Veronica in the Latest Archie`s Comic. The Longest known Love Triangle is coming to an End. Poor Betty.",
                  "2": "Poor",
                  "3": "negative",
                  "index": 944
                },
                {
                  "0": "4c447302f5",
                  "1": " ALL white shoes make me cringe  . White shoes give me pause.",
                  "2": "white shoes make me cringe",
                  "3": "negative",
                  "index": 945
                },
                {
                  "0": "b24bca21ef",
                  "1": "No gas PLUS no money = Desperation!!!   and that`s the word of the day!  http://twitpic.com/66zls",
                  "2": "Desperation!!!",
                  "3": "negative",
                  "index": 946
                },
                {
                  "0": "c3abca2045",
                  "1": " That sucks majorly...hhhmmmnnn...I`m thinking...I would`ve said the self tanner or a really good concealer...I`m stuck",
                  "2": "That sucks",
                  "3": "negative",
                  "index": 947
                },
                {
                  "0": "3e0e15133c",
                  "1": " Oh, I forget things you see. Ahah. I hated that! It creeped me out.",
                  "2": "hated",
                  "3": "negative",
                  "index": 948
                },
                {
                  "0": "e738f6af0b",
                  "1": "Yukky  Rainy Friday",
                  "2": "Yukky  Rainy Friday",
                  "3": "negative",
                  "index": 949
                },
                {
                  "0": "ef2ad73798",
                  "1": " ok sweet! and whenever u want, I am stuck in bed all weekend",
                  "2": "t, I am stuck in",
                  "3": "negative",
                  "index": 950
                },
                {
                  "0": "d5f9adc8e1",
                  "1": "just found out i wont know my uni results for this year until 17th july at the earliest!!!! hate the wait",
                  "2": "hate the wait",
                  "3": "negative",
                  "index": 951
                },
                {
                  "0": "52baecd545",
                  "1": ": first impression is that it`s considerably  slower to boot than 2008  #beta1",
                  "2": "first impression is that it`s considerably  slower",
                  "3": "negative",
                  "index": 952
                },
                {
                  "0": "27a39da558",
                  "1": " Oh, I`m so sorry. I feel your pain. I can`t kill them either, and I`m always the one that finds them. Why is that?",
                  "2": "feel",
                  "3": "negative",
                  "index": 953
                },
                {
                  "0": "dcd74022d7",
                  "1": " It`s Star Wars day?! Urgh I`m gonna have to get the videos out",
                  "2": "Urgh",
                  "3": "negative",
                  "index": 954
                },
                {
                  "0": "5cd4e18051",
                  "1": " you`re missing the devil wears prada!!!!! sad...",
                  "2": "sad.",
                  "3": "negative",
                  "index": 955
                },
                {
                  "0": "5c510be7a8",
                  "1": " Wow, really? I didn`t know it was that serious.  Well that sucks. Texas must have been chock full of asbestos.",
                  "2": "w it was that serious.  Well that sucks.",
                  "3": "negative",
                  "index": 956
                },
                {
                  "0": "0ec596c829",
                  "1": "_Aitana K ??? What??? No way!!!! No",
                  "2": "K ??? What??? No way!!!! No",
                  "3": "negative",
                  "index": 957
                },
                {
                  "0": "5512695d36",
                  "1": "sitting around doing **** all....tired",
                  "2": "sitting around doing **** all....tired",
                  "3": "negative",
                  "index": 958
                },
                {
                  "0": "f674c6d0ac",
                  "1": " ask  to create a fake competetion and declare you the winner and then gift you a return ticket courtesy the producers.",
                  "2": "te a fake competetion",
                  "3": "negative",
                  "index": 959
                },
                {
                  "0": "0f172c8020",
                  "1": "Im sad...there`s a for sale sign in front of my house!!",
                  "2": "sad..",
                  "3": "negative",
                  "index": 960
                },
                {
                  "0": "5a64bba465",
                  "1": "I have so much stuff in my car that I can just feel my MPG going in the toilet.",
                  "2": "I can just feel my MPG going in the toilet.",
                  "3": "negative",
                  "index": 961
                },
                {
                  "0": "20f31539f4",
                  "1": "Has no idea wtf Twitter is about but willing to give it a go!  Going out for a bit!",
                  "2": "Has no idea wtf",
                  "3": "negative",
                  "index": 962
                },
                {
                  "0": "d21f79565f",
                  "1": " wow, honestly not surprising, every time they try to push that guy he gets injured",
                  "2": "wow, honestly not surprising, every time they try to push that guy he gets injured",
                  "3": "negative",
                  "index": 963
                },
                {
                  "0": "d5c1749c3a",
                  "1": "my teeth and head hurts",
                  "2": "my teeth and head hurts",
                  "3": "negative",
                  "index": 964
                },
                {
                  "0": "64faf882c1",
                  "1": "Looking for accessories for my #livescribe smartpen.. not many sources here in germany for it.",
                  "2": "not many sources here in",
                  "3": "negative",
                  "index": 965
                },
                {
                  "0": "7515fa3ca2",
                  "1": "how I wish my parents put me into a Chinese school when I was younger. Then, it`ll be so much easier for me to get a job...",
                  "2": "how I wish my parents put me into a Chinese school when I was younger.",
                  "3": "negative",
                  "index": 966
                },
                {
                  "0": "7f5116e5a1",
                  "1": ", totally worth it!! great movie cool 3D glasses! i miss ya! and i miss   and i miss new york too",
                  "2": "i miss ya!",
                  "3": "negative",
                  "index": 967
                },
                {
                  "0": "38789ffc60",
                  "1": "This day will pass slowly.  All of these days will.  RAWR!!!!  ...",
                  "2": "This day will pass slowly.  All of these days will.  RAWR!!!!  ...",
                  "3": "negative",
                  "index": 968
                },
                {
                  "0": "18755ce9ae",
                  "1": "@_handz_ well you know those 'kind of guys' are just idiots",
                  "2": "idiots",
                  "3": "negative",
                  "index": 969
                },
                {
                  "0": "9236725e7d",
                  "1": " Yeah, plus it`s just a little too far to walk to Pinocchio`s for sushi",
                  "2": "just a little too far",
                  "3": "negative",
                  "index": 970
                },
                {
                  "0": "cd2097535f",
                  "1": "We`re dealing with Overactive Let-Down right now.   http://bit.ly/9ydHU",
                  "2": "Let-Down",
                  "3": "negative",
                  "index": 971
                },
                {
                  "0": "f2fbf39ab5",
                  "1": " Unfortunately, yes...not outside!",
                  "2": "Unfortunately,",
                  "3": "negative",
                  "index": 972
                },
                {
                  "0": "1e8ac1d680",
                  "1": "Aaarrrgh! I sooo want to see  at MSG in August but dammit the decent seats are expensive. Booooooo recession!",
                  "2": "expensive.",
                  "3": "negative",
                  "index": 973
                },
                {
                  "0": "68b8eb5800",
                  "1": " oh em i`m sorry  i wuv you to pieces",
                  "2": "oh em i`m sorry  i wuv you to pieces",
                  "3": "negative",
                  "index": 974
                },
                {
                  "0": "b7e2fef42e",
                  "1": "just called Toyota. Car won`t be ready til 5.",
                  "2": "won`t be ready til 5.",
                  "3": "negative",
                  "index": 975
                },
                {
                  "0": "0faa99ad6c",
                  "1": " I`d just plain go crazy",
                  "2": "I`d just plain go crazy",
                  "3": "negative",
                  "index": 976
                },
                {
                  "0": "271f1fcb79",
                  "1": "76 long and painful miles today.  knees ache.  approaching 50 years is rough. not accepting it well.  3 glasses of draft helped.",
                  "2": "painful",
                  "3": "negative",
                  "index": 977
                },
                {
                  "0": "78a2ff5167",
                  "1": "I`m bummed that I can`t wear my sweet Nike kicks to work.",
                  "2": "can`t wear",
                  "3": "negative",
                  "index": 978
                },
                {
                  "0": "81b4bdfe51",
                  "1": "what a waste of lives ... http://tr.im/mLou",
                  "2": "what a waste of lives",
                  "3": "negative",
                  "index": 979
                },
                {
                  "0": "5ac55658f1",
                  "1": " I heard your moving to Sydney next year im not happy",
                  "2": "im not happy",
                  "3": "negative",
                  "index": 980
                },
                {
                  "0": "32883c8788",
                  "1": "wishes the rain would stop so my stupid headache would go away!",
                  "2": "wishes the rain would stop so my stupid headache would go away!",
                  "3": "negative",
                  "index": 981
                },
                {
                  "0": "8c69f84086",
                  "1": "Been working lots of overtime this week. Only just realized I booked a half day tomorrow so this week will just break even",
                  "2": "Been working lots of overtime this week. Only just realized I booked a half day tomorrow so this week will just break even",
                  "3": "negative",
                  "index": 982
                },
                {
                  "0": "75d25c3910",
                  "1": "is tired and about to go to sleep. night everyone",
                  "2": "is tired an",
                  "3": "negative",
                  "index": 983
                },
                {
                  "0": "1a674ca5ab",
                  "1": "Facebook decided I`m annoying or abusive because I add lots of friends. At least I have no distractions from coursework now...",
                  "2": "annoying",
                  "3": "negative",
                  "index": 984
                },
                {
                  "0": "b19589a739",
                  "1": "I still have a very depressed feline fuzzball...it`s another trip to vet tmrw to see what can be done...worried doesn`t even cover it",
                  "2": "depressed",
                  "3": "negative",
                  "index": 985
                },
                {
                  "0": "81b4b53de4",
                  "1": "and this stupid wireless wont work downstairs",
                  "2": "stupid wireless wont work",
                  "3": "negative",
                  "index": 986
                },
                {
                  "0": "fd4146baf7",
                  "1": "scary cape guy",
                  "2": "scary",
                  "3": "negative",
                  "index": 987
                },
                {
                  "0": "2de29783f4",
                  "1": "Sometimes it hurts that pets cant talk back to us. What if they are in pain. How would they tell us.",
                  "2": "it hurts that pets cant talk back to us. What if they are in pain. Ho",
                  "3": "negative",
                  "index": 988
                },
                {
                  "0": "f954d4144b",
                  "1": "FINALLY...the internet is up. The server is down in Phoenix and it was **** up.",
                  "2": "down",
                  "3": "negative",
                  "index": 989
                },
                {
                  "0": "1f7ac5ca5e",
                  "1": "so cold",
                  "2": "so cold",
                  "3": "negative",
                  "index": 990
                },
                {
                  "0": "5a913fb61d",
                  "1": "i don`t understand the whole follow friday thing?",
                  "2": "don`t understand",
                  "3": "negative",
                  "index": 991
                },
                {
                  "0": "94597701ee",
                  "1": "I`m SUPER tired and probably could sleep ALL day BUT I work 12:30 to 9:30 today in Tool Rental... Oh the Joy!!",
                  "2": "I`m SUPER tired",
                  "3": "negative",
                  "index": 992
                },
                {
                  "0": "a173ba1179",
                  "1": "http://twitpic.com/66ltb - Finito~! Hunk Ah Hunk of Burning Love! I do believe my camera phone is stuffed. Stupid blurryness",
                  "2": "I do believe my camera phone is stuffed. Stupid blurryness",
                  "3": "negative",
                  "index": 993
                },
                {
                  "0": "de8466bd62",
                  "1": "Here at work having lunch. A lot of work and not enough help",
                  "2": "A lot of work and not enough help",
                  "3": "negative",
                  "index": 994
                },
                {
                  "0": "87aa7c3315",
                  "1": " Well there`s you, another Twiiter person...erm...difficult to say really...   Let`s just say that you could fit all into a minibus!",
                  "2": "Well there`s you, another Twiiter person...erm...difficult to say really...   Let`s just say that you could fit all into a minibus",
                  "3": "negative",
                  "index": 995
                },
                {
                  "0": "a02abef39e",
                  "1": "epic fail with the chocolate fountain that got CLOGGED",
                  "2": "epic fail with the chocolate fountain that got CLOGGED",
                  "3": "negative",
                  "index": 996
                },
                {
                  "0": "eaf1f96b81",
                  "1": "_am_umlaut oh no!  i`m very sorry to hear",
                  "2": "i`m very sorry",
                  "3": "negative",
                  "index": 997
                },
                {
                  "0": "496406a27d",
                  "1": "Has a headache",
                  "2": "Has a headache",
                  "3": "negative",
                  "index": 998
                },
                {
                  "0": "a09695ea80",
                  "1": "on my way to school of my last friday of high school ever!  and i don`t even get to see holly Gabbie and hannah",
                  "2": "on my way to school of my last friday of high school ever!  and i don`t even get to see holly Gabbie and hannah",
                  "3": "negative",
                  "index": 999
                },
                {
                  "0": "0ab2f1d70e",
                  "1": " i cant get through",
                  "2": "i cant get through",
                  "3": "negative",
                  "index": 1000
                }
              ],
              "schema": [
                {
                  "key": "0",
                  "name": "textID",
                  "type": "string"
                },
                {
                  "key": "1",
                  "name": "text",
                  "type": "string"
                },
                {
                  "key": "2",
                  "name": "selected_text",
                  "type": "string"
                },
                {
                  "key": "3",
                  "name": "sentiment",
                  "type": "string"
                }
              ],
              "truncated": false
            }
          },
          "type": "Synapse.DataFrame"
        }
      },
      "version": "0.1"
    },
    "trident": {
      "lakehouse": {
        "default_lakehouse": "31c1950a-a690-4adf-bf12-f663c0bf5fdc",
        "default_lakehouse_name": "multilake",
        "default_lakehouse_workspace_id": "a2c28cc3-8b50-4613-a308-8d75eec8453a",
        "known_lakehouses": [
          {
            "id": "31c1950a-a690-4adf-bf12-f663c0bf5fdc"
          }
        ]
      }
    },
    "widgets": {}
  },
  "nbformat": 4,
  "nbformat_minor": 5
}
